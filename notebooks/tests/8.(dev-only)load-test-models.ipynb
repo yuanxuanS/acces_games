{
 "cells": [
  {
   "cell_type": "code",
   "execution_count": 1,
   "metadata": {},
   "outputs": [
    {
     "name": "stderr",
     "output_type": "stream",
     "text": [
      "/home/botu/botu/Dev/rl4co/env/lib/python3.10/site-packages/torchrl/__init__.py:26: UserWarning: failed to set start method to spawn, and current start method for mp is fork.\n",
      "  warn(\n"
     ]
    }
   ],
   "source": [
    "import sys; sys.path.append(2*'../')\n",
    "\n",
    "import os\n",
    "import glob\n",
    "from pathlib import Path\n",
    "from omegaconf import DictConfig\n",
    "import yaml\n",
    "\n",
    "import torch\n",
    "import lightning as L\n",
    "\n",
    "from rl4co.tasks.rl4co import RL4COLitModule\n"
   ]
  },
  {
   "cell_type": "code",
   "execution_count": 2,
   "metadata": {},
   "outputs": [
    {
     "name": "stdout",
     "output_type": "stream",
     "text": [
      "{'model': {'_target_': 'rl4co.models.AttentionModel', 'baseline': {'_target_': 'rl4co.models.rl.reinforce.baselines.WarmupBaseline', 'baseline': {'_target_': 'rl4co.models.rl.reinforce.baselines.RolloutBaseline'}}, 'params': {'total': 708608, 'trainable': 708608, 'non_trainable': 0}}, 'data': {'batch_size': 512, 'train_size': 1280000, 'val_size': 10000}, 'trainer': {'_target_': 'lightning.pytorch.trainer.Trainer', 'default_root_dir': '/mnt/HDD/botu/botu/Dev/rl4co/logs/train/runs/tsp50/am-tsp50/2023-06-01_04-37-26', 'gradient_clip_val': 1.0, 'accelerator': 'gpu', 'precision': '16-mixed', 'strategy': {'_target_': 'lightning.pytorch.strategies.DDPStrategy', 'find_unused_parameters': True, 'gradient_as_bucket_view': True}, 'check_val_every_n_epoch': 1, 'deterministic': False, 'reload_dataloaders_every_n_epochs': 1, 'max_epochs': 100, 'devices': [1]}, 'callbacks': {'model_checkpoint': {'_target_': 'lightning.pytorch.callbacks.ModelCheckpoint', 'dirpath': '/mnt/HDD/botu/botu/Dev/rl4co/logs/train/runs/tsp50/am-tsp50/2023-06-01_04-37-26/checkpoints', 'filename': 'epoch_{epoch:03d}', 'monitor': 'val/reward', 'verbose': False, 'save_last': True, 'save_top_k': -1, 'mode': 'max', 'auto_insert_metric_name': False, 'save_weights_only': False, 'every_n_train_steps': None, 'train_time_interval': None, 'every_n_epochs': None, 'save_on_train_epoch_end': None}, 'model_summary': {'_target_': 'lightning.pytorch.callbacks.RichModelSummary', 'max_depth': 5}, 'rich_progress_bar': {'_target_': 'lightning.pytorch.callbacks.RichProgressBar'}, 'speed_monitor': {'_target_': 'rl4co.utils.callbacks.speed_monitor.SpeedMonitor', 'intra_step_time': True, 'inter_step_time': True, 'epoch_time': True}, 'learning_rate_monitor': {'_target_': 'lightning.pytorch.callbacks.LearningRateMonitor', 'logging_interval': 'epoch'}}, 'extras': {'ignore_warnings': False, 'enforce_tags': True, 'print_config': True}, 'task_name': None, 'tags': ['am', 'tsp'], 'ckpt_path': None, 'seed': 12345, 'mode': 'train', 'train': {'optimizer': {'_target_': 'torch.optim.Adam', 'lr': 0.0001, 'weight_decay': 0}, 'scheduler': {'_target_': 'torch.optim.lr_scheduler.MultiStepLR', 'milestones': [80, 95], 'gamma': 0.1}, 'scheduler_interval': 'epoch'}, 'test': True, 'compile': False, 'matmul_precision': 'medium', 'metrics': {'train': ['loss', 'reward'], 'val': ['reward'], 'test': ['reward'], 'log_on_step': True}, 'task': {'_target_': 'rl4co.tasks.rl4co.RL4COLitModule'}, 'paths': {'root_dir': '/mnt/HDD/botu/botu/Dev/rl4co', 'data_dir': '/mnt/HDD/botu/botu/Dev/rl4co/data/', 'log_dir': '/mnt/HDD/botu/botu/Dev/rl4co/logs/', 'output_dir': '/mnt/HDD/botu/botu/Dev/rl4co/logs/train/runs/tsp50/am-tsp50/2023-06-01_04-37-26', 'work_dir': '/mnt/HDD/botu/botu/Dev/rl4co'}, 'env': {'_target_': 'rl4co.envs.tsp.TSPEnv', 'num_loc': 50, 'min_loc': 0, 'max_loc': 1, 'data_dir': '/mnt/HDD/botu/botu/Dev/rl4co/data/tsp', 'val_file': 'tsp50_val_seed4321.npz', 'test_file': 'tsp50_test_seed1234.npz'}}\n"
     ]
    }
   ],
   "source": [
    "checkpoints_path = Path('../../saved_checkpoints/')\n",
    "\n",
    "exp_name = 'tsp50'\n",
    "model_name = 'am-tsp50'\n",
    "checkpoints_path = checkpoints_path / exp_name / model_name\n",
    "\n",
    "hydra_config_path = checkpoints_path / 'config.yaml'\n",
    "\n",
    "with open(hydra_config_path, 'r') as stream:\n",
    "    hydra_config_yaml = yaml.safe_load(stream)\n",
    "\n",
    "\n",
    "# for each key in hydr_config_yaml, replace / by .\n",
    "def clean_hydra_config(config, keep_value_only=True):\n",
    "    \"\"\"Clean hydra config by nesting dictionary and cleaning values\"\"\"\n",
    "    new_config = {}\n",
    "    # Iterate over config dictionary\n",
    "    for key, value in config.items():\n",
    "        # If key contains slash, split it and create nested dictionary recursively\n",
    "        if '/' in key:\n",
    "            keys = key.split('/')\n",
    "            d = new_config\n",
    "            for k in keys[:-1]:\n",
    "                d = d.setdefault(k, {})\n",
    "            d[keys[-1]] = value['value'] if keep_value_only else value\n",
    "        else:\n",
    "            new_config[key] = value['value'] if keep_value_only else value\n",
    "    return DictConfig(new_config)\n",
    "\n",
    "\n",
    "# Remove keys containing 'wandb' \n",
    "def remove_wandb_keys(config):\n",
    "    \"\"\"Remove keys containing 'wandb'\"\"\"\n",
    "    new_config = {}\n",
    "    for key, value in config.items():\n",
    "        if 'wandb' in key:\n",
    "            continue\n",
    "        else:\n",
    "            new_config[key] = value\n",
    "    return new_config\n",
    "\n",
    "hydra_config_yaml = remove_wandb_keys(hydra_config_yaml)\n",
    "\n",
    "hydra_config = clean_hydra_config(hydra_config_yaml)\n",
    "print(hydra_config)"
   ]
  },
  {
   "cell_type": "code",
   "execution_count": 3,
   "metadata": {},
   "outputs": [
    {
     "name": "stderr",
     "output_type": "stream",
     "text": [
      "Unused kwargs: {'params': {'total': 708608, 'trainable': 708608, 'non_trainable': 0}}\n"
     ]
    },
    {
     "name": "stdout",
     "output_type": "stream",
     "text": [
      "No setup function for model required during testing!\n",
      "No wrap_dataset function for model required during testing!\n"
     ]
    }
   ],
   "source": [
    "lit_module = RL4COLitModule(hydra_config)\n",
    "\n",
    "\n",
    "# Remove setup function from lit_module.model if hasattr(lit_module.model, 'setup')\n",
    "if hasattr(lit_module.model, 'setup'):\n",
    "    print(\"No setup function for model required during testing!\")\n",
    "    lit_module.model.setup = lambda *args, **kwargs: None\n",
    "if hasattr(lit_module.model, \"wrap_dataset\"):\n",
    "    print(\"No wrap_dataset function for model required during testing!\")\n",
    "    lit_module.model.wrap_dataset = lambda *args, **kwargs: None\n",
    "\n",
    "# Load from checkpoint. We do not want to load the baseline weights, so we set strict=False\n",
    "# lit_module.load_from_checkpoint(checkpoints_path / 'epoch_099.ckpt', strict=False)\n",
    "\n",
    "def load_policy_state_dict(lit_module, path, device='cpu'):\n",
    "    state_dict = torch.load(path, map_location=device)['state_dict']\n",
    "    # get only policy parameters\n",
    "    policy_state_dict = {k: v for k, v in state_dict.items() if 'policy' in k}\n",
    "    # remove leading 'policy.' from keys\n",
    "    policy_state_dict = {k.replace('model.policy.', ''): v for k, v in policy_state_dict.items()}\n",
    "    \n",
    "    lit_module.model.policy.load_state_dict(policy_state_dict)\n",
    "    return lit_module\n",
    "\n",
    "\n",
    "# Generate few training data during setup for fast loading, since not needed\n",
    "lit_module.train_size = 100 \n",
    "lit_module = load_policy_state_dict(lit_module, checkpoints_path / 'epoch_099.ckpt')\n",
    "\n",
    "lit_module.setup('test')"
   ]
  },
  {
   "cell_type": "code",
   "execution_count": 35,
   "metadata": {},
   "outputs": [],
   "source": [
    "state_dict = torch.load(checkpoints_path / 'epoch_099.ckpt', map_location='cpu')\n"
   ]
  },
  {
   "cell_type": "code",
   "execution_count": 4,
   "metadata": {},
   "outputs": [],
   "source": [
    "device = torch.device('cuda' if torch.cuda.is_available() else 'cpu')\n",
    "\n",
    "policy = lit_module.model.policy.to(device)\n",
    "policy.eval()\n",
    "env = lit_module.model.env\n",
    "\n",
    "# dataloader = lit_module.test_dataloader()"
   ]
  },
  {
   "cell_type": "code",
   "execution_count": 5,
   "metadata": {},
   "outputs": [
    {
     "name": "stdout",
     "output_type": "stream",
     "text": [
      "tensor(-5.7785, device='cuda:0')\n"
     ]
    }
   ],
   "source": [
    "test_dataset = lit_module.test_dataset\n",
    "dataloader = lit_module._dataloader(test_dataset, batch_size=512)\n",
    "\n",
    "with torch.no_grad():\n",
    "\n",
    "    rewards = []\n",
    "\n",
    "    for batch in dataloader:\n",
    "        td = batch.to(device).clone()\n",
    "        td = env.reset(td)\n",
    "        out = policy(td, decode_type=\"greedy\")\n",
    "        rewards.append(out['reward'])\n",
    "\n",
    "    rewards = torch.cat(rewards)\n",
    "    print(rewards.mean())"
   ]
  },
  {
   "cell_type": "code",
   "execution_count": 32,
   "metadata": {},
   "outputs": [],
   "source": [
    "from tqdm.auto import tqdm\n",
    "from rl4co.models.zoo.symnco.augmentations import StateAugmentation as StateAugmentationN\n",
    "from rl4co.models.zoo.pomo.augmentations import StateAugmentation as StateAugmentation8\n",
    "from rl4co.utils.ops import batchify, unbatchify, gather_by_index\n",
    "\n",
    "\n",
    "class EvalBase:\n",
    "    name = \"base\"\n",
    "    def __init__(self, env, progress=True, **kwargs):\n",
    "        self.env = env\n",
    "        self.progress = progress\n",
    "\n",
    "    def __call__(self, policy, dataloader, **kwargs):\n",
    "\n",
    "        # Collect timings for evaluation (more accurate than timeit)\n",
    "        start_event = torch.cuda.Event(enable_timing=True)\n",
    "        end_event = torch.cuda.Event(enable_timing=True)\n",
    "        start_event.record()\n",
    "\n",
    "        with torch.no_grad():\n",
    "            rewards_list = []\n",
    "            actions_list = []\n",
    "\n",
    "            for batch in tqdm(dataloader, disable=not self.progress, desc=f\"Running {self.name}\"):\n",
    "                td = batch.to(next(policy.parameters()).device)\n",
    "                td = env.reset(td)\n",
    "                actions, rewards = self._inner(policy, td, **kwargs)\n",
    "                rewards_list.append(rewards)\n",
    "                actions_list.append(actions)\n",
    "\n",
    "            rewards = torch.cat(rewards_list)\n",
    "            actions = torch.cat(actions_list)\n",
    "\n",
    "\n",
    "        end_event.record()\n",
    "        torch.cuda.synchronize()\n",
    "        inference_time = start_event.elapsed_time(end_event)\n",
    "\n",
    "\n",
    "        tqdm.write(f\"Mean reward for {self.name}: {rewards.mean():.4f}\")\n",
    "        tqdm.write(f\"Time: {inference_time/1000:.4f}s\")\n",
    "\n",
    "        # Empty cache\n",
    "        torch.cuda.empty_cache()\n",
    "\n",
    "        return {\"actions\": actions, \"rewards\": rewards, \"inference_time\": inference_time, \"avg_reward\": rewards.mean()}\n",
    "\n",
    "    def _inner(self, policy, td):\n",
    "        raise NotImplementedError(\"Implement in subclass\")\n",
    "\n",
    "\n",
    "class GreedyEval(EvalBase):\n",
    "    \"\"\"Evaluates the policy using greedy decoding and single trajectory\"\"\"\n",
    "\n",
    "    name = \"greedy\"\n",
    "    def __init__(self, env, **kwargs):\n",
    "        super().__init__(env)\n",
    "\n",
    "    def _inner(self, policy, td):\n",
    "        out = policy(td.clone(), decode_type=\"greedy\", num_starts=0, return_actions=True)\n",
    "        rewards = self.env.get_reward(td, out['actions'])\n",
    "        return out['actions'], rewards\n",
    "\n",
    "\n",
    "class AugmentationEval(EvalBase):\n",
    "    \"\"\"Evaluates the policy via N state augmentations\n",
    "    If force_dihedral is True, then use 8 state augmentations (rotations and flips) as in POMO\n",
    "    \"\"\"\n",
    "\n",
    "    name = \"augmentation\"\n",
    "    def __init__(self, env, num_augment=8, force_dihedral=False, **kwargs):\n",
    "        super().__init__(env)\n",
    "        if num_augment == 8 and not force_dihedral:\n",
    "            self.augmentation = StateAugmentation8(env.name, num_augment=num_augment)\n",
    "        else:\n",
    "            self.augmentation = StateAugmentationN(env.name, num_augment=num_augment, normalize=True)\n",
    "\n",
    "    def _inner(self, policy, td, num_augment=None):\n",
    "        if num_augment is None:\n",
    "            num_augment = self.augmentation.num_augment\n",
    "        td_init = td.clone()\n",
    "        td = self.augmentation(td, num_augment=num_augment)\n",
    "        out = policy(td.clone(), decode_type=\"greedy\", num_starts=0, return_actions=True)\n",
    "        \n",
    "        # Move into batches and compute rewards\n",
    "        rewards = self.env.get_reward(batchify(td_init, num_augment), out['actions'])\n",
    "        rewards = unbatchify(rewards, num_augment)\n",
    "        actions = unbatchify(out['actions'], num_augment)\n",
    "        \n",
    "        # Get best reward and corresponding action\n",
    "        rewards, max_idxs = rewards.max(dim=1)\n",
    "        actions = gather_by_index(actions, max_idxs, dim=1)\n",
    "        return actions, rewards\n",
    "    \n",
    "\n",
    "class SamplingEval(EvalBase):\n",
    "    \"\"\"Evaluates the policy via N samples from the policy\"\"\"\n",
    "\n",
    "    name = \"sampling\"\n",
    "    def __init__(self, env, samples, softmax_temp=None, **kwargs):\n",
    "        super().__init__(env)\n",
    "        self.samples = samples\n",
    "        self.softmax_temp = softmax_temp\n",
    "\n",
    "    def _inner(self, policy, td):\n",
    "        td = batchify(td, self.samples)\n",
    "        out = policy(td.clone(), decode_type=\"sampling\", \n",
    "                             num_starts=0, return_actions=True, \n",
    "                             softmax_temp=self.softmax_temp)\n",
    "        \n",
    "        # Move into batches and compute rewards\n",
    "        rewards = self.env.get_reward(td, out['actions'])\n",
    "        rewards = unbatchify(rewards, self.samples)\n",
    "        actions = unbatchify(out['actions'], self.samples)\n",
    "        \n",
    "        # Get the best reward and action for each sample\n",
    "        rewards, max_idxs = rewards.max(dim=1)\n",
    "        actions = gather_by_index(actions, max_idxs, dim=1)\n",
    "        return actions, rewards\n",
    "\n",
    "\n",
    "class GreedyMultiStartEval(EvalBase):\n",
    "    \"\"\"Evaluates the policy via `num_starts` greedy multistarts samples from the policy\"\"\"\n",
    "\n",
    "    name = \"greedy_multistart\"\n",
    "    def __init__(self, env, num_starts, **kwargs):\n",
    "        super().__init__(env)\n",
    "        self.num_starts = num_starts\n",
    "\n",
    "    def _inner(self, policy, td):\n",
    "        td_init = td.clone()\n",
    "        out = policy(td.clone(), decode_type=\"greedy_multistart\",\n",
    "                             num_starts=self.num_starts, return_actions=True)\n",
    "        \n",
    "        # Move into batches and compute rewards\n",
    "        td = batchify(td_init, self.num_starts)\n",
    "        rewards = self.env.get_reward(td, out['actions'])\n",
    "        rewards = unbatchify(rewards, self.num_starts)\n",
    "        actions = unbatchify(out['actions'], self.num_starts)\n",
    "        \n",
    "        # Get the best trajectories\n",
    "        rewards, max_idxs = rewards.max(dim=1)\n",
    "        actions = gather_by_index(actions, max_idxs, dim=1)\n",
    "        return actions, rewards\n",
    "    \n",
    "\n",
    "class GreedyMultiStartAugmentEval(EvalBase):\n",
    "    \"\"\"Evaluates the policy via `num_starts` samples from the policy \n",
    "    and `num_augment` augmentations of each sample.`\"\"\"\n",
    "\n",
    "    name = \"greedy_multistart_augment\"\n",
    "    def __init__(self, env, num_starts, num_augment=8, force_sym_augment=False, **kwargs):\n",
    "        super().__init__(env)\n",
    "        self.num_starts = num_starts\n",
    "        if num_augment == 8 and not force_sym_augment:\n",
    "            self.augmentation = StateAugmentation8(env.name, num_augment=num_augment)\n",
    "        else:\n",
    "            self.augmentation = StateAugmentationN(env.name, num_augment=num_augment)\n",
    "            \n",
    "    def _inner(self, policy, td, num_augment=None):\n",
    "        if num_augment is None:\n",
    "            num_augment = self.augmentation.num_augment\n",
    "        \n",
    "        td_init = td.clone()\n",
    "\n",
    "        td = self.augmentation(td, num_augment=num_augment)\n",
    "        out = policy(td.clone(), decode_type=\"greedy_multistart\",\n",
    "                             num_starts=self.num_starts, return_actions=True)\n",
    "\n",
    "        # Move into batches and compute rewards\n",
    "        td = batchify(td_init, (num_augment, self.num_starts))\n",
    "        rewards = self.env.get_reward(td, out['actions'])\n",
    "        rewards = unbatchify(rewards, self.num_starts * num_augment)\n",
    "        actions = unbatchify(out['actions'], self.num_starts * num_augment)\n",
    "\n",
    "        # Get the best trajectories\n",
    "        rewards, max_idxs = rewards.max(dim=1)\n",
    "        actions = gather_by_index(actions, max_idxs, dim=1)\n",
    "\n",
    "        return actions, rewards"
   ]
  },
  {
   "cell_type": "code",
   "execution_count": 33,
   "metadata": {},
   "outputs": [
    {
     "data": {
      "application/vnd.jupyter.widget-view+json": {
       "model_id": "a44e3d1073704d6fa601989e09faf072",
       "version_major": 2,
       "version_minor": 0
      },
      "text/plain": [
       "Running greedy_multistart_augment:   0%|          | 0/79 [00:00<?, ?it/s]"
      ]
     },
     "metadata": {},
     "output_type": "display_data"
    },
    {
     "name": "stdout",
     "output_type": "stream",
     "text": [
      "Mean reward for greedy_multistart_augment: -5.7115\n",
      "Time: 17.4570s\n"
     ]
    }
   ],
   "source": [
    "dataset = lit_module.test_dataset\n",
    "dataloader_func = lit_module._dataloader\n",
    "\n",
    "\n",
    "# eval_fn = GreedyMultiStartEval(env, num_starts=env.num_loc) #, num_augment=8)\n",
    "eval_fn = GreedyMultiStartAugmentEval(env, num_starts=env.num_loc, num_augment=8)\n",
    "\n",
    "\n",
    "# eval_fn = AugmentationEval(env, num_augment=8)\n",
    "dataloader = dataloader_func(dataset, batch_size=128)\n",
    "ret_vals_greedy = eval_fn(policy, dataloader)"
   ]
  },
  {
   "cell_type": "code",
   "execution_count": null,
   "metadata": {},
   "outputs": [],
   "source": [
    "# def get_optimal_batch_size()"
   ]
  },
  {
   "cell_type": "code",
   "execution_count": 8,
   "metadata": {},
   "outputs": [],
   "source": [
    "# Evaluation settings \n",
    "eval_settings = {\n",
    "    \"greedy\": {\"func\": GreedyEval, \"kwargs\": {}, \"batch_size\": 2048},\n",
    "    \"augmentation\": {\"func\": AugmentationEval, \"kwargs\": {\"num_augment\": 8}, \"batch_size\": 128},\n",
    "    \"sampling\": {\"func\": SamplingEval, \"kwargs\": {\"samples\": 8, \"softmax_temp\": None}, \"batch_size\": 128},\n",
    "    \"greedy_multistart\": {\"func\": GreedyMultiStartEval, \"kwargs\": {\"num_starts\": env.num_loc}, \"batch_size\": 128},\n",
    "    \"greedy_multistart_augment\": {\"func\": GreedyMultiStartAugmentEval, \"kwargs\": {\"num_starts\": env.num_loc, \"num_augment\": 8}, \"batch_size\": 4},\n",
    "}"
   ]
  },
  {
   "cell_type": "code",
   "execution_count": null,
   "metadata": {},
   "outputs": [],
   "source": []
  },
  {
   "cell_type": "code",
   "execution_count": 37,
   "metadata": {},
   "outputs": [],
   "source": [
    "# from collections import defaultdict\n",
    "\n",
    "# dataset = lit_module.test_dataset\n",
    "# dataloader_func = lit_module._dataloader\n",
    "\n",
    "# # Statistics collection\n",
    "# stats = defaultdict(list)\n",
    "\n",
    "# # Run greedy\n",
    "# for eval_name, eval_setting in eval_settings.items():\n",
    "#     func, kwargs, batch_size = eval_setting[\"func\"], eval_setting[\"kwargs\"], eval_setting[\"batch_size\"]\n",
    "#     eval_fn = func(env, **kwargs)\n",
    "#     ret_vals = eval_fn(policy, dataloader_func(dataset, batch_size=batch_size))\n",
    "\n",
    "#     # Collect statistics\n",
    "#     stats[eval_name].append(\n",
    "#         {\n",
    "#             \"avg_reward\": ret_vals[\"avg_reward\"].detach().cpu().item(),\n",
    "#             \"args\": kwargs,\n",
    "#         }\n",
    "#     )"
   ]
  },
  {
   "cell_type": "code",
   "execution_count": 3,
   "metadata": {},
   "outputs": [
    {
     "name": "stdout",
     "output_type": "stream",
     "text": [
      "{'b': 3, 'c': 2, 'd': 4}\n"
     ]
    }
   ],
   "source": [
    "a = {'b': 1, 'c': 2}\n",
    "\n",
    "# example of update\n",
    "a.update({'b': 3, 'd': 4})\n",
    "print(a)"
   ]
  },
  {
   "cell_type": "code",
   "execution_count": 10,
   "metadata": {},
   "outputs": [
    {
     "name": "stdout",
     "output_type": "stream",
     "text": [
      "Running experiment greedy with {} settings\n"
     ]
    },
    {
     "data": {
      "application/vnd.jupyter.widget-view+json": {
       "model_id": "7c74952c0d5e4ef88a41203e5b4cd31b",
       "version_major": 2,
       "version_minor": 0
      },
      "text/plain": [
       "Running greedy:   0%|          | 0/5 [00:00<?, ?it/s]"
      ]
     },
     "metadata": {},
     "output_type": "display_data"
    },
    {
     "name": "stdout",
     "output_type": "stream",
     "text": [
      "Mean reward for greedy: -5.7785\n",
      "Time: 0.6185s\n",
      "Running experiment augmentation with {'num_augment': 2} settings\n"
     ]
    },
    {
     "data": {
      "application/vnd.jupyter.widget-view+json": {
       "model_id": "248cfa9e7bbe48c89b79e1c9a9f40ccc",
       "version_major": 2,
       "version_minor": 0
      },
      "text/plain": [
       "Running augmentation:   0%|          | 0/79 [00:00<?, ?it/s]"
      ]
     },
     "metadata": {},
     "output_type": "display_data"
    },
    {
     "name": "stdout",
     "output_type": "stream",
     "text": [
      "Mean reward for augmentation: -5.7527\n",
      "Time: 4.7082s\n",
      "Running experiment augmentation with {'num_augment': 4} settings\n"
     ]
    },
    {
     "data": {
      "application/vnd.jupyter.widget-view+json": {
       "model_id": "db6ec67a3a9b4d9a8d56fab0f112ac12",
       "version_major": 2,
       "version_minor": 0
      },
      "text/plain": [
       "Running augmentation:   0%|          | 0/79 [00:00<?, ?it/s]"
      ]
     },
     "metadata": {},
     "output_type": "display_data"
    },
    {
     "name": "stdout",
     "output_type": "stream",
     "text": [
      "Mean reward for augmentation: -5.7333\n",
      "Time: 4.7563s\n",
      "Running experiment augmentation with {'num_augment': 8} settings\n"
     ]
    },
    {
     "data": {
      "application/vnd.jupyter.widget-view+json": {
       "model_id": "f9883e0e810142309fc6d67cd0302286",
       "version_major": 2,
       "version_minor": 0
      },
      "text/plain": [
       "Running augmentation:   0%|          | 0/79 [00:00<?, ?it/s]"
      ]
     },
     "metadata": {},
     "output_type": "display_data"
    },
    {
     "name": "stdout",
     "output_type": "stream",
     "text": [
      "Mean reward for augmentation: -5.7152\n",
      "Time: 6.0354s\n",
      "Running experiment augmentation with {'num_augment': 16} settings\n"
     ]
    },
    {
     "data": {
      "application/vnd.jupyter.widget-view+json": {
       "model_id": "c645199fc1244798bc6d5b9885cfb799",
       "version_major": 2,
       "version_minor": 0
      },
      "text/plain": [
       "Running augmentation:   0%|          | 0/79 [00:00<?, ?it/s]"
      ]
     },
     "metadata": {},
     "output_type": "display_data"
    },
    {
     "name": "stdout",
     "output_type": "stream",
     "text": [
      "Mean reward for augmentation: -5.7121\n",
      "Time: 9.0408s\n",
      "Running experiment augmentation with {'num_augment': 32} settings\n"
     ]
    },
    {
     "data": {
      "application/vnd.jupyter.widget-view+json": {
       "model_id": "46992d8c44494c16a0ecaf45d5276dc6",
       "version_major": 2,
       "version_minor": 0
      },
      "text/plain": [
       "Running augmentation:   0%|          | 0/79 [00:00<?, ?it/s]"
      ]
     },
     "metadata": {},
     "output_type": "display_data"
    },
    {
     "name": "stdout",
     "output_type": "stream",
     "text": [
      "Mean reward for augmentation: -5.7070\n",
      "Time: 14.4747s\n",
      "Running experiment augmentation with {'num_augment': 64} settings\n"
     ]
    },
    {
     "data": {
      "application/vnd.jupyter.widget-view+json": {
       "model_id": "fe5943276370441b89a1f011ddc16cc4",
       "version_major": 2,
       "version_minor": 0
      },
      "text/plain": [
       "Running augmentation:   0%|          | 0/79 [00:00<?, ?it/s]"
      ]
     },
     "metadata": {},
     "output_type": "display_data"
    },
    {
     "name": "stdout",
     "output_type": "stream",
     "text": [
      "Mean reward for augmentation: -5.7041\n",
      "Time: 25.9693s\n",
      "Running experiment augmentation with {'num_augment': 128} settings\n"
     ]
    },
    {
     "data": {
      "application/vnd.jupyter.widget-view+json": {
       "model_id": "84790e8049ad4628bf7397b0fbf99f9a",
       "version_major": 2,
       "version_minor": 0
      },
      "text/plain": [
       "Running augmentation:   0%|          | 0/79 [00:00<?, ?it/s]"
      ]
     },
     "metadata": {},
     "output_type": "display_data"
    },
    {
     "name": "stdout",
     "output_type": "stream",
     "text": [
      "Mean reward for augmentation: -5.7023\n",
      "Time: 49.4243s\n",
      "Running experiment sampling with {'samples': 32, 'softmax_temp': 0.1} settings\n"
     ]
    },
    {
     "data": {
      "application/vnd.jupyter.widget-view+json": {
       "model_id": "cb87b6b439e34003abe888fe496fbe8f",
       "version_major": 2,
       "version_minor": 0
      },
      "text/plain": [
       "Running sampling:   0%|          | 0/79 [00:00<?, ?it/s]"
      ]
     },
     "metadata": {},
     "output_type": "display_data"
    },
    {
     "name": "stdout",
     "output_type": "stream",
     "text": [
      "Mean reward for sampling: -5.7700\n",
      "Time: 14.9285s\n",
      "Running experiment sampling with {'samples': 32, 'softmax_temp': 0.3} settings\n"
     ]
    },
    {
     "data": {
      "application/vnd.jupyter.widget-view+json": {
       "model_id": "4050dd7783be4568a4894986c439e70e",
       "version_major": 2,
       "version_minor": 0
      },
      "text/plain": [
       "Running sampling:   0%|          | 0/79 [00:00<?, ?it/s]"
      ]
     },
     "metadata": {},
     "output_type": "display_data"
    },
    {
     "name": "stdout",
     "output_type": "stream",
     "text": [
      "Mean reward for sampling: -5.7581\n",
      "Time: 14.9236s\n",
      "Running experiment sampling with {'samples': 32, 'softmax_temp': 0.5} settings\n"
     ]
    },
    {
     "data": {
      "application/vnd.jupyter.widget-view+json": {
       "model_id": "d70f0ca13c034fe8975092ff219997d6",
       "version_major": 2,
       "version_minor": 0
      },
      "text/plain": [
       "Running sampling:   0%|          | 0/79 [00:00<?, ?it/s]"
      ]
     },
     "metadata": {},
     "output_type": "display_data"
    },
    {
     "name": "stdout",
     "output_type": "stream",
     "text": [
      "Mean reward for sampling: -5.7494\n",
      "Time: 14.9765s\n",
      "Running experiment sampling with {'samples': 32, 'softmax_temp': 1.0} settings\n"
     ]
    },
    {
     "data": {
      "application/vnd.jupyter.widget-view+json": {
       "model_id": "d2fa3137648d413fb43d638d0d676240",
       "version_major": 2,
       "version_minor": 0
      },
      "text/plain": [
       "Running sampling:   0%|          | 0/79 [00:00<?, ?it/s]"
      ]
     },
     "metadata": {},
     "output_type": "display_data"
    },
    {
     "name": "stdout",
     "output_type": "stream",
     "text": [
      "Mean reward for sampling: -5.7370\n",
      "Time: 14.9951s\n",
      "Running experiment sampling with {'samples': 32, 'softmax_temp': 1.5} settings\n"
     ]
    },
    {
     "data": {
      "application/vnd.jupyter.widget-view+json": {
       "model_id": "b4b1926423d54835a880c77692d6aa9c",
       "version_major": 2,
       "version_minor": 0
      },
      "text/plain": [
       "Running sampling:   0%|          | 0/79 [00:00<?, ?it/s]"
      ]
     },
     "metadata": {},
     "output_type": "display_data"
    },
    {
     "name": "stdout",
     "output_type": "stream",
     "text": [
      "Mean reward for sampling: -5.7317\n",
      "Time: 14.9321s\n",
      "Running experiment sampling with {'samples': 64, 'softmax_temp': 0.1} settings\n"
     ]
    },
    {
     "data": {
      "application/vnd.jupyter.widget-view+json": {
       "model_id": "0430152d59094d40be2855048d05f55c",
       "version_major": 2,
       "version_minor": 0
      },
      "text/plain": [
       "Running sampling:   0%|          | 0/79 [00:00<?, ?it/s]"
      ]
     },
     "metadata": {},
     "output_type": "display_data"
    },
    {
     "name": "stdout",
     "output_type": "stream",
     "text": [
      "Mean reward for sampling: -5.7685\n",
      "Time: 26.4720s\n",
      "Running experiment sampling with {'samples': 64, 'softmax_temp': 0.3} settings\n"
     ]
    },
    {
     "data": {
      "application/vnd.jupyter.widget-view+json": {
       "model_id": "26d0c5603bd447bc8bcf2fdbbd617fa4",
       "version_major": 2,
       "version_minor": 0
      },
      "text/plain": [
       "Running sampling:   0%|          | 0/79 [00:00<?, ?it/s]"
      ]
     },
     "metadata": {},
     "output_type": "display_data"
    },
    {
     "name": "stdout",
     "output_type": "stream",
     "text": [
      "Mean reward for sampling: -5.7550\n",
      "Time: 26.4129s\n",
      "Running experiment sampling with {'samples': 64, 'softmax_temp': 0.5} settings\n"
     ]
    },
    {
     "data": {
      "application/vnd.jupyter.widget-view+json": {
       "model_id": "7234d7318e164e1faf41704f80fc4795",
       "version_major": 2,
       "version_minor": 0
      },
      "text/plain": [
       "Running sampling:   0%|          | 0/79 [00:00<?, ?it/s]"
      ]
     },
     "metadata": {},
     "output_type": "display_data"
    },
    {
     "name": "stdout",
     "output_type": "stream",
     "text": [
      "Mean reward for sampling: -5.7459\n",
      "Time: 26.4626s\n",
      "Running experiment sampling with {'samples': 64, 'softmax_temp': 1.0} settings\n"
     ]
    },
    {
     "data": {
      "application/vnd.jupyter.widget-view+json": {
       "model_id": "6a4bced06d444e3ab1b652a1fd5f5408",
       "version_major": 2,
       "version_minor": 0
      },
      "text/plain": [
       "Running sampling:   0%|          | 0/79 [00:00<?, ?it/s]"
      ]
     },
     "metadata": {},
     "output_type": "display_data"
    },
    {
     "name": "stdout",
     "output_type": "stream",
     "text": [
      "Mean reward for sampling: -5.7327\n",
      "Time: 26.4392s\n",
      "Running experiment sampling with {'samples': 64, 'softmax_temp': 1.5} settings\n"
     ]
    },
    {
     "data": {
      "application/vnd.jupyter.widget-view+json": {
       "model_id": "530246da585643819b2a2b159626da8f",
       "version_major": 2,
       "version_minor": 0
      },
      "text/plain": [
       "Running sampling:   0%|          | 0/79 [00:00<?, ?it/s]"
      ]
     },
     "metadata": {},
     "output_type": "display_data"
    },
    {
     "name": "stdout",
     "output_type": "stream",
     "text": [
      "Mean reward for sampling: -5.7265\n",
      "Time: 26.3951s\n",
      "Running experiment sampling with {'samples': 128, 'softmax_temp': 0.1} settings\n"
     ]
    },
    {
     "data": {
      "application/vnd.jupyter.widget-view+json": {
       "model_id": "a1608ac969de460f93480dd20d9b76e0",
       "version_major": 2,
       "version_minor": 0
      },
      "text/plain": [
       "Running sampling:   0%|          | 0/79 [00:00<?, ?it/s]"
      ]
     },
     "metadata": {},
     "output_type": "display_data"
    },
    {
     "name": "stdout",
     "output_type": "stream",
     "text": [
      "Mean reward for sampling: -5.7673\n",
      "Time: 49.8205s\n",
      "Running experiment sampling with {'samples': 128, 'softmax_temp': 0.3} settings\n"
     ]
    },
    {
     "data": {
      "application/vnd.jupyter.widget-view+json": {
       "model_id": "668a847db63e4450934d05fbe0199f39",
       "version_major": 2,
       "version_minor": 0
      },
      "text/plain": [
       "Running sampling:   0%|          | 0/79 [00:00<?, ?it/s]"
      ]
     },
     "metadata": {},
     "output_type": "display_data"
    },
    {
     "name": "stdout",
     "output_type": "stream",
     "text": [
      "Mean reward for sampling: -5.7525\n",
      "Time: 49.9221s\n",
      "Running experiment sampling with {'samples': 128, 'softmax_temp': 0.5} settings\n"
     ]
    },
    {
     "data": {
      "application/vnd.jupyter.widget-view+json": {
       "model_id": "5b86f702842a4453bf21b69779f9600e",
       "version_major": 2,
       "version_minor": 0
      },
      "text/plain": [
       "Running sampling:   0%|          | 0/79 [00:00<?, ?it/s]"
      ]
     },
     "metadata": {},
     "output_type": "display_data"
    },
    {
     "name": "stdout",
     "output_type": "stream",
     "text": [
      "Mean reward for sampling: -5.7428\n",
      "Time: 49.9339s\n",
      "Running experiment sampling with {'samples': 128, 'softmax_temp': 1.0} settings\n"
     ]
    },
    {
     "data": {
      "application/vnd.jupyter.widget-view+json": {
       "model_id": "5eed04ea064e4404aa21514cebef5444",
       "version_major": 2,
       "version_minor": 0
      },
      "text/plain": [
       "Running sampling:   0%|          | 0/79 [00:00<?, ?it/s]"
      ]
     },
     "metadata": {},
     "output_type": "display_data"
    },
    {
     "name": "stdout",
     "output_type": "stream",
     "text": [
      "Mean reward for sampling: -5.7287\n",
      "Time: 49.7589s\n",
      "Running experiment sampling with {'samples': 128, 'softmax_temp': 1.5} settings\n"
     ]
    },
    {
     "data": {
      "application/vnd.jupyter.widget-view+json": {
       "model_id": "21c6f5300d78475eb8a6522b91619d1b",
       "version_major": 2,
       "version_minor": 0
      },
      "text/plain": [
       "Running sampling:   0%|          | 0/79 [00:00<?, ?it/s]"
      ]
     },
     "metadata": {},
     "output_type": "display_data"
    },
    {
     "name": "stdout",
     "output_type": "stream",
     "text": [
      "Mean reward for sampling: -5.7221\n",
      "Time: 49.7157s\n",
      "Running experiment greedy_multistart with {'num_starts': 50} settings\n"
     ]
    },
    {
     "data": {
      "application/vnd.jupyter.widget-view+json": {
       "model_id": "3beaf7ed61744a63a286d4859183281d",
       "version_major": 2,
       "version_minor": 0
      },
      "text/plain": [
       "Running greedy_multistart:   0%|          | 0/79 [00:00<?, ?it/s]"
      ]
     },
     "metadata": {},
     "output_type": "display_data"
    },
    {
     "name": "stdout",
     "output_type": "stream",
     "text": [
      "Mean reward for greedy_multistart: -5.7668\n",
      "Time: 6.6863s\n",
      "Running experiment greedy_multistart_augment with {'num_starts': 50, 'num_augment': 2} settings\n"
     ]
    },
    {
     "data": {
      "application/vnd.jupyter.widget-view+json": {
       "model_id": "d9daa174b9c34da48f09c8cef9a7a13f",
       "version_major": 2,
       "version_minor": 0
      },
      "text/plain": [
       "Running greedy_multistart_augment:   0%|          | 0/2500 [00:00<?, ?it/s]"
      ]
     },
     "metadata": {},
     "output_type": "display_data"
    },
    {
     "name": "stdout",
     "output_type": "stream",
     "text": [
      "Mean reward for greedy_multistart_augment: -5.7428\n",
      "Time: 187.3746s\n",
      "Running experiment greedy_multistart_augment with {'num_starts': 50, 'num_augment': 4} settings\n"
     ]
    },
    {
     "data": {
      "application/vnd.jupyter.widget-view+json": {
       "model_id": "374853ee21064328913151093973715b",
       "version_major": 2,
       "version_minor": 0
      },
      "text/plain": [
       "Running greedy_multistart_augment:   0%|          | 0/2500 [00:00<?, ?it/s]"
      ]
     },
     "metadata": {},
     "output_type": "display_data"
    },
    {
     "name": "stdout",
     "output_type": "stream",
     "text": [
      "Mean reward for greedy_multistart_augment: -5.7256\n",
      "Time: 188.3272s\n",
      "Running experiment greedy_multistart_augment with {'num_starts': 50, 'num_augment': 8} settings\n"
     ]
    },
    {
     "data": {
      "application/vnd.jupyter.widget-view+json": {
       "model_id": "5f6d8b8bfc0f40799326e84fdb251cec",
       "version_major": 2,
       "version_minor": 0
      },
      "text/plain": [
       "Running greedy_multistart_augment:   0%|          | 0/2500 [00:00<?, ?it/s]"
      ]
     },
     "metadata": {},
     "output_type": "display_data"
    },
    {
     "name": "stdout",
     "output_type": "stream",
     "text": [
      "Mean reward for greedy_multistart_augment: -5.7115\n",
      "Time: 189.5428s\n",
      "Running experiment greedy_multistart_augment with {'num_starts': 50, 'num_augment': 16} settings\n"
     ]
    },
    {
     "data": {
      "application/vnd.jupyter.widget-view+json": {
       "model_id": "d6fe7da461ab492f9bf9f91835885484",
       "version_major": 2,
       "version_minor": 0
      },
      "text/plain": [
       "Running greedy_multistart_augment:   0%|          | 0/2500 [00:00<?, ?it/s]"
      ]
     },
     "metadata": {},
     "output_type": "display_data"
    },
    {
     "name": "stdout",
     "output_type": "stream",
     "text": [
      "Mean reward for greedy_multistart_augment: -5.7078\n",
      "Time: 189.7196s\n",
      "Running experiment greedy_multistart_augment with {'num_starts': 50, 'num_augment': 32} settings\n"
     ]
    },
    {
     "data": {
      "application/vnd.jupyter.widget-view+json": {
       "model_id": "2317a0f3effb4239a0c6664bb2f89122",
       "version_major": 2,
       "version_minor": 0
      },
      "text/plain": [
       "Running greedy_multistart_augment:   0%|          | 0/2500 [00:00<?, ?it/s]"
      ]
     },
     "metadata": {},
     "output_type": "display_data"
    },
    {
     "name": "stdout",
     "output_type": "stream",
     "text": [
      "Mean reward for greedy_multistart_augment: -5.7038\n",
      "Time: 207.1693s\n"
     ]
    }
   ],
   "source": [
    "import itertools\n",
    "from collections import defaultdict\n",
    "\n",
    "# Statistics collection\n",
    "stats = defaultdict(list)\n",
    "\n",
    "# Experiment settings\n",
    "\n",
    "experiments = {\n",
    "    \"greedy\": {},\n",
    "    \"augmentation\": {\"num_augment\": [2, 4, 8, 16, 32, 64, 128, 256, 512, 1024]},\n",
    "    \"augmentation_8\": {\"num_augment\": 8, \"force_dihedral\": True},\n",
    "    \"sampling\": {\"samples\": [2, 4, 8, 16, 32, 64, 128], \"softmax_temp\": [0.1, 0.5, 1.0, 1.5]},\n",
    "    \"greedy_multistart\": {\"num_starts\": env.num_loc},\n",
    "    \"greedy_multistart_augment_dihedral\": {\"num_starts\": env.num_loc, \"num_augment\": 8, \"force_dihedral\": True},\n",
    "    \"greedy_multistart_augment\": {\"num_starts\": env.num_loc, \"num_augment\": [2, 4, 8, 16]},\n",
    "}\n",
    "\n",
    "\n",
    "experiments = {\n",
    "    {\"name\": \"Greedy\", \"base\": \"greedy\", \"kwargs\": {}},\n",
    "    {\"name\": \"Symmetric Augmentation\", \"base\": \"augmentation\", \"kwargs\": {\"num_augment\": [2, 4, 8, 16, 32, 64, 128, 256, 512, 1024]}},\n",
    "    {\"name\": \"Dihedral Augmentation (x8)\", \"base\": \"augmentation\", \"kwargs\": {\"num_augment\": 8, \"force_dihedral\": True}},\n",
    "    {\"name\": \"Sampling\", \"base\": \"sampling\", \"kwargs\": {\"samples\": [4, 8, 16, 32, 64, 128], \"softmax_temp\": [0.1, 0.5, 1.0, 1.5]}},\n",
    "    {\"name\": \"Greedy Multistart\", \"base\": \"greedy_multistart\", \"kwargs\": {\"num_starts\": env.num_loc}},\n",
    "    {\"name\": \"Greedy Multistart Augment Dihedral (x8)\", \"base\": \"greedy_multistart_augment_dihedral\", \"kwargs\": {\"num_starts\": env.num_loc, \"num_augment\": 8, \"force_dihedral\": True}},\n",
    "    {\"name\": \"Greedy Multistart Symmetric Augment\", \"base\": \"greedy_multistart_augment\", \"kwargs\": {\"num_starts\": env.num_loc, \"num_augment\": [2, 4, 8, 16]}},\n",
    "}\n",
    "\n",
    "\n",
    "# Iterate over experiments\n",
    "for exp_name, exp_kwargs in experiments.items():\n",
    "    kwargs = {}\n",
    "    # iterate over kwargs. If we find a list, make all possible combinations\n",
    "    for k, v in exp_kwargs.items():\n",
    "        if isinstance(v, list):\n",
    "            kwargs[k] = v\n",
    "        else:\n",
    "            kwargs[k] = [v]\n",
    "    # Make all combinations\n",
    "    kwargs = list(itertools.product(*kwargs.values()))\n",
    "    # set keys  \n",
    "    kwargs = [dict(zip(exp_kwargs.keys(), k)) for k in kwargs]\n",
    "\n",
    "    for kws_single_exp in kwargs:\n",
    "\n",
    "        eval_setting = eval_settings[exp_name].copy()\n",
    "        func, batch_size = eval_setting[\"func\"], eval_setting[\"batch_size\"]\n",
    "        print(f\"Running experiment {exp_name} with {kws_single_exp} settings\")\n",
    "\n",
    "        # Run exps\n",
    "        eval_fn = func(env, **kws_single_exp)\n",
    "        ret_vals = eval_fn(policy, dataloader_func(dataset, batch_size=batch_size))\n",
    "\n",
    "        stats[exp_name].append(\n",
    "        {\n",
    "            \"avg_reward\": ret_vals[\"avg_reward\"].detach().cpu().item(),\n",
    "            \"kwargs\": kws_single_exp,\n",
    "        }\n",
    "    )"
   ]
  },
  {
   "attachments": {},
   "cell_type": "markdown",
   "metadata": {},
   "source": [
    "## Plotting"
   ]
  },
  {
   "cell_type": "code",
   "execution_count": 39,
   "metadata": {},
   "outputs": [
    {
     "data": {
      "image/png": "[encoded data removed]",
      "text/plain": [
       "<Figure size 1000x500 with 1 Axes>"
      ]
     },
     "metadata": {},
     "output_type": "display_data"
    }
   ],
   "source": [
    "# collect stats\n",
    "import matplotlib.pyplot as plt\n",
    "\n",
    "# get exp names from stats\n",
    "fig, ax = plt.subplots(1, 1, figsize=(10, 5))\n",
    "\n",
    "# Colors\n",
    "color_scheme = {\n",
    "    \"greedy\": \"tab:blue\",\n",
    "    \"augmentation\": \"tab:orange\",\n",
    "    \"sampling\": \"tab:green\",\n",
    "    \"greedy_multistart\": \"tab:red\",\n",
    "    \"greedy_multistart_augment\": \"tab:purple\",\n",
    "}\n",
    "\n",
    "linestyle_softmax_temp = {\n",
    "    0.1: \":\",\n",
    "    # 0.3: \"--\",\n",
    "    0.5: \"-.\",\n",
    "    1.0: \"-\",\n",
    "    1.5: \"--\",\n",
    "}\n",
    "\n",
    "\n",
    "# Greedy, 1 sample\n",
    "greedy_stats = stats[\"greedy\"]\n",
    "reward = [s[\"avg_reward\"] for s in greedy_stats]\n",
    "ax.scatter([1], [-r for r in reward], label=\"greedy\", color=color_scheme[\"greedy\"])\n",
    "\n",
    "\n",
    "# Greedy multistart\n",
    "greedy_multistart_stats = stats[\"greedy_multistart\"]\n",
    "reward = [s[\"avg_reward\"] for s in greedy_multistart_stats]\n",
    "ax.scatter([env.num_loc], [-r for r in reward], label=\"greedy multistart\", color=color_scheme[\"greedy_multistart\"], marker=\"x\")\n",
    "\n",
    "\n",
    "# Sampling, N samples with different temperatures\n",
    "sampling_stats = stats[\"sampling\"]\n",
    "# num_samples = [s[\"kwargs\"][\"samples\"] for s in sampling_stats]\n",
    "for temp in [s['kwargs']['softmax_temp'] for s in sampling_stats]:\n",
    "    # if temp is 0.3, skip\n",
    "    if temp == 0.3:\n",
    "        continue\n",
    "    reward = [s[\"avg_reward\"] for s in sampling_stats if s['kwargs']['softmax_temp'] == temp]\n",
    "    num_samples = [s[\"kwargs\"][\"samples\"] for s in sampling_stats if s['kwargs']['softmax_temp'] == temp]\n",
    "    ax.plot(num_samples, [-r for r in reward], label=f\"sampling, temp={temp}\", \n",
    "            color=color_scheme[\"sampling\"], linestyle=linestyle_softmax_temp[temp])\n",
    "\n",
    "\n",
    "# Augmentation, N samples\n",
    "aug_stats = stats[\"augmentation\"]\n",
    "num_augments = [s[\"kwargs\"][\"num_augment\"] for s in aug_stats]\n",
    "reward = [s[\"avg_reward\"] for s in aug_stats]\n",
    "ax.plot(num_augments, [-r for r in reward], label=\"augmentation\", color=color_scheme[\"augmentation\"])\n",
    "\n",
    "\n",
    "# Greedy multistart with augmentation\n",
    "greedy_multistart_augment_stats = stats[\"greedy_multistart_augment\"]\n",
    "num_augments = [s[\"kwargs\"][\"num_augment\"] for s in greedy_multistart_augment_stats]\n",
    "num_samples = [a * env.num_loc for a in num_augments]\n",
    "reward = [s[\"avg_reward\"] for s in greedy_multistart_augment_stats]\n",
    "ax.plot(num_samples, [-r for r in reward], label=\"greedy multistart with augmentation\", color=color_scheme[\"greedy_multistart_augment\"])\n",
    "\n",
    "ax.set_xlabel(\"Number of samples\")\n",
    "ax.set_ylabel(\"Average cost\")\n",
    "  \n",
    "\n",
    "# Invert y axis, since we want to minimize cost, and reward is negative cost\n",
    "# ax.invert_yaxis()\n",
    "ax.legend()\n",
    "\n",
    "# remove duplicate labels\n",
    "handles, labels = plt.gca().get_legend_handles_labels()\n",
    "by_label = dict(zip(labels, handles))\n",
    "plt.legend(by_label.values(), by_label.keys())\n",
    "\n",
    "# set limits for x axis\n",
    "ax.set_xlim([1, 150])\n",
    "\n",
    "# logscale on x axis\n",
    "ax.set_xscale('log')"
   ]
  }
 ],
 "metadata": {
  "kernelspec": {
   "display_name": "env",
   "language": "python",
   "name": "python3"
  },
  "language_info": {
   "codemirror_mode": {
    "name": "ipython",
    "version": 3
   },
   "file_extension": ".py",
   "mimetype": "text/x-python",
   "name": "python",
   "nbconvert_exporter": "python",
   "pygments_lexer": "ipython3",
   "version": "3.10.9"
  },
  "orig_nbformat": 4
 },
 "nbformat": 4,
 "nbformat_minor": 2
}
