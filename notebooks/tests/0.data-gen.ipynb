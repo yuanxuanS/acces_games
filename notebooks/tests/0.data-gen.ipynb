{
  "cells": [
    {
      "attachments": {},
      "cell_type": "markdown",
      "metadata": {},
      "source": [
        "# Data generation"
      ]
    },
    {
      "cell_type": "code",
      "execution_count": 1,
      "metadata": {},
      "outputs": [],
      "source": [
        "%load_ext autoreload\n",
        "%autoreload 2\n",
        "\n",
        "import sys; sys.path.append(2*'../')\n",
        "\n",
        "import numpy as np\n",
        "import torch\n",
        "from torch import nn"
      ]
    },
    {
      "cell_type": "code",
      "execution_count": 2,
      "metadata": {},
      "outputs": [
        {
          "name": "stderr",
          "output_type": "stream",
          "text": [
            "/home/botu/Dev/rl4co/env/lib/python3.10/site-packages/tqdm/auto.py:21: TqdmWarning: IProgress not found. Please update jupyter and ipywidgets. See https://ipywidgets.readthedocs.io/en/stable/user_install.html\n",
            "  from .autonotebook import tqdm as notebook_tqdm\n"
          ]
        }
      ],
      "source": [
        "from rl4co.envs import TSPEnv, CVRPEnv\n",
        "\n",
        "env = TSPEnv()"
      ]
    },
    {
      "cell_type": "code",
      "execution_count": 3,
      "metadata": {},
      "outputs": [],
      "source": [
        "np.random.seed(4321)\n",
        "\n",
        "\n",
        "def generate_tsp_data(dataset_size, tsp_size):\n",
        "    return {'locs': np.random.uniform(size=(dataset_size, tsp_size, 2)).astype(np.float32)}\n",
        "\n",
        "\n",
        "x_new = generate_tsp_data(10000, 100)\n",
        "\n",
        "# print(x_new[:10] - x[:10])\n",
        "# print(x_new['locs'][:10])\n",
        "\n",
        "# save npz\n",
        "np.savez('tsp_100_10000.npz', **x_new)\n"
      ]
    },
    {
      "cell_type": "code",
      "execution_count": 4,
      "metadata": {},
      "outputs": [
        {
          "name": "stdout",
          "output_type": "stream",
          "text": [
            "True\n"
          ]
        }
      ],
      "source": [
        "x_old = np.load('data/tsp/tsp100_validation_seed4321.pkl', allow_pickle=True)\n",
        "\n",
        "x = np.load('tsp_100_10000.npz')\n",
        "\n",
        "print(np.allclose(x_old, x['locs']))"
      ]
    },
    {
      "cell_type": "code",
      "execution_count": 5,
      "metadata": {},
      "outputs": [
        {
          "name": "stdout",
          "output_type": "stream",
          "text": [
            "123 ms ± 374 µs per loop (mean ± std. dev. of 7 runs, 10 loops each)\n"
          ]
        }
      ],
      "source": [
        "%timeit np.load('data/tsp/tsp100_validation_seed4321.pkl', allow_pickle=True)"
      ]
    },
    {
      "cell_type": "code",
      "execution_count": 6,
      "metadata": {},
      "outputs": [
        {
          "name": "stdout",
          "output_type": "stream",
          "text": [
            "12.9 µs ± 47.8 ns per loop (mean ± std. dev. of 7 runs, 100,000 loops each)\n"
          ]
        }
      ],
      "source": [
        "%timeit np.load('tsp_100_10000.npz')"
      ]
    },
    {
      "cell_type": "code",
      "execution_count": 7,
      "metadata": {},
      "outputs": [
        {
          "name": "stdout",
          "output_type": "stream",
          "text": [
            "21.0MiB\n",
            "7.6MiB\n"
          ]
        }
      ],
      "source": [
        "# print file size in a nice format\n",
        "import os\n",
        "import sys\n",
        "\n",
        "def sizeof_fmt(num, suffix='B'):\n",
        "    for unit in ['','Ki','Mi','Gi','Ti','Pi','Ei','Zi']:\n",
        "        if abs(num) < 1024.0:\n",
        "            return '%3.1f%s%s' % (num, unit, suffix)\n",
        "        num /= 1024.0\n",
        "    return '%.1f%s%s' % (num, 'Yi', suffix)\n",
        "\n",
        "print(sizeof_fmt(os.path.getsize('data/tsp/tsp100_validation_seed4321.pkl')))\n",
        "print(sizeof_fmt(os.path.getsize('tsp_100_10000.npz')))"
      ]
    },
    {
      "attachments": {},
      "cell_type": "markdown",
      "metadata": {},
      "source": [
        "Loading is way faster with `npz` as well as more memory efficient!"
      ]
    },
    {
      "attachments": {},
      "cell_type": "markdown",
      "metadata": {},
      "source": [
        "## Load data to TensorDict\n"
      ]
    },
    {
      "cell_type": "code",
      "execution_count": 15,
      "metadata": {},
      "outputs": [
        {
          "data": {
            "text/plain": [
              "'locs'"
            ]
          },
          "execution_count": 15,
          "metadata": {},
          "output_type": "execute_result"
        }
      ],
      "source": [
        "list(x_dict.keys())[0]"
      ]
    },
    {
      "cell_type": "code",
      "execution_count": 18,
      "metadata": {},
      "outputs": [
        {
          "data": {
            "text/plain": [
              "TensorDict(\n",
              "    fields={\n",
              "        locs: Tensor(shape=torch.Size([10000, 100, 2]), device=cpu, dtype=torch.float32, is_shared=False)},\n",
              "    batch_size=torch.Size([10000]),\n",
              "    device=None,\n",
              "    is_shared=False)"
            ]
          },
          "execution_count": 18,
          "metadata": {},
          "output_type": "execute_result"
        }
      ],
      "source": [
        "# Tensordict from data\n",
        "from tensordict.tensordict import TensorDict\n",
        "\n",
        "x_ = dict(x)\n",
        "batch_size = x_[list(x_.keys())[0]].shape[0]\n",
        "\n",
        "td = TensorDict(dict(x), batch_size=batch_size)\n",
        "td"
      ]
    },
    {
      "cell_type": "code",
      "execution_count": 22,
      "metadata": {},
      "outputs": [],
      "source": [
        "def load_npz_to_tensordict(filename):\n",
        "    \"\"\"Load a npz file directly into a TensorDict\"\"\"\n",
        "    x = np.load(filename)\n",
        "    x_dict = dict(x)\n",
        "    batch_size = x_dict[list(x_dict.keys())[0]].shape[0]\n",
        "    return TensorDict(x_dict, batch_size=batch_size)\n",
        "\n",
        "td = load_npz_to_tensordict('tsp_100_10000.npz')"
      ]
    },
    {
      "cell_type": "code",
      "execution_count": 35,
      "metadata": {},
      "outputs": [],
      "source": [
        "np.random.seed(4321)\n",
        "\n",
        "def generate_vrp_data(dataset_size, vrp_size):\n",
        "    CAPACITIES = {\n",
        "        10: 20.,\n",
        "        20: 30.,\n",
        "        50: 40.,\n",
        "        100: 50.\n",
        "    }\n",
        "    return list(zip(\n",
        "        np.random.uniform(size=(dataset_size, 2)),  # Depot location\n",
        "        np.random.uniform(size=(dataset_size, vrp_size, 2)),  # Node locations\n",
        "        np.random.randint(1, 10, size=(dataset_size, vrp_size)),  # Demand, uniform integer 1 ... 9\n",
        "        np.full(dataset_size, CAPACITIES[vrp_size])  # Capacity, same for whole dataset\n",
        "    ))\n",
        "\n",
        "x_old = generate_vrp_data(10000, 100)"
      ]
    },
    {
      "cell_type": "code",
      "execution_count": 36,
      "metadata": {},
      "outputs": [],
      "source": [
        "np.random.seed(4321)\n",
        "\n",
        "def generate_vrp_data(dataset_size, vrp_size):\n",
        "    CAPACITIES = {\n",
        "        10: 20.,\n",
        "        20: 30.,\n",
        "        50: 40.,\n",
        "        100: 50.\n",
        "    }\n",
        "    return {'depot': np.random.uniform(size=(dataset_size, 2)).astype(np.float32),  # Depot location\n",
        "            'locs': np.random.uniform(size=(dataset_size, vrp_size, 2)).astype(np.float32),  # Node locations\n",
        "            'demand': np.random.randint(1, 10, size=(dataset_size, vrp_size)).astype(np.float32),  # Demand, uniform integer 1 ... 9\n",
        "            'capacity': np.full(dataset_size, CAPACITIES[vrp_size]).astype(np.float32)}  # Capacity, same for whole dataset\n",
        "\n",
        "x_new = generate_vrp_data(10000, 100)"
      ]
    },
    {
      "cell_type": "code",
      "execution_count": 37,
      "metadata": {},
      "outputs": [
        {
          "name": "stdout",
          "output_type": "stream",
          "text": [
            "[0.07080288 0.81506401] [0.07080287 0.815064  ]\n"
          ]
        }
      ],
      "source": [
        "print(x_old[0][0], x_new['depot'][0])"
      ]
    },
    {
      "cell_type": "code",
      "execution_count": 59,
      "metadata": {},
      "outputs": [],
      "source": [
        "x_new_new = np.load('../../data/vrp/vrp100_val_seed4321.npz')\n",
        "x_old = np.load('data/vrp/vrp100_validation_seed4321.pkl', allow_pickle=True)"
      ]
    },
    {
      "cell_type": "code",
      "execution_count": 60,
      "metadata": {},
      "outputs": [
        {
          "data": {
            "text/plain": [
              "[0.07080287595563761, 0.8150640110845127]"
            ]
          },
          "execution_count": 60,
          "metadata": {},
          "output_type": "execute_result"
        }
      ],
      "source": [
        "x_old[0][0]"
      ]
    },
    {
      "cell_type": "code",
      "execution_count": 61,
      "metadata": {},
      "outputs": [
        {
          "data": {
            "text/plain": [
              "array([0.07080287, 0.815064  ], dtype=float32)"
            ]
          },
          "execution_count": 61,
          "metadata": {},
          "output_type": "execute_result"
        }
      ],
      "source": [
        "x_new_new['depot'][0]\n"
      ]
    }
  ],
  "metadata": {
    "kernelspec": {
      "display_name": "env",
      "language": "python",
      "name": "python3"
    },
    "language_info": {
      "codemirror_mode": {
        "name": "ipython",
        "version": 3
      },
      "file_extension": ".py",
      "mimetype": "text/x-python",
      "name": "python",
      "nbconvert_exporter": "python",
      "pygments_lexer": "ipython3",
      "version": "3.10.6"
    },
    "vscode": {
      "interpreter": {
        "hash": "fbc5b198709957cb10390a2819ca930d3578f48e335d60395e01c5208a66cb86"
      }
    }
  },
  "nbformat": 4,
  "nbformat_minor": 0
}
