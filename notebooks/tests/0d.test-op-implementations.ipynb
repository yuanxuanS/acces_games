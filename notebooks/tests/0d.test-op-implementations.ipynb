{
 "cells": [
  {
   "attachments": {},
   "cell_type": "markdown",
   "metadata": {},
   "source": [
    "## ***Test the OP environment***\n",
    "\n",
    "Comparing with the original `attention-learn-to-route` paper. You can put this notebook in the root path of the `attention-learn-to-route` and also put the `rl4co` packages in the root pate. Then you can run this notebook to check if the rl4co's op implementation works the same as the original one. "
   ]
  },
  {
   "cell_type": "code",
   "execution_count": 1,
   "metadata": {},
   "outputs": [
    {
     "name": "stderr",
     "output_type": "stream",
     "text": [
      "/home/cbhua/miniconda3/envs/rl4co_new/lib/python3.10/site-packages/tqdm/auto.py:21: TqdmWarning: IProgress not found. Please update jupyter and ipywidgets. See https://ipywidgets.readthedocs.io/en/stable/user_install.html\n",
      "  from .autonotebook import tqdm as notebook_tqdm\n"
     ]
    }
   ],
   "source": [
    "# Import packages\n",
    "import torch\n",
    "from problems.op.problem_op import OP\n",
    "from problems.op.state_op import StateOP\n",
    "from rl4co.envs.op2 import OPEnv\n",
    "from tensordict.tensordict import TensorDict\n",
    "from nets.attention_model import AttentionModel, set_decode_type"
   ]
  },
  {
   "attachments": {},
   "cell_type": "markdown",
   "metadata": {},
   "source": [
    "### ***Step 1. Basicaly test the running of the rl4co OP environment***"
   ]
  },
  {
   "cell_type": "code",
   "execution_count": 2,
   "metadata": {},
   "outputs": [
    {
     "name": "stdout",
     "output_type": "stream",
     "text": [
      "TensorDict(\n",
      "    fields={\n",
      "        action_mask: Tensor(shape=torch.Size([32, 32, 21]), device=cpu, dtype=torch.bool, is_shared=False),\n",
      "        current_node: Tensor(shape=torch.Size([32, 1]), device=cpu, dtype=torch.int64, is_shared=False),\n",
      "        done: Tensor(shape=torch.Size([32, 1]), device=cpu, dtype=torch.bool, is_shared=False),\n",
      "        length_capacity: Tensor(shape=torch.Size([32, 21]), device=cpu, dtype=torch.float32, is_shared=False),\n",
      "        length_to_depot: Tensor(shape=torch.Size([32, 21]), device=cpu, dtype=torch.float32, is_shared=False),\n",
      "        locs: Tensor(shape=torch.Size([32, 21, 2]), device=cpu, dtype=torch.float32, is_shared=False),\n",
      "        prize: Tensor(shape=torch.Size([32, 21]), device=cpu, dtype=torch.float32, is_shared=False),\n",
      "        prize_collect: Tensor(shape=torch.Size([32, 1]), device=cpu, dtype=torch.float32, is_shared=False),\n",
      "        used_capacity: Tensor(shape=torch.Size([32, 1]), device=cpu, dtype=torch.float32, is_shared=False),\n",
      "        visited: Tensor(shape=torch.Size([32, 1, 21]), device=cpu, dtype=torch.bool, is_shared=False)},\n",
      "    batch_size=torch.Size([32]),\n",
      "    device=cpu,\n",
      "    is_shared=False)\n"
     ]
    }
   ],
   "source": [
    "openv = OPEnv()\n",
    "td = openv.reset(batch_size=[32])\n",
    "print(td)"
   ]
  },
  {
   "attachments": {},
   "cell_type": "markdown",
   "metadata": {},
   "source": [
    "### ***Step 2. Compare with the original implementation***"
   ]
  },
  {
   "cell_type": "code",
   "execution_count": 3,
   "metadata": {},
   "outputs": [],
   "source": [
    "# Init problems for ours and kool\n",
    "B = 16\n",
    "N = 50\n",
    "\n",
    "# SECTION Kool's\n",
    "problem = OP()\n",
    "dataset = problem.make_dataset(num_samples=B, size=N)\n",
    "\n",
    "# SECTION Ours\n",
    "openv = OPEnv()"
   ]
  },
  {
   "cell_type": "code",
   "execution_count": 4,
   "metadata": {},
   "outputs": [
    {
     "name": "stdout",
     "output_type": "stream",
     "text": [
      "torch.Size([16, 50, 2])\n",
      "torch.Size([16, 2])\n",
      "torch.Size([16, 50])\n",
      "torch.Size([16])\n",
      "torch.Size([16, 51])\n"
     ]
    }
   ],
   "source": [
    "# Create dataset\n",
    "# Collect oritinal data\n",
    "input_dict = {}\n",
    "depots, locs, prize, max_length = [], [], [], []\n",
    "for i in range(len(dataset)):\n",
    "    ret = dataset[i]\n",
    "    depots.append(ret['depot'])\n",
    "    locs.append(ret['loc'])\n",
    "    prize.append(ret['prize'])\n",
    "    max_length.append(ret['max_length'])\n",
    "\n",
    "input_dict['loc'] = torch.stack(locs, dim=0)\n",
    "input_dict['depot'] = torch.stack(depots, dim=0)\n",
    "input_dict['prize'] = torch.stack(prize, dim=0)\n",
    "input_dict['max_length'] = torch.stack(max_length, dim=0)\n",
    "\n",
    "print(input_dict['loc'].size())\n",
    "print(input_dict['depot'].size())\n",
    "print(input_dict['prize'].size())\n",
    "print(input_dict['max_length'].size())\n",
    "\n",
    "# Create loc with depot\n",
    "# loc_with_depot = torch.cat((input_dict['depot'][:, None, :], input_dict['loc']), -2)\n",
    "# print(loc_with_depot.size())\n",
    "\n",
    "# Create prize with depot\n",
    "prize_with_depot = torch.cat((torch.zeros_like(input_dict['prize'][:, :1]), input_dict['prize']), -1)\n",
    "print(prize_with_depot.size())"
   ]
  },
  {
   "cell_type": "code",
   "execution_count": 5,
   "metadata": {},
   "outputs": [],
   "source": [
    "# Init data\n",
    "# Kool\n",
    "state_kool = StateOP.initialize(input_dict)\n",
    "\n",
    "# Ours\n",
    "openv = OPEnv(num_loc=N)\n",
    "new_td = TensorDict(\n",
    "    {\n",
    "        \"locs\": input_dict['loc'],\n",
    "        \"depot\": input_dict['depot'],\n",
    "        \"prize\": prize_with_depot,\n",
    "        \"max_length\": input_dict['max_length'],\n",
    "    },\n",
    "    batch_size=B,\n",
    ")\n",
    "td = openv.reset(new_td)\n",
    "\n",
    "assert torch.allclose(td['locs'][..., 1:, :], input_dict['loc']), \"Locs should be the same\"\n",
    "assert torch.allclose(td['depot'], input_dict['depot']), \"Depot should be the same\"\n",
    "assert torch.allclose(td['prize'][..., 1:], input_dict['prize']), \"Demand should be the same\""
   ]
  },
  {
   "cell_type": "code",
   "execution_count": 6,
   "metadata": {},
   "outputs": [],
   "source": [
    "# Run the model to get actions and mask\n",
    "# Init the model\n",
    "op = AttentionModel(128, 128, problem)\n",
    "set_decode_type(op, 'greedy')\n",
    "cost, _, pi= op(input_dict, return_pi=True)\n",
    "\n",
    "# Record demands\n",
    "our_prize_collect = []; kool_prize_collect = []\n",
    "# Record mask\n",
    "our_mask = []; kool_mask = []\n",
    "# Record used capacity\n",
    "our_used_capacity = []; kool_used_capacity = []\n",
    "# Record our dones\n",
    "our_dones = []\n",
    "\n",
    "for p in pi.T:\n",
    "    # Our step\n",
    "    td.set(\"action\", p)\n",
    "    td = openv.step(td)[\"next\"]\n",
    "\n",
    "    our_prize_collect.append(td['prize_collect'].clone())\n",
    "    our_mask.append(td['action_mask'].clone().squeeze(1))\n",
    "    our_used_capacity.append(td['used_capacity'].clone())\n",
    "    our_dones.append(td['done'])\n",
    "\n",
    "    # Kool step\n",
    "    state_kool = state_kool.update(p)\n",
    "\n",
    "    kool_prize_collect.append(state_kool.cur_total_prize)\n",
    "    kool_mask.append(state_kool.get_mask().squeeze(1)) # negation because of how the mask is defined\n",
    "    kool_used_capacity.append(state_kool.lengths)"
   ]
  },
  {
   "cell_type": "code",
   "execution_count": 7,
   "metadata": {},
   "outputs": [
    {
     "name": "stdout",
     "output_type": "stream",
     "text": [
      "--- Prize ---\n",
      "torch.Size([16, 1])\n",
      "torch.Size([16, 1])\n",
      "--- Mask ---\n",
      "torch.Size([16, 51])\n",
      "torch.Size([16, 51])\n",
      "--- Capacity ---\n",
      "torch.Size([16, 1])\n",
      "torch.Size([16, 1])\n",
      "--- Dones ---\n",
      "torch.Size([16, 1])\n"
     ]
    }
   ],
   "source": [
    "print(\"--- Prize ---\")\n",
    "print(our_prize_collect[0].size())\n",
    "print(kool_prize_collect[0].size())\n",
    "\n",
    "print(\"--- Mask ---\")\n",
    "print(our_mask[0].size())\n",
    "print(kool_mask[0].size())\n",
    "\n",
    "print(\"--- Capacity ---\")\n",
    "print(our_used_capacity[0].size())\n",
    "print(kool_used_capacity[0].size())\n",
    "\n",
    "print(\"--- Dones ---\")\n",
    "print(our_dones[0].size())"
   ]
  },
  {
   "cell_type": "code",
   "execution_count": 8,
   "metadata": {},
   "outputs": [
    {
     "name": "stdout",
     "output_type": "stream",
     "text": [
      "PASS\n"
     ]
    }
   ],
   "source": [
    "# Check the prize\n",
    "for i, (our_p, kool_p) in enumerate(zip(our_prize_collect, kool_prize_collect)):\n",
    "    if not torch.allclose(our_p, kool_p):\n",
    "        print(f\"Prize diff at {i}\")\n",
    "        print(our_p)\n",
    "        print(kool_p)\n",
    "        break\n",
    "\n",
    "# Check the mask\n",
    "for i, (our_m, kool_m) in enumerate(zip(our_mask, kool_mask)):\n",
    "    our_m = ~our_m\n",
    "    if not torch.allclose(our_m, kool_m):\n",
    "        print(f\"Mask diff at {i}\")\n",
    "        print(~our_m)\n",
    "        print(kool_m)\n",
    "        break\n",
    "\n",
    "# Check the used capacity\n",
    "for i, (our_c, kool_c) in enumerate(zip(our_used_capacity, kool_used_capacity)):\n",
    "    if not torch.allclose(our_c, kool_c):\n",
    "        print(f\"Used capacity diff at {i}\")\n",
    "        print(our_c)\n",
    "        print(kool_c)\n",
    "        break\n",
    "\n",
    "print('PASS')"
   ]
  }
 ],
 "metadata": {
  "kernelspec": {
   "display_name": "rl4co_new",
   "language": "python",
   "name": "python3"
  },
  "language_info": {
   "codemirror_mode": {
    "name": "ipython",
    "version": 3
   },
   "file_extension": ".py",
   "mimetype": "text/x-python",
   "name": "python",
   "nbconvert_exporter": "python",
   "pygments_lexer": "ipython3",
   "version": "3.10.0"
  },
  "orig_nbformat": 4
 },
 "nbformat": 4,
 "nbformat_minor": 2
}
