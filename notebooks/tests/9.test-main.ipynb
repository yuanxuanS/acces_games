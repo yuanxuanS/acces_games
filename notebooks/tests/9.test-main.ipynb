{
 "cells": [
  {
   "cell_type": "code",
   "execution_count": 1,
   "metadata": {},
   "outputs": [
    {
     "name": "stderr",
     "output_type": "stream",
     "text": [
      "/home/botu/botu/Dev/rl4co/env/lib/python3.10/site-packages/torchrl/__init__.py:26: UserWarning: failed to set start method to spawn, and current start method for mp is fork.\n",
      "  warn(\n"
     ]
    }
   ],
   "source": [
    "%load_ext autoreload\n",
    "%autoreload 2\n",
    "\n",
    "import sys; sys.path.append(2*'../')\n",
    "\n",
    "import os\n",
    "import glob\n",
    "from pathlib import Path\n",
    "from omegaconf import DictConfig\n",
    "import yaml\n",
    "\n",
    "import torch\n",
    "import lightning as L\n",
    "\n",
    "from rl4co.tasks.rl4co import RL4COLitModule\n",
    "from rl4co.utils.lightning import load_model_from_checkpoint, clean_hydra_config\n",
    "from rl4co.tasks.eval import evaluate_policy\n"
   ]
  },
  {
   "attachments": {},
   "cell_type": "markdown",
   "metadata": {},
   "source": [
    "## Loading model from checkpoint"
   ]
  },
  {
   "cell_type": "code",
   "execution_count": 17,
   "metadata": {},
   "outputs": [
    {
     "name": "stderr",
     "output_type": "stream",
     "text": [
      "Unused kwargs: {'params': {'total': 1301888, 'trainable': 1301888, 'non_trainable': 0}}\n"
     ]
    }
   ],
   "source": [
    "checkpoints_path = Path('../../saved_checkpoints/')\n",
    "\n",
    "exp_name = 'tsp50'\n",
    "# model_name = 'am-tsp50'\n",
    "# model_name = \"pomo-tsp50\"\n",
    "model_name = \"am-tsp50-sm-xl\"\n",
    "\n",
    "checkpoints_path = checkpoints_path / exp_name / model_name\n",
    "\n",
    "cfg_path = checkpoints_path / 'config.yaml'\n",
    "# ckpt_path = checkpoints_path / 'epoch_099.ckpt'\n",
    "ckpt_path = checkpoints_path / 'epoch_499.ckpt'\n",
    "\n",
    "lit_module = load_model_from_checkpoint(cfg_path, ckpt_path, phase='test')"
   ]
  },
  {
   "cell_type": "code",
   "execution_count": 2,
   "metadata": {},
   "outputs": [
    {
     "name": "stderr",
     "output_type": "stream",
     "text": [
      "Unused kwargs: {'params': {'total': 1334912, 'trainable': 1334912, 'non_trainable': 0}}\n"
     ]
    }
   ],
   "source": [
    "checkpoints_path = Path('../../saved_checkpoints/')\n",
    "\n",
    "exp_name = 'tsp50'\n",
    "# model_name = 'am-tsp50'\n",
    "# model_name = \"pomo-tsp50\"\n",
    "model_name = \"symnco-tsp50\"\n",
    "\n",
    "checkpoints_path = checkpoints_path / exp_name / model_name\n",
    "\n",
    "cfg_path = checkpoints_path / 'config.yaml'\n",
    "# ckpt_path = checkpoints_path / 'epoch_099.ckpt'\n",
    "ckpt_path = checkpoints_path / 'epoch_099.ckpt'\n",
    "\n",
    "lit_module = load_model_from_checkpoint(cfg_path, ckpt_path, phase='test')"
   ]
  },
  {
   "cell_type": "code",
   "execution_count": 14,
   "metadata": {},
   "outputs": [
    {
     "data": {
      "text/plain": [
       "odict_keys(['model.policy.encoder.init_embedding.init_embed.weight', 'model.policy.encoder.init_embedding.init_embed.bias', 'model.policy.encoder.layers.0.0.module.Wq', 'model.policy.encoder.layers.0.0.module.Wk', 'model.policy.encoder.layers.0.0.module.Wv', 'model.policy.encoder.layers.0.0.module.Wout', 'model.policy.encoder.layers.0.1.normalizer.weight', 'model.policy.encoder.layers.0.1.normalizer.bias', 'model.policy.encoder.layers.0.2.module.0.weight', 'model.policy.encoder.layers.0.2.module.0.bias', 'model.policy.encoder.layers.0.2.module.2.weight', 'model.policy.encoder.layers.0.2.module.2.bias', 'model.policy.encoder.layers.0.3.normalizer.weight', 'model.policy.encoder.layers.0.3.normalizer.bias', 'model.policy.encoder.layers.1.0.module.Wq', 'model.policy.encoder.layers.1.0.module.Wk', 'model.policy.encoder.layers.1.0.module.Wv', 'model.policy.encoder.layers.1.0.module.Wout', 'model.policy.encoder.layers.1.1.normalizer.weight', 'model.policy.encoder.layers.1.1.normalizer.bias', 'model.policy.encoder.layers.1.2.module.0.weight', 'model.policy.encoder.layers.1.2.module.0.bias', 'model.policy.encoder.layers.1.2.module.2.weight', 'model.policy.encoder.layers.1.2.module.2.bias', 'model.policy.encoder.layers.1.3.normalizer.weight', 'model.policy.encoder.layers.1.3.normalizer.bias', 'model.policy.encoder.layers.2.0.module.Wq', 'model.policy.encoder.layers.2.0.module.Wk', 'model.policy.encoder.layers.2.0.module.Wv', 'model.policy.encoder.layers.2.0.module.Wout', 'model.policy.encoder.layers.2.1.normalizer.weight', 'model.policy.encoder.layers.2.1.normalizer.bias', 'model.policy.encoder.layers.2.2.module.0.weight', 'model.policy.encoder.layers.2.2.module.0.bias', 'model.policy.encoder.layers.2.2.module.2.weight', 'model.policy.encoder.layers.2.2.module.2.bias', 'model.policy.encoder.layers.2.3.normalizer.weight', 'model.policy.encoder.layers.2.3.normalizer.bias', 'model.policy.encoder.layers.3.0.module.Wq', 'model.policy.encoder.layers.3.0.module.Wk', 'model.policy.encoder.layers.3.0.module.Wv', 'model.policy.encoder.layers.3.0.module.Wout', 'model.policy.encoder.layers.3.1.normalizer.weight', 'model.policy.encoder.layers.3.1.normalizer.bias', 'model.policy.encoder.layers.3.2.module.0.weight', 'model.policy.encoder.layers.3.2.module.0.bias', 'model.policy.encoder.layers.3.2.module.2.weight', 'model.policy.encoder.layers.3.2.module.2.bias', 'model.policy.encoder.layers.3.3.normalizer.weight', 'model.policy.encoder.layers.3.3.normalizer.bias', 'model.policy.encoder.layers.4.0.module.Wq', 'model.policy.encoder.layers.4.0.module.Wk', 'model.policy.encoder.layers.4.0.module.Wv', 'model.policy.encoder.layers.4.0.module.Wout', 'model.policy.encoder.layers.4.1.normalizer.weight', 'model.policy.encoder.layers.4.1.normalizer.bias', 'model.policy.encoder.layers.4.2.module.0.weight', 'model.policy.encoder.layers.4.2.module.0.bias', 'model.policy.encoder.layers.4.2.module.2.weight', 'model.policy.encoder.layers.4.2.module.2.bias', 'model.policy.encoder.layers.4.3.normalizer.weight', 'model.policy.encoder.layers.4.3.normalizer.bias', 'model.policy.encoder.layers.5.0.module.Wq', 'model.policy.encoder.layers.5.0.module.Wk', 'model.policy.encoder.layers.5.0.module.Wv', 'model.policy.encoder.layers.5.0.module.Wout', 'model.policy.encoder.layers.5.1.normalizer.weight', 'model.policy.encoder.layers.5.1.normalizer.bias', 'model.policy.encoder.layers.5.2.module.0.weight', 'model.policy.encoder.layers.5.2.module.0.bias', 'model.policy.encoder.layers.5.2.module.2.weight', 'model.policy.encoder.layers.5.2.module.2.bias', 'model.policy.encoder.layers.5.3.normalizer.weight', 'model.policy.encoder.layers.5.3.normalizer.bias', 'model.policy.decoder.context.W_placeholder', 'model.policy.decoder.context.project_context.weight', 'model.policy.decoder.project_node_embeddings.weight', 'model.policy.decoder.project_fixed_context.weight', 'model.policy.decoder.logit_attention.project_out.weight', 'model.policy.projection_head.0.weight', 'model.policy.projection_head.0.bias', 'model.policy.projection_head.2.weight', 'model.policy.projection_head.2.bias'])"
      ]
     },
     "execution_count": 14,
     "metadata": {},
     "output_type": "execute_result"
    }
   ],
   "source": [
    "# ckpt_path\n",
    "\n",
    "checkpoints_path = Path('../../saved_checkpoints/')\n",
    "exp_name = 'tsp50'\n",
    "model_name = \"symnco-tsp50\"\n",
    "checkpoints_path = checkpoints_path / exp_name / model_name\n",
    "\n",
    "ckpt_path = checkpoints_path / 'epoch_099.ckpt'\n",
    "loaded = torch.load(ckpt_path, map_location='cpu')\n",
    "loaded['state_dict'].keys()\n"
   ]
  },
  {
   "cell_type": "code",
   "execution_count": 15,
   "metadata": {},
   "outputs": [
    {
     "data": {
      "text/plain": [
       "odict_keys(['model.policy.encoder.init_embedding.init_embed.weight', 'model.policy.encoder.init_embedding.init_embed.bias', 'model.policy.encoder.layers.0.0.module.Wq', 'model.policy.encoder.layers.0.0.module.Wk', 'model.policy.encoder.layers.0.0.module.Wv', 'model.policy.encoder.layers.0.0.module.Wout', 'model.policy.encoder.layers.0.1.normalizer.weight', 'model.policy.encoder.layers.0.1.normalizer.bias', 'model.policy.encoder.layers.0.1.normalizer.running_mean', 'model.policy.encoder.layers.0.1.normalizer.running_var', 'model.policy.encoder.layers.0.1.normalizer.num_batches_tracked', 'model.policy.encoder.layers.0.2.module.0.weight', 'model.policy.encoder.layers.0.2.module.0.bias', 'model.policy.encoder.layers.0.2.module.2.weight', 'model.policy.encoder.layers.0.2.module.2.bias', 'model.policy.encoder.layers.0.3.normalizer.weight', 'model.policy.encoder.layers.0.3.normalizer.bias', 'model.policy.encoder.layers.0.3.normalizer.running_mean', 'model.policy.encoder.layers.0.3.normalizer.running_var', 'model.policy.encoder.layers.0.3.normalizer.num_batches_tracked', 'model.policy.encoder.layers.1.0.module.Wq', 'model.policy.encoder.layers.1.0.module.Wk', 'model.policy.encoder.layers.1.0.module.Wv', 'model.policy.encoder.layers.1.0.module.Wout', 'model.policy.encoder.layers.1.1.normalizer.weight', 'model.policy.encoder.layers.1.1.normalizer.bias', 'model.policy.encoder.layers.1.1.normalizer.running_mean', 'model.policy.encoder.layers.1.1.normalizer.running_var', 'model.policy.encoder.layers.1.1.normalizer.num_batches_tracked', 'model.policy.encoder.layers.1.2.module.0.weight', 'model.policy.encoder.layers.1.2.module.0.bias', 'model.policy.encoder.layers.1.2.module.2.weight', 'model.policy.encoder.layers.1.2.module.2.bias', 'model.policy.encoder.layers.1.3.normalizer.weight', 'model.policy.encoder.layers.1.3.normalizer.bias', 'model.policy.encoder.layers.1.3.normalizer.running_mean', 'model.policy.encoder.layers.1.3.normalizer.running_var', 'model.policy.encoder.layers.1.3.normalizer.num_batches_tracked', 'model.policy.encoder.layers.2.0.module.Wq', 'model.policy.encoder.layers.2.0.module.Wk', 'model.policy.encoder.layers.2.0.module.Wv', 'model.policy.encoder.layers.2.0.module.Wout', 'model.policy.encoder.layers.2.1.normalizer.weight', 'model.policy.encoder.layers.2.1.normalizer.bias', 'model.policy.encoder.layers.2.1.normalizer.running_mean', 'model.policy.encoder.layers.2.1.normalizer.running_var', 'model.policy.encoder.layers.2.1.normalizer.num_batches_tracked', 'model.policy.encoder.layers.2.2.module.0.weight', 'model.policy.encoder.layers.2.2.module.0.bias', 'model.policy.encoder.layers.2.2.module.2.weight', 'model.policy.encoder.layers.2.2.module.2.bias', 'model.policy.encoder.layers.2.3.normalizer.weight', 'model.policy.encoder.layers.2.3.normalizer.bias', 'model.policy.encoder.layers.2.3.normalizer.running_mean', 'model.policy.encoder.layers.2.3.normalizer.running_var', 'model.policy.encoder.layers.2.3.normalizer.num_batches_tracked', 'model.policy.decoder.context.W_placeholder', 'model.policy.decoder.context.project_context.weight', 'model.policy.decoder.project_node_embeddings.weight', 'model.policy.decoder.project_fixed_context.weight', 'model.policy.decoder.logit_attention.project_out.weight', 'model.baseline.baseline.model.encoder.init_embedding.init_embed.weight', 'model.baseline.baseline.model.encoder.init_embedding.init_embed.bias', 'model.baseline.baseline.model.encoder.layers.0.0.module.Wq', 'model.baseline.baseline.model.encoder.layers.0.0.module.Wk', 'model.baseline.baseline.model.encoder.layers.0.0.module.Wv', 'model.baseline.baseline.model.encoder.layers.0.0.module.Wout', 'model.baseline.baseline.model.encoder.layers.0.1.normalizer.weight', 'model.baseline.baseline.model.encoder.layers.0.1.normalizer.bias', 'model.baseline.baseline.model.encoder.layers.0.1.normalizer.running_mean', 'model.baseline.baseline.model.encoder.layers.0.1.normalizer.running_var', 'model.baseline.baseline.model.encoder.layers.0.1.normalizer.num_batches_tracked', 'model.baseline.baseline.model.encoder.layers.0.2.module.0.weight', 'model.baseline.baseline.model.encoder.layers.0.2.module.0.bias', 'model.baseline.baseline.model.encoder.layers.0.2.module.2.weight', 'model.baseline.baseline.model.encoder.layers.0.2.module.2.bias', 'model.baseline.baseline.model.encoder.layers.0.3.normalizer.weight', 'model.baseline.baseline.model.encoder.layers.0.3.normalizer.bias', 'model.baseline.baseline.model.encoder.layers.0.3.normalizer.running_mean', 'model.baseline.baseline.model.encoder.layers.0.3.normalizer.running_var', 'model.baseline.baseline.model.encoder.layers.0.3.normalizer.num_batches_tracked', 'model.baseline.baseline.model.encoder.layers.1.0.module.Wq', 'model.baseline.baseline.model.encoder.layers.1.0.module.Wk', 'model.baseline.baseline.model.encoder.layers.1.0.module.Wv', 'model.baseline.baseline.model.encoder.layers.1.0.module.Wout', 'model.baseline.baseline.model.encoder.layers.1.1.normalizer.weight', 'model.baseline.baseline.model.encoder.layers.1.1.normalizer.bias', 'model.baseline.baseline.model.encoder.layers.1.1.normalizer.running_mean', 'model.baseline.baseline.model.encoder.layers.1.1.normalizer.running_var', 'model.baseline.baseline.model.encoder.layers.1.1.normalizer.num_batches_tracked', 'model.baseline.baseline.model.encoder.layers.1.2.module.0.weight', 'model.baseline.baseline.model.encoder.layers.1.2.module.0.bias', 'model.baseline.baseline.model.encoder.layers.1.2.module.2.weight', 'model.baseline.baseline.model.encoder.layers.1.2.module.2.bias', 'model.baseline.baseline.model.encoder.layers.1.3.normalizer.weight', 'model.baseline.baseline.model.encoder.layers.1.3.normalizer.bias', 'model.baseline.baseline.model.encoder.layers.1.3.normalizer.running_mean', 'model.baseline.baseline.model.encoder.layers.1.3.normalizer.running_var', 'model.baseline.baseline.model.encoder.layers.1.3.normalizer.num_batches_tracked', 'model.baseline.baseline.model.encoder.layers.2.0.module.Wq', 'model.baseline.baseline.model.encoder.layers.2.0.module.Wk', 'model.baseline.baseline.model.encoder.layers.2.0.module.Wv', 'model.baseline.baseline.model.encoder.layers.2.0.module.Wout', 'model.baseline.baseline.model.encoder.layers.2.1.normalizer.weight', 'model.baseline.baseline.model.encoder.layers.2.1.normalizer.bias', 'model.baseline.baseline.model.encoder.layers.2.1.normalizer.running_mean', 'model.baseline.baseline.model.encoder.layers.2.1.normalizer.running_var', 'model.baseline.baseline.model.encoder.layers.2.1.normalizer.num_batches_tracked', 'model.baseline.baseline.model.encoder.layers.2.2.module.0.weight', 'model.baseline.baseline.model.encoder.layers.2.2.module.0.bias', 'model.baseline.baseline.model.encoder.layers.2.2.module.2.weight', 'model.baseline.baseline.model.encoder.layers.2.2.module.2.bias', 'model.baseline.baseline.model.encoder.layers.2.3.normalizer.weight', 'model.baseline.baseline.model.encoder.layers.2.3.normalizer.bias', 'model.baseline.baseline.model.encoder.layers.2.3.normalizer.running_mean', 'model.baseline.baseline.model.encoder.layers.2.3.normalizer.running_var', 'model.baseline.baseline.model.encoder.layers.2.3.normalizer.num_batches_tracked', 'model.baseline.baseline.model.decoder.context.W_placeholder', 'model.baseline.baseline.model.decoder.context.project_context.weight', 'model.baseline.baseline.model.decoder.project_node_embeddings.weight', 'model.baseline.baseline.model.decoder.project_fixed_context.weight', 'model.baseline.baseline.model.decoder.logit_attention.project_out.weight'])"
      ]
     },
     "execution_count": 15,
     "metadata": {},
     "output_type": "execute_result"
    }
   ],
   "source": [
    "# ckpt_path\n",
    "\n",
    "checkpoints_path = Path('../../saved_checkpoints/')\n",
    "exp_name = 'tsp50'\n",
    "model_name = \"am-tsp50\"\n",
    "checkpoints_path = checkpoints_path / exp_name / model_name\n",
    "\n",
    "ckpt_path = checkpoints_path / 'epoch_099.ckpt'\n",
    "loaded = torch.load(ckpt_path, map_location='cpu')\n",
    "loaded['state_dict'].keys()\n"
   ]
  },
  {
   "cell_type": "code",
   "execution_count": 10,
   "metadata": {},
   "outputs": [
    {
     "data": {
      "text/plain": [
       "odict_keys(['model.policy.encoder.init_embedding.init_embed.weight', 'model.policy.encoder.init_embedding.init_embed.bias', 'model.policy.encoder.layers.0.0.module.Wq', 'model.policy.encoder.layers.0.0.module.Wk', 'model.policy.encoder.layers.0.0.module.Wv', 'model.policy.encoder.layers.0.0.module.Wout', 'model.policy.encoder.layers.0.1.normalizer.weight', 'model.policy.encoder.layers.0.1.normalizer.bias', 'model.policy.encoder.layers.0.2.module.0.weight', 'model.policy.encoder.layers.0.2.module.0.bias', 'model.policy.encoder.layers.0.2.module.2.weight', 'model.policy.encoder.layers.0.2.module.2.bias', 'model.policy.encoder.layers.0.3.normalizer.weight', 'model.policy.encoder.layers.0.3.normalizer.bias', 'model.policy.encoder.layers.1.0.module.Wq', 'model.policy.encoder.layers.1.0.module.Wk', 'model.policy.encoder.layers.1.0.module.Wv', 'model.policy.encoder.layers.1.0.module.Wout', 'model.policy.encoder.layers.1.1.normalizer.weight', 'model.policy.encoder.layers.1.1.normalizer.bias', 'model.policy.encoder.layers.1.2.module.0.weight', 'model.policy.encoder.layers.1.2.module.0.bias', 'model.policy.encoder.layers.1.2.module.2.weight', 'model.policy.encoder.layers.1.2.module.2.bias', 'model.policy.encoder.layers.1.3.normalizer.weight', 'model.policy.encoder.layers.1.3.normalizer.bias', 'model.policy.encoder.layers.2.0.module.Wq', 'model.policy.encoder.layers.2.0.module.Wk', 'model.policy.encoder.layers.2.0.module.Wv', 'model.policy.encoder.layers.2.0.module.Wout', 'model.policy.encoder.layers.2.1.normalizer.weight', 'model.policy.encoder.layers.2.1.normalizer.bias', 'model.policy.encoder.layers.2.2.module.0.weight', 'model.policy.encoder.layers.2.2.module.0.bias', 'model.policy.encoder.layers.2.2.module.2.weight', 'model.policy.encoder.layers.2.2.module.2.bias', 'model.policy.encoder.layers.2.3.normalizer.weight', 'model.policy.encoder.layers.2.3.normalizer.bias', 'model.policy.encoder.layers.3.0.module.Wq', 'model.policy.encoder.layers.3.0.module.Wk', 'model.policy.encoder.layers.3.0.module.Wv', 'model.policy.encoder.layers.3.0.module.Wout', 'model.policy.encoder.layers.3.1.normalizer.weight', 'model.policy.encoder.layers.3.1.normalizer.bias', 'model.policy.encoder.layers.3.2.module.0.weight', 'model.policy.encoder.layers.3.2.module.0.bias', 'model.policy.encoder.layers.3.2.module.2.weight', 'model.policy.encoder.layers.3.2.module.2.bias', 'model.policy.encoder.layers.3.3.normalizer.weight', 'model.policy.encoder.layers.3.3.normalizer.bias', 'model.policy.encoder.layers.4.0.module.Wq', 'model.policy.encoder.layers.4.0.module.Wk', 'model.policy.encoder.layers.4.0.module.Wv', 'model.policy.encoder.layers.4.0.module.Wout', 'model.policy.encoder.layers.4.1.normalizer.weight', 'model.policy.encoder.layers.4.1.normalizer.bias', 'model.policy.encoder.layers.4.2.module.0.weight', 'model.policy.encoder.layers.4.2.module.0.bias', 'model.policy.encoder.layers.4.2.module.2.weight', 'model.policy.encoder.layers.4.2.module.2.bias', 'model.policy.encoder.layers.4.3.normalizer.weight', 'model.policy.encoder.layers.4.3.normalizer.bias', 'model.policy.encoder.layers.5.0.module.Wq', 'model.policy.encoder.layers.5.0.module.Wk', 'model.policy.encoder.layers.5.0.module.Wv', 'model.policy.encoder.layers.5.0.module.Wout', 'model.policy.encoder.layers.5.1.normalizer.weight', 'model.policy.encoder.layers.5.1.normalizer.bias', 'model.policy.encoder.layers.5.2.module.0.weight', 'model.policy.encoder.layers.5.2.module.0.bias', 'model.policy.encoder.layers.5.2.module.2.weight', 'model.policy.encoder.layers.5.2.module.2.bias', 'model.policy.encoder.layers.5.3.normalizer.weight', 'model.policy.encoder.layers.5.3.normalizer.bias', 'model.policy.decoder.context.W_placeholder', 'model.policy.decoder.context.project_context.weight', 'model.policy.decoder.project_node_embeddings.weight', 'model.policy.decoder.project_fixed_context.weight', 'model.policy.decoder.logit_attention.project_out.weight', 'model.policy.projection_head.0.weight', 'model.policy.projection_head.0.bias', 'model.policy.projection_head.2.weight', 'model.policy.projection_head.2.bias'])"
      ]
     },
     "execution_count": 10,
     "metadata": {},
     "output_type": "execute_result"
    }
   ],
   "source": []
  },
  {
   "cell_type": "code",
   "execution_count": 71,
   "metadata": {},
   "outputs": [],
   "source": [
    "device = torch.device('cuda' if torch.cuda.is_available() else 'cpu')\n",
    "\n",
    "policy = lit_module.model.policy.to(device)\n",
    "policy.eval()\n",
    "env = lit_module.model.env"
   ]
  },
  {
   "cell_type": "code",
   "execution_count": 79,
   "metadata": {},
   "outputs": [
    {
     "name": "stdout",
     "output_type": "stream",
     "text": [
      "Effective batch size: 128 (ratio: 100)\n",
      "Using automatic batch size: 128\n"
     ]
    },
    {
     "data": {
      "application/vnd.jupyter.widget-view+json": {
       "model_id": "97b18b58fb554f4c9611614120e8e8cb",
       "version_major": 2,
       "version_minor": 0
      },
      "text/plain": [
       "Running greedy_multistart_augment:   0%|          | 0/79 [00:00<?, ?it/s]"
      ]
     },
     "metadata": {},
     "output_type": "display_data"
    },
    {
     "name": "stdout",
     "output_type": "stream",
     "text": [
      "Mean reward for greedy_multistart_augment: -5.6977\n",
      "Time: 44.7667s\n"
     ]
    }
   ],
   "source": [
    "test_dataset = lit_module.test_dataset\n",
    "\n",
    "out_aug = evaluate_policy(env, policy, test_dataset, method=\"greedy_multistart_augment\", num_augment=20)\n"
   ]
  },
  {
   "cell_type": "code",
   "execution_count": 63,
   "metadata": {},
   "outputs": [
    {
     "name": "stdout",
     "output_type": "stream",
     "text": [
      "Effective batch size: 4096 (ratio: 1)\n",
      "Using automatic batch size: 4096\n"
     ]
    },
    {
     "data": {
      "application/vnd.jupyter.widget-view+json": {
       "model_id": "05457ba80df741b28437a635e8dc6b08",
       "version_major": 2,
       "version_minor": 0
      },
      "text/plain": [
       "Running greedy:   0%|          | 0/3 [00:00<?, ?it/s]"
      ]
     },
     "metadata": {},
     "output_type": "display_data"
    },
    {
     "name": "stdout",
     "output_type": "stream",
     "text": [
      "Mean reward for greedy: -5.7483\n",
      "Time: 0.7918s\n"
     ]
    }
   ],
   "source": [
    "test_dataset = lit_module.test_dataset\n",
    "\n",
    "# Greedy\n",
    "out_greedy = evaluate_policy(env, policy, test_dataset, method=\"greedy\")"
   ]
  },
  {
   "cell_type": "code",
   "execution_count": 65,
   "metadata": {},
   "outputs": [
    {
     "name": "stdout",
     "output_type": "stream",
     "text": [
      "Effective batch size: 256 (ratio: 40)\n",
      "Using automatic batch size: 256\n"
     ]
    },
    {
     "data": {
      "application/vnd.jupyter.widget-view+json": {
       "model_id": "a7f55454041a4f93b3a472a94fe925e0",
       "version_major": 2,
       "version_minor": 0
      },
      "text/plain": [
       "Running greedy_multistart_augment:   0%|          | 0/40 [00:00<?, ?it/s]"
      ]
     },
     "metadata": {},
     "output_type": "display_data"
    },
    {
     "name": "stdout",
     "output_type": "stream",
     "text": [
      "Mean reward for greedy_multistart_augment: -5.7003\n",
      "Time: 17.8459s\n"
     ]
    }
   ],
   "source": [
    "out_greedy = evaluate_policy(env, policy, test_dataset, method=\"greedy_multistart_augment\")"
   ]
  },
  {
   "cell_type": "code",
   "execution_count": 5,
   "metadata": {},
   "outputs": [
    {
     "name": "stdout",
     "output_type": "stream",
     "text": [
      "Effective batch size: 512 (ratio: 20)\n",
      "Using automatic batch size: 512\n"
     ]
    },
    {
     "data": {
      "application/vnd.jupyter.widget-view+json": {
       "model_id": "5b6faea880324d7b99f2244c839412c7",
       "version_major": 2,
       "version_minor": 0
      },
      "text/plain": [
       "Running augmentation:   0%|          | 0/20 [00:00<?, ?it/s]"
      ]
     },
     "metadata": {},
     "output_type": "display_data"
    },
    {
     "name": "stdout",
     "output_type": "stream",
     "text": [
      "Mean reward for augmentation: -5.7103\n",
      "Time: 7.9802s\n"
     ]
    }
   ],
   "source": [
    "test_dataset = lit_module.test_dataset\n",
    "\n",
    "\n",
    "out_aug = evaluate_policy(env, policy, test_dataset, method=\"augment\", num_augment=20)\n"
   ]
  },
  {
   "cell_type": "code",
   "execution_count": 5,
   "metadata": {},
   "outputs": [
    {
     "name": "stdout",
     "output_type": "stream",
     "text": [
      "Effective batch size: 4096 (ratio: 1)\n",
      "Using automatic batch size: 4096\n"
     ]
    },
    {
     "data": {
      "application/vnd.jupyter.widget-view+json": {
       "model_id": "0505db22bb1346bbb913c38acc610f64",
       "version_major": 2,
       "version_minor": 0
      },
      "text/plain": [
       "Running greedy:   0%|          | 0/3 [00:00<?, ?it/s]"
      ]
     },
     "metadata": {},
     "output_type": "display_data"
    },
    {
     "name": "stdout",
     "output_type": "stream",
     "text": [
      "Mean reward for greedy: -5.7785\n",
      "Time: 0.5134s\n",
      "Effective batch size: 512 (ratio: 50)\n",
      "Using automatic batch size: 512\n"
     ]
    },
    {
     "data": {
      "application/vnd.jupyter.widget-view+json": {
       "model_id": "d1673a71a33d4447ba3ce31885700df8",
       "version_major": 2,
       "version_minor": 0
      },
      "text/plain": [
       "Running sampling:   0%|          | 0/20 [00:00<?, ?it/s]"
      ]
     },
     "metadata": {},
     "output_type": "display_data"
    },
    {
     "name": "stdout",
     "output_type": "stream",
     "text": [
      "Mean reward for sampling: -5.7340\n",
      "Time: 18.9422s\n",
      "Effective batch size: 4096 (ratio: 5)\n",
      "Using automatic batch size: 4096\n"
     ]
    },
    {
     "data": {
      "application/vnd.jupyter.widget-view+json": {
       "model_id": "5c0062cf9286491cac5241dcd83848d0",
       "version_major": 2,
       "version_minor": 0
      },
      "text/plain": [
       "Running greedy_multistart:   0%|          | 0/3 [00:00<?, ?it/s]"
      ]
     },
     "metadata": {},
     "output_type": "display_data"
    },
    {
     "name": "stdout",
     "output_type": "stream",
     "text": [
      "Mean reward for greedy_multistart: -5.7668\n",
      "Time: 1.8868s\n",
      "Effective batch size: 4096 (ratio: 8)\n",
      "Using automatic batch size: 4096\n"
     ]
    },
    {
     "data": {
      "application/vnd.jupyter.widget-view+json": {
       "model_id": "efb6ae87602d448e98017a0cacd7b1e5",
       "version_major": 2,
       "version_minor": 0
      },
      "text/plain": [
       "Running augmentation:   0%|          | 0/3 [00:00<?, ?it/s]"
      ]
     },
     "metadata": {},
     "output_type": "display_data"
    },
    {
     "name": "stdout",
     "output_type": "stream",
     "text": [
      "Mean reward for augmentation: -5.7204\n",
      "Time: 3.0353s\n",
      "Effective batch size: 512 (ratio: 50)\n",
      "Using automatic batch size: 512\n"
     ]
    },
    {
     "data": {
      "application/vnd.jupyter.widget-view+json": {
       "model_id": "ac5b1e1a2f5841baba9b7b2f5a071e41",
       "version_major": 2,
       "version_minor": 0
      },
      "text/plain": [
       "Running augmentation:   0%|          | 0/20 [00:00<?, ?it/s]"
      ]
     },
     "metadata": {},
     "output_type": "display_data"
    },
    {
     "name": "stdout",
     "output_type": "stream",
     "text": [
      "Mean reward for augmentation: -5.7048\n",
      "Time: 19.1155s\n",
      "Effective batch size: 512 (ratio: 40)\n",
      "Using automatic batch size: 512\n"
     ]
    },
    {
     "data": {
      "application/vnd.jupyter.widget-view+json": {
       "model_id": "3d5d56f619304c65aac95ed8242d05f9",
       "version_major": 2,
       "version_minor": 0
      },
      "text/plain": [
       "Running greedy_multistart_augment:   0%|          | 0/20 [00:00<?, ?it/s]"
      ]
     },
     "metadata": {},
     "output_type": "display_data"
    },
    {
     "name": "stdout",
     "output_type": "stream",
     "text": [
      "Mean reward for greedy_multistart_augment: -5.7148\n",
      "Time: 14.8714s\n",
      "Effective batch size: 128 (ratio: 250)\n",
      "Using automatic batch size: 128\n"
     ]
    },
    {
     "data": {
      "application/vnd.jupyter.widget-view+json": {
       "model_id": "c751e1f7702d46f78016d42ac1d5b53a",
       "version_major": 2,
       "version_minor": 0
      },
      "text/plain": [
       "Running greedy_multistart_augment:   0%|          | 0/79 [00:00<?, ?it/s]"
      ]
     },
     "metadata": {},
     "output_type": "display_data"
    },
    {
     "name": "stdout",
     "output_type": "stream",
     "text": [
      "Mean reward for greedy_multistart_augment: -5.7023\n",
      "Time: 91.0452s\n"
     ]
    }
   ],
   "source": [
    "test_dataset = lit_module.test_dataset\n",
    "\n",
    "# Greedy\n",
    "out_greedy = evaluate_policy(env, policy, test_dataset, method=\"greedy\")\n",
    "\n",
    "# Sampling\n",
    "out_samppling = evaluate_policy(env, policy, test_dataset, method=\"sampling\", samples=50)\n",
    "\n",
    "# Greedy multistart\n",
    "out_greedy_ms = evaluate_policy(env, policy, test_dataset, method=\"greedy_multistart\")#, num_starts=20)\n",
    "\n",
    "# Augment dihedral 8 (same as POMO)\n",
    "out_augd = evaluate_policy(env, policy, test_dataset, method=\"augment_dihedral_8\")\n",
    "\n",
    "# Symmetric augment\n",
    "out_aug = evaluate_policy(env, policy, test_dataset, method=\"augment\", num_augment=50)\n",
    "\n",
    "# Greedy multistart with augment dihedral 8\n",
    "out_greedy_ms_augd = evaluate_policy(env, policy, test_dataset, method=\"greedy_multistart_augment_dihedral_8\")\n",
    "\n",
    "# Greedy multistart with symmetric augment\n",
    "out_greddy_ms_aug = evaluate_policy(env, policy, test_dataset, method=\"greedy_multistart_augment\", num_augment=50)"
   ]
  }
 ],
 "metadata": {
  "kernelspec": {
   "display_name": "env",
   "language": "python",
   "name": "python3"
  },
  "language_info": {
   "codemirror_mode": {
    "name": "ipython",
    "version": 3
   },
   "file_extension": ".py",
   "mimetype": "text/x-python",
   "name": "python",
   "nbconvert_exporter": "python",
   "pygments_lexer": "ipython3",
   "version": "3.10.9"
  },
  "orig_nbformat": 4
 },
 "nbformat": 4,
 "nbformat_minor": 2
}
