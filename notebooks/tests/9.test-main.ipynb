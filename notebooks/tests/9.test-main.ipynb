{
 "cells": [
  {
   "cell_type": "code",
   "execution_count": 1,
   "metadata": {},
   "outputs": [
    {
     "name": "stderr",
     "output_type": "stream",
     "text": [
      "/home/botu/botu/Dev/rl4co/env/lib/python3.10/site-packages/torchrl/__init__.py:26: UserWarning: failed to set start method to spawn, and current start method for mp is fork.\n",
      "  warn(\n"
     ]
    }
   ],
   "source": [
    "%load_ext autoreload\n",
    "%autoreload 2\n",
    "\n",
    "import sys; sys.path.append(2*'../')\n",
    "\n",
    "import os\n",
    "import glob\n",
    "from pathlib import Path\n",
    "from omegaconf import DictConfig\n",
    "import yaml\n",
    "\n",
    "import torch\n",
    "import lightning as L\n",
    "\n",
    "from rl4co.tasks.rl4co import RL4COLitModule\n",
    "from rl4co.utils.lightning import load_model_from_checkpoint\n",
    "from rl4co.tasks.eval import evaluate_policy\n"
   ]
  },
  {
   "attachments": {},
   "cell_type": "markdown",
   "metadata": {},
   "source": [
    "## Loading model from checkpoint"
   ]
  },
  {
   "cell_type": "code",
   "execution_count": 2,
   "metadata": {},
   "outputs": [
    {
     "name": "stderr",
     "output_type": "stream",
     "text": [
      "Unused kwargs: {'params': {'total': 708608, 'trainable': 708608, 'non_trainable': 0}}\n"
     ]
    }
   ],
   "source": [
    "checkpoints_path = Path('../../saved_checkpoints/')\n",
    "\n",
    "exp_name = 'tsp50'\n",
    "model_name = 'am-tsp50'\n",
    "checkpoints_path = checkpoints_path / exp_name / model_name\n",
    "\n",
    "cfg_path = checkpoints_path / 'config.yaml'\n",
    "ckpt_path = checkpoints_path / 'epoch_099.ckpt'\n",
    "\n",
    "lit_module = load_model_from_checkpoint(cfg_path, ckpt_path, phase='test')"
   ]
  },
  {
   "cell_type": "code",
   "execution_count": 3,
   "metadata": {},
   "outputs": [],
   "source": [
    "device = torch.device('cuda' if torch.cuda.is_available() else 'cpu')\n",
    "\n",
    "policy = lit_module.model.policy.to(device)\n",
    "policy.eval()\n",
    "env = lit_module.model.env"
   ]
  },
  {
   "cell_type": "code",
   "execution_count": 10,
   "metadata": {},
   "outputs": [
    {
     "name": "stdout",
     "output_type": "stream",
     "text": [
      "Effective batch size: 4096 (ratio: 1)\n",
      "Using automatic batch size: 4096\n"
     ]
    },
    {
     "data": {
      "application/vnd.jupyter.widget-view+json": {
       "model_id": "4d4fa89142a1481893b2832966fbd1d9",
       "version_major": 2,
       "version_minor": 0
      },
      "text/plain": [
       "Running greedy:   0%|          | 0/3 [00:00<?, ?it/s]"
      ]
     },
     "metadata": {},
     "output_type": "display_data"
    },
    {
     "name": "stdout",
     "output_type": "stream",
     "text": [
      "Mean reward for greedy: -5.7785\n",
      "Time: 0.5225s\n",
      "Effective batch size: 512 (ratio: 50)\n",
      "Using automatic batch size: 512\n"
     ]
    },
    {
     "data": {
      "application/vnd.jupyter.widget-view+json": {
       "model_id": "684a5495ac65400cade94d7d11a73a72",
       "version_major": 2,
       "version_minor": 0
      },
      "text/plain": [
       "Running sampling:   0%|          | 0/20 [00:00<?, ?it/s]"
      ]
     },
     "metadata": {},
     "output_type": "display_data"
    },
    {
     "name": "stdout",
     "output_type": "stream",
     "text": [
      "Mean reward for sampling: -5.7339\n",
      "Time: 18.9920s\n",
      "Effective batch size: 4096 (ratio: 5)\n",
      "Using automatic batch size: 4096\n"
     ]
    },
    {
     "data": {
      "application/vnd.jupyter.widget-view+json": {
       "model_id": "9432e8d02bf04d419f3e7d08c66947da",
       "version_major": 2,
       "version_minor": 0
      },
      "text/plain": [
       "Running greedy_multistart:   0%|          | 0/3 [00:00<?, ?it/s]"
      ]
     },
     "metadata": {},
     "output_type": "display_data"
    },
    {
     "name": "stdout",
     "output_type": "stream",
     "text": [
      "Mean reward for greedy_multistart: -5.7668\n",
      "Time: 1.8970s\n",
      "Effective batch size: 4096 (ratio: 8)\n",
      "Using automatic batch size: 4096\n"
     ]
    },
    {
     "data": {
      "application/vnd.jupyter.widget-view+json": {
       "model_id": "f660538b85d941248e50d3b11570f960",
       "version_major": 2,
       "version_minor": 0
      },
      "text/plain": [
       "Running augmentation:   0%|          | 0/3 [00:00<?, ?it/s]"
      ]
     },
     "metadata": {},
     "output_type": "display_data"
    },
    {
     "name": "stdout",
     "output_type": "stream",
     "text": [
      "Mean reward for augmentation: -5.7201\n",
      "Time: 3.0445s\n",
      "Effective batch size: 512 (ratio: 50)\n",
      "Using automatic batch size: 512\n"
     ]
    },
    {
     "data": {
      "application/vnd.jupyter.widget-view+json": {
       "model_id": "4f6286173a914ea9be9bdf0e3339ef8a",
       "version_major": 2,
       "version_minor": 0
      },
      "text/plain": [
       "Running augmentation:   0%|          | 0/20 [00:00<?, ?it/s]"
      ]
     },
     "metadata": {},
     "output_type": "display_data"
    },
    {
     "name": "stdout",
     "output_type": "stream",
     "text": [
      "Mean reward for augmentation: -5.7050\n",
      "Time: 19.1802s\n",
      "Effective batch size: 512 (ratio: 40)\n",
      "Using automatic batch size: 512\n"
     ]
    },
    {
     "data": {
      "application/vnd.jupyter.widget-view+json": {
       "model_id": "28021eb42da44f70a53fdea0fd23dae3",
       "version_major": 2,
       "version_minor": 0
      },
      "text/plain": [
       "Running greedy_multistart_augment:   0%|          | 0/20 [00:00<?, ?it/s]"
      ]
     },
     "metadata": {},
     "output_type": "display_data"
    },
    {
     "name": "stdout",
     "output_type": "stream",
     "text": [
      "Mean reward for greedy_multistart_augment: -5.7146\n",
      "Time: 14.7996s\n",
      "Effective batch size: 128 (ratio: 250)\n",
      "Using automatic batch size: 128\n"
     ]
    },
    {
     "data": {
      "application/vnd.jupyter.widget-view+json": {
       "model_id": "34aef746c0d844f19a11ce33ea7e859e",
       "version_major": 2,
       "version_minor": 0
      },
      "text/plain": [
       "Running greedy_multistart_augment:   0%|          | 0/79 [00:00<?, ?it/s]"
      ]
     },
     "metadata": {},
     "output_type": "display_data"
    },
    {
     "name": "stdout",
     "output_type": "stream",
     "text": [
      "Mean reward for greedy_multistart_augment: -5.7022\n",
      "Time: 91.2396s\n"
     ]
    }
   ],
   "source": [
    "test_dataset = lit_module.test_dataset\n",
    "\n",
    "# Greedy\n",
    "out_greedy = evaluate_policy(env, policy, test_dataset, method=\"greedy\")\n",
    "\n",
    "# Sampling\n",
    "out_samppling = evaluate_policy(env, policy, test_dataset, method=\"sampling\", samples=50)\n",
    "\n",
    "# Greedy multistart\n",
    "out_greedy_ms = evaluate_policy(env, policy, test_dataset, method=\"greedy_multistart\")#, num_starts=20)\n",
    "\n",
    "# Augment dihedral 8 (same as POMO)\n",
    "out_augd = evaluate_policy(env, policy, test_dataset, method=\"augment_dihedral_8\")\n",
    "\n",
    "# Symmetric augment\n",
    "out_aug = evaluate_policy(env, policy, test_dataset, method=\"augment\", num_augment=50)\n",
    "\n",
    "# Greedy multistart with augment dihedral 8\n",
    "out_greedy_ms_augd = evaluate_policy(env, policy, test_dataset, method=\"greedy_multistart_augment_dihedral_8\")\n",
    "\n",
    "# Greedy multistart with symmetric augment\n",
    "out_greddy_ms_aug = evaluate_policy(env, policy, test_dataset, method=\"greedy_multistart_augment\", num_augment=50)"
   ]
  }
 ],
 "metadata": {
  "kernelspec": {
   "display_name": "env",
   "language": "python",
   "name": "python3"
  },
  "language_info": {
   "codemirror_mode": {
    "name": "ipython",
    "version": 3
   },
   "file_extension": ".py",
   "mimetype": "text/x-python",
   "name": "python",
   "nbconvert_exporter": "python",
   "pygments_lexer": "ipython3",
   "version": "3.10.9"
  },
  "orig_nbformat": 4
 },
 "nbformat": 4,
 "nbformat_minor": 2
}
