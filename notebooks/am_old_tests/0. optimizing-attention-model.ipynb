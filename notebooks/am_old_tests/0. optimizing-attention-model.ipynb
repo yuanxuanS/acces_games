{
  "cells": [
    {
      "attachments": {},
      "cell_type": "markdown",
      "metadata": {},
      "source": [
        "# Optimizing the AM NCO model: `flash_attn` and `float16`"
      ]
    },
    {
      "attachments": {},
      "cell_type": "markdown",
      "metadata": {},
      "source": [
        "Here we try to optimize the graph encoder AM. We use the Minsu's implementation in [Sym-NCO](https://github.com/alstn12088/Sym-NCO/blob/main/Sym-NCO-AM/nets/graph_encoder.py) of the graph encoder"
      ]
    },
    {
      "cell_type": "code",
      "execution_count": 1,
      "metadata": {},
      "outputs": [],
      "source": [
        "import torch\n",
        "import numpy as np\n",
        "from torch import nn\n",
        "import math\n",
        "\n",
        "from flash_attn.flash_attention import FlashMHA"
      ]
    },
    {
      "attachments": {},
      "cell_type": "markdown",
      "metadata": {},
      "source": [
        "## Flash modules\n",
        "Here we use [Flash Attention](https://github.com/HazyResearch/flash-attention) to greatly speedup the computations. This is exact attention, so no information is lost - it just uses IO devices in a smart way\n"
      ]
    },
    {
      "cell_type": "code",
      "execution_count": 2,
      "metadata": {},
      "outputs": [],
      "source": [
        "class FlashMultiHeadAttention(FlashMHA):\n",
        "    def __init__(\n",
        "            self,\n",
        "            n_heads,\n",
        "            input_dim,\n",
        "            embed_dim,\n",
        "            val_dim=None,\n",
        "            key_dim=None\n",
        "    ):\n",
        "        super(FlashMultiHeadAttention, self).__init__(\n",
        "            embed_dim,\n",
        "            n_heads,\n",
        "            dtype=torch.float16,\n",
        "        )\n",
        "\n",
        "\n",
        "class FlashSkipConnection(nn.Module):\n",
        "\n",
        "    def __init__(self, module, dtype=torch.float32):\n",
        "        super(FlashSkipConnection, self).__init__()\n",
        "        self.module = module\n",
        "        self.dtype = dtype\n",
        "\n",
        "    def forward(self, x):\n",
        "        # original dtype \n",
        "        original_dtype = x.dtype\n",
        "        module_dtype = self.dtype\n",
        "\n",
        "        # cast x dtype to module dtype\n",
        "        x = x.to(module_dtype)\n",
        "\n",
        "        y = self.module(x)[0]\n",
        "        y = x + y\n",
        "        \n",
        "        return y.to(original_dtype)"
      ]
    },
    {
      "attachments": {},
      "cell_type": "markdown",
      "metadata": {},
      "source": [
        "## Normal modules\n",
        "Here are the normal modules"
      ]
    },
    {
      "cell_type": "code",
      "execution_count": 3,
      "metadata": {},
      "outputs": [],
      "source": [
        "class SkipConnection(nn.Module):\n",
        "\n",
        "    def __init__(self, module, **kwargs):\n",
        "        super(SkipConnection, self).__init__()\n",
        "        self.module = module\n",
        "\n",
        "    def forward(self, input):\n",
        "        return input + self.module(input)\n",
        "    \n",
        "\n",
        "class MultiHeadAttention(nn.Module):\n",
        "    def __init__(\n",
        "            self,\n",
        "            n_heads,\n",
        "            input_dim,\n",
        "            embed_dim,\n",
        "            val_dim=None,\n",
        "            key_dim=None\n",
        "    ):\n",
        "        super(MultiHeadAttention, self).__init__()\n",
        "\n",
        "        if val_dim is None:\n",
        "            val_dim = embed_dim // n_heads\n",
        "        if key_dim is None:\n",
        "            key_dim = val_dim\n",
        "\n",
        "        self.n_heads = n_heads\n",
        "        self.input_dim = input_dim\n",
        "        self.embed_dim = embed_dim\n",
        "        self.val_dim = val_dim\n",
        "        self.key_dim = key_dim\n",
        "\n",
        "        self.norm_factor = 1 / math.sqrt(key_dim)  # See Attention is all you need\n",
        "\n",
        "        self.W_query = nn.Parameter(torch.Tensor(n_heads, input_dim, key_dim))\n",
        "        self.W_key = nn.Parameter(torch.Tensor(n_heads, input_dim, key_dim))\n",
        "        self.W_val = nn.Parameter(torch.Tensor(n_heads, input_dim, val_dim))\n",
        "\n",
        "        self.W_out = nn.Parameter(torch.Tensor(n_heads, val_dim, embed_dim))\n",
        "\n",
        "        self.init_parameters()\n",
        "\n",
        "    def init_parameters(self):\n",
        "\n",
        "        for param in self.parameters():\n",
        "            stdv = 1. / math.sqrt(param.size(-1))\n",
        "            param.data.uniform_(-stdv, stdv)\n",
        "\n",
        "    def forward(self, q, h=None, mask=None):\n",
        "        \"\"\"\n",
        "\n",
        "        :param q: queries (batch_size, n_query, input_dim)\n",
        "        :param h: data (batch_size, graph_size, input_dim)\n",
        "        :param mask: mask (batch_size, n_query, graph_size) or viewable as that (i.e. can be 2 dim if n_query == 1)\n",
        "        Mask should contain 1 if attention is not possible (i.e. mask is negative adjacency)\n",
        "        :return:\n",
        "        \"\"\"\n",
        "        if h is None:\n",
        "            h = q  # compute self-attention\n",
        "\n",
        "        # h should be (batch_size, graph_size, input_dim)\n",
        "        batch_size, graph_size, input_dim = h.size()\n",
        "        n_query = q.size(1)\n",
        "        assert q.size(0) == batch_size\n",
        "        assert q.size(2) == input_dim\n",
        "        assert input_dim == self.input_dim, \"Wrong embedding dimension of input\"\n",
        "\n",
        "        hflat = h.contiguous().view(-1, input_dim)\n",
        "        qflat = q.contiguous().view(-1, input_dim)\n",
        "\n",
        "        # last dimension can be different for keys and values\n",
        "        shp = (self.n_heads, batch_size, graph_size, -1)\n",
        "        shp_q = (self.n_heads, batch_size, n_query, -1)\n",
        "\n",
        "        # Calculate queries, (n_heads, n_query, graph_size, key/val_size)\n",
        "        Q = torch.matmul(qflat, self.W_query).view(shp_q)\n",
        "        # Calculate keys and values (n_heads, batch_size, graph_size, key/val_size)\n",
        "        K = torch.matmul(hflat, self.W_key).view(shp)\n",
        "        V = torch.matmul(hflat, self.W_val).view(shp)\n",
        "\n",
        "        # Calculate compatibility (n_heads, batch_size, n_query, graph_size)\n",
        "        compatibility = self.norm_factor * torch.matmul(Q, K.transpose(2, 3))\n",
        "\n",
        "        # Optionally apply mask to prevent attention\n",
        "        if mask is not None:\n",
        "            mask = mask.view(1, batch_size, n_query, graph_size).expand_as(compatibility)\n",
        "            compatibility[mask] = -np.inf\n",
        "\n",
        "        attn = torch.softmax(compatibility, dim=-1)\n",
        "\n",
        "        # If there are nodes with no neighbours then softmax returns nan so we fix them to 0\n",
        "        if mask is not None:\n",
        "            attnc = attn.clone()\n",
        "            attnc[mask] = 0\n",
        "            attn = attnc\n",
        "\n",
        "        heads = torch.matmul(attn, V)\n",
        "\n",
        "        out = torch.mm(\n",
        "            heads.permute(1, 2, 0, 3).contiguous().view(-1, self.n_heads * self.val_dim),\n",
        "            self.W_out.view(-1, self.embed_dim)\n",
        "        ).view(batch_size, n_query, self.embed_dim)\n",
        "\n",
        "        # Alternative:\n",
        "        # headst = heads.transpose(0, 1)  # swap the dimensions for batch and heads to align it for the matmul\n",
        "        # # proj_h = torch.einsum('bhni,hij->bhnj', headst, self.W_out)\n",
        "        # projected_heads = torch.matmul(headst, self.W_out)\n",
        "        # out = torch.sum(projected_heads, dim=1)  # sum across heads\n",
        "\n",
        "        # Or:\n",
        "        # out = torch.einsum('hbni,hij->bnj', heads, self.W_out)\n",
        "\n",
        "        return out"
      ]
    },
    {
      "attachments": {},
      "cell_type": "markdown",
      "metadata": {},
      "source": [
        "## Common utilities\n",
        "\n",
        "Same as normal code, with small addition of `flash_attn` and `float16` flags"
      ]
    },
    {
      "cell_type": "code",
      "execution_count": 4,
      "metadata": {},
      "outputs": [],
      "source": [
        "class Normalization(nn.Module):\n",
        "\n",
        "    def __init__(self, embed_dim, normalization='batch'):\n",
        "        super(Normalization, self).__init__()\n",
        "\n",
        "        normalizer_class = {\n",
        "            'batch': nn.BatchNorm1d,\n",
        "            'instance': nn.InstanceNorm1d\n",
        "        }.get(normalization, None)\n",
        "\n",
        "        self.normalizer = normalizer_class(embed_dim, affine=True)\n",
        "\n",
        "        # Normalization by default initializes affine parameters with bias 0 and weight unif(0,1) which is too large!\n",
        "        # self.init_parameters()\n",
        "\n",
        "    def init_parameters(self):\n",
        "\n",
        "        for name, param in self.named_parameters():\n",
        "            stdv = 1. / math.sqrt(param.size(-1))\n",
        "            param.data.uniform_(-stdv, stdv)\n",
        "\n",
        "    def forward(self, input):\n",
        "        if isinstance(self.normalizer, nn.BatchNorm1d):\n",
        "            return self.normalizer(input.view(-1, input.size(-1))).view(*input.size())\n",
        "        elif isinstance(self.normalizer, nn.InstanceNorm1d):\n",
        "            return self.normalizer(input.permute(0, 2, 1)).permute(0, 2, 1)\n",
        "        else:\n",
        "            assert self.normalizer is None, \"Unknown normalizer type\"\n",
        "            return input\n",
        "\n",
        "\n",
        "class MultiHeadAttentionLayer(nn.Sequential):\n",
        "\n",
        "    def __init__(\n",
        "            self,\n",
        "            n_heads,\n",
        "            embed_dim,\n",
        "            feed_forward_hidden=512,\n",
        "            normalization='batch',\n",
        "            use_flash_attn=False,\n",
        "            dtype=torch.float32\n",
        "    ):\n",
        "        SkipConnectionModule = FlashSkipConnection if use_flash_attn else SkipConnection\n",
        "        MultiHeadAttentionModule = FlashMultiHeadAttention if use_flash_attn else MultiHeadAttention\n",
        "        super(MultiHeadAttentionLayer, self).__init__(\n",
        "            SkipConnectionModule(\n",
        "                MultiHeadAttentionModule(\n",
        "                    n_heads,\n",
        "                    input_dim=embed_dim,\n",
        "                    embed_dim=embed_dim\n",
        "                ),\n",
        "                dtype=torch.float16 # force fp16 for flash attention. Does not influence the rest of the model\n",
        "            ),\n",
        "            Normalization(embed_dim, normalization),\n",
        "            SkipConnection(\n",
        "                nn.Sequential(\n",
        "                    nn.Linear(embed_dim, feed_forward_hidden),\n",
        "                    nn.ReLU(),\n",
        "                    nn.Linear(feed_forward_hidden, embed_dim)\n",
        "                ) if feed_forward_hidden > 0 else nn.Linear(embed_dim, embed_dim),\n",
        "            dtype=dtype\n",
        "            ),\n",
        "            Normalization(embed_dim, normalization)\n",
        "        )\n",
        "\n",
        "\n",
        "class GraphAttentionEncoder(nn.Module):\n",
        "    def __init__(\n",
        "            self,\n",
        "            n_heads,\n",
        "            embed_dim,\n",
        "            n_layers,\n",
        "            node_dim=None,\n",
        "            normalization='batch',\n",
        "            feed_forward_hidden=512,\n",
        "            use_flash_attn=False\n",
        "    ):\n",
        "        super(GraphAttentionEncoder, self).__init__()\n",
        "\n",
        "\n",
        "\n",
        "        # To map input to embedding space\n",
        "        self.init_embed = nn.Linear(node_dim, embed_dim) if node_dim is not None else None\n",
        "\n",
        "        self.layers = nn.Sequential(*(\n",
        "            MultiHeadAttentionLayer(n_heads, embed_dim, feed_forward_hidden, normalization, use_flash_attn)\n",
        "            for _ in range(n_layers)\n",
        "        ))\n",
        "\n",
        "    def forward(self, x, mask=None):\n",
        "\n",
        "        assert mask is None, \"TODO mask not yet supported!\"\n",
        "\n",
        "        # Batch multiply to get initial embeddings of nodes\n",
        "        h = self.init_embed(x.view(-1, x.size(-1))).view(*x.size()[:2], -1) if self.init_embed is not None else x\n",
        "\n",
        "        h = self.layers(h)\n",
        "\n",
        "        return (\n",
        "            h,  # (batch_size, graph_size, embed_dim)\n",
        "            h.mean(dim=1),  # average to get embedding of graph, (batch_size, embed_dim)\n",
        "        )"
      ]
    },
    {
      "attachments": {},
      "cell_type": "markdown",
      "metadata": {},
      "source": [
        "## Benchmarking\n",
        "We make the benchmark run on GPU. We use an RTX 3090\n",
        "\n",
        "To store results, we use [timeit](https://stackoverflow.com/questions/41351041/how-to-store-the-result-from-timeit-cell-magic)"
      ]
    },
    {
      "cell_type": "code",
      "execution_count": 5,
      "metadata": {},
      "outputs": [],
      "source": [
        "device = torch.device(\"cuda:0\" if torch.cuda.is_available() else \"cpu\")"
      ]
    },
    {
      "cell_type": "code",
      "execution_count": 6,
      "metadata": {},
      "outputs": [],
      "source": [
        "# Initialize model\n",
        "model = GraphAttentionEncoder(\n",
        "    n_heads=8,\n",
        "    embed_dim=128,\n",
        "    n_layers=6,\n",
        "    node_dim=None,\n",
        "    normalization='batch',\n",
        "    feed_forward_hidden=512,\n",
        "    use_flash_attn=False\n",
        ")\n",
        "model = model.to(device)"
      ]
    },
    {
      "cell_type": "code",
      "execution_count": 7,
      "metadata": {},
      "outputs": [],
      "source": [
        "# Intialize model flash\n",
        "# Initialize model\n",
        "model_flash = GraphAttentionEncoder(\n",
        "    n_heads=8,\n",
        "    embed_dim=128,\n",
        "    n_layers=6,\n",
        "    node_dim=None,\n",
        "    normalization='batch',\n",
        "    feed_forward_hidden=512,\n",
        "    use_flash_attn=True\n",
        ")\n",
        "model_flash = model_flash.to(device)"
      ]
    },
    {
      "cell_type": "code",
      "execution_count": 8,
      "metadata": {},
      "outputs": [],
      "source": [
        "# Initialize input\n",
        "x = torch.randn(1024, 100, 128) # same as original implementation\n",
        "\n",
        "# Move to GPU\n",
        "x = x.to(device)"
      ]
    },
    {
      "attachments": {},
      "cell_type": "markdown",
      "metadata": {},
      "source": [
        "### Normal model"
      ]
    },
    {
      "cell_type": "code",
      "execution_count": 9,
      "metadata": {},
      "outputs": [
        {
          "name": "stdout",
          "output_type": "stream",
          "text": [
            "559 ms ± 0 ns per loop (mean ± std. dev. of 1 run, 1 loop each)\n"
          ]
        },
        {
          "data": {
            "text/plain": [
              "''"
            ]
          },
          "execution_count": 9,
          "metadata": {},
          "output_type": "execute_result"
        }
      ],
      "source": [
        "# Dummy run\n",
        "%timeit -r 1 -n 1 model(x)\n",
        "_"
      ]
    },
    {
      "cell_type": "code",
      "execution_count": 10,
      "metadata": {},
      "outputs": [
        {
          "name": "stdout",
          "output_type": "stream",
          "text": [
            "47.2 ms ± 8.51 ms per loop (mean ± std. dev. of 10 runs, 10 loops each)\n"
          ]
        },
        {
          "data": {
            "text/plain": [
              "<TimeitResult : 47.2 ms ± 8.51 ms per loop (mean ± std. dev. of 10 runs, 10 loops each)>"
            ]
          },
          "execution_count": 10,
          "metadata": {},
          "output_type": "execute_result"
        }
      ],
      "source": [
        "%timeit -o -r 10 -n 10 model(x)"
      ]
    },
    {
      "cell_type": "code",
      "execution_count": 11,
      "metadata": {},
      "outputs": [],
      "source": [
        "result_model = _ "
      ]
    },
    {
      "attachments": {},
      "cell_type": "markdown",
      "metadata": {},
      "source": [
        "### Flash Attention"
      ]
    },
    {
      "cell_type": "code",
      "execution_count": 12,
      "metadata": {},
      "outputs": [
        {
          "name": "stdout",
          "output_type": "stream",
          "text": [
            "9.87 ms ± 0 ns per loop (mean ± std. dev. of 1 run, 1 loop each)\n"
          ]
        },
        {
          "data": {
            "text/plain": [
              "<TimeitResult : 47.2 ms ± 8.51 ms per loop (mean ± std. dev. of 10 runs, 10 loops each)>"
            ]
          },
          "execution_count": 12,
          "metadata": {},
          "output_type": "execute_result"
        }
      ],
      "source": [
        "# Dummy run\n",
        "%timeit -r 1 -n 1 model_flash(x)\n",
        "_"
      ]
    },
    {
      "cell_type": "code",
      "execution_count": 13,
      "metadata": {},
      "outputs": [
        {
          "name": "stdout",
          "output_type": "stream",
          "text": [
            "24.4 ms ± 2.27 ms per loop (mean ± std. dev. of 10 runs, 10 loops each)\n"
          ]
        },
        {
          "data": {
            "text/plain": [
              "<TimeitResult : 24.4 ms ± 2.27 ms per loop (mean ± std. dev. of 10 runs, 10 loops each)>"
            ]
          },
          "execution_count": 13,
          "metadata": {},
          "output_type": "execute_result"
        }
      ],
      "source": [
        "%timeit -o -r 10 -n 10  model_flash(x)"
      ]
    },
    {
      "cell_type": "code",
      "execution_count": 14,
      "metadata": {},
      "outputs": [],
      "source": [
        "result_model_flash = _ "
      ]
    },
    {
      "attachments": {},
      "cell_type": "markdown",
      "metadata": {},
      "source": [
        "### Flash Attention + Float16"
      ]
    },
    {
      "cell_type": "code",
      "execution_count": 15,
      "metadata": {},
      "outputs": [],
      "source": [
        "# Make x FP16\n",
        "x = x.half()\n",
        "\n",
        "# Make all parameters FP16\n",
        "for param in model_flash.parameters():\n",
        "    param.data = param.data.half()"
      ]
    },
    {
      "cell_type": "code",
      "execution_count": 16,
      "metadata": {},
      "outputs": [
        {
          "name": "stdout",
          "output_type": "stream",
          "text": [
            "6.71 ms ± 0 ns per loop (mean ± std. dev. of 1 run, 1 loop each)\n"
          ]
        },
        {
          "data": {
            "text/plain": [
              "<TimeitResult : 24.4 ms ± 2.27 ms per loop (mean ± std. dev. of 10 runs, 10 loops each)>"
            ]
          },
          "execution_count": 16,
          "metadata": {},
          "output_type": "execute_result"
        }
      ],
      "source": [
        "# Dummy run\n",
        "%timeit -r 1 -n 1 model_flash(x)\n",
        "_"
      ]
    },
    {
      "cell_type": "code",
      "execution_count": 17,
      "metadata": {},
      "outputs": [
        {
          "name": "stdout",
          "output_type": "stream",
          "text": [
            "9.91 ms ± 1.95 ms per loop (mean ± std. dev. of 10 runs, 10 loops each)\n"
          ]
        },
        {
          "data": {
            "text/plain": [
              "<TimeitResult : 9.91 ms ± 1.95 ms per loop (mean ± std. dev. of 10 runs, 10 loops each)>"
            ]
          },
          "execution_count": 17,
          "metadata": {},
          "output_type": "execute_result"
        }
      ],
      "source": [
        "%timeit -o -r 10 -n 10  model_flash(x)"
      ]
    },
    {
      "cell_type": "code",
      "execution_count": 18,
      "metadata": {},
      "outputs": [],
      "source": [
        "result_model_flash_fp16 = _ "
      ]
    },
    {
      "attachments": {},
      "cell_type": "markdown",
      "metadata": {},
      "source": [
        "## Plot results"
      ]
    },
    {
      "cell_type": "code",
      "execution_count": 19,
      "metadata": {},
      "outputs": [
        {
          "data": {
            "text/plain": [
              "Text(0, 0.5, 'Time (s)')"
            ]
          },
          "execution_count": 19,
          "metadata": {},
          "output_type": "execute_result"
        },
        {
          "data": {
            "image/png": "[encoded data removed]",
            "text/plain": [
              "<Figure size 640x480 with 1 Axes>"
            ]
          },
          "metadata": {},
          "output_type": "display_data"
        }
      ],
      "source": [
        "# Make bar plot\n",
        "import matplotlib.pyplot as plt\n",
        "\n",
        "fig, ax = plt.subplots()\n",
        "models = ['model', 'model_flash', 'model_flash_fp16']\n",
        "times = [result_model.average, result_model_flash.average, result_model_flash_fp16.average]\n",
        "times_std = [result_model.stdev, result_model_flash.stdev, result_model_flash_fp16.stdev]\n",
        "colors = ['green', 'red', 'purple']\n",
        "\n",
        "ax.bar(models, times, yerr=times_std, align='center', alpha=0.5, ecolor='black', capsize=10, color=colors)\n",
        "\n",
        "# Add some text for labels, title and custom x-axis tick labels, etc.\n",
        "ax.set_title('Time per loop on TSP100')\n",
        "\n",
        "ax.set_ylabel('Time (s)')"
      ]
    },
    {
      "cell_type": "code",
      "execution_count": 20,
      "metadata": {},
      "outputs": [
        {
          "data": {
            "image/png": "[encoded data removed]",
            "text/plain": [
              "<Figure size 640x480 with 1 Axes>"
            ]
          },
          "metadata": {},
          "output_type": "display_data"
        }
      ],
      "source": [
        "# Same plot, but with speedup compared to model\n",
        "fig, ax = plt.subplots()\n",
        "models = ['model', 'model_flash', 'model_flash_fp16']\n",
        "speedup = [1, result_model.average / result_model_flash.average, result_model.average / result_model_flash_fp16.average]\n",
        "\n",
        "ax.bar(models, speedup, align='center', alpha=0.5, ecolor='black', capsize=10, color=colors)\n",
        "\n",
        "# Add some text for labels, title and custom x-axis tick labels, etc.\n",
        "ax.set_title('Speedup on TSP100')\n",
        "ax.set_ylabel('Speedup (X)')\n",
        "\n",
        "# Print value on top of bar\n",
        "for i, v in enumerate(speedup):\n",
        "    ax.text(i, v + 0.1, str(round(v, 2)), color='black', fontweight='bold', horizontalalignment='center')"
      ]
    }
  ],
  "metadata": {
    "kernelspec": {
      "display_name": "env",
      "language": "python",
      "name": "python3"
    },
    "language_info": {
      "codemirror_mode": {
        "name": "ipython",
        "version": 3
      },
      "file_extension": ".py",
      "mimetype": "text/x-python",
      "name": "python",
      "nbconvert_exporter": "python",
      "pygments_lexer": "ipython3",
      "version": "3.9.12"
    },
    "vscode": {
      "interpreter": {
        "hash": "fbc5b198709957cb10390a2819ca930d3578f48e335d60395e01c5208a66cb86"
      }
    }
  },
  "nbformat": 4,
  "nbformat_minor": 0
}
