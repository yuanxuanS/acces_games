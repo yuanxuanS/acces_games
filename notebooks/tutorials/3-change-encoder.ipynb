{
 "cells": [
  {
   "cell_type": "markdown",
   "metadata": {},
   "source": [
    "# Tutorial for changing the encoder and customizing the encoder\n",
    "\n",
    "In this notebook we will cover a tutorial for the flaxible encoders. Including a easy way to change the encoder of the model and customize the encoder to fit your experiment requirements. \n",
    "\n",
    "<a href=\"https://colab.research.google.com/github/kaist-silab/rl4co/blob/main/notebooks/tutorials/3-change-encoder.ipynb\"><img src=\"https://colab.research.google.com/assets/colab-badge.svg\" alt=\"Open In Colab\"></a>"
   ]
  },
  {
   "cell_type": "markdown",
   "metadata": {},
   "source": [
    "## Installation\n",
    "\n",
    "Uncomment the following line to install the package from PyPI. Remember to choose a GPU runtime for faster training!\n",
    "\n",
    "> Note: You may need to restart the runtime in Colab after this\n"
   ]
  },
  {
   "cell_type": "code",
   "execution_count": 1,
   "metadata": {},
   "outputs": [],
   "source": [
    "# !pip install rl4co\n",
    "\n",
    "## NOTE: to install latest version from Github (may be unstable) install from source instead:\n",
    "# !pip install git+https://github.com/kaist-silab/rl4co.git"
   ]
  },
  {
   "cell_type": "markdown",
   "metadata": {},
   "source": [
    "## Imports "
   ]
  },
  {
   "cell_type": "code",
   "execution_count": 2,
   "metadata": {},
   "outputs": [
    {
     "name": "stderr",
     "output_type": "stream",
     "text": [
      "/home/cbhua/.local/lib/python3.10/site-packages/tqdm/auto.py:21: TqdmWarning: IProgress not found. Please update jupyter and ipywidgets. See https://ipywidgets.readthedocs.io/en/stable/user_install.html\n",
      "  from .autonotebook import tqdm as notebook_tqdm\n"
     ]
    }
   ],
   "source": [
    "# TODO: Temp\n",
    "import sys; sys.path.append('../..')\n",
    "\n",
    "%load_ext autoreload\n",
    "%autoreload 2\n",
    "\n",
    "from rl4co.envs import CVRPEnv\n",
    "\n",
    "from rl4co.models.zoo import AttentionModel\n",
    "from rl4co.utils.trainer import RL4COTrainer"
   ]
  },
  {
   "cell_type": "markdown",
   "metadata": {},
   "source": [
    "## A default minimal training scritp\n",
    "\n",
    "Here we use the CVRP environment and AM model as a minimal example of training script. By default, the AM is initialized with a Graph Attention Encoder. "
   ]
  },
  {
   "cell_type": "code",
   "execution_count": 3,
   "metadata": {},
   "outputs": [
    {
     "name": "stderr",
     "output_type": "stream",
     "text": [
      "/home/cbhua/.local/lib/python3.10/site-packages/lightning/pytorch/utilities/parsing.py:196: UserWarning: Attribute 'env' is an instance of `nn.Module` and is already saved during checkpointing. It is recommended to ignore them using `self.save_hyperparameters(ignore=['env'])`.\n",
      "  rank_zero_warn(\n",
      "/home/cbhua/.local/lib/python3.10/site-packages/lightning/pytorch/utilities/parsing.py:196: UserWarning: Attribute 'policy' is an instance of `nn.Module` and is already saved during checkpointing. It is recommended to ignore them using `self.save_hyperparameters(ignore=['policy'])`.\n",
      "  rank_zero_warn(\n",
      "Using 16bit Automatic Mixed Precision (AMP)\n",
      "GPU available: True (cuda), used: True\n",
      "TPU available: False, using: 0 TPU cores\n",
      "IPU available: False, using: 0 IPUs\n",
      "HPU available: False, using: 0 HPUs\n"
     ]
    },
    {
     "name": "stdout",
     "output_type": "stream",
     "text": [
      "Encoder: GraphAttentionEncoder\n"
     ]
    }
   ],
   "source": [
    "# Init env, model, trainer\n",
    "env = CVRPEnv(num_loc=20) \n",
    "\n",
    "model = AttentionModel(\n",
    "    env, \n",
    "    baseline='rollout',\n",
    "    train_data_size=100_000, # really small size for demo\n",
    "    val_data_size=10_000\n",
    ")\n",
    " \n",
    "trainer = RL4COTrainer(\n",
    "    max_epochs=3, # few epochs for demo\n",
    "    accelerator='gpu',\n",
    "    logger=False,\n",
    ")\n",
    "\n",
    "# By default the AM uses the Graph Attention Encoder\n",
    "print(f'Encoder: {model.policy.encoder._get_name()}')"
   ]
  },
  {
   "cell_type": "code",
   "execution_count": 4,
   "metadata": {},
   "outputs": [
    {
     "name": "stderr",
     "output_type": "stream",
     "text": [
      "val_file not set. Generating dataset instead\n",
      "test_file not set. Generating dataset instead\n",
      "LOCAL_RANK: 0 - CUDA_VISIBLE_DEVICES: [0]\n",
      "\n",
      "  | Name     | Type                 | Params\n",
      "--------------------------------------------------\n",
      "0 | env      | CVRPEnv              | 0     \n",
      "1 | policy   | AttentionModelPolicy | 694 K \n",
      "2 | baseline | WarmupBaseline       | 694 K \n",
      "--------------------------------------------------\n",
      "1.4 M     Trainable params\n",
      "0         Non-trainable params\n",
      "1.4 M     Total params\n",
      "5.553     Total estimated model params size (MB)\n"
     ]
    },
    {
     "name": "stdout",
     "output_type": "stream",
     "text": [
      "                                                                           "
     ]
    },
    {
     "name": "stderr",
     "output_type": "stream",
     "text": [
      "/home/cbhua/.local/lib/python3.10/site-packages/lightning/pytorch/trainer/connectors/data_connector.py:432: PossibleUserWarning: The dataloader, val_dataloader, does not have many workers which may be a bottleneck. Consider increasing the value of the `num_workers` argument` (try 32 which is the number of cpus on this machine) in the `DataLoader` init to improve performance.\n",
      "  rank_zero_warn(\n",
      "/home/cbhua/.local/lib/python3.10/site-packages/lightning/pytorch/trainer/connectors/data_connector.py:432: PossibleUserWarning: The dataloader, train_dataloader, does not have many workers which may be a bottleneck. Consider increasing the value of the `num_workers` argument` (try 32 which is the number of cpus on this machine) in the `DataLoader` init to improve performance.\n",
      "  rank_zero_warn(\n"
     ]
    },
    {
     "name": "stdout",
     "output_type": "stream",
     "text": [
      "Epoch 2: 100%|██████████| 196/196 [00:09<00:00, 21.26it/s, train/reward=-7.21, train/loss=-.501, val/reward=-7.05] "
     ]
    },
    {
     "name": "stderr",
     "output_type": "stream",
     "text": [
      "`Trainer.fit` stopped: `max_epochs=3` reached.\n"
     ]
    },
    {
     "name": "stdout",
     "output_type": "stream",
     "text": [
      "Epoch 2: 100%|██████████| 196/196 [00:16<00:00, 12.17it/s, train/reward=-7.21, train/loss=-.501, val/reward=-7.05]\n"
     ]
    }
   ],
   "source": [
    "# Train the model\n",
    "trainer.fit(model)"
   ]
  },
  {
   "cell_type": "markdown",
   "metadata": {},
   "source": [
    "## Change the Encoder\n",
    "\n",
    "In RL4CO, we provides two graph neural network encoders: *Graph Convolutionsal Network* (GCN) encoder and *Message Passing Neural Network* (MPNN) encoder. In this tutorial, we will show how to change the encoder. "
   ]
  },
  {
   "cell_type": "code",
   "execution_count": 5,
   "metadata": {},
   "outputs": [],
   "source": [
    "# Before we init, we need to install the graph neural network dependencies\n",
    "# !pip install rl4co[graph]"
   ]
  },
  {
   "cell_type": "code",
   "execution_count": 6,
   "metadata": {},
   "outputs": [
    {
     "name": "stderr",
     "output_type": "stream",
     "text": [
      "/home/cbhua/.local/lib/python3.10/site-packages/lightning/pytorch/utilities/parsing.py:196: UserWarning: Attribute 'env' is an instance of `nn.Module` and is already saved during checkpointing. It is recommended to ignore them using `self.save_hyperparameters(ignore=['env'])`.\n",
      "  rank_zero_warn(\n",
      "/home/cbhua/.local/lib/python3.10/site-packages/lightning/pytorch/utilities/parsing.py:196: UserWarning: Attribute 'policy' is an instance of `nn.Module` and is already saved during checkpointing. It is recommended to ignore them using `self.save_hyperparameters(ignore=['policy'])`.\n",
      "  rank_zero_warn(\n",
      "Using 16bit Automatic Mixed Precision (AMP)\n",
      "GPU available: True (cuda), used: True\n",
      "TPU available: False, using: 0 TPU cores\n",
      "IPU available: False, using: 0 IPUs\n",
      "HPU available: False, using: 0 HPUs\n"
     ]
    }
   ],
   "source": [
    "# Init the model with different encoder\n",
    "from rl4co.models.nn.graph.gcn import GCNEncoder\n",
    "from rl4co.models.nn.graph.mpnn import MessagePassingEncoder\n",
    "\n",
    "gcn_encoder = GCNEncoder(\n",
    "    env_name='cvrp', \n",
    "    embedding_dim=128,\n",
    "    num_nodes=20, \n",
    "    num_layers=3,\n",
    ")\n",
    "\n",
    "mpnn_encoder = MessagePassingEncoder(\n",
    "    env_name='cvrp', \n",
    "    embedding_dim=128,\n",
    "    num_nodes=20, \n",
    "    num_layers=3,\n",
    ")\n",
    "\n",
    "model = AttentionModel(\n",
    "    env, \n",
    "    baseline='rollout',\n",
    "    train_data_size=100_000, # really small size for demo\n",
    "    val_data_size=10_000, \n",
    "    policy_kwargs={\n",
    "        'encoder': gcn_encoder # gcn_encoder or mpnn_encoder\n",
    "    }\n",
    ")\n",
    " \n",
    "trainer = RL4COTrainer(\n",
    "    max_epochs=3, # few epochs for demo\n",
    "    accelerator='gpu',\n",
    "    logger=False,\n",
    ")"
   ]
  },
  {
   "cell_type": "code",
   "execution_count": 7,
   "metadata": {},
   "outputs": [
    {
     "name": "stderr",
     "output_type": "stream",
     "text": [
      "/home/cbhua/.local/lib/python3.10/site-packages/lightning/pytorch/callbacks/model_checkpoint.py:615: UserWarning: Checkpoint directory /home/cbhua/code/rl4co-rebuttal/notebooks/tutorials/checkpoints exists and is not empty.\n",
      "  rank_zero_warn(f\"Checkpoint directory {dirpath} exists and is not empty.\")\n",
      "val_file not set. Generating dataset instead\n",
      "test_file not set. Generating dataset instead\n",
      "LOCAL_RANK: 0 - CUDA_VISIBLE_DEVICES: [0]\n",
      "\n",
      "  | Name     | Type                 | Params\n",
      "--------------------------------------------------\n",
      "0 | env      | CVRPEnv              | 0     \n",
      "1 | policy   | AttentionModelPolicy | 148 K \n",
      "2 | baseline | WarmupBaseline       | 148 K \n",
      "--------------------------------------------------\n",
      "297 K     Trainable params\n",
      "0         Non-trainable params\n",
      "297 K     Total params\n",
      "1.191     Total estimated model params size (MB)\n"
     ]
    },
    {
     "name": "stdout",
     "output_type": "stream",
     "text": [
      "                                                                           "
     ]
    },
    {
     "name": "stderr",
     "output_type": "stream",
     "text": [
      "/home/cbhua/.local/lib/python3.10/site-packages/lightning/pytorch/trainer/connectors/data_connector.py:432: PossibleUserWarning: The dataloader, val_dataloader, does not have many workers which may be a bottleneck. Consider increasing the value of the `num_workers` argument` (try 32 which is the number of cpus on this machine) in the `DataLoader` init to improve performance.\n",
      "  rank_zero_warn(\n",
      "/home/cbhua/.local/lib/python3.10/site-packages/lightning/pytorch/trainer/connectors/data_connector.py:432: PossibleUserWarning: The dataloader, train_dataloader, does not have many workers which may be a bottleneck. Consider increasing the value of the `num_workers` argument` (try 32 which is the number of cpus on this machine) in the `DataLoader` init to improve performance.\n",
      "  rank_zero_warn(\n"
     ]
    },
    {
     "name": "stdout",
     "output_type": "stream",
     "text": [
      "Epoch 2: 100%|██████████| 196/196 [00:12<00:00, 15.63it/s, train/reward=-8.04, train/loss=2.110, val/reward=-7.82]   "
     ]
    },
    {
     "name": "stderr",
     "output_type": "stream",
     "text": [
      "`Trainer.fit` stopped: `max_epochs=3` reached.\n"
     ]
    },
    {
     "name": "stdout",
     "output_type": "stream",
     "text": [
      "Epoch 2: 100%|██████████| 196/196 [00:22<00:00,  8.82it/s, train/reward=-8.04, train/loss=2.110, val/reward=-7.82]\n"
     ]
    }
   ],
   "source": [
    "# Train the model\n",
    "trainer.fit(model)"
   ]
  },
  {
   "cell_type": "markdown",
   "metadata": {},
   "source": [
    "## Or you want to create your own encoder\n",
    "\n",
    "If you want to create a new encoder, you may want to follow the following base class to create the encoder class with the folowing components:\n",
    "\n",
    "1. RL4CO provides the `env_init_embedding` method for each environment. You may want to use it to get the initial embedding of the environment.\n",
    "2. `h` and `init_h` as return hidden features have the shape `([batch_size], num_node, hidden_size)`\n",
    "3. In RL4CO, we put the graph neural network encoders in the `rl4co/models/nn/graph` folder. You may want to put your customized encoder to the same folder."
   ]
  },
  {
   "cell_type": "code",
   "execution_count": 8,
   "metadata": {},
   "outputs": [],
   "source": [
    "# Import necessary packages\n",
    "import torch.nn as nn\n",
    "from torch import Tensor\n",
    "from tensordict import TensorDict\n",
    "from typing import Tuple, Union\n",
    "from rl4co.models.nn.env_embeddings import env_init_embedding\n",
    "\n",
    "\n",
    "class BaseEncoder(nn.Module):\n",
    "    def __init__(\n",
    "            self,\n",
    "            env_name: str,\n",
    "            embedding_dim: int,\n",
    "            init_embedding: nn.Module = None,\n",
    "        ):\n",
    "        super(BaseEncoder, self).__init__()\n",
    "        self.env_name = env_name\n",
    "        \n",
    "        # Init embedding for each environment\n",
    "        self.init_embedding = (\n",
    "            env_init_embedding(self.env_name, {\"embedding_dim\": embedding_dim})\n",
    "            if init_embedding is None\n",
    "            else init_embedding\n",
    "        )\n",
    "\n",
    "    def forward(\n",
    "        self, td: TensorDict, mask: Union[Tensor, None] = None\n",
    "    ) -> Tuple[Tensor, Tensor]:\n",
    "        \"\"\"\n",
    "        Args:\n",
    "            td: Input TensorDict containing the environment state\n",
    "            mask: Mask to apply to the attention\n",
    "\n",
    "        Returns:\n",
    "            h: Latent representation of the input\n",
    "            init_h: Initial embedding of the input\n",
    "        \"\"\"\n",
    "        init_h = self.init_embedding(td)\n",
    "        h = None\n",
    "        return h, init_h"
   ]
  }
 ],
 "metadata": {
  "kernelspec": {
   "display_name": "rl4co",
   "language": "python",
   "name": "python3"
  },
  "language_info": {
   "codemirror_mode": {
    "name": "ipython",
    "version": 3
   },
   "file_extension": ".py",
   "mimetype": "text/x-python",
   "name": "python",
   "nbconvert_exporter": "python",
   "pygments_lexer": "ipython3",
   "version": "3.10.12"
  },
  "orig_nbformat": 4
 },
 "nbformat": 4,
 "nbformat_minor": 2
}
