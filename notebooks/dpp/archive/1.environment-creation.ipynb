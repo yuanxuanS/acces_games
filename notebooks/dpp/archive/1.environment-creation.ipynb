{
  "cells": [
    {
      "attachments": {},
      "cell_type": "markdown",
      "metadata": {},
      "source": [
        "# DPP Env"
      ]
    },
    {
      "cell_type": "code",
      "execution_count": 1,
      "metadata": {
        "collapsed": false
      },
      "outputs": [],
      "source": [
        "# %matplotlib inline\n",
        "\n",
        "# # Rich Traceback is a library that makes tracebacks more readable\n",
        "# from rich.traceback import install\n",
        "# install(show_locals=True)"
      ]
    },
    {
      "cell_type": "code",
      "execution_count": 2,
      "metadata": {
        "collapsed": false
      },
      "outputs": [],
      "source": [
        "%load_ext autoreload\n",
        "%autoreload 2\n",
        "\n",
        "import sys\n",
        "sys.path.append(2*\"../\")\n",
        "\n",
        "from collections import defaultdict\n",
        "from typing import Optional\n",
        "\n",
        "import numpy as np\n",
        "import torch\n",
        "import tqdm\n",
        "from tensordict.nn import TensorDictModule\n",
        "from tensordict.tensordict import TensorDict, TensorDictBase\n",
        "from torch import nn\n",
        "\n",
        "from torchrl.data import BoundedTensorSpec, CompositeSpec, UnboundedContinuousTensorSpec, BinaryDiscreteTensorSpec, UnboundedDiscreteTensorSpec\n",
        "from torchrl.envs import (\n",
        "    CatTensors,\n",
        "    EnvBase,\n",
        "    Transform,\n",
        "    TransformedEnv,\n",
        "    UnsqueezeTransform,\n",
        ")\n",
        "from torchrl.envs.transforms.transforms import _apply_to_composite\n",
        "from torchrl.envs.utils import check_env_specs, step_mdp\n",
        "\n",
        "\n",
        "from ncobench.envs.utils import make_composite_from_td, batch_to_scalar, _set_seed"
      ]
    },
    {
      "attachments": {},
      "cell_type": "markdown",
      "metadata": {},
      "source": [
        "### Making the custom environment\n",
        "\n",
        "Environment `_step`: this defines the state update of the TSP problem gived a TensorDict (`td` in the code) of the current state and the action to take:"
      ]
    },
    {
      "cell_type": "code",
      "execution_count": 3,
      "metadata": {},
      "outputs": [],
      "source": [
        "def _step(self, td: TensorDict) -> TensorDict:\n",
        "    current_node = td[\"action\"]\n",
        "    first_node = current_node if batch_to_scalar(td[\"i\"]) == 0 else td[\"first_node\"]\n",
        "\n",
        "    idxs = current_node[...,None] if current_node.ndim == 1 and td[\"action_mask\"].ndim == 2 else current_node\n",
        "\n",
        "    available = td[\"action_mask\"].scatter(\n",
        "        -1, idxs.expand_as(td[\"action_mask\"]), 0\n",
        "    )\n",
        "    \n",
        "    # Set done if i is greater than max_decaps\n",
        "    done = td[\"i\"] >= self.max_decaps\n",
        "    \n",
        "    # Calculate reward (minus length of path, since we want to maximize the reward -> minimize the path length)\n",
        "    # NOTE: reward is calculated outside for now via the get_reward function\n",
        "    # to calculate here need to pass action sequence or save it as state\n",
        "    reward = torch.ones_like(done) * float(\"-inf\")\n",
        "\n",
        "    # The output must be written in a ``\"next\"`` entry\n",
        "    return TensorDict(\n",
        "        {\n",
        "            \"next\": {\n",
        "                \"observation\": td[\"observation\"],\n",
        "                \"probe\": td[\"probe\"],\n",
        "                \"first_node\": first_node,\n",
        "                \"current_node\": current_node,\n",
        "                \"i\": td[\"i\"] + 1,\n",
        "                \"action_mask\": available,\n",
        "                \"reward\": reward,\n",
        "                \"done\": done,\n",
        "            }\n",
        "        },\n",
        "        td.shape,\n",
        "    )"
      ]
    },
    {
      "attachments": {},
      "cell_type": "markdown",
      "metadata": {},
      "source": [
        "### Environment Reset\n",
        "This defines the `_reset` of the TSP. It returns a TensorDict of the initial state:"
      ]
    },
    {
      "cell_type": "code",
      "execution_count": 4,
      "metadata": {
        "collapsed": false
      },
      "outputs": [],
      "source": [
        "def _reset(\n",
        "    self, td: Optional[TensorDict] = None, init_obs=None, batch_size=None\n",
        ") -> TensorDict:\n",
        "    # If no tensordict (or observations tensor) is passed, we generate a single set of hyperparameters\n",
        "    # Otherwise, we assume that the input tensordict contains all the relevant parameters to get started.\n",
        "    if batch_size is None:\n",
        "        batch_size = self.batch_size if init_obs is None else init_obs.shape[:-2]\n",
        "    batch_size = [batch_size] if isinstance(batch_size, int) else batch_size\n",
        "    device = init_obs.device if init_obs is not None else self.device\n",
        "    self.device = device\n",
        "\n",
        "    # We allow loading the initial observation from a dataset for faster loading\n",
        "    if init_obs is None:\n",
        "        init_obs = self.generate_data(batch_size=batch_size)\n",
        "\n",
        "    # Other variables\n",
        "    current_node = torch.zeros((*batch_size, 1), dtype=torch.int64, device=device)\n",
        "    i = torch.zeros((*batch_size, 1), dtype=torch.int64, device=device)\n",
        "\n",
        "    return TensorDict(\n",
        "        {\n",
        "            \"observation\": init_obs[\"observation\"],\n",
        "            \"probe\": init_obs[\"probe\"],\n",
        "            \"first_node\": current_node,\n",
        "            \"current_node\": current_node,\n",
        "            \"i\": i,\n",
        "            \"action_mask\": init_obs[\"action_mask\"],\n",
        "        },\n",
        "        batch_size=batch_size,\n",
        "    )"
      ]
    },
    {
      "attachments": {},
      "cell_type": "markdown",
      "metadata": {},
      "source": [
        "### Environment metadata \n",
        "\n",
        "This defines the input and output domains of the environment - similar to Gym's `spaces`:"
      ]
    },
    {
      "cell_type": "code",
      "execution_count": 5,
      "metadata": {
        "collapsed": false
      },
      "outputs": [],
      "source": [
        "def _make_spec(self):\n",
        "    \"\"\"Make the observation and action specs from the parameters\"\"\"\n",
        "    self.observation_spec = CompositeSpec(\n",
        "        observation=BoundedTensorSpec(\n",
        "            minimum=self.min_loc,\n",
        "            maximum=self.max_loc,\n",
        "            shape=(self.size**2, 2),\n",
        "            dtype=torch.float32,\n",
        "        ),\n",
        "        probe=UnboundedDiscreteTensorSpec(\n",
        "            shape=(1),\n",
        "            dtype=torch.int64,\n",
        "        ),\n",
        "        first_node=UnboundedDiscreteTensorSpec(\n",
        "            shape=(1),\n",
        "            dtype=torch.int64,\n",
        "        ),\n",
        "        current_node=UnboundedDiscreteTensorSpec(\n",
        "            shape=(1),\n",
        "            dtype=torch.int64,\n",
        "        ),\n",
        "        i=UnboundedDiscreteTensorSpec(\n",
        "            shape=(1),\n",
        "            dtype=torch.int64,\n",
        "        ),\n",
        "        action_mask=UnboundedDiscreteTensorSpec(\n",
        "            # shape=(1, self.size**2),\n",
        "            shape=(self.size**2),\n",
        "            dtype=torch.bool\n",
        "        ),\n",
        "        shape=(),\n",
        "    )\n",
        "    self.input_spec = self.observation_spec.clone()\n",
        "    self.action_spec = BoundedTensorSpec(\n",
        "        shape=(1,),\n",
        "        dtype=torch.int64,\n",
        "        minimum=0,\n",
        "        maximum=self.size**2,\n",
        "    )\n",
        "    self.reward_spec = UnboundedContinuousTensorSpec(shape=(1,))\n",
        "    self.done_spec = UnboundedDiscreteTensorSpec(shape=(1,), dtype=torch.bool)"
      ]
    },
    {
      "attachments": {},
      "cell_type": "markdown",
      "metadata": {},
      "source": [
        "## Data Generation"
      ]
    },
    {
      "cell_type": "code",
      "execution_count": 6,
      "metadata": {},
      "outputs": [],
      "source": [
        "def generate_data(self, batch_size):\n",
        "    # Create a list of observations on a grid\n",
        "    # n: number of rows and columns\n",
        "    # num_keepout: number of keepout regions\n",
        "    # return: a list of observations\n",
        "\n",
        "    m = n = self.size\n",
        "    # if int, convert to list and make it a batch for easier generation\n",
        "    batch_size = [batch_size] if isinstance(batch_size, int) else batch_size\n",
        "    batched = len(batch_size) > 0\n",
        "    bs = [1] if not batched else batch_size\n",
        "\n",
        "    # Create a list of observations on a grid\n",
        "    locs = torch.meshgrid(torch.arange(m, device=self.device), torch.arange(n, device=self.device))\n",
        "    locs = torch.stack(locs, dim=-1).reshape(-1, 2)\n",
        "    # normalize the locations by the number of rows and columns\n",
        "    locs = locs / torch.tensor([m, n], dtype=torch.float, device=self.device)\n",
        "    locs = locs[None].expand(*bs, -1, -1)\n",
        "\n",
        "    # Create available mask\n",
        "    available = torch.ones((*bs, m * n), dtype=torch.bool)\n",
        "\n",
        "    # Sample probe location from m*n\n",
        "    probe = torch.randint(m * n, size=(*bs, 1))\n",
        "    available.scatter_(1, probe, False)\n",
        "\n",
        "    # Sample keepout locations from m*n except probe\n",
        "    num_keepout = torch.randint(self.num_keepout_min, self.num_keepout_max, size=(*bs, 1), device=self.device)\n",
        "    keepouts = [torch.randperm(m * n)[:k] for k in num_keepout]\n",
        "    for i, (a, k) in enumerate(zip(available, keepouts)):\n",
        "        available[i] = a.scatter(0, k, False)\n",
        "\n",
        "    # available = available.unsqueeze(-2)\n",
        "\n",
        "    return TensorDict(\n",
        "        {\n",
        "            \"observation\": locs if batched else locs.squeeze(0),\n",
        "            \"probe\": probe if batched else probe.squeeze(0),\n",
        "            \"action_mask\": available if batched else available.squeeze(0),\n",
        "        },\n",
        "        batch_size=batch_size,\n",
        "    )"
      ]
    },
    {
      "attachments": {},
      "cell_type": "markdown",
      "metadata": {},
      "source": [
        "## Reward function\n",
        "\n",
        "Sometimes, we want to make it simpler to get the reward outside. Normally, each step should give a reward; but in our case, reward is $-\\infty$ unless finished The reason is that normally, we would have to collect all the previous locations and actions _inside_ the environment. But since the model already does that at the end, we can simply call the `get_reward` function to get the reward more efficiently.\n"
      ]
    },
    {
      "cell_type": "code",
      "execution_count": 7,
      "metadata": {},
      "outputs": [],
      "source": [
        "def decap_placement(self, pi, probe):\n",
        "    n = m = self.size # columns and rows\n",
        "    num_decap = torch.numel(pi)\n",
        "    z1 = self.raw_pdn\n",
        "    \n",
        "    decap = self.decap.reshape(-1)\n",
        "    z2 = torch.zeros((self.num_freq, num_decap, num_decap), dtype=torch.float32)\n",
        "\n",
        "    qIndx = torch.arange(num_decap)\n",
        "\n",
        "    z2[:, qIndx, qIndx] = torch.abs(decap)[:, None].repeat_interleave(z2[:, qIndx, qIndx].shape[-1], dim=-1)\n",
        "    pIndx = pi.long()\n",
        "\n",
        "    aIndx = torch.arange(len(z1[0]))\n",
        "    aIndx = torch.tensor(list(set(aIndx.tolist()) - set(pIndx.tolist())))\n",
        "\n",
        "    z1aa = z1[:, aIndx, :][:, :, aIndx]\n",
        "    z1ap = z1[:, aIndx, :][:, :, pIndx]\n",
        "    z1pa = z1[:, pIndx, :][:, :, aIndx]\n",
        "    z1pp = z1[:, pIndx, :][:, :, pIndx]\n",
        "    z2qq = z2[:, qIndx, :][:, :, qIndx]\n",
        "\n",
        "    zout = z1aa - torch.matmul(torch.matmul(z1ap, torch.inverse(z1pp + z2qq)), z1pa)\n",
        "\n",
        "    idx = torch.arange(n * m)\n",
        "    mask = torch.zeros(n * m).bool()\n",
        "    mask[pi] = True\n",
        "    mask = mask & (idx < probe)\n",
        "    probe -= mask.sum().item()\n",
        "\n",
        "    zout = zout[:, probe, probe]\n",
        "    return zout\n",
        "\n",
        "def decap_model(self, z_initial, z_final):\n",
        "    impedance_gap = torch.zeros(self.num_freq)\n",
        "\n",
        "    impedance_gap = z_initial - z_final\n",
        "    reward = torch.sum(impedance_gap * 1000000000 / self.freq)\n",
        "\n",
        "    reward = reward / 10\n",
        "    return reward\n",
        "\n",
        "def initial_impedance(self, probe):\n",
        "    zout = self.raw_pdn[:, probe, probe]\n",
        "    return zout\n",
        "\n",
        "def decap_simulator(self, probe, solution, keepout=None):\n",
        "    probe = probe.item()\n",
        "\n",
        "    assert len(solution) == len(torch.unique(solution)), \"An Element of Decap Sequence must be Unique\"\n",
        "\n",
        "    if keepout is not None:\n",
        "        keepout = torch.tensor(keepout)\n",
        "        intersect = torch.tensor(list(set(solution.tolist()) & set(keepout.tolist())))\n",
        "        assert len(intersect) == 0, \"Decap must be not placed at the keepout region\"\n",
        "\n",
        "    z_initial = self.initial_impedance(probe)\n",
        "    z_initial = torch.abs(z_initial)\n",
        "    z_final = self.decap_placement(solution, probe)\n",
        "    z_final = torch.abs(z_final)\n",
        "    reward = self.decap_model(z_initial, z_final)\n",
        "\n",
        "    return reward\n",
        "\n",
        "def get_reward(self, td, actions):\n",
        "\n",
        "    # We do the operation in a batch\n",
        "    if len(td.batch_size) == 0:\n",
        "        td = td.unsqueeze(0)\n",
        "        actions = actions.unsqueeze(0)\n",
        "\n",
        "    probes = td['probe']\n",
        "    reward = torch.stack([self.decap_simulator(p, a) for p, a in zip(probes, actions)])\n",
        "    \n",
        "    return reward"
      ]
    },
    {
      "attachments": {},
      "cell_type": "markdown",
      "metadata": {},
      "source": [
        "### Environment creation\n",
        "\n",
        "Here we use `EnvBase` to create the environment similarly to gym:"
      ]
    },
    {
      "cell_type": "code",
      "execution_count": 8,
      "metadata": {
        "collapsed": false
      },
      "outputs": [],
      "source": [
        "class DPPEnv(EnvBase):\n",
        "    batch_locked = False\n",
        "    name = \"dpp\"\n",
        "\n",
        "    def __init__(\n",
        "        self,\n",
        "        size: int = 10, # size of the grid (size x size)\n",
        "        min_loc: float = 0,\n",
        "        max_loc: float = 1,\n",
        "        num_freq=201,\n",
        "        num_keepout_min: int = 1,\n",
        "        num_keepout_max: int = 50,\n",
        "        max_decaps: int = 20,\n",
        "        chip_fpath=\"data/10x10_pkg_chip.npy\", \n",
        "        decap_fpath=\"data/01nF_decap.npy\", \n",
        "        freq_fpath=\"data/freq_201.npy\",\n",
        "        td_params: TensorDict = None,\n",
        "        seed: int = None,\n",
        "        device: str = \"cpu\",\n",
        "    ):\n",
        "        self.size = size\n",
        "        self.min_loc = min_loc\n",
        "        self.max_loc = max_loc\n",
        "        self.num_freq = num_freq\n",
        "        self.num_keepout_min = num_keepout_min\n",
        "        self.num_keepout_max = num_keepout_max\n",
        "        self.max_decaps = max_decaps\n",
        "\n",
        "        assert num_keepout_min <= num_keepout_max, \"num_keepout_min must be <= num_keepout_max\"\n",
        "        assert num_keepout_max <= size * size, \"num_keepout_max must be <= size * size (total number of locations)\"\n",
        "\n",
        "        with open(freq_fpath, \"rb\") as f:\n",
        "            self.freq = torch.from_numpy(np.load(f))\n",
        "        \n",
        "        with open(chip_fpath, \"rb\") as f:\n",
        "            self.raw_pdn = torch.from_numpy(np.load(f))\n",
        "\n",
        "        with open(decap_fpath, \"rb\") as f:\n",
        "            self.decap = torch.from_numpy(np.load(f)).to(torch.complex64)\n",
        "\n",
        "        super().__init__(device=device, batch_size=[])\n",
        "        # self._make_spec(td_params)\n",
        "        self._make_spec()\n",
        "        if seed is None:\n",
        "            seed = torch.empty((), dtype=torch.int64).random_().item()\n",
        "        self.set_seed(seed)\n",
        "\n",
        "    # Helpers: _make_step and gen_params\n",
        "    # gen_params = gen_params # we don't use it for this case. See notebook 0\n",
        "    _make_spec = _make_spec\n",
        "\n",
        "    # Mandatory methods: _step, _reset and _set_seed\n",
        "    _reset = _reset\n",
        "    _step = _step\n",
        "    _set_seed = _set_seed\n",
        "\n",
        "    # Get reward\n",
        "    get_reward = get_reward\n",
        "\n",
        "    # Model\n",
        "    initial_impedance = initial_impedance\n",
        "    decap_placement = decap_placement\n",
        "    decap_model = decap_model\n",
        "    decap_simulator = decap_simulator\n",
        "    generate_data = generate_data"
      ]
    },
    {
      "attachments": {},
      "cell_type": "markdown",
      "metadata": {},
      "source": [
        "### Testing the environment"
      ]
    },
    {
      "cell_type": "code",
      "execution_count": 9,
      "metadata": {
        "collapsed": false
      },
      "outputs": [
        {
          "name": "stdout",
          "output_type": "stream",
          "text": [
            "check_env_specs succeeded!\n"
          ]
        },
        {
          "name": "stderr",
          "output_type": "stream",
          "text": [
            "/home/botu/Dev/ncobench/env/lib/python3.10/site-packages/torch/functional.py:504: UserWarning: torch.meshgrid: in an upcoming release, it will be required to pass the indexing argument. (Triggered internally at ../aten/src/ATen/native/TensorShape.cpp:3483.)\n",
            "  return _VF.meshgrid(tensors, **kwargs)  # type: ignore[attr-defined]\n"
          ]
        }
      ],
      "source": [
        "env = DPPEnv(size=10)\n",
        "check_env_specs(env)"
      ]
    },
    {
      "cell_type": "code",
      "execution_count": 10,
      "metadata": {},
      "outputs": [
        {
          "name": "stdout",
          "output_type": "stream",
          "text": [
            "torch.Size([2])\n",
            "torch.Size([2])\n",
            "torch.Size([2])\n"
          ]
        }
      ],
      "source": [
        "batch_size = 2\n",
        "td = env.reset(batch_size=batch_size)\n",
        "for i in range(3):\n",
        "    td.set(\"action\", torch.tensor([i]).repeat(batch_size))\n",
        "    print(td['action'].shape)\n",
        "    td = env.step(td)['next']\n",
        "    # print(\"visited2\", td['visited'])\n",
        "    td.set(\"action\", torch.tensor([i]).repeat(batch_size))\n",
        "    td = env.step(td)['next']"
      ]
    },
    {
      "attachments": {},
      "cell_type": "markdown",
      "metadata": {},
      "source": [
        "### Plotting"
      ]
    },
    {
      "cell_type": "code",
      "execution_count": 11,
      "metadata": {},
      "outputs": [
        {
          "name": "stdout",
          "output_type": "stream",
          "text": [
            "1240536731811049673\n",
            "torch.Size([3, 21, 1])\n"
          ]
        }
      ],
      "source": [
        "seed = torch.empty((), dtype=torch.int64).random_().item()\n",
        "print(seed)\n",
        "env = DPPEnv(size=10, seed=seed)\n",
        "\n",
        "# Make a rollout\n",
        "rollout = env.rollout(\n",
        "    100,\n",
        "    auto_reset=False,  # we're executing the reset out of the ``rollout`` call\n",
        "    tensordict=env.reset(batch_size=[3]),\n",
        "    break_when_any_done=True\n",
        ")\n",
        "\n",
        "# Get the reward afterwards\n",
        "# observations = rollout['observation'][(rollout_['done'] == 1).squeeze()]\n",
        "# actions = rollout['action'][(rollout_['done'][:, -1] == 1).squeeze()].squeeze()\n",
        "# rewards = env.get_reward(observations, actions)\n",
        "# rollout_finished['reward'][:, -1] = rewards\n",
        "print(rollout['done'].shape)"
      ]
    },
    {
      "cell_type": "code",
      "execution_count": 14,
      "metadata": {},
      "outputs": [
        {
          "data": {
            "image/png": "[encoded data removed]",
            "text/plain": [
              "<Figure size 600x600 with 1 Axes>"
            ]
          },
          "metadata": {},
          "output_type": "display_data"
        }
      ],
      "source": [
        "import matplotlib.pyplot as plt\n",
        "\n",
        "def plot_grid(self, decaps, probe, action_mask, ax=None, legend=True):\n",
        "    \"\"\"\n",
        "    Plot a grid of 1x1 squares representing the environment.\n",
        "    The keepout regions are the action_mask - decaps - probe\n",
        "    \"\"\"\n",
        "    settings = {\n",
        "        0: {\"color\": \"white\", \"label\": \"available\"},\n",
        "        1: {\"color\": \"grey\", \"label\": \"keepout\"},\n",
        "        2: {\"color\": \"tab:red\", \"label\": \"probe\"},\n",
        "        3: {\"color\": \"tab:blue\", \"label\": \"decap\"},\n",
        "    }\n",
        "\n",
        "    nonzero_indices = torch.nonzero(~action_mask, as_tuple=True)[0]\n",
        "    keepout = torch.cat([nonzero_indices, probe, decaps.squeeze(-1)])\n",
        "    unique_elements, counts = torch.unique(keepout, return_counts=True)\n",
        "    keepout = unique_elements[counts == 1]\n",
        "\n",
        "    if ax is None:\n",
        "        fig, ax = plt.subplots(1, 1, figsize=(6, 6))\n",
        "\n",
        "    grid = np.meshgrid(np.arange(0, self.size), np.arange(0, self.size))\n",
        "    grid = np.stack(grid, axis=-1)\n",
        "\n",
        "    # Add new dimension to grid filled up with 0s\n",
        "    grid = np.concatenate([grid, np.zeros((self.size, self.size, 1))], axis=-1)\n",
        "\n",
        "    # Add keepout = 1\n",
        "    grid[keepout // self.size, keepout % self.size, 2] = 1\n",
        "    # Add probe = 2\n",
        "    grid[probe // self.size, probe % self.size, 2] = 2\n",
        "    # Add decaps = 3\n",
        "    grid[decaps // self.size, decaps % self.size, 2] = 3\n",
        "\n",
        "\n",
        "    xdim, ydim = grid.shape[0], grid.shape[1]\n",
        "    ax.imshow(np.zeros((xdim, ydim)), cmap=\"gray\")\n",
        "\n",
        "    ax.set_xlim(0, xdim)\n",
        "    ax.set_ylim(0, ydim)\n",
        "\n",
        "    for i in range(xdim):\n",
        "        for j in range(ydim):\n",
        "            color = settings[grid[i, j, 2]]['color']\n",
        "            x, y = grid[i, j, 0], grid[i, j, 1]\n",
        "            ax.add_patch(plt.Rectangle((x, y), 1, 1, color=color, linestyle=\"-\"))\n",
        "\n",
        "    # Add grid with 1x1 squares\n",
        "    ax.grid(\n",
        "        which=\"major\", axis=\"both\", linestyle=\"-\", color=\"k\", linewidth=1, alpha=0.5\n",
        "    )\n",
        "    # set 10 ticks\n",
        "    ax.set_xticks(np.arange(0, xdim, 1))\n",
        "    ax.set_yticks(np.arange(0, ydim, 1))\n",
        "\n",
        "    # Invert y axis\n",
        "    ax.invert_yaxis()\n",
        "\n",
        "    # Add legend\n",
        "    if legend:\n",
        "        num_unique = 4\n",
        "        handles = [\n",
        "            plt.Rectangle((0, 0), 1, 1, color=settings[i]['color']) for i in range(num_unique)\n",
        "        ]\n",
        "        ax.legend(\n",
        "            handles,\n",
        "            [settings[i]['label'] for i in range(num_unique)],\n",
        "            ncol=num_unique,\n",
        "            loc=\"upper center\",\n",
        "            bbox_to_anchor=(0.5, 1.1),\n",
        "        )\n",
        "\n",
        "\n",
        "td = rollout[-1]\n",
        "\n",
        "plot_grid(env, td[\"action\"].squeeze(), td[\"probe\"].squeeze(), td[\"action_mask\"][-1])\n"
      ]
    }
  ],
  "metadata": {
    "kernelspec": {
      "display_name": "env",
      "language": "python",
      "name": "python3"
    },
    "language_info": {
      "codemirror_mode": {
        "name": "ipython",
        "version": 3
      },
      "file_extension": ".py",
      "mimetype": "text/x-python",
      "name": "python",
      "nbconvert_exporter": "python",
      "pygments_lexer": "ipython3",
      "version": "3.10.6"
    },
    "vscode": {
      "interpreter": {
        "hash": "fbc5b198709957cb10390a2819ca930d3578f48e335d60395e01c5208a66cb86"
      }
    }
  },
  "nbformat": 4,
  "nbformat_minor": 0
}
