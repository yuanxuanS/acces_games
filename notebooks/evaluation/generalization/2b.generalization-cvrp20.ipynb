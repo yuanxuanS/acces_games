{
 "cells": [
  {
   "attachments": {},
   "cell_type": "markdown",
   "metadata": {},
   "source": [
    "## Generalization "
   ]
  },
  {
   "cell_type": "code",
   "execution_count": 1,
   "metadata": {},
   "outputs": [
    {
     "name": "stderr",
     "output_type": "stream",
     "text": [
      "/home/botu/botu/Dev/rl4co/env/lib/python3.10/site-packages/torchrl/__init__.py:26: UserWarning: failed to set start method to spawn, and current start method for mp is fork.\n",
      "  warn(\n"
     ]
    }
   ],
   "source": [
    "%load_ext autoreload\n",
    "%autoreload 2\n",
    "\n",
    "import sys; sys.path.append(3*'../')\n",
    "\n",
    "import os\n",
    "import glob\n",
    "from pathlib import Path\n",
    "from omegaconf import DictConfig\n",
    "import yaml\n",
    "import pickle\n",
    "from collections import defaultdict\n",
    "\n",
    "\n",
    "import torch\n",
    "import lightning as L\n",
    "\n",
    "from rl4co.envs import TSPEnv, CVRPEnv\n",
    "from rl4co.tasks.rl4co import RL4COLitModule\n",
    "from rl4co.utils.lightning import load_model_from_checkpoint, clean_hydra_config\n",
    "from rl4co.tasks.eval import evaluate_policy\n"
   ]
  },
  {
   "attachments": {},
   "cell_type": "markdown",
   "metadata": {},
   "source": [
    "## Load solver solutions"
   ]
  },
  {
   "cell_type": "code",
   "execution_count": 2,
   "metadata": {},
   "outputs": [],
   "source": [
    "device = torch.device(\"cuda:7\")\n",
    "\n",
    "exp_name = 'cvrp20'\n",
    "env = CVRPEnv()\n",
    "data_dir = Path(\"../data/vrp\")\n"
   ]
  },
  {
   "cell_type": "code",
   "execution_count": 3,
   "metadata": {},
   "outputs": [
    {
     "name": "stdout",
     "output_type": "stream",
     "text": [
      "Average cost: 10.37\n"
     ]
    }
   ],
   "source": [
    "solver_path = Path(\"../solver/vrp\")\n",
    "\n",
    "# HGS\n",
    "def load_solver_file(num_nodes):\n",
    "    dir_ = solver_path / f\"{num_nodes}_test_seed_1234\"\n",
    "\n",
    "    solver_files = sorted(glob.glob(str(dir_ / \"*.txt\")))\n",
    "    # take the interger of file number and order by it\n",
    "    solver_files = sorted(solver_files, key=lambda x: int(x.split(\"/\")[-1].split(\".\")[0]))\n",
    "    costs = []\n",
    "    for solver_file in solver_files:\n",
    "        with open(solver_file, \"r\") as f:\n",
    "            # get lines as dict\n",
    "            lines = f.readlines()\n",
    "            lines = [line.strip().split() for line in lines]\n",
    "            lines = {line[0]: line[1:] for line in lines}\n",
    "            costs.append(float(lines['obj_val:'][0]))\n",
    "    print(\"Average cost: {:.2f}\".format(sum(costs)/len(costs)))\n",
    "    return costs\n",
    "\n",
    "costs = load_solver_file(50)"
   ]
  },
  {
   "attachments": {},
   "cell_type": "markdown",
   "metadata": {},
   "source": [
    "## Loading datasets"
   ]
  },
  {
   "cell_type": "code",
   "execution_count": 4,
   "metadata": {},
   "outputs": [
    {
     "name": "stdout",
     "output_type": "stream",
     "text": [
      "Average cost: 4.58\n",
      "Average cost: 6.13\n",
      "Average cost: 10.37\n",
      "Average cost: 13.27\n",
      "Average cost: 15.56\n",
      "Average cost: 17.61\n",
      "Average cost: 19.14\n",
      "Average cost: 21.83\n",
      "Average cost: 36.69\n",
      "Average cost: 49.85\n"
     ]
    }
   ],
   "source": [
    "# Get all files that contain \"generalization*.npz\" under data/tsp\n",
    "files = glob.glob(str(data_dir / \"*generalization*.npz\"), recursive=True)\n",
    "# files =  sorted(files)\n",
    "# print(files)\n",
    "\n",
    "num_nodes = [10, 20, 50, 75, 100, 125, 150, 200, 500, 1000]\n",
    "\n",
    "datasets = []\n",
    "for num_nodes_ in num_nodes:\n",
    "    for file in files:\n",
    "        if \"vrp{}_test_generalization\".format(num_nodes_) in file:\n",
    "            dataset = env.dataset(filename=file, phase='test')\n",
    "            solver_costs = load_solver_file(num_nodes_)\n",
    "            datasets.append({'num_nodes': num_nodes_, 'file': file, \n",
    "                             'dataset': dataset, 'solver_costs': solver_costs})"
   ]
  },
  {
   "attachments": {},
   "cell_type": "markdown",
   "metadata": {},
   "source": [
    "## Loading model from checkpoint"
   ]
  },
  {
   "cell_type": "code",
   "execution_count": 5,
   "metadata": {},
   "outputs": [],
   "source": [
    "def load_policy(exp_name, epoch, model_name):\n",
    "\n",
    "    main_dir = Path('../../../saved_checkpoints/')\n",
    "\n",
    "    main_dir = main_dir / exp_name / model_name\n",
    "\n",
    "    cfg_path = main_dir / 'config.yaml'\n",
    "    ckpt_path = main_dir / 'epoch_{}.ckpt'.format(epoch)\n",
    "\n",
    "    lit_module = load_model_from_checkpoint(cfg_path, ckpt_path, phase='test')\n",
    "\n",
    "    policy = lit_module.model.policy.to(device)\n",
    "    policy.eval()\n",
    "    return policy"
   ]
  },
  {
   "cell_type": "code",
   "execution_count": 6,
   "metadata": {},
   "outputs": [],
   "source": [
    "def optimality_gap(bk_sol, opt_sol):\n",
    "    return ((bk_sol - opt_sol) / bk_sol).mean().item() * 100"
   ]
  },
  {
   "cell_type": "code",
   "execution_count": 7,
   "metadata": {},
   "outputs": [],
   "source": [
    "def get_generalization_stats(policy):\n",
    "    stats = defaultdict(list)\n",
    "\n",
    "    for dataset in datasets:\n",
    "        print(\"====================\")\n",
    "        print(\"Evaluating dataset: {}\".format(dataset['file']))\n",
    "        stats['num_nodes'].append(dataset['num_nodes'])\n",
    "        stats['file'].append(dataset['file'])\n",
    "        out_dict = evaluate_policy(env, policy, dataset['dataset'], method='greedy', max_batch_size=128)\n",
    "\n",
    "        model_costs = -out_dict['rewards']\n",
    "        solver_costs = torch.Tensor(dataset['solver_costs'][:1000]) # by default, we only evaluate on 1000 samples\n",
    "\n",
    "        stats['model_cost_mean'].append(model_costs.mean())\n",
    "        stats['solver_cost_mean'].append(solver_costs.mean())\n",
    "        gap = optimality_gap(model_costs, solver_costs)\n",
    "        stats['optimality_gap'].append(gap)\n",
    "\n",
    "        print(\"Optimality gap: {:.2f}%\".format(gap))\n",
    "\n",
    "    return stats"
   ]
  },
  {
   "cell_type": "code",
   "execution_count": 8,
   "metadata": {},
   "outputs": [],
   "source": [
    "# # GNN\n",
    "# model_name = \"gnn\"\n",
    "# epoch = \"099\"\n",
    "# model = load_policy(exp_name, epoch, model_name)\n",
    "# am_critic_stats = get_generalization_stats(model)"
   ]
  },
  {
   "cell_type": "code",
   "execution_count": 9,
   "metadata": {},
   "outputs": [
    {
     "name": "stderr",
     "output_type": "stream",
     "text": [
      "Unused kwargs: {'params': {'total': 1353345, 'trainable': 1353345, 'non_trainable': 0}}\n"
     ]
    },
    {
     "name": "stdout",
     "output_type": "stream",
     "text": [
      "====================\n",
      "Evaluating dataset: ../data/vrp/vrp10_test_generalization_seed1234.npz\n",
      "Effective batch size: 128 (ratio: 1)\n",
      "Using automatic batch size: 128\n"
     ]
    },
    {
     "data": {
      "application/vnd.jupyter.widget-view+json": {
       "model_id": "033892e666834620b2f6051cc9f761b2",
       "version_major": 2,
       "version_minor": 0
      },
      "text/plain": [
       "Running greedy:   0%|          | 0/8 [00:00<?, ?it/s]"
      ]
     },
     "metadata": {},
     "output_type": "display_data"
    },
    {
     "name": "stdout",
     "output_type": "stream",
     "text": [
      "Mean reward for greedy: -4.7975\n",
      "Time: 0.2805s\n",
      "Optimality gap: 2.00%\n",
      "====================\n",
      "Evaluating dataset: ../data/vrp/vrp20_test_generalization_seed1234.npz\n",
      "Effective batch size: 128 (ratio: 1)\n",
      "Using automatic batch size: 128\n"
     ]
    },
    {
     "data": {
      "application/vnd.jupyter.widget-view+json": {
       "model_id": "bde6f0cf25744ce696f11a2c2e985c3b",
       "version_major": 2,
       "version_minor": 0
      },
      "text/plain": [
       "Running greedy:   0%|          | 0/8 [00:00<?, ?it/s]"
      ]
     },
     "metadata": {},
     "output_type": "display_data"
    },
    {
     "name": "stdout",
     "output_type": "stream",
     "text": [
      "Mean reward for greedy: -6.4826\n",
      "Time: 0.3065s\n",
      "Optimality gap: 3.99%\n",
      "====================\n",
      "Evaluating dataset: ../data/vrp/vrp50_test_generalization_seed1234.npz\n",
      "Effective batch size: 128 (ratio: 1)\n",
      "Using automatic batch size: 128\n"
     ]
    },
    {
     "data": {
      "application/vnd.jupyter.widget-view+json": {
       "model_id": "eb5f56b74ea04b48947ee7bdf570199c",
       "version_major": 2,
       "version_minor": 0
      },
      "text/plain": [
       "Running greedy:   0%|          | 0/8 [00:00<?, ?it/s]"
      ]
     },
     "metadata": {},
     "output_type": "display_data"
    },
    {
     "name": "stdout",
     "output_type": "stream",
     "text": [
      "Mean reward for greedy: -11.4675\n",
      "Time: 0.6696s\n",
      "Optimality gap: 8.56%\n",
      "====================\n",
      "Evaluating dataset: ../data/vrp/vrp75_test_generalization_seed1234.npz\n",
      "Effective batch size: 128 (ratio: 1)\n",
      "Using automatic batch size: 128\n"
     ]
    },
    {
     "data": {
      "application/vnd.jupyter.widget-view+json": {
       "model_id": "9e39dab0d915467b8d14d4e48638484f",
       "version_major": 2,
       "version_minor": 0
      },
      "text/plain": [
       "Running greedy:   0%|          | 0/8 [00:00<?, ?it/s]"
      ]
     },
     "metadata": {},
     "output_type": "display_data"
    },
    {
     "name": "stdout",
     "output_type": "stream",
     "text": [
      "Mean reward for greedy: -15.1703\n",
      "Time: 0.9833s\n",
      "Optimality gap: 12.35%\n",
      "====================\n",
      "Evaluating dataset: ../data/vrp/vrp100_test_generalization_seed1234.npz\n",
      "Effective batch size: 128 (ratio: 1)\n",
      "Using automatic batch size: 128\n"
     ]
    },
    {
     "data": {
      "application/vnd.jupyter.widget-view+json": {
       "model_id": "46453a930bdb43b680d1cc939370de34",
       "version_major": 2,
       "version_minor": 0
      },
      "text/plain": [
       "Running greedy:   0%|          | 0/8 [00:00<?, ?it/s]"
      ]
     },
     "metadata": {},
     "output_type": "display_data"
    },
    {
     "name": "stdout",
     "output_type": "stream",
     "text": [
      "Mean reward for greedy: -18.4181\n",
      "Time: 1.2799s\n",
      "Optimality gap: 15.24%\n",
      "====================\n",
      "Evaluating dataset: ../data/vrp/vrp125_test_generalization_seed1234.npz\n",
      "Effective batch size: 128 (ratio: 1)\n",
      "Using automatic batch size: 128\n"
     ]
    },
    {
     "data": {
      "application/vnd.jupyter.widget-view+json": {
       "model_id": "bfbc0c5ec44d411bb025edc236af7bf5",
       "version_major": 2,
       "version_minor": 0
      },
      "text/plain": [
       "Running greedy:   0%|          | 0/8 [00:00<?, ?it/s]"
      ]
     },
     "metadata": {},
     "output_type": "display_data"
    },
    {
     "name": "stdout",
     "output_type": "stream",
     "text": [
      "Mean reward for greedy: -21.2752\n",
      "Time: 1.5840s\n",
      "Optimality gap: 17.17%\n",
      "====================\n",
      "Evaluating dataset: ../data/vrp/vrp150_test_generalization_seed1234.npz\n",
      "Effective batch size: 128 (ratio: 1)\n",
      "Using automatic batch size: 128\n"
     ]
    },
    {
     "data": {
      "application/vnd.jupyter.widget-view+json": {
       "model_id": "78592d49fad04c13a82b628639ef261e",
       "version_major": 2,
       "version_minor": 0
      },
      "text/plain": [
       "Running greedy:   0%|          | 0/8 [00:00<?, ?it/s]"
      ]
     },
     "metadata": {},
     "output_type": "display_data"
    },
    {
     "name": "stdout",
     "output_type": "stream",
     "text": [
      "Mean reward for greedy: -23.9108\n",
      "Time: 1.8786s\n",
      "Optimality gap: 19.67%\n",
      "====================\n",
      "Evaluating dataset: ../data/vrp/vrp200_test_generalization_seed1234.npz\n",
      "Effective batch size: 128 (ratio: 1)\n",
      "Using automatic batch size: 128\n"
     ]
    },
    {
     "data": {
      "application/vnd.jupyter.widget-view+json": {
       "model_id": "9ec1e90e536c4efa8b2f49fa59a2ad4f",
       "version_major": 2,
       "version_minor": 0
      },
      "text/plain": [
       "Running greedy:   0%|          | 0/8 [00:00<?, ?it/s]"
      ]
     },
     "metadata": {},
     "output_type": "display_data"
    },
    {
     "name": "stdout",
     "output_type": "stream",
     "text": [
      "Mean reward for greedy: -28.5936\n",
      "Time: 2.4991s\n",
      "Optimality gap: 23.33%\n",
      "====================\n",
      "Evaluating dataset: ../data/vrp/vrp500_test_generalization_seed1234.npz\n",
      "Effective batch size: 128 (ratio: 1)\n",
      "Using automatic batch size: 128\n"
     ]
    },
    {
     "data": {
      "application/vnd.jupyter.widget-view+json": {
       "model_id": "1a23cee8f3e848bbbd2257641d1a3bf8",
       "version_major": 2,
       "version_minor": 0
      },
      "text/plain": [
       "Running greedy:   0%|          | 0/8 [00:00<?, ?it/s]"
      ]
     },
     "metadata": {},
     "output_type": "display_data"
    },
    {
     "name": "stdout",
     "output_type": "stream",
     "text": [
      "Mean reward for greedy: -56.1573\n",
      "Time: 8.0399s\n",
      "Optimality gap: 34.23%\n",
      "====================\n",
      "Evaluating dataset: ../data/vrp/vrp1000_test_generalization_seed1234.npz\n",
      "Effective batch size: 128 (ratio: 1)\n",
      "Using automatic batch size: 128\n"
     ]
    },
    {
     "data": {
      "application/vnd.jupyter.widget-view+json": {
       "model_id": "a125029ef2454fb9b2145f98eb62e180",
       "version_major": 2,
       "version_minor": 0
      },
      "text/plain": [
       "Running greedy:   0%|          | 0/8 [00:00<?, ?it/s]"
      ]
     },
     "metadata": {},
     "output_type": "display_data"
    },
    {
     "name": "stdout",
     "output_type": "stream",
     "text": [
      "Mean reward for greedy: -106.6956\n",
      "Time: 22.4486s\n",
      "Optimality gap: 51.82%\n"
     ]
    }
   ],
   "source": [
    "# AM Critic\n",
    "model_name = f\"am-critic-{exp_name}\"\n",
    "epoch = \"099\"\n",
    "model = load_policy(exp_name, epoch, model_name)\n",
    "am_critic_stats = get_generalization_stats(model)"
   ]
  },
  {
   "cell_type": "code",
   "execution_count": 10,
   "metadata": {},
   "outputs": [
    {
     "name": "stderr",
     "output_type": "stream",
     "text": [
      "Unused kwargs: {'params': {'total': 692608, 'trainable': 692608, 'non_trainable': 0}}\n"
     ]
    },
    {
     "name": "stdout",
     "output_type": "stream",
     "text": [
      "====================\n",
      "Evaluating dataset: ../data/vrp/vrp10_test_generalization_seed1234.npz\n",
      "Effective batch size: 128 (ratio: 1)\n",
      "Using automatic batch size: 128\n"
     ]
    },
    {
     "data": {
      "application/vnd.jupyter.widget-view+json": {
       "model_id": "7b26abeaf9734ac997d2be9b69c212cb",
       "version_major": 2,
       "version_minor": 0
      },
      "text/plain": [
       "Running greedy:   0%|          | 0/8 [00:00<?, ?it/s]"
      ]
     },
     "metadata": {},
     "output_type": "display_data"
    },
    {
     "name": "stdout",
     "output_type": "stream",
     "text": [
      "Mean reward for greedy: -4.8000\n",
      "Time: 0.1916s\n",
      "Optimality gap: 2.16%\n",
      "====================\n",
      "Evaluating dataset: ../data/vrp/vrp20_test_generalization_seed1234.npz\n",
      "Effective batch size: 128 (ratio: 1)\n",
      "Using automatic batch size: 128\n"
     ]
    },
    {
     "data": {
      "application/vnd.jupyter.widget-view+json": {
       "model_id": "f3aecdf66c92428ab1717ad6b5596e21",
       "version_major": 2,
       "version_minor": 0
      },
      "text/plain": [
       "Running greedy:   0%|          | 0/8 [00:00<?, ?it/s]"
      ]
     },
     "metadata": {},
     "output_type": "display_data"
    },
    {
     "name": "stdout",
     "output_type": "stream",
     "text": [
      "Mean reward for greedy: -6.4124\n",
      "Time: 0.3038s\n",
      "Optimality gap: 2.94%\n",
      "====================\n",
      "Evaluating dataset: ../data/vrp/vrp50_test_generalization_seed1234.npz\n",
      "Effective batch size: 128 (ratio: 1)\n",
      "Using automatic batch size: 128\n"
     ]
    },
    {
     "data": {
      "application/vnd.jupyter.widget-view+json": {
       "model_id": "f492e76fe90a4786a06ccbbee1f08114",
       "version_major": 2,
       "version_minor": 0
      },
      "text/plain": [
       "Running greedy:   0%|          | 0/8 [00:00<?, ?it/s]"
      ]
     },
     "metadata": {},
     "output_type": "display_data"
    },
    {
     "name": "stdout",
     "output_type": "stream",
     "text": [
      "Mean reward for greedy: -11.4958\n",
      "Time: 0.6657s\n",
      "Optimality gap: 8.75%\n",
      "====================\n",
      "Evaluating dataset: ../data/vrp/vrp75_test_generalization_seed1234.npz\n",
      "Effective batch size: 128 (ratio: 1)\n",
      "Using automatic batch size: 128\n"
     ]
    },
    {
     "data": {
      "application/vnd.jupyter.widget-view+json": {
       "model_id": "b2ddabb6471b4b24b89fe844e38670a6",
       "version_major": 2,
       "version_minor": 0
      },
      "text/plain": [
       "Running greedy:   0%|          | 0/8 [00:00<?, ?it/s]"
      ]
     },
     "metadata": {},
     "output_type": "display_data"
    },
    {
     "name": "stdout",
     "output_type": "stream",
     "text": [
      "Mean reward for greedy: -15.2308\n",
      "Time: 0.9749s\n",
      "Optimality gap: 12.68%\n",
      "====================\n",
      "Evaluating dataset: ../data/vrp/vrp100_test_generalization_seed1234.npz\n",
      "Effective batch size: 128 (ratio: 1)\n",
      "Using automatic batch size: 128\n"
     ]
    },
    {
     "data": {
      "application/vnd.jupyter.widget-view+json": {
       "model_id": "146e6d44ebd64f8ab80ac675932ec1ab",
       "version_major": 2,
       "version_minor": 0
      },
      "text/plain": [
       "Running greedy:   0%|          | 0/8 [00:00<?, ?it/s]"
      ]
     },
     "metadata": {},
     "output_type": "display_data"
    },
    {
     "name": "stdout",
     "output_type": "stream",
     "text": [
      "Mean reward for greedy: -18.4224\n",
      "Time: 1.2768s\n",
      "Optimality gap: 15.23%\n",
      "====================\n",
      "Evaluating dataset: ../data/vrp/vrp125_test_generalization_seed1234.npz\n",
      "Effective batch size: 128 (ratio: 1)\n",
      "Using automatic batch size: 128\n"
     ]
    },
    {
     "data": {
      "application/vnd.jupyter.widget-view+json": {
       "model_id": "a051715ab34e4c798966454bde9c1a18",
       "version_major": 2,
       "version_minor": 0
      },
      "text/plain": [
       "Running greedy:   0%|          | 0/8 [00:00<?, ?it/s]"
      ]
     },
     "metadata": {},
     "output_type": "display_data"
    },
    {
     "name": "stdout",
     "output_type": "stream",
     "text": [
      "Mean reward for greedy: -21.2684\n",
      "Time: 1.5686s\n",
      "Optimality gap: 17.13%\n",
      "====================\n",
      "Evaluating dataset: ../data/vrp/vrp150_test_generalization_seed1234.npz\n",
      "Effective batch size: 128 (ratio: 1)\n",
      "Using automatic batch size: 128\n"
     ]
    },
    {
     "data": {
      "application/vnd.jupyter.widget-view+json": {
       "model_id": "2af76a16b4f646bab2c77d85bc877e50",
       "version_major": 2,
       "version_minor": 0
      },
      "text/plain": [
       "Running greedy:   0%|          | 0/8 [00:00<?, ?it/s]"
      ]
     },
     "metadata": {},
     "output_type": "display_data"
    },
    {
     "name": "stdout",
     "output_type": "stream",
     "text": [
      "Mean reward for greedy: -23.9284\n",
      "Time: 1.8797s\n",
      "Optimality gap: 19.71%\n",
      "====================\n",
      "Evaluating dataset: ../data/vrp/vrp200_test_generalization_seed1234.npz\n",
      "Effective batch size: 128 (ratio: 1)\n",
      "Using automatic batch size: 128\n"
     ]
    },
    {
     "data": {
      "application/vnd.jupyter.widget-view+json": {
       "model_id": "e2f7362e1a9d4fc0a4e93b419ed77f86",
       "version_major": 2,
       "version_minor": 0
      },
      "text/plain": [
       "Running greedy:   0%|          | 0/8 [00:00<?, ?it/s]"
      ]
     },
     "metadata": {},
     "output_type": "display_data"
    },
    {
     "name": "stdout",
     "output_type": "stream",
     "text": [
      "Mean reward for greedy: -28.7456\n",
      "Time: 2.4959s\n",
      "Optimality gap: 23.70%\n",
      "====================\n",
      "Evaluating dataset: ../data/vrp/vrp500_test_generalization_seed1234.npz\n",
      "Effective batch size: 128 (ratio: 1)\n",
      "Using automatic batch size: 128\n"
     ]
    },
    {
     "data": {
      "application/vnd.jupyter.widget-view+json": {
       "model_id": "32b99e37b94d4557a1e86e314ad743cf",
       "version_major": 2,
       "version_minor": 0
      },
      "text/plain": [
       "Running greedy:   0%|          | 0/8 [00:00<?, ?it/s]"
      ]
     },
     "metadata": {},
     "output_type": "display_data"
    },
    {
     "name": "stdout",
     "output_type": "stream",
     "text": [
      "Mean reward for greedy: -58.6597\n",
      "Time: 7.8224s\n",
      "Optimality gap: 36.75%\n",
      "====================\n",
      "Evaluating dataset: ../data/vrp/vrp1000_test_generalization_seed1234.npz\n",
      "Effective batch size: 128 (ratio: 1)\n",
      "Using automatic batch size: 128\n"
     ]
    },
    {
     "data": {
      "application/vnd.jupyter.widget-view+json": {
       "model_id": "7664843a89994c99a85a962cec5739cd",
       "version_major": 2,
       "version_minor": 0
      },
      "text/plain": [
       "Running greedy:   0%|          | 0/8 [00:00<?, ?it/s]"
      ]
     },
     "metadata": {},
     "output_type": "display_data"
    },
    {
     "name": "stdout",
     "output_type": "stream",
     "text": [
      "Mean reward for greedy: -109.5439\n",
      "Time: 23.5116s\n",
      "Optimality gap: 51.64%\n"
     ]
    }
   ],
   "source": [
    "# AM\n",
    "model_name = f\"am-{exp_name}\"\n",
    "epoch = \"099\"\n",
    "model = load_policy(exp_name, epoch, model_name)\n",
    "am_stats = get_generalization_stats(model)"
   ]
  },
  {
   "cell_type": "code",
   "execution_count": 11,
   "metadata": {},
   "outputs": [
    {
     "name": "stderr",
     "output_type": "stream",
     "text": [
      "Unused kwargs: {'params': {'total': 1285888, 'trainable': 1285888, 'non_trainable': 0}}\n"
     ]
    },
    {
     "name": "stdout",
     "output_type": "stream",
     "text": [
      "====================\n",
      "Evaluating dataset: ../data/vrp/vrp10_test_generalization_seed1234.npz\n",
      "Effective batch size: 128 (ratio: 1)\n",
      "Using automatic batch size: 128\n"
     ]
    },
    {
     "data": {
      "application/vnd.jupyter.widget-view+json": {
       "model_id": "271e387958824421b3341518e8f6b176",
       "version_major": 2,
       "version_minor": 0
      },
      "text/plain": [
       "Running greedy:   0%|          | 0/8 [00:00<?, ?it/s]"
      ]
     },
     "metadata": {},
     "output_type": "display_data"
    },
    {
     "name": "stdout",
     "output_type": "stream",
     "text": [
      "Mean reward for greedy: -4.8844\n",
      "Time: 0.2228s\n",
      "Optimality gap: 3.79%\n",
      "====================\n",
      "Evaluating dataset: ../data/vrp/vrp20_test_generalization_seed1234.npz\n",
      "Effective batch size: 128 (ratio: 1)\n",
      "Using automatic batch size: 128\n"
     ]
    },
    {
     "data": {
      "application/vnd.jupyter.widget-view+json": {
       "model_id": "81768bbeb4f744a48f36907fb97dcc4e",
       "version_major": 2,
       "version_minor": 0
      },
      "text/plain": [
       "Running greedy:   0%|          | 0/8 [00:00<?, ?it/s]"
      ]
     },
     "metadata": {},
     "output_type": "display_data"
    },
    {
     "name": "stdout",
     "output_type": "stream",
     "text": [
      "Mean reward for greedy: -6.3470\n",
      "Time: 0.3320s\n",
      "Optimality gap: 1.97%\n",
      "====================\n",
      "Evaluating dataset: ../data/vrp/vrp50_test_generalization_seed1234.npz\n",
      "Effective batch size: 128 (ratio: 1)\n",
      "Using automatic batch size: 128\n"
     ]
    },
    {
     "data": {
      "application/vnd.jupyter.widget-view+json": {
       "model_id": "3387275f3a3442598d4edce547f0aa96",
       "version_major": 2,
       "version_minor": 0
      },
      "text/plain": [
       "Running greedy:   0%|          | 0/8 [00:00<?, ?it/s]"
      ]
     },
     "metadata": {},
     "output_type": "display_data"
    },
    {
     "name": "stdout",
     "output_type": "stream",
     "text": [
      "Mean reward for greedy: -11.6501\n",
      "Time: 0.6905s\n",
      "Optimality gap: 9.94%\n",
      "====================\n",
      "Evaluating dataset: ../data/vrp/vrp75_test_generalization_seed1234.npz\n",
      "Effective batch size: 128 (ratio: 1)\n",
      "Using automatic batch size: 128\n"
     ]
    },
    {
     "data": {
      "application/vnd.jupyter.widget-view+json": {
       "model_id": "b4f87426bede4e7a9e1eb696d80c0b98",
       "version_major": 2,
       "version_minor": 0
      },
      "text/plain": [
       "Running greedy:   0%|          | 0/8 [00:00<?, ?it/s]"
      ]
     },
     "metadata": {},
     "output_type": "display_data"
    },
    {
     "name": "stdout",
     "output_type": "stream",
     "text": [
      "Mean reward for greedy: -15.5377\n",
      "Time: 1.0095s\n",
      "Optimality gap: 14.36%\n",
      "====================\n",
      "Evaluating dataset: ../data/vrp/vrp100_test_generalization_seed1234.npz\n",
      "Effective batch size: 128 (ratio: 1)\n",
      "Using automatic batch size: 128\n"
     ]
    },
    {
     "data": {
      "application/vnd.jupyter.widget-view+json": {
       "model_id": "dbb7f79b2c7b40dd9b9cdda262a8cd2c",
       "version_major": 2,
       "version_minor": 0
      },
      "text/plain": [
       "Running greedy:   0%|          | 0/8 [00:00<?, ?it/s]"
      ]
     },
     "metadata": {},
     "output_type": "display_data"
    },
    {
     "name": "stdout",
     "output_type": "stream",
     "text": [
      "Mean reward for greedy: -18.9454\n",
      "Time: 1.3040s\n",
      "Optimality gap: 17.52%\n",
      "====================\n",
      "Evaluating dataset: ../data/vrp/vrp125_test_generalization_seed1234.npz\n",
      "Effective batch size: 128 (ratio: 1)\n",
      "Using automatic batch size: 128\n"
     ]
    },
    {
     "data": {
      "application/vnd.jupyter.widget-view+json": {
       "model_id": "be424d51f1124527b05e2dbd57eab745",
       "version_major": 2,
       "version_minor": 0
      },
      "text/plain": [
       "Running greedy:   0%|          | 0/8 [00:00<?, ?it/s]"
      ]
     },
     "metadata": {},
     "output_type": "display_data"
    },
    {
     "name": "stdout",
     "output_type": "stream",
     "text": [
      "Mean reward for greedy: -22.0029\n",
      "Time: 1.5998s\n",
      "Optimality gap: 19.86%\n",
      "====================\n",
      "Evaluating dataset: ../data/vrp/vrp150_test_generalization_seed1234.npz\n",
      "Effective batch size: 128 (ratio: 1)\n",
      "Using automatic batch size: 128\n"
     ]
    },
    {
     "data": {
      "application/vnd.jupyter.widget-view+json": {
       "model_id": "0acc454c5eea45aaac26c12f82064f8c",
       "version_major": 2,
       "version_minor": 0
      },
      "text/plain": [
       "Running greedy:   0%|          | 0/8 [00:00<?, ?it/s]"
      ]
     },
     "metadata": {},
     "output_type": "display_data"
    },
    {
     "name": "stdout",
     "output_type": "stream",
     "text": [
      "Mean reward for greedy: -24.8721\n",
      "Time: 1.9246s\n",
      "Optimality gap: 22.72%\n",
      "====================\n",
      "Evaluating dataset: ../data/vrp/vrp200_test_generalization_seed1234.npz\n",
      "Effective batch size: 128 (ratio: 1)\n",
      "Using automatic batch size: 128\n"
     ]
    },
    {
     "data": {
      "application/vnd.jupyter.widget-view+json": {
       "model_id": "c0597bb42bf34b839f522d997f2552c6",
       "version_major": 2,
       "version_minor": 0
      },
      "text/plain": [
       "Running greedy:   0%|          | 0/8 [00:00<?, ?it/s]"
      ]
     },
     "metadata": {},
     "output_type": "display_data"
    },
    {
     "name": "stdout",
     "output_type": "stream",
     "text": [
      "Mean reward for greedy: -30.2932\n",
      "Time: 2.5288s\n",
      "Optimality gap: 27.57%\n",
      "====================\n",
      "Evaluating dataset: ../data/vrp/vrp500_test_generalization_seed1234.npz\n",
      "Effective batch size: 128 (ratio: 1)\n",
      "Using automatic batch size: 128\n"
     ]
    },
    {
     "data": {
      "application/vnd.jupyter.widget-view+json": {
       "model_id": "39eec83f0fc04010b0eed211dd374f01",
       "version_major": 2,
       "version_minor": 0
      },
      "text/plain": [
       "Running greedy:   0%|          | 0/8 [00:00<?, ?it/s]"
      ]
     },
     "metadata": {},
     "output_type": "display_data"
    },
    {
     "name": "stdout",
     "output_type": "stream",
     "text": [
      "Mean reward for greedy: -69.9765\n",
      "Time: 7.8071s\n",
      "Optimality gap: 46.97%\n",
      "====================\n",
      "Evaluating dataset: ../data/vrp/vrp1000_test_generalization_seed1234.npz\n",
      "Effective batch size: 128 (ratio: 1)\n",
      "Using automatic batch size: 128\n"
     ]
    },
    {
     "data": {
      "application/vnd.jupyter.widget-view+json": {
       "model_id": "316649d51258454eb9a388f38adb10a8",
       "version_major": 2,
       "version_minor": 0
      },
      "text/plain": [
       "Running greedy:   0%|          | 0/8 [00:00<?, ?it/s]"
      ]
     },
     "metadata": {},
     "output_type": "display_data"
    },
    {
     "name": "stdout",
     "output_type": "stream",
     "text": [
      "Mean reward for greedy: -144.0562\n",
      "Time: 21.5495s\n",
      "Optimality gap: 64.22%\n"
     ]
    }
   ],
   "source": [
    "# POMO\n",
    "model_name = f\"pomo-{exp_name}\"\n",
    "epoch = \"099\"\n",
    "model = load_policy(exp_name, epoch, model_name)\n",
    "pomo_stats = get_generalization_stats(model)"
   ]
  },
  {
   "cell_type": "code",
   "execution_count": 12,
   "metadata": {},
   "outputs": [
    {
     "name": "stderr",
     "output_type": "stream",
     "text": [
      "Unused kwargs: {'params': {'total': 1318912, 'trainable': 1318912, 'non_trainable': 0}}\n"
     ]
    },
    {
     "name": "stdout",
     "output_type": "stream",
     "text": [
      "====================\n",
      "Evaluating dataset: ../data/vrp/vrp10_test_generalization_seed1234.npz\n",
      "Effective batch size: 128 (ratio: 1)\n",
      "Using automatic batch size: 128\n"
     ]
    },
    {
     "data": {
      "application/vnd.jupyter.widget-view+json": {
       "model_id": "c4ec7259328c48d89f4298ec42e646d2",
       "version_major": 2,
       "version_minor": 0
      },
      "text/plain": [
       "Running greedy:   0%|          | 0/8 [00:00<?, ?it/s]"
      ]
     },
     "metadata": {},
     "output_type": "display_data"
    },
    {
     "name": "stdout",
     "output_type": "stream",
     "text": [
      "Mean reward for greedy: -4.9156\n",
      "Time: 0.2115s\n",
      "Optimality gap: 4.40%\n",
      "====================\n",
      "Evaluating dataset: ../data/vrp/vrp20_test_generalization_seed1234.npz\n",
      "Effective batch size: 128 (ratio: 1)\n",
      "Using automatic batch size: 128\n"
     ]
    },
    {
     "data": {
      "application/vnd.jupyter.widget-view+json": {
       "model_id": "4ee9115b6845442f961fa0b5f86c19ff",
       "version_major": 2,
       "version_minor": 0
      },
      "text/plain": [
       "Running greedy:   0%|          | 0/8 [00:00<?, ?it/s]"
      ]
     },
     "metadata": {},
     "output_type": "display_data"
    },
    {
     "name": "stdout",
     "output_type": "stream",
     "text": [
      "Mean reward for greedy: -6.3292\n",
      "Time: 0.3293s\n",
      "Optimality gap: 1.67%\n",
      "====================\n",
      "Evaluating dataset: ../data/vrp/vrp50_test_generalization_seed1234.npz\n",
      "Effective batch size: 128 (ratio: 1)\n",
      "Using automatic batch size: 128\n"
     ]
    },
    {
     "data": {
      "application/vnd.jupyter.widget-view+json": {
       "model_id": "cfe75389e7ef41c9ae9c9ee8f415377b",
       "version_major": 2,
       "version_minor": 0
      },
      "text/plain": [
       "Running greedy:   0%|          | 0/8 [00:00<?, ?it/s]"
      ]
     },
     "metadata": {},
     "output_type": "display_data"
    },
    {
     "name": "stdout",
     "output_type": "stream",
     "text": [
      "Mean reward for greedy: -11.7015\n",
      "Time: 0.7010s\n",
      "Optimality gap: 10.31%\n",
      "====================\n",
      "Evaluating dataset: ../data/vrp/vrp75_test_generalization_seed1234.npz\n",
      "Effective batch size: 128 (ratio: 1)\n",
      "Using automatic batch size: 128\n"
     ]
    },
    {
     "data": {
      "application/vnd.jupyter.widget-view+json": {
       "model_id": "2f986fbf0e8c45a0b2ea3e9aec8857a8",
       "version_major": 2,
       "version_minor": 0
      },
      "text/plain": [
       "Running greedy:   0%|          | 0/8 [00:00<?, ?it/s]"
      ]
     },
     "metadata": {},
     "output_type": "display_data"
    },
    {
     "name": "stdout",
     "output_type": "stream",
     "text": [
      "Mean reward for greedy: -15.6633\n",
      "Time: 1.0120s\n",
      "Optimality gap: 15.08%\n",
      "====================\n",
      "Evaluating dataset: ../data/vrp/vrp100_test_generalization_seed1234.npz\n",
      "Effective batch size: 128 (ratio: 1)\n",
      "Using automatic batch size: 128\n"
     ]
    },
    {
     "data": {
      "application/vnd.jupyter.widget-view+json": {
       "model_id": "05799d4c41bb44df9bba4c43e9e3a91f",
       "version_major": 2,
       "version_minor": 0
      },
      "text/plain": [
       "Running greedy:   0%|          | 0/8 [00:00<?, ?it/s]"
      ]
     },
     "metadata": {},
     "output_type": "display_data"
    },
    {
     "name": "stdout",
     "output_type": "stream",
     "text": [
      "Mean reward for greedy: -19.8839\n",
      "Time: 1.3157s\n",
      "Optimality gap: 21.43%\n",
      "====================\n",
      "Evaluating dataset: ../data/vrp/vrp125_test_generalization_seed1234.npz\n",
      "Effective batch size: 128 (ratio: 1)\n",
      "Using automatic batch size: 128\n"
     ]
    },
    {
     "data": {
      "application/vnd.jupyter.widget-view+json": {
       "model_id": "f040914c52bb451594b35044f42aac98",
       "version_major": 2,
       "version_minor": 0
      },
      "text/plain": [
       "Running greedy:   0%|          | 0/8 [00:00<?, ?it/s]"
      ]
     },
     "metadata": {},
     "output_type": "display_data"
    },
    {
     "name": "stdout",
     "output_type": "stream",
     "text": [
      "Mean reward for greedy: -24.9642\n",
      "Time: 1.6216s\n",
      "Optimality gap: 29.30%\n",
      "====================\n",
      "Evaluating dataset: ../data/vrp/vrp150_test_generalization_seed1234.npz\n",
      "Effective batch size: 128 (ratio: 1)\n",
      "Using automatic batch size: 128\n"
     ]
    },
    {
     "data": {
      "application/vnd.jupyter.widget-view+json": {
       "model_id": "f40faf1fe64e4b909b6410d8f98be1e1",
       "version_major": 2,
       "version_minor": 0
      },
      "text/plain": [
       "Running greedy:   0%|          | 0/8 [00:00<?, ?it/s]"
      ]
     },
     "metadata": {},
     "output_type": "display_data"
    },
    {
     "name": "stdout",
     "output_type": "stream",
     "text": [
      "Mean reward for greedy: -30.6673\n",
      "Time: 1.9805s\n",
      "Optimality gap: 37.24%\n",
      "====================\n",
      "Evaluating dataset: ../data/vrp/vrp200_test_generalization_seed1234.npz\n",
      "Effective batch size: 128 (ratio: 1)\n",
      "Using automatic batch size: 128\n"
     ]
    },
    {
     "data": {
      "application/vnd.jupyter.widget-view+json": {
       "model_id": "597d3b773af74ce1b7a23506f2ec5dcc",
       "version_major": 2,
       "version_minor": 0
      },
      "text/plain": [
       "Running greedy:   0%|          | 0/8 [00:00<?, ?it/s]"
      ]
     },
     "metadata": {},
     "output_type": "display_data"
    },
    {
     "name": "stdout",
     "output_type": "stream",
     "text": [
      "Mean reward for greedy: -43.8050\n",
      "Time: 2.6458s\n",
      "Optimality gap: 49.32%\n",
      "====================\n",
      "Evaluating dataset: ../data/vrp/vrp500_test_generalization_seed1234.npz\n",
      "Effective batch size: 128 (ratio: 1)\n",
      "Using automatic batch size: 128\n"
     ]
    },
    {
     "data": {
      "application/vnd.jupyter.widget-view+json": {
       "model_id": "68c13bf24f8d42a99c21ac645d19b8ec",
       "version_major": 2,
       "version_minor": 0
      },
      "text/plain": [
       "Running greedy:   0%|          | 0/8 [00:00<?, ?it/s]"
      ]
     },
     "metadata": {},
     "output_type": "display_data"
    },
    {
     "name": "stdout",
     "output_type": "stream",
     "text": [
      "Mean reward for greedy: -143.7520\n",
      "Time: 8.8580s\n",
      "Optimality gap: 73.54%\n",
      "====================\n",
      "Evaluating dataset: ../data/vrp/vrp1000_test_generalization_seed1234.npz\n",
      "Effective batch size: 128 (ratio: 1)\n",
      "Using automatic batch size: 128\n"
     ]
    },
    {
     "data": {
      "application/vnd.jupyter.widget-view+json": {
       "model_id": "9b1af35c22b3425b86183dcd876800ce",
       "version_major": 2,
       "version_minor": 0
      },
      "text/plain": [
       "Running greedy:   0%|          | 0/8 [00:00<?, ?it/s]"
      ]
     },
     "metadata": {},
     "output_type": "display_data"
    },
    {
     "name": "stdout",
     "output_type": "stream",
     "text": [
      "Mean reward for greedy: -299.8331\n",
      "Time: 23.9203s\n",
      "Optimality gap: 82.78%\n"
     ]
    }
   ],
   "source": [
    "# SymNCO\n",
    "model_name = f\"symnco-{exp_name}\"\n",
    "epoch = \"099\"\n",
    "model = load_policy(exp_name, epoch, model_name)\n",
    "symnco_stats = get_generalization_stats(model)"
   ]
  },
  {
   "cell_type": "code",
   "execution_count": 13,
   "metadata": {},
   "outputs": [
    {
     "name": "stderr",
     "output_type": "stream",
     "text": [
      "Unused kwargs: {'params': {'total': 1285888, 'trainable': 1285888, 'non_trainable': 0}}\n"
     ]
    },
    {
     "name": "stdout",
     "output_type": "stream",
     "text": [
      "====================\n",
      "Evaluating dataset: ../data/vrp/vrp10_test_generalization_seed1234.npz\n",
      "Effective batch size: 128 (ratio: 1)\n",
      "Using automatic batch size: 128\n"
     ]
    },
    {
     "data": {
      "application/vnd.jupyter.widget-view+json": {
       "model_id": "eb35d02e286946f9865547e85a788823",
       "version_major": 2,
       "version_minor": 0
      },
      "text/plain": [
       "Running greedy:   0%|          | 0/8 [00:00<?, ?it/s]"
      ]
     },
     "metadata": {},
     "output_type": "display_data"
    },
    {
     "name": "stdout",
     "output_type": "stream",
     "text": [
      "Mean reward for greedy: -4.8911\n",
      "Time: 0.2094s\n",
      "Optimality gap: 3.98%\n",
      "====================\n",
      "Evaluating dataset: ../data/vrp/vrp20_test_generalization_seed1234.npz\n",
      "Effective batch size: 128 (ratio: 1)\n",
      "Using automatic batch size: 128\n"
     ]
    },
    {
     "data": {
      "application/vnd.jupyter.widget-view+json": {
       "model_id": "12c439b206a44eb6833f371f08be2bb7",
       "version_major": 2,
       "version_minor": 0
      },
      "text/plain": [
       "Running greedy:   0%|          | 0/8 [00:00<?, ?it/s]"
      ]
     },
     "metadata": {},
     "output_type": "display_data"
    },
    {
     "name": "stdout",
     "output_type": "stream",
     "text": [
      "Mean reward for greedy: -6.3418\n",
      "Time: 0.3303s\n",
      "Optimality gap: 1.88%\n",
      "====================\n",
      "Evaluating dataset: ../data/vrp/vrp50_test_generalization_seed1234.npz\n",
      "Effective batch size: 128 (ratio: 1)\n",
      "Using automatic batch size: 128\n"
     ]
    },
    {
     "data": {
      "application/vnd.jupyter.widget-view+json": {
       "model_id": "d9f8c45ca3144b2697bae8fcf0e48921",
       "version_major": 2,
       "version_minor": 0
      },
      "text/plain": [
       "Running greedy:   0%|          | 0/8 [00:00<?, ?it/s]"
      ]
     },
     "metadata": {},
     "output_type": "display_data"
    },
    {
     "name": "stdout",
     "output_type": "stream",
     "text": [
      "Mean reward for greedy: -11.6883\n",
      "Time: 0.8251s\n",
      "Optimality gap: 10.25%\n",
      "====================\n",
      "Evaluating dataset: ../data/vrp/vrp75_test_generalization_seed1234.npz\n",
      "Effective batch size: 128 (ratio: 1)\n",
      "Using automatic batch size: 128\n"
     ]
    },
    {
     "data": {
      "application/vnd.jupyter.widget-view+json": {
       "model_id": "55a54d2b306942b3acaab8d4bb779c30",
       "version_major": 2,
       "version_minor": 0
      },
      "text/plain": [
       "Running greedy:   0%|          | 0/8 [00:00<?, ?it/s]"
      ]
     },
     "metadata": {},
     "output_type": "display_data"
    },
    {
     "name": "stdout",
     "output_type": "stream",
     "text": [
      "Mean reward for greedy: -15.5231\n",
      "Time: 1.1514s\n",
      "Optimality gap: 14.32%\n",
      "====================\n",
      "Evaluating dataset: ../data/vrp/vrp100_test_generalization_seed1234.npz\n",
      "Effective batch size: 128 (ratio: 1)\n",
      "Using automatic batch size: 128\n"
     ]
    },
    {
     "data": {
      "application/vnd.jupyter.widget-view+json": {
       "model_id": "3d857051971c471bb6674c4316ecf017",
       "version_major": 2,
       "version_minor": 0
      },
      "text/plain": [
       "Running greedy:   0%|          | 0/8 [00:00<?, ?it/s]"
      ]
     },
     "metadata": {},
     "output_type": "display_data"
    },
    {
     "name": "stdout",
     "output_type": "stream",
     "text": [
      "Mean reward for greedy: -18.9890\n",
      "Time: 1.3173s\n",
      "Optimality gap: 17.77%\n",
      "====================\n",
      "Evaluating dataset: ../data/vrp/vrp125_test_generalization_seed1234.npz\n",
      "Effective batch size: 128 (ratio: 1)\n",
      "Using automatic batch size: 128\n"
     ]
    },
    {
     "data": {
      "application/vnd.jupyter.widget-view+json": {
       "model_id": "df2b57c809cc462dbbfcdd028e7cb3a5",
       "version_major": 2,
       "version_minor": 0
      },
      "text/plain": [
       "Running greedy:   0%|          | 0/8 [00:00<?, ?it/s]"
      ]
     },
     "metadata": {},
     "output_type": "display_data"
    },
    {
     "name": "stdout",
     "output_type": "stream",
     "text": [
      "Mean reward for greedy: -22.2640\n",
      "Time: 1.6285s\n",
      "Optimality gap: 20.89%\n",
      "====================\n",
      "Evaluating dataset: ../data/vrp/vrp150_test_generalization_seed1234.npz\n",
      "Effective batch size: 128 (ratio: 1)\n",
      "Using automatic batch size: 128\n"
     ]
    },
    {
     "data": {
      "application/vnd.jupyter.widget-view+json": {
       "model_id": "301c2e104dfe477da2978e213bd6e2dd",
       "version_major": 2,
       "version_minor": 0
      },
      "text/plain": [
       "Running greedy:   0%|          | 0/8 [00:00<?, ?it/s]"
      ]
     },
     "metadata": {},
     "output_type": "display_data"
    },
    {
     "name": "stdout",
     "output_type": "stream",
     "text": [
      "Mean reward for greedy: -25.6106\n",
      "Time: 1.9536s\n",
      "Optimality gap: 25.01%\n",
      "====================\n",
      "Evaluating dataset: ../data/vrp/vrp200_test_generalization_seed1234.npz\n",
      "Effective batch size: 128 (ratio: 1)\n",
      "Using automatic batch size: 128\n"
     ]
    },
    {
     "data": {
      "application/vnd.jupyter.widget-view+json": {
       "model_id": "7472ba8c89dc421d8ebbbaedb164fc40",
       "version_major": 2,
       "version_minor": 0
      },
      "text/plain": [
       "Running greedy:   0%|          | 0/8 [00:00<?, ?it/s]"
      ]
     },
     "metadata": {},
     "output_type": "display_data"
    },
    {
     "name": "stdout",
     "output_type": "stream",
     "text": [
      "Mean reward for greedy: -32.2049\n",
      "Time: 2.6010s\n",
      "Optimality gap: 31.84%\n",
      "====================\n",
      "Evaluating dataset: ../data/vrp/vrp500_test_generalization_seed1234.npz\n",
      "Effective batch size: 128 (ratio: 1)\n",
      "Using automatic batch size: 128\n"
     ]
    },
    {
     "data": {
      "application/vnd.jupyter.widget-view+json": {
       "model_id": "4a24e2e702614fec8468b418ceb131df",
       "version_major": 2,
       "version_minor": 0
      },
      "text/plain": [
       "Running greedy:   0%|          | 0/8 [00:00<?, ?it/s]"
      ]
     },
     "metadata": {},
     "output_type": "display_data"
    },
    {
     "name": "stdout",
     "output_type": "stream",
     "text": [
      "Mean reward for greedy: -69.2148\n",
      "Time: 8.0993s\n",
      "Optimality gap: 46.55%\n",
      "====================\n",
      "Evaluating dataset: ../data/vrp/vrp1000_test_generalization_seed1234.npz\n",
      "Effective batch size: 128 (ratio: 1)\n",
      "Using automatic batch size: 128\n"
     ]
    },
    {
     "data": {
      "application/vnd.jupyter.widget-view+json": {
       "model_id": "7ef35b42b7f340b2b13e8f0ec31315c6",
       "version_major": 2,
       "version_minor": 0
      },
      "text/plain": [
       "Running greedy:   0%|          | 0/8 [00:00<?, ?it/s]"
      ]
     },
     "metadata": {},
     "output_type": "display_data"
    },
    {
     "name": "stdout",
     "output_type": "stream",
     "text": [
      "Mean reward for greedy: -112.4165\n",
      "Time: 22.3297s\n",
      "Optimality gap: 55.34%\n"
     ]
    }
   ],
   "source": [
    "# AM-xl\n",
    "model_name = f\"am-{exp_name}-sm-xl\"\n",
    "epoch = \"499\"\n",
    "model = load_policy(exp_name, epoch, model_name)\n",
    "am_xl_stats = get_generalization_stats(model)"
   ]
  },
  {
   "cell_type": "code",
   "execution_count": 14,
   "metadata": {},
   "outputs": [],
   "source": [
    "experiments = { \n",
    "    'am-critic': am_critic_stats,\n",
    "    'am': am_stats,\n",
    "    'pomo': pomo_stats, \n",
    "    'symnco': symnco_stats,\n",
    "    'am-xl': am_xl_stats,\n",
    "}\n",
    "\n",
    "colors = {\n",
    "    'am-critic': 'tab:red',\n",
    "    'am': 'tab:blue',\n",
    "    'pomo': 'tab:orange',\n",
    "    'symnco': 'tab:green',\n",
    "    'am-xl': 'tab:purple',\n",
    "}\n",
    "\n",
    "labels = {\n",
    "    'am-critic': 'AM-critic',\n",
    "    'am': 'AM',\n",
    "    'pomo': 'POMO',\n",
    "    'symnco': 'SymNCO',\n",
    "    'am-xl': 'AM-XL',\n",
    "}"
   ]
  },
  {
   "cell_type": "code",
   "execution_count": 15,
   "metadata": {},
   "outputs": [],
   "source": [
    "import matplotlib\n",
    "import matplotlib.pyplot as plt\n",
    "\n",
    "plt.rcParams.update({'text.usetex': True,\n",
    "                    'font.family': 'serif',\n",
    "                    # 'font.size': 16,\n",
    "})"
   ]
  },
  {
   "attachments": {},
   "cell_type": "markdown",
   "metadata": {},
   "source": []
  },
  {
   "cell_type": "code",
   "execution_count": 16,
   "metadata": {},
   "outputs": [
    {
     "data": {
      "image/png": "[encoded data removed]",
      "text/plain": [
       "<Figure size 600x400 with 1 Axes>"
      ]
     },
     "metadata": {},
     "output_type": "display_data"
    }
   ],
   "source": [
    "\n",
    "fig, ax = plt.subplots(figsize=(6,4))\n",
    "\n",
    "data_generalization = defaultdict(list)\n",
    "\n",
    "for experiment in experiments:\n",
    "    # add data to save and plot\n",
    "    stats = experiments[experiment]\n",
    "    data_generalization[experiment] = stats\n",
    "\n",
    "    ax.plot(stats['num_nodes'], stats['optimality_gap'], label=labels[experiment], color=colors[experiment])\n",
    "\n",
    "# log scale\n",
    "ax.set_xscale('log')\n",
    "# ax.set_yscale('log')\n",
    "\n",
    "# cut plot at 10 nodes\n",
    "# ax.set_xlim([10, 1000])\n",
    "ax.set_xlim([10, 200])\n",
    "\n",
    "# replace x-axis ticks\n",
    "# ax.set_xticks([10, 20, 50, 100, 200, 500, 1000])\n",
    "ax.set_xticks([10, 20, 50, 100, 200])\n",
    "ax.get_xaxis().set_major_formatter(matplotlib.ticker.ScalarFormatter())\n",
    "\n",
    "# Set plot title\n",
    "ax.set_title('Generalization to different sizes')\n",
    "\n",
    "# Set x-axis label\n",
    "ax.set_xlabel('Number of nodes')\n",
    "ax.set_ylabel('Gap (\\%)')\n",
    "\n",
    "ax.set_ylim([0, 20])\n",
    "ax.set_ylim([0, None])\n",
    "\n",
    "# Training size: draw vertical line at num_nodes = stats['num_nodes'][-1]\n",
    "# ax.axvline(x=stats['num_nodes'][-1])#, color='tab:red', linestyle='--', linewidth=1)\n",
    "\n",
    "# Set grid on with dashed lines for log scale\n",
    "ax.grid(True, which=\"both\", ls=\"--\", color='0.93')\n",
    "\n",
    "# legend\n",
    "ax.legend(loc='upper left')\n",
    "\n",
    "# Save plot data\n",
    "save_folder = Path('plots/')\n",
    "save_folder.mkdir(parents=True, exist_ok=True)\n",
    "plt.savefig(save_folder / f'{exp_name}.pdf', bbox_inches='tight')\n",
    "\n",
    "# Save data with pickle\n",
    "with open(save_folder / f'{exp_name}_data.pkl', 'wb') as f:\n",
    "    pickle.dump(data_generalization, f)"
   ]
  }
 ],
 "metadata": {
  "kernelspec": {
   "display_name": "env",
   "language": "python",
   "name": "python3"
  },
  "language_info": {
   "codemirror_mode": {
    "name": "ipython",
    "version": 3
   },
   "file_extension": ".py",
   "mimetype": "text/x-python",
   "name": "python",
   "nbconvert_exporter": "python",
   "pygments_lexer": "ipython3",
   "version": "3.10.9"
  },
  "orig_nbformat": 4
 },
 "nbformat": 4,
 "nbformat_minor": 2
}
