{
 "cells": [
  {
   "attachments": {},
   "cell_type": "markdown",
   "metadata": {},
   "source": [
    "## Generalization "
   ]
  },
  {
   "cell_type": "code",
   "execution_count": 1,
   "metadata": {},
   "outputs": [
    {
     "name": "stderr",
     "output_type": "stream",
     "text": [
      "/home/botu/botu/Dev/rl4co/env/lib/python3.10/site-packages/torchrl/__init__.py:26: UserWarning: failed to set start method to spawn, and current start method for mp is fork.\n",
      "  warn(\n"
     ]
    }
   ],
   "source": [
    "%load_ext autoreload\n",
    "%autoreload 2\n",
    "\n",
    "import sys; sys.path.append(3*'../')\n",
    "\n",
    "import os\n",
    "import glob\n",
    "from pathlib import Path\n",
    "from omegaconf import DictConfig\n",
    "import yaml\n",
    "import pickle\n",
    "from collections import defaultdict\n",
    "\n",
    "\n",
    "import torch\n",
    "import lightning as L\n",
    "\n",
    "from rl4co.envs import TSPEnv, CVRPEnv\n",
    "from rl4co.tasks.rl4co import RL4COLitModule\n",
    "from rl4co.utils.lightning import load_model_from_checkpoint, clean_hydra_config\n",
    "from rl4co.tasks.eval import evaluate_policy\n"
   ]
  },
  {
   "attachments": {},
   "cell_type": "markdown",
   "metadata": {},
   "source": [
    "## Load solver solutions"
   ]
  },
  {
   "cell_type": "code",
   "execution_count": 2,
   "metadata": {},
   "outputs": [],
   "source": [
    "device = torch.device(\"cuda:7\")\n",
    "\n",
    "exp_name = 'cvrp50'\n",
    "env = CVRPEnv()\n",
    "data_dir = Path(\"../data/vrp\")\n"
   ]
  },
  {
   "cell_type": "code",
   "execution_count": 35,
   "metadata": {},
   "outputs": [
    {
     "name": "stdout",
     "output_type": "stream",
     "text": [
      "Average cost: 10.37\n"
     ]
    }
   ],
   "source": [
    "solver_path = Path(\"../solver/vrp\")\n",
    "\n",
    "# HGS\n",
    "def load_solver_file(num_nodes):\n",
    "    dir_ = solver_path / f\"{num_nodes}_test_seed_1234\"\n",
    "\n",
    "    solver_files = sorted(glob.glob(str(dir_ / \"*.txt\")))\n",
    "    # take the interger of file number and order by it\n",
    "    solver_files = sorted(solver_files, key=lambda x: int(x.split(\"/\")[-1].split(\".\")[0]))\n",
    "    costs = []\n",
    "    for solver_file in solver_files:\n",
    "        with open(solver_file, \"r\") as f:\n",
    "            # get lines as dict\n",
    "            lines = f.readlines()\n",
    "            lines = [line.strip().split() for line in lines]\n",
    "            lines = {line[0]: line[1:] for line in lines}\n",
    "            costs.append(float(lines['obj_val:'][0]))\n",
    "    print(\"Average cost: {:.2f}\".format(sum(costs)/len(costs)))\n",
    "    return costs\n",
    "\n",
    "costs = load_solver_file(50)"
   ]
  },
  {
   "attachments": {},
   "cell_type": "markdown",
   "metadata": {},
   "source": [
    "## Loading datasets"
   ]
  },
  {
   "cell_type": "code",
   "execution_count": 36,
   "metadata": {},
   "outputs": [
    {
     "data": {
      "text/plain": [
       "['../data/vrp/vrp150_test_generalization_seed1234.npz',\n",
       " '../data/vrp/vrp20_test_generalization_seed1234.npz',\n",
       " '../data/vrp/vrp1000_test_generalization_seed1234.npz',\n",
       " '../data/vrp/vrp100_test_generalization_seed1234.npz',\n",
       " '../data/vrp/vrp125_test_generalization_seed1234.npz',\n",
       " '../data/vrp/vrp50_test_generalization_seed1234.npz',\n",
       " '../data/vrp/vrp75_test_generalization_seed1234.npz',\n",
       " '../data/vrp/vrp200_test_generalization_seed1234.npz',\n",
       " '../data/vrp/vrp500_test_generalization_seed1234.npz',\n",
       " '../data/vrp/vrp10_test_generalization_seed1234.npz']"
      ]
     },
     "execution_count": 36,
     "metadata": {},
     "output_type": "execute_result"
    }
   ],
   "source": [
    "files"
   ]
  },
  {
   "cell_type": "code",
   "execution_count": 37,
   "metadata": {},
   "outputs": [
    {
     "name": "stdout",
     "output_type": "stream",
     "text": [
      "Average cost: 4.58\n",
      "Average cost: 6.13\n",
      "Average cost: 10.37\n",
      "Average cost: 13.27\n",
      "Average cost: 15.56\n",
      "Average cost: 17.61\n",
      "Average cost: 19.14\n",
      "Average cost: 21.83\n",
      "Average cost: 36.69\n",
      "Average cost: 49.85\n"
     ]
    }
   ],
   "source": [
    "# Get all files that contain \"generalization*.npz\" under data/tsp\n",
    "files = glob.glob(str(data_dir / \"*generalization*.npz\"), recursive=True)\n",
    "# files =  sorted(files)\n",
    "# print(files)\n",
    "\n",
    "num_nodes = [10, 20, 50, 75, 100, 125, 150, 200, 500, 1000]\n",
    "\n",
    "datasets = []\n",
    "for num_nodes_ in num_nodes:\n",
    "    for file in files:\n",
    "        if \"vrp{}_test_generalization\".format(num_nodes_) in file:\n",
    "            dataset = env.dataset(filename=file, phase='test')\n",
    "            solver_costs = load_solver_file(num_nodes_)\n",
    "            datasets.append({'num_nodes': num_nodes_, 'file': file, \n",
    "                             'dataset': dataset, 'solver_costs': solver_costs})"
   ]
  },
  {
   "attachments": {},
   "cell_type": "markdown",
   "metadata": {},
   "source": [
    "## Loading model from checkpoint"
   ]
  },
  {
   "cell_type": "code",
   "execution_count": 38,
   "metadata": {},
   "outputs": [],
   "source": [
    "def load_policy(exp_name, epoch, model_name):\n",
    "\n",
    "    main_dir = Path('../../../saved_checkpoints/')\n",
    "\n",
    "    main_dir = main_dir / exp_name / model_name\n",
    "\n",
    "    cfg_path = main_dir / 'config.yaml'\n",
    "    ckpt_path = main_dir / 'epoch_{}.ckpt'.format(epoch)\n",
    "\n",
    "    lit_module = load_model_from_checkpoint(cfg_path, ckpt_path, phase='test')\n",
    "\n",
    "    policy = lit_module.model.policy.to(device)\n",
    "    policy.eval()\n",
    "    return policy"
   ]
  },
  {
   "cell_type": "code",
   "execution_count": 39,
   "metadata": {},
   "outputs": [],
   "source": [
    "def optimality_gap(bk_sol, opt_sol):\n",
    "    return ((bk_sol - opt_sol) / bk_sol).mean().item() * 100"
   ]
  },
  {
   "cell_type": "code",
   "execution_count": 41,
   "metadata": {},
   "outputs": [],
   "source": [
    "def get_generalization_stats(policy):\n",
    "    stats = defaultdict(list)\n",
    "\n",
    "    for dataset in datasets:\n",
    "        print(\"====================\")\n",
    "        print(\"Evaluating dataset: {}\".format(dataset['file']))\n",
    "        stats['num_nodes'].append(dataset['num_nodes'])\n",
    "        stats['file'].append(dataset['file'])\n",
    "        out_dict = evaluate_policy(env, policy, dataset['dataset'], method='greedy', max_batch_size=128)\n",
    "\n",
    "        model_costs = -out_dict['rewards']\n",
    "        solver_costs = torch.Tensor(dataset['solver_costs'][:1000]) # by default, we only evaluate on 1000 samples\n",
    "\n",
    "        stats['model_cost_mean'].append(model_costs.mean())\n",
    "        stats['solver_cost_mean'].append(solver_costs.mean())\n",
    "        gap = optimality_gap(model_costs, solver_costs)\n",
    "        stats['optimality_gap'].append(gap)\n",
    "\n",
    "        print(\"Optimality gap: {:.2f}%\".format(gap))\n",
    "\n",
    "    return stats"
   ]
  },
  {
   "cell_type": "code",
   "execution_count": 10,
   "metadata": {},
   "outputs": [],
   "source": [
    "# # Pointer Net\n",
    "# model_name = \"ptrnet-tsp50\"\n",
    "# epoch = \"099\"\n",
    "# model = load_policy(exp_name, epoch, model_name)\n",
    "# ptrnet_stats = get_generalization_stats(model)"
   ]
  },
  {
   "cell_type": "code",
   "execution_count": 42,
   "metadata": {},
   "outputs": [],
   "source": [
    "# # AM Critic\n",
    "# model_name = \"gnn\"\n",
    "# epoch = \"099\"\n",
    "# model = load_policy(exp_name, epoch, model_name)\n",
    "# am_critic_stats = get_generalization_stats(model)"
   ]
  },
  {
   "cell_type": "code",
   "execution_count": 43,
   "metadata": {},
   "outputs": [
    {
     "name": "stderr",
     "output_type": "stream",
     "text": [
      "Unused kwargs: {'params': {'total': 1353345, 'trainable': 1353345, 'non_trainable': 0}}\n"
     ]
    },
    {
     "name": "stdout",
     "output_type": "stream",
     "text": [
      "====================\n",
      "Evaluating dataset: ../data/vrp/vrp10_test_generalization_seed1234.npz\n",
      "Effective batch size: 128 (ratio: 1)\n",
      "Using automatic batch size: 128\n"
     ]
    },
    {
     "data": {
      "application/vnd.jupyter.widget-view+json": {
       "model_id": "c5a6d385e8ad41538fd83caf564676bc",
       "version_major": 2,
       "version_minor": 0
      },
      "text/plain": [
       "Running greedy:   0%|          | 0/8 [00:00<?, ?it/s]"
      ]
     },
     "metadata": {},
     "output_type": "display_data"
    },
    {
     "name": "stdout",
     "output_type": "stream",
     "text": [
      "Mean reward for greedy: -5.0173\n",
      "Time: 0.2983s\n",
      "Optimality gap: 6.26%\n",
      "====================\n",
      "Evaluating dataset: ../data/vrp/vrp20_test_generalization_seed1234.npz\n",
      "Effective batch size: 128 (ratio: 1)\n",
      "Using automatic batch size: 128\n"
     ]
    },
    {
     "data": {
      "application/vnd.jupyter.widget-view+json": {
       "model_id": "2ea13bdd0c6143f2ba80058fb3b9421e",
       "version_major": 2,
       "version_minor": 0
      },
      "text/plain": [
       "Running greedy:   0%|          | 0/8 [00:00<?, ?it/s]"
      ]
     },
     "metadata": {},
     "output_type": "display_data"
    },
    {
     "name": "stdout",
     "output_type": "stream",
     "text": [
      "Mean reward for greedy: -6.7147\n",
      "Time: 0.3107s\n",
      "Optimality gap: 7.25%\n",
      "====================\n",
      "Evaluating dataset: ../data/vrp/vrp50_test_generalization_seed1234.npz\n",
      "Effective batch size: 128 (ratio: 1)\n",
      "Using automatic batch size: 128\n"
     ]
    },
    {
     "data": {
      "application/vnd.jupyter.widget-view+json": {
       "model_id": "669fbcbb413c4c0eaa875549c98c15fb",
       "version_major": 2,
       "version_minor": 0
      },
      "text/plain": [
       "Running greedy:   0%|          | 0/8 [00:00<?, ?it/s]"
      ]
     },
     "metadata": {},
     "output_type": "display_data"
    },
    {
     "name": "stdout",
     "output_type": "stream",
     "text": [
      "Mean reward for greedy: -11.2158\n",
      "Time: 0.6813s\n",
      "Optimality gap: 6.46%\n",
      "====================\n",
      "Evaluating dataset: ../data/vrp/vrp75_test_generalization_seed1234.npz\n",
      "Effective batch size: 128 (ratio: 1)\n",
      "Using automatic batch size: 128\n"
     ]
    },
    {
     "data": {
      "application/vnd.jupyter.widget-view+json": {
       "model_id": "a2244251b78143f592d3230957949f96",
       "version_major": 2,
       "version_minor": 0
      },
      "text/plain": [
       "Running greedy:   0%|          | 0/8 [00:00<?, ?it/s]"
      ]
     },
     "metadata": {},
     "output_type": "display_data"
    },
    {
     "name": "stdout",
     "output_type": "stream",
     "text": [
      "Mean reward for greedy: -14.4832\n",
      "Time: 0.9793s\n",
      "Optimality gap: 8.14%\n",
      "====================\n",
      "Evaluating dataset: ../data/vrp/vrp100_test_generalization_seed1234.npz\n",
      "Effective batch size: 128 (ratio: 1)\n",
      "Using automatic batch size: 128\n"
     ]
    },
    {
     "data": {
      "application/vnd.jupyter.widget-view+json": {
       "model_id": "783499bf971449b5bd71a18e75c20fbe",
       "version_major": 2,
       "version_minor": 0
      },
      "text/plain": [
       "Running greedy:   0%|          | 0/8 [00:00<?, ?it/s]"
      ]
     },
     "metadata": {},
     "output_type": "display_data"
    },
    {
     "name": "stdout",
     "output_type": "stream",
     "text": [
      "Mean reward for greedy: -17.3137\n",
      "Time: 1.2775s\n",
      "Optimality gap: 9.72%\n",
      "====================\n",
      "Evaluating dataset: ../data/vrp/vrp125_test_generalization_seed1234.npz\n",
      "Effective batch size: 128 (ratio: 1)\n",
      "Using automatic batch size: 128\n"
     ]
    },
    {
     "data": {
      "application/vnd.jupyter.widget-view+json": {
       "model_id": "77be4fd4c7984667ad7fc4663e190a00",
       "version_major": 2,
       "version_minor": 0
      },
      "text/plain": [
       "Running greedy:   0%|          | 0/8 [00:00<?, ?it/s]"
      ]
     },
     "metadata": {},
     "output_type": "display_data"
    },
    {
     "name": "stdout",
     "output_type": "stream",
     "text": [
      "Mean reward for greedy: -19.7898\n",
      "Time: 1.5804s\n",
      "Optimality gap: 10.87%\n",
      "====================\n",
      "Evaluating dataset: ../data/vrp/vrp150_test_generalization_seed1234.npz\n",
      "Effective batch size: 128 (ratio: 1)\n",
      "Using automatic batch size: 128\n"
     ]
    },
    {
     "data": {
      "application/vnd.jupyter.widget-view+json": {
       "model_id": "704e7da7f56c480b849469548444a658",
       "version_major": 2,
       "version_minor": 0
      },
      "text/plain": [
       "Running greedy:   0%|          | 0/8 [00:00<?, ?it/s]"
      ]
     },
     "metadata": {},
     "output_type": "display_data"
    },
    {
     "name": "stdout",
     "output_type": "stream",
     "text": [
      "Mean reward for greedy: -22.1194\n",
      "Time: 1.8849s\n",
      "Optimality gap: 13.06%\n",
      "====================\n",
      "Evaluating dataset: ../data/vrp/vrp200_test_generalization_seed1234.npz\n",
      "Effective batch size: 128 (ratio: 1)\n",
      "Using automatic batch size: 128\n"
     ]
    },
    {
     "data": {
      "application/vnd.jupyter.widget-view+json": {
       "model_id": "2ab85a3341054d619d81cb538afa6efe",
       "version_major": 2,
       "version_minor": 0
      },
      "text/plain": [
       "Running greedy:   0%|          | 0/8 [00:00<?, ?it/s]"
      ]
     },
     "metadata": {},
     "output_type": "display_data"
    },
    {
     "name": "stdout",
     "output_type": "stream",
     "text": [
      "Mean reward for greedy: -26.3349\n",
      "Time: 2.5323s\n",
      "Optimality gap: 16.66%\n",
      "====================\n",
      "Evaluating dataset: ../data/vrp/vrp500_test_generalization_seed1234.npz\n",
      "Effective batch size: 128 (ratio: 1)\n",
      "Using automatic batch size: 128\n"
     ]
    },
    {
     "data": {
      "application/vnd.jupyter.widget-view+json": {
       "model_id": "190166c7b9eb41a29f0d5562a611a9f0",
       "version_major": 2,
       "version_minor": 0
      },
      "text/plain": [
       "Running greedy:   0%|          | 0/8 [00:00<?, ?it/s]"
      ]
     },
     "metadata": {},
     "output_type": "display_data"
    },
    {
     "name": "stdout",
     "output_type": "stream",
     "text": [
      "Mean reward for greedy: -71.3554\n",
      "Time: 8.9437s\n",
      "Optimality gap: 44.07%\n",
      "====================\n",
      "Evaluating dataset: ../data/vrp/vrp1000_test_generalization_seed1234.npz\n",
      "Effective batch size: 128 (ratio: 1)\n",
      "Using automatic batch size: 128\n"
     ]
    },
    {
     "data": {
      "application/vnd.jupyter.widget-view+json": {
       "model_id": "dbde33faaec845008066aa23759b2ae9",
       "version_major": 2,
       "version_minor": 0
      },
      "text/plain": [
       "Running greedy:   0%|          | 0/8 [00:00<?, ?it/s]"
      ]
     },
     "metadata": {},
     "output_type": "display_data"
    },
    {
     "name": "stdout",
     "output_type": "stream",
     "text": [
      "Mean reward for greedy: -234.1889\n",
      "Time: 26.5450s\n",
      "Optimality gap: 71.04%\n"
     ]
    }
   ],
   "source": [
    "# AM Critic\n",
    "model_name = f\"am-critic-{exp_name}\"\n",
    "epoch = \"099\"\n",
    "model = load_policy(exp_name, epoch, model_name)\n",
    "am_critic_stats = get_generalization_stats(model)"
   ]
  },
  {
   "cell_type": "code",
   "execution_count": 44,
   "metadata": {},
   "outputs": [
    {
     "name": "stderr",
     "output_type": "stream",
     "text": [
      "Unused kwargs: {'params': {'total': 692608, 'trainable': 692608, 'non_trainable': 0}}\n"
     ]
    },
    {
     "name": "stdout",
     "output_type": "stream",
     "text": [
      "====================\n",
      "Evaluating dataset: ../data/vrp/vrp10_test_generalization_seed1234.npz\n",
      "Effective batch size: 128 (ratio: 1)\n",
      "Using automatic batch size: 128\n"
     ]
    },
    {
     "data": {
      "application/vnd.jupyter.widget-view+json": {
       "model_id": "6d521d53ebfd407cb9407cb60e9966f0",
       "version_major": 2,
       "version_minor": 0
      },
      "text/plain": [
       "Running greedy:   0%|          | 0/8 [00:00<?, ?it/s]"
      ]
     },
     "metadata": {},
     "output_type": "display_data"
    },
    {
     "name": "stdout",
     "output_type": "stream",
     "text": [
      "Mean reward for greedy: -4.9530\n",
      "Time: 0.2002s\n",
      "Optimality gap: 5.11%\n",
      "====================\n",
      "Evaluating dataset: ../data/vrp/vrp20_test_generalization_seed1234.npz\n",
      "Effective batch size: 128 (ratio: 1)\n",
      "Using automatic batch size: 128\n"
     ]
    },
    {
     "data": {
      "application/vnd.jupyter.widget-view+json": {
       "model_id": "3bcbd458c6e34125ab0d99b772998b3f",
       "version_major": 2,
       "version_minor": 0
      },
      "text/plain": [
       "Running greedy:   0%|          | 0/8 [00:00<?, ?it/s]"
      ]
     },
     "metadata": {},
     "output_type": "display_data"
    },
    {
     "name": "stdout",
     "output_type": "stream",
     "text": [
      "Mean reward for greedy: -6.6421\n",
      "Time: 0.3110s\n",
      "Optimality gap: 6.28%\n",
      "====================\n",
      "Evaluating dataset: ../data/vrp/vrp50_test_generalization_seed1234.npz\n",
      "Effective batch size: 128 (ratio: 1)\n",
      "Using automatic batch size: 128\n"
     ]
    },
    {
     "data": {
      "application/vnd.jupyter.widget-view+json": {
       "model_id": "fff456345f84418eb55398db5cd7ef5a",
       "version_major": 2,
       "version_minor": 0
      },
      "text/plain": [
       "Running greedy:   0%|          | 0/8 [00:00<?, ?it/s]"
      ]
     },
     "metadata": {},
     "output_type": "display_data"
    },
    {
     "name": "stdout",
     "output_type": "stream",
     "text": [
      "Mean reward for greedy: -10.9784\n",
      "Time: 0.6649s\n",
      "Optimality gap: 4.47%\n",
      "====================\n",
      "Evaluating dataset: ../data/vrp/vrp75_test_generalization_seed1234.npz\n",
      "Effective batch size: 128 (ratio: 1)\n",
      "Using automatic batch size: 128\n"
     ]
    },
    {
     "data": {
      "application/vnd.jupyter.widget-view+json": {
       "model_id": "f2d687189e154f06a3419e18175ed86f",
       "version_major": 2,
       "version_minor": 0
      },
      "text/plain": [
       "Running greedy:   0%|          | 0/8 [00:00<?, ?it/s]"
      ]
     },
     "metadata": {},
     "output_type": "display_data"
    },
    {
     "name": "stdout",
     "output_type": "stream",
     "text": [
      "Mean reward for greedy: -14.2186\n",
      "Time: 0.9817s\n",
      "Optimality gap: 6.42%\n",
      "====================\n",
      "Evaluating dataset: ../data/vrp/vrp100_test_generalization_seed1234.npz\n",
      "Effective batch size: 128 (ratio: 1)\n",
      "Using automatic batch size: 128\n"
     ]
    },
    {
     "data": {
      "application/vnd.jupyter.widget-view+json": {
       "model_id": "16130687b9e748eba19250ef4878b2ec",
       "version_major": 2,
       "version_minor": 0
      },
      "text/plain": [
       "Running greedy:   0%|          | 0/8 [00:00<?, ?it/s]"
      ]
     },
     "metadata": {},
     "output_type": "display_data"
    },
    {
     "name": "stdout",
     "output_type": "stream",
     "text": [
      "Mean reward for greedy: -17.0456\n",
      "Time: 1.2763s\n",
      "Optimality gap: 8.32%\n",
      "====================\n",
      "Evaluating dataset: ../data/vrp/vrp125_test_generalization_seed1234.npz\n",
      "Effective batch size: 128 (ratio: 1)\n",
      "Using automatic batch size: 128\n"
     ]
    },
    {
     "data": {
      "application/vnd.jupyter.widget-view+json": {
       "model_id": "39498daa29b148d989042591c3d127b8",
       "version_major": 2,
       "version_minor": 0
      },
      "text/plain": [
       "Running greedy:   0%|          | 0/8 [00:00<?, ?it/s]"
      ]
     },
     "metadata": {},
     "output_type": "display_data"
    },
    {
     "name": "stdout",
     "output_type": "stream",
     "text": [
      "Mean reward for greedy: -19.5322\n",
      "Time: 1.5735s\n",
      "Optimality gap: 9.72%\n",
      "====================\n",
      "Evaluating dataset: ../data/vrp/vrp150_test_generalization_seed1234.npz\n",
      "Effective batch size: 128 (ratio: 1)\n",
      "Using automatic batch size: 128\n"
     ]
    },
    {
     "data": {
      "application/vnd.jupyter.widget-view+json": {
       "model_id": "27ec06f4049c4fbf8cc2e674d0db17ac",
       "version_major": 2,
       "version_minor": 0
      },
      "text/plain": [
       "Running greedy:   0%|          | 0/8 [00:00<?, ?it/s]"
      ]
     },
     "metadata": {},
     "output_type": "display_data"
    },
    {
     "name": "stdout",
     "output_type": "stream",
     "text": [
      "Mean reward for greedy: -21.8777\n",
      "Time: 1.9003s\n",
      "Optimality gap: 12.12%\n",
      "====================\n",
      "Evaluating dataset: ../data/vrp/vrp200_test_generalization_seed1234.npz\n",
      "Effective batch size: 128 (ratio: 1)\n",
      "Using automatic batch size: 128\n"
     ]
    },
    {
     "data": {
      "application/vnd.jupyter.widget-view+json": {
       "model_id": "f5cc929af855477ba2ddb5e63e24efa4",
       "version_major": 2,
       "version_minor": 0
      },
      "text/plain": [
       "Running greedy:   0%|          | 0/8 [00:00<?, ?it/s]"
      ]
     },
     "metadata": {},
     "output_type": "display_data"
    },
    {
     "name": "stdout",
     "output_type": "stream",
     "text": [
      "Mean reward for greedy: -26.3190\n",
      "Time: 2.5814s\n",
      "Optimality gap: 16.59%\n",
      "====================\n",
      "Evaluating dataset: ../data/vrp/vrp500_test_generalization_seed1234.npz\n",
      "Effective batch size: 128 (ratio: 1)\n",
      "Using automatic batch size: 128\n"
     ]
    },
    {
     "data": {
      "application/vnd.jupyter.widget-view+json": {
       "model_id": "64fcfab2617d43a19748370e2f2057a9",
       "version_major": 2,
       "version_minor": 0
      },
      "text/plain": [
       "Running greedy:   0%|          | 0/8 [00:00<?, ?it/s]"
      ]
     },
     "metadata": {},
     "output_type": "display_data"
    },
    {
     "name": "stdout",
     "output_type": "stream",
     "text": [
      "Mean reward for greedy: -82.5495\n",
      "Time: 9.0364s\n",
      "Optimality gap: 49.41%\n",
      "====================\n",
      "Evaluating dataset: ../data/vrp/vrp1000_test_generalization_seed1234.npz\n",
      "Effective batch size: 128 (ratio: 1)\n",
      "Using automatic batch size: 128\n"
     ]
    },
    {
     "data": {
      "application/vnd.jupyter.widget-view+json": {
       "model_id": "12668b0740434d83903a8d45792e9fd3",
       "version_major": 2,
       "version_minor": 0
      },
      "text/plain": [
       "Running greedy:   0%|          | 0/8 [00:00<?, ?it/s]"
      ]
     },
     "metadata": {},
     "output_type": "display_data"
    },
    {
     "name": "stdout",
     "output_type": "stream",
     "text": [
      "Mean reward for greedy: -296.9273\n",
      "Time: 28.1443s\n",
      "Optimality gap: 79.94%\n"
     ]
    }
   ],
   "source": [
    "# AM\n",
    "model_name = f\"am-{exp_name}\"\n",
    "epoch = \"099\"\n",
    "model = load_policy(exp_name, epoch, model_name)\n",
    "am_stats = get_generalization_stats(model)"
   ]
  },
  {
   "cell_type": "code",
   "execution_count": 45,
   "metadata": {},
   "outputs": [
    {
     "name": "stderr",
     "output_type": "stream",
     "text": [
      "Unused kwargs: {'params': {'total': 1285888, 'trainable': 1285888, 'non_trainable': 0}}\n"
     ]
    },
    {
     "name": "stdout",
     "output_type": "stream",
     "text": [
      "====================\n",
      "Evaluating dataset: ../data/vrp/vrp10_test_generalization_seed1234.npz\n",
      "Effective batch size: 128 (ratio: 1)\n",
      "Using automatic batch size: 128\n"
     ]
    },
    {
     "data": {
      "application/vnd.jupyter.widget-view+json": {
       "model_id": "5898d183420644dda19d8a961a4d16fe",
       "version_major": 2,
       "version_minor": 0
      },
      "text/plain": [
       "Running greedy:   0%|          | 0/8 [00:00<?, ?it/s]"
      ]
     },
     "metadata": {},
     "output_type": "display_data"
    },
    {
     "name": "stdout",
     "output_type": "stream",
     "text": [
      "Mean reward for greedy: -5.4712\n",
      "Time: 0.2404s\n",
      "Optimality gap: 13.87%\n",
      "====================\n",
      "Evaluating dataset: ../data/vrp/vrp20_test_generalization_seed1234.npz\n",
      "Effective batch size: 128 (ratio: 1)\n",
      "Using automatic batch size: 128\n"
     ]
    },
    {
     "data": {
      "application/vnd.jupyter.widget-view+json": {
       "model_id": "bf5ccb12b55b4f09bd980d0c57cc2b7b",
       "version_major": 2,
       "version_minor": 0
      },
      "text/plain": [
       "Running greedy:   0%|          | 0/8 [00:00<?, ?it/s]"
      ]
     },
     "metadata": {},
     "output_type": "display_data"
    },
    {
     "name": "stdout",
     "output_type": "stream",
     "text": [
      "Mean reward for greedy: -6.7933\n",
      "Time: 0.3392s\n",
      "Optimality gap: 8.41%\n",
      "====================\n",
      "Evaluating dataset: ../data/vrp/vrp50_test_generalization_seed1234.npz\n",
      "Effective batch size: 128 (ratio: 1)\n",
      "Using automatic batch size: 128\n"
     ]
    },
    {
     "data": {
      "application/vnd.jupyter.widget-view+json": {
       "model_id": "c6700cfb59ce40c39111982cb02d7110",
       "version_major": 2,
       "version_minor": 0
      },
      "text/plain": [
       "Running greedy:   0%|          | 0/8 [00:00<?, ?it/s]"
      ]
     },
     "metadata": {},
     "output_type": "display_data"
    },
    {
     "name": "stdout",
     "output_type": "stream",
     "text": [
      "Mean reward for greedy: -10.8489\n",
      "Time: 0.6949s\n",
      "Optimality gap: 3.33%\n",
      "====================\n",
      "Evaluating dataset: ../data/vrp/vrp75_test_generalization_seed1234.npz\n",
      "Effective batch size: 128 (ratio: 1)\n",
      "Using automatic batch size: 128\n"
     ]
    },
    {
     "data": {
      "application/vnd.jupyter.widget-view+json": {
       "model_id": "b15202e37a244e2d9c8151ec3a6e24c6",
       "version_major": 2,
       "version_minor": 0
      },
      "text/plain": [
       "Running greedy:   0%|          | 0/8 [00:00<?, ?it/s]"
      ]
     },
     "metadata": {},
     "output_type": "display_data"
    },
    {
     "name": "stdout",
     "output_type": "stream",
     "text": [
      "Mean reward for greedy: -14.1687\n",
      "Time: 1.0036s\n",
      "Optimality gap: 6.08%\n",
      "====================\n",
      "Evaluating dataset: ../data/vrp/vrp100_test_generalization_seed1234.npz\n",
      "Effective batch size: 128 (ratio: 1)\n",
      "Using automatic batch size: 128\n"
     ]
    },
    {
     "data": {
      "application/vnd.jupyter.widget-view+json": {
       "model_id": "e057d92a5b0a4cabac23dad9e8775d6b",
       "version_major": 2,
       "version_minor": 0
      },
      "text/plain": [
       "Running greedy:   0%|          | 0/8 [00:00<?, ?it/s]"
      ]
     },
     "metadata": {},
     "output_type": "display_data"
    },
    {
     "name": "stdout",
     "output_type": "stream",
     "text": [
      "Mean reward for greedy: -17.0150\n",
      "Time: 1.3015s\n",
      "Optimality gap: 8.15%\n",
      "====================\n",
      "Evaluating dataset: ../data/vrp/vrp125_test_generalization_seed1234.npz\n",
      "Effective batch size: 128 (ratio: 1)\n",
      "Using automatic batch size: 128\n"
     ]
    },
    {
     "data": {
      "application/vnd.jupyter.widget-view+json": {
       "model_id": "ff2127c5d85d4f27877f68a25d08a449",
       "version_major": 2,
       "version_minor": 0
      },
      "text/plain": [
       "Running greedy:   0%|          | 0/8 [00:00<?, ?it/s]"
      ]
     },
     "metadata": {},
     "output_type": "display_data"
    },
    {
     "name": "stdout",
     "output_type": "stream",
     "text": [
      "Mean reward for greedy: -19.4571\n",
      "Time: 1.5997s\n",
      "Optimality gap: 9.35%\n",
      "====================\n",
      "Evaluating dataset: ../data/vrp/vrp150_test_generalization_seed1234.npz\n",
      "Effective batch size: 128 (ratio: 1)\n",
      "Using automatic batch size: 128\n"
     ]
    },
    {
     "data": {
      "application/vnd.jupyter.widget-view+json": {
       "model_id": "96c96d93973c4d04b818b400b3fa5914",
       "version_major": 2,
       "version_minor": 0
      },
      "text/plain": [
       "Running greedy:   0%|          | 0/8 [00:00<?, ?it/s]"
      ]
     },
     "metadata": {},
     "output_type": "display_data"
    },
    {
     "name": "stdout",
     "output_type": "stream",
     "text": [
      "Mean reward for greedy: -21.6878\n",
      "Time: 1.9145s\n",
      "Optimality gap: 11.35%\n",
      "====================\n",
      "Evaluating dataset: ../data/vrp/vrp200_test_generalization_seed1234.npz\n",
      "Effective batch size: 128 (ratio: 1)\n",
      "Using automatic batch size: 128\n"
     ]
    },
    {
     "data": {
      "application/vnd.jupyter.widget-view+json": {
       "model_id": "c1fc9e0442a54452bfbab553bba185e0",
       "version_major": 2,
       "version_minor": 0
      },
      "text/plain": [
       "Running greedy:   0%|          | 0/8 [00:00<?, ?it/s]"
      ]
     },
     "metadata": {},
     "output_type": "display_data"
    },
    {
     "name": "stdout",
     "output_type": "stream",
     "text": [
      "Mean reward for greedy: -25.6040\n",
      "Time: 2.5179s\n",
      "Optimality gap: 14.30%\n",
      "====================\n",
      "Evaluating dataset: ../data/vrp/vrp500_test_generalization_seed1234.npz\n",
      "Effective batch size: 128 (ratio: 1)\n",
      "Using automatic batch size: 128\n"
     ]
    },
    {
     "data": {
      "application/vnd.jupyter.widget-view+json": {
       "model_id": "ee85f40f8750465ba9addfce26bbd23f",
       "version_major": 2,
       "version_minor": 0
      },
      "text/plain": [
       "Running greedy:   0%|          | 0/8 [00:00<?, ?it/s]"
      ]
     },
     "metadata": {},
     "output_type": "display_data"
    },
    {
     "name": "stdout",
     "output_type": "stream",
     "text": [
      "Mean reward for greedy: -47.3548\n",
      "Time: 7.7488s\n",
      "Optimality gap: 22.23%\n",
      "====================\n",
      "Evaluating dataset: ../data/vrp/vrp1000_test_generalization_seed1234.npz\n",
      "Effective batch size: 128 (ratio: 1)\n",
      "Using automatic batch size: 128\n"
     ]
    },
    {
     "data": {
      "application/vnd.jupyter.widget-view+json": {
       "model_id": "21679bd808ef4a66b40e3048149d33a1",
       "version_major": 2,
       "version_minor": 0
      },
      "text/plain": [
       "Running greedy:   0%|          | 0/8 [00:00<?, ?it/s]"
      ]
     },
     "metadata": {},
     "output_type": "display_data"
    },
    {
     "name": "stdout",
     "output_type": "stream",
     "text": [
      "Mean reward for greedy: -75.0773\n",
      "Time: 21.6309s\n",
      "Optimality gap: 33.25%\n"
     ]
    }
   ],
   "source": [
    "# POMO\n",
    "model_name = f\"pomo-{exp_name}\"\n",
    "epoch = \"099\"\n",
    "model = load_policy(exp_name, epoch, model_name)\n",
    "pomo_stats = get_generalization_stats(model)"
   ]
  },
  {
   "cell_type": "code",
   "execution_count": 46,
   "metadata": {},
   "outputs": [
    {
     "name": "stderr",
     "output_type": "stream",
     "text": [
      "Unused kwargs: {'params': {'total': 1318912, 'trainable': 1318912, 'non_trainable': 0}}\n"
     ]
    },
    {
     "name": "stdout",
     "output_type": "stream",
     "text": [
      "====================\n",
      "Evaluating dataset: ../data/vrp/vrp10_test_generalization_seed1234.npz\n",
      "Effective batch size: 128 (ratio: 1)\n",
      "Using automatic batch size: 128\n"
     ]
    },
    {
     "data": {
      "application/vnd.jupyter.widget-view+json": {
       "model_id": "a61db7d097664690b58649e2230c04d5",
       "version_major": 2,
       "version_minor": 0
      },
      "text/plain": [
       "Running greedy:   0%|          | 0/8 [00:00<?, ?it/s]"
      ]
     },
     "metadata": {},
     "output_type": "display_data"
    },
    {
     "name": "stdout",
     "output_type": "stream",
     "text": [
      "Mean reward for greedy: -5.6997\n",
      "Time: 0.2416s\n",
      "Optimality gap: 16.63%\n",
      "====================\n",
      "Evaluating dataset: ../data/vrp/vrp20_test_generalization_seed1234.npz\n",
      "Effective batch size: 128 (ratio: 1)\n",
      "Using automatic batch size: 128\n"
     ]
    },
    {
     "data": {
      "application/vnd.jupyter.widget-view+json": {
       "model_id": "e30d6d453bd44a24b6a4b67865731d8d",
       "version_major": 2,
       "version_minor": 0
      },
      "text/plain": [
       "Running greedy:   0%|          | 0/8 [00:00<?, ?it/s]"
      ]
     },
     "metadata": {},
     "output_type": "display_data"
    },
    {
     "name": "stdout",
     "output_type": "stream",
     "text": [
      "Mean reward for greedy: -6.7811\n",
      "Time: 0.3401s\n",
      "Optimality gap: 8.17%\n",
      "====================\n",
      "Evaluating dataset: ../data/vrp/vrp50_test_generalization_seed1234.npz\n",
      "Effective batch size: 128 (ratio: 1)\n",
      "Using automatic batch size: 128\n"
     ]
    },
    {
     "data": {
      "application/vnd.jupyter.widget-view+json": {
       "model_id": "e14f575a300a40d984bb0ef495881f05",
       "version_major": 2,
       "version_minor": 0
      },
      "text/plain": [
       "Running greedy:   0%|          | 0/8 [00:00<?, ?it/s]"
      ]
     },
     "metadata": {},
     "output_type": "display_data"
    },
    {
     "name": "stdout",
     "output_type": "stream",
     "text": [
      "Mean reward for greedy: -10.9081\n",
      "Time: 0.6985s\n",
      "Optimality gap: 3.83%\n",
      "====================\n",
      "Evaluating dataset: ../data/vrp/vrp75_test_generalization_seed1234.npz\n",
      "Effective batch size: 128 (ratio: 1)\n",
      "Using automatic batch size: 128\n"
     ]
    },
    {
     "data": {
      "application/vnd.jupyter.widget-view+json": {
       "model_id": "8bfb086ac0ec46e3a4246a8cfe27c047",
       "version_major": 2,
       "version_minor": 0
      },
      "text/plain": [
       "Running greedy:   0%|          | 0/8 [00:00<?, ?it/s]"
      ]
     },
     "metadata": {},
     "output_type": "display_data"
    },
    {
     "name": "stdout",
     "output_type": "stream",
     "text": [
      "Mean reward for greedy: -14.1300\n",
      "Time: 1.0046s\n",
      "Optimality gap: 5.82%\n",
      "====================\n",
      "Evaluating dataset: ../data/vrp/vrp100_test_generalization_seed1234.npz\n",
      "Effective batch size: 128 (ratio: 1)\n",
      "Using automatic batch size: 128\n"
     ]
    },
    {
     "data": {
      "application/vnd.jupyter.widget-view+json": {
       "model_id": "54c52566506046b89c91cd26ded133a6",
       "version_major": 2,
       "version_minor": 0
      },
      "text/plain": [
       "Running greedy:   0%|          | 0/8 [00:00<?, ?it/s]"
      ]
     },
     "metadata": {},
     "output_type": "display_data"
    },
    {
     "name": "stdout",
     "output_type": "stream",
     "text": [
      "Mean reward for greedy: -17.0097\n",
      "Time: 1.3028s\n",
      "Optimality gap: 8.12%\n",
      "====================\n",
      "Evaluating dataset: ../data/vrp/vrp125_test_generalization_seed1234.npz\n",
      "Effective batch size: 128 (ratio: 1)\n",
      "Using automatic batch size: 128\n"
     ]
    },
    {
     "data": {
      "application/vnd.jupyter.widget-view+json": {
       "model_id": "13d19565005347d08d21c25a96f62fa3",
       "version_major": 2,
       "version_minor": 0
      },
      "text/plain": [
       "Running greedy:   0%|          | 0/8 [00:00<?, ?it/s]"
      ]
     },
     "metadata": {},
     "output_type": "display_data"
    },
    {
     "name": "stdout",
     "output_type": "stream",
     "text": [
      "Mean reward for greedy: -19.6149\n",
      "Time: 1.6074s\n",
      "Optimality gap: 10.11%\n",
      "====================\n",
      "Evaluating dataset: ../data/vrp/vrp150_test_generalization_seed1234.npz\n",
      "Effective batch size: 128 (ratio: 1)\n",
      "Using automatic batch size: 128\n"
     ]
    },
    {
     "data": {
      "application/vnd.jupyter.widget-view+json": {
       "model_id": "743e912bac61464a85e218ce6c5f04b8",
       "version_major": 2,
       "version_minor": 0
      },
      "text/plain": [
       "Running greedy:   0%|          | 0/8 [00:00<?, ?it/s]"
      ]
     },
     "metadata": {},
     "output_type": "display_data"
    },
    {
     "name": "stdout",
     "output_type": "stream",
     "text": [
      "Mean reward for greedy: -22.1047\n",
      "Time: 1.9256s\n",
      "Optimality gap: 13.05%\n",
      "====================\n",
      "Evaluating dataset: ../data/vrp/vrp200_test_generalization_seed1234.npz\n",
      "Effective batch size: 128 (ratio: 1)\n",
      "Using automatic batch size: 128\n"
     ]
    },
    {
     "data": {
      "application/vnd.jupyter.widget-view+json": {
       "model_id": "958a7ad70196408882ab12e34a181cd6",
       "version_major": 2,
       "version_minor": 0
      },
      "text/plain": [
       "Running greedy:   0%|          | 0/8 [00:00<?, ?it/s]"
      ]
     },
     "metadata": {},
     "output_type": "display_data"
    },
    {
     "name": "stdout",
     "output_type": "stream",
     "text": [
      "Mean reward for greedy: -27.0821\n",
      "Time: 2.5457s\n",
      "Optimality gap: 18.98%\n",
      "====================\n",
      "Evaluating dataset: ../data/vrp/vrp500_test_generalization_seed1234.npz\n",
      "Effective batch size: 128 (ratio: 1)\n",
      "Using automatic batch size: 128\n"
     ]
    },
    {
     "data": {
      "application/vnd.jupyter.widget-view+json": {
       "model_id": "387c7fbf6317436aa21e78156dd13ef6",
       "version_major": 2,
       "version_minor": 0
      },
      "text/plain": [
       "Running greedy:   0%|          | 0/8 [00:00<?, ?it/s]"
      ]
     },
     "metadata": {},
     "output_type": "display_data"
    },
    {
     "name": "stdout",
     "output_type": "stream",
     "text": [
      "Mean reward for greedy: -89.9182\n",
      "Time: 7.9232s\n",
      "Optimality gap: 57.71%\n",
      "====================\n",
      "Evaluating dataset: ../data/vrp/vrp1000_test_generalization_seed1234.npz\n",
      "Effective batch size: 128 (ratio: 1)\n",
      "Using automatic batch size: 128\n"
     ]
    },
    {
     "data": {
      "application/vnd.jupyter.widget-view+json": {
       "model_id": "c373709b0d6e4d3bb75dbc2887cae200",
       "version_major": 2,
       "version_minor": 0
      },
      "text/plain": [
       "Running greedy:   0%|          | 0/8 [00:00<?, ?it/s]"
      ]
     },
     "metadata": {},
     "output_type": "display_data"
    },
    {
     "name": "stdout",
     "output_type": "stream",
     "text": [
      "Mean reward for greedy: -216.5047\n",
      "Time: 22.4529s\n",
      "Optimality gap: 76.50%\n"
     ]
    }
   ],
   "source": [
    "# SymNCO\n",
    "model_name = f\"symnco-{exp_name}\"\n",
    "epoch = \"099\"\n",
    "model = load_policy(exp_name, epoch, model_name)\n",
    "symnco_stats = get_generalization_stats(model)"
   ]
  },
  {
   "cell_type": "code",
   "execution_count": 47,
   "metadata": {},
   "outputs": [
    {
     "name": "stderr",
     "output_type": "stream",
     "text": [
      "Unused kwargs: {'params': {'total': 1285888, 'trainable': 1285888, 'non_trainable': 0}}\n"
     ]
    },
    {
     "name": "stdout",
     "output_type": "stream",
     "text": [
      "====================\n",
      "Evaluating dataset: ../data/vrp/vrp10_test_generalization_seed1234.npz\n",
      "Effective batch size: 128 (ratio: 1)\n",
      "Using automatic batch size: 128\n"
     ]
    },
    {
     "data": {
      "application/vnd.jupyter.widget-view+json": {
       "model_id": "eacc204603cf488ca51f884c8d18becb",
       "version_major": 2,
       "version_minor": 0
      },
      "text/plain": [
       "Running greedy:   0%|          | 0/8 [00:00<?, ?it/s]"
      ]
     },
     "metadata": {},
     "output_type": "display_data"
    },
    {
     "name": "stdout",
     "output_type": "stream",
     "text": [
      "Mean reward for greedy: -5.3426\n",
      "Time: 0.2286s\n",
      "Optimality gap: 11.44%\n",
      "====================\n",
      "Evaluating dataset: ../data/vrp/vrp20_test_generalization_seed1234.npz\n",
      "Effective batch size: 128 (ratio: 1)\n",
      "Using automatic batch size: 128\n"
     ]
    },
    {
     "data": {
      "application/vnd.jupyter.widget-view+json": {
       "model_id": "9fe2765cc0a24017a2a1f4384edc9487",
       "version_major": 2,
       "version_minor": 0
      },
      "text/plain": [
       "Running greedy:   0%|          | 0/8 [00:00<?, ?it/s]"
      ]
     },
     "metadata": {},
     "output_type": "display_data"
    },
    {
     "name": "stdout",
     "output_type": "stream",
     "text": [
      "Mean reward for greedy: -6.6498\n",
      "Time: 0.3513s\n",
      "Optimality gap: 6.43%\n",
      "====================\n",
      "Evaluating dataset: ../data/vrp/vrp50_test_generalization_seed1234.npz\n",
      "Effective batch size: 128 (ratio: 1)\n",
      "Using automatic batch size: 128\n"
     ]
    },
    {
     "data": {
      "application/vnd.jupyter.widget-view+json": {
       "model_id": "84c2e1466b794873b4e6b8dc9747b414",
       "version_major": 2,
       "version_minor": 0
      },
      "text/plain": [
       "Running greedy:   0%|          | 0/8 [00:00<?, ?it/s]"
      ]
     },
     "metadata": {},
     "output_type": "display_data"
    },
    {
     "name": "stdout",
     "output_type": "stream",
     "text": [
      "Mean reward for greedy: -10.9221\n",
      "Time: 0.6982s\n",
      "Optimality gap: 3.98%\n",
      "====================\n",
      "Evaluating dataset: ../data/vrp/vrp75_test_generalization_seed1234.npz\n",
      "Effective batch size: 128 (ratio: 1)\n",
      "Using automatic batch size: 128\n"
     ]
    },
    {
     "data": {
      "application/vnd.jupyter.widget-view+json": {
       "model_id": "18e66f4a9a884db7a82602d6f20f5cc9",
       "version_major": 2,
       "version_minor": 0
      },
      "text/plain": [
       "Running greedy:   0%|          | 0/8 [00:00<?, ?it/s]"
      ]
     },
     "metadata": {},
     "output_type": "display_data"
    },
    {
     "name": "stdout",
     "output_type": "stream",
     "text": [
      "Mean reward for greedy: -14.0876\n",
      "Time: 1.0089s\n",
      "Optimality gap: 5.53%\n",
      "====================\n",
      "Evaluating dataset: ../data/vrp/vrp100_test_generalization_seed1234.npz\n",
      "Effective batch size: 128 (ratio: 1)\n",
      "Using automatic batch size: 128\n"
     ]
    },
    {
     "data": {
      "application/vnd.jupyter.widget-view+json": {
       "model_id": "65dd4faca76b41ce8bee435f3e0f478a",
       "version_major": 2,
       "version_minor": 0
      },
      "text/plain": [
       "Running greedy:   0%|          | 0/8 [00:00<?, ?it/s]"
      ]
     },
     "metadata": {},
     "output_type": "display_data"
    },
    {
     "name": "stdout",
     "output_type": "stream",
     "text": [
      "Mean reward for greedy: -16.7601\n",
      "Time: 1.3163s\n",
      "Optimality gap: 6.74%\n",
      "====================\n",
      "Evaluating dataset: ../data/vrp/vrp125_test_generalization_seed1234.npz\n",
      "Effective batch size: 128 (ratio: 1)\n",
      "Using automatic batch size: 128\n"
     ]
    },
    {
     "data": {
      "application/vnd.jupyter.widget-view+json": {
       "model_id": "8175bc72999749a48081265ba2b11897",
       "version_major": 2,
       "version_minor": 0
      },
      "text/plain": [
       "Running greedy:   0%|          | 0/8 [00:00<?, ?it/s]"
      ]
     },
     "metadata": {},
     "output_type": "display_data"
    },
    {
     "name": "stdout",
     "output_type": "stream",
     "text": [
      "Mean reward for greedy: -19.0195\n",
      "Time: 1.6073s\n",
      "Optimality gap: 7.26%\n",
      "====================\n",
      "Evaluating dataset: ../data/vrp/vrp150_test_generalization_seed1234.npz\n",
      "Effective batch size: 128 (ratio: 1)\n",
      "Using automatic batch size: 128\n"
     ]
    },
    {
     "data": {
      "application/vnd.jupyter.widget-view+json": {
       "model_id": "bb410da965ad4d108737cd2911a7ccd5",
       "version_major": 2,
       "version_minor": 0
      },
      "text/plain": [
       "Running greedy:   0%|          | 0/8 [00:00<?, ?it/s]"
      ]
     },
     "metadata": {},
     "output_type": "display_data"
    },
    {
     "name": "stdout",
     "output_type": "stream",
     "text": [
      "Mean reward for greedy: -21.1414\n",
      "Time: 1.9355s\n",
      "Optimality gap: 9.00%\n",
      "====================\n",
      "Evaluating dataset: ../data/vrp/vrp200_test_generalization_seed1234.npz\n",
      "Effective batch size: 128 (ratio: 1)\n",
      "Using automatic batch size: 128\n"
     ]
    },
    {
     "data": {
      "application/vnd.jupyter.widget-view+json": {
       "model_id": "7f42ae1e014142e08ed0189092f47dcb",
       "version_major": 2,
       "version_minor": 0
      },
      "text/plain": [
       "Running greedy:   0%|          | 0/8 [00:00<?, ?it/s]"
      ]
     },
     "metadata": {},
     "output_type": "display_data"
    },
    {
     "name": "stdout",
     "output_type": "stream",
     "text": [
      "Mean reward for greedy: -24.6832\n",
      "Time: 2.5380s\n",
      "Optimality gap: 11.10%\n",
      "====================\n",
      "Evaluating dataset: ../data/vrp/vrp500_test_generalization_seed1234.npz\n",
      "Effective batch size: 128 (ratio: 1)\n",
      "Using automatic batch size: 128\n"
     ]
    },
    {
     "data": {
      "application/vnd.jupyter.widget-view+json": {
       "model_id": "4f2cd22117c9432eac80a0f3dcab897a",
       "version_major": 2,
       "version_minor": 0
      },
      "text/plain": [
       "Running greedy:   0%|          | 0/8 [00:00<?, ?it/s]"
      ]
     },
     "metadata": {},
     "output_type": "display_data"
    },
    {
     "name": "stdout",
     "output_type": "stream",
     "text": [
      "Mean reward for greedy: -44.7208\n",
      "Time: 7.7968s\n",
      "Optimality gap: 17.62%\n",
      "====================\n",
      "Evaluating dataset: ../data/vrp/vrp1000_test_generalization_seed1234.npz\n",
      "Effective batch size: 128 (ratio: 1)\n",
      "Using automatic batch size: 128\n"
     ]
    },
    {
     "data": {
      "application/vnd.jupyter.widget-view+json": {
       "model_id": "a4d1b631d6ed461294c29c3aa2d93c4d",
       "version_major": 2,
       "version_minor": 0
      },
      "text/plain": [
       "Running greedy:   0%|          | 0/8 [00:00<?, ?it/s]"
      ]
     },
     "metadata": {},
     "output_type": "display_data"
    },
    {
     "name": "stdout",
     "output_type": "stream",
     "text": [
      "Mean reward for greedy: -67.9830\n",
      "Time: 21.4162s\n",
      "Optimality gap: 26.60%\n"
     ]
    }
   ],
   "source": [
    "# AM-xl\n",
    "model_name = f\"am-{exp_name}-sm-xl\"\n",
    "epoch = \"499\"\n",
    "model = load_policy(exp_name, epoch, model_name)\n",
    "am_xl_stats = get_generalization_stats(model)"
   ]
  },
  {
   "cell_type": "code",
   "execution_count": 50,
   "metadata": {},
   "outputs": [],
   "source": [
    "experiments = { \n",
    "    'am-critic': am_critic_stats,\n",
    "    'am': am_stats,\n",
    "    'pomo': pomo_stats, \n",
    "    'symnco': symnco_stats,\n",
    "    'am-xl': am_xl_stats,\n",
    "}\n",
    "\n",
    "colors = {\n",
    "    'am-critic': 'tab:red',\n",
    "    'am': 'tab:blue',\n",
    "    'pomo': 'tab:orange',\n",
    "    'symnco': 'tab:green',\n",
    "    'am-xl': 'tab:purple',\n",
    "}\n",
    "\n",
    "labels = {\n",
    "    'am-critic': 'AM-critic',\n",
    "    'am': 'AM',\n",
    "    'pomo': 'POMO',\n",
    "    'symnco': 'SymNCO',\n",
    "    'am-xl': 'AM-XL',\n",
    "}"
   ]
  },
  {
   "cell_type": "code",
   "execution_count": 51,
   "metadata": {},
   "outputs": [],
   "source": [
    "import matplotlib\n",
    "import matplotlib.pyplot as plt\n",
    "\n",
    "plt.rcParams.update({'text.usetex': True,\n",
    "                    'font.family': 'serif',\n",
    "                    # 'font.size': 16,\n",
    "})"
   ]
  },
  {
   "attachments": {},
   "cell_type": "markdown",
   "metadata": {},
   "source": []
  },
  {
   "cell_type": "code",
   "execution_count": 54,
   "metadata": {},
   "outputs": [
    {
     "data": {
      "image/png": "[encoded data removed]",
      "text/plain": [
       "<Figure size 600x400 with 1 Axes>"
      ]
     },
     "metadata": {},
     "output_type": "display_data"
    }
   ],
   "source": [
    "\n",
    "fig, ax = plt.subplots(figsize=(6,4))\n",
    "\n",
    "data_generalization = defaultdict(list)\n",
    "\n",
    "for experiment in experiments:\n",
    "    # add data to save and plot\n",
    "    stats = experiments[experiment]\n",
    "    data_generalization[experiment] = stats\n",
    "\n",
    "    ax.plot(stats['num_nodes'], stats['optimality_gap'], label=labels[experiment], color=colors[experiment])\n",
    "\n",
    "# log scale\n",
    "ax.set_xscale('log')\n",
    "# ax.set_yscale('log')\n",
    "\n",
    "# cut plot at 10 nodes\n",
    "# ax.set_xlim([10, 1000])\n",
    "ax.set_xlim([10, 200])\n",
    "\n",
    "# replace x-axis ticks\n",
    "# ax.set_xticks([10, 20, 50, 100, 200, 500, 1000])\n",
    "ax.set_xticks([10, 20, 50, 100, 200])\n",
    "ax.get_xaxis().set_major_formatter(matplotlib.ticker.ScalarFormatter())\n",
    "\n",
    "# Set plot title\n",
    "ax.set_title('Generalization to different sizes')\n",
    "\n",
    "# Set x-axis label\n",
    "ax.set_xlabel('Number of nodes')\n",
    "ax.set_ylabel('Gap (\\%)')\n",
    "\n",
    "ax.set_ylim([0, 20])\n",
    "ax.set_ylim([0, None])\n",
    "\n",
    "# Training size: draw vertical line at num_nodes = stats['num_nodes'][-1]\n",
    "# ax.axvline(x=stats['num_nodes'][-1])#, color='tab:red', linestyle='--', linewidth=1)\n",
    "\n",
    "# Set grid on with dashed lines for log scale\n",
    "ax.grid(True, which=\"both\", ls=\"--\", color='0.93')\n",
    "\n",
    "# legend\n",
    "ax.legend(loc='upper left')\n",
    "\n",
    "# Save plot data\n",
    "save_folder = Path('plots/')\n",
    "save_folder.mkdir(parents=True, exist_ok=True)\n",
    "plt.savefig(save_folder / f'{exp_name}.pdf', bbox_inches='tight')\n",
    "\n",
    "# Save data with pickle\n",
    "with open(save_folder / f'{exp_name}_data.pkl', 'wb') as f:\n",
    "    pickle.dump(data_generalization, f)"
   ]
  }
 ],
 "metadata": {
  "kernelspec": {
   "display_name": "env",
   "language": "python",
   "name": "python3"
  },
  "language_info": {
   "codemirror_mode": {
    "name": "ipython",
    "version": 3
   },
   "file_extension": ".py",
   "mimetype": "text/x-python",
   "name": "python",
   "nbconvert_exporter": "python",
   "pygments_lexer": "ipython3",
   "version": "3.10.9"
  },
  "orig_nbformat": 4
 },
 "nbformat": 4,
 "nbformat_minor": 2
}
