{
 "cells": [
  {
   "attachments": {},
   "cell_type": "markdown",
   "metadata": {},
   "source": [
    "## Generalization "
   ]
  },
  {
   "cell_type": "code",
   "execution_count": 1,
   "metadata": {},
   "outputs": [
    {
     "name": "stderr",
     "output_type": "stream",
     "text": [
      "/home/botu/botu/Dev/rl4co/env/lib/python3.10/site-packages/torchrl/__init__.py:26: UserWarning: failed to set start method to spawn, and current start method for mp is fork.\n",
      "  warn(\n"
     ]
    }
   ],
   "source": [
    "%load_ext autoreload\n",
    "%autoreload 2\n",
    "\n",
    "import sys; sys.path.append(3*'../')\n",
    "\n",
    "import os\n",
    "import glob\n",
    "from pathlib import Path\n",
    "from omegaconf import DictConfig\n",
    "import yaml\n",
    "import pickle\n",
    "from collections import defaultdict\n",
    "\n",
    "\n",
    "import torch\n",
    "import lightning as L\n",
    "\n",
    "from rl4co.envs import TSPEnv, CVRPEnv\n",
    "from rl4co.tasks.rl4co import RL4COLitModule\n",
    "from rl4co.utils.lightning import load_model_from_checkpoint, clean_hydra_config\n",
    "from rl4co.tasks.eval import evaluate_policy\n"
   ]
  },
  {
   "attachments": {},
   "cell_type": "markdown",
   "metadata": {},
   "source": [
    "## Load solver solutions"
   ]
  },
  {
   "cell_type": "code",
   "execution_count": 2,
   "metadata": {},
   "outputs": [],
   "source": [
    "device = torch.device(\"cuda:5\")\n",
    "\n",
    "exp_name = 'tsp20'\n",
    "env = TSPEnv()\n"
   ]
  },
  {
   "cell_type": "code",
   "execution_count": 3,
   "metadata": {},
   "outputs": [],
   "source": [
    "solver_path = Path(\"../solver/tsp\")\n",
    "solver_files = glob.glob(str(solver_path / \"*tsp*.pkl\"), recursive=True)\n",
    "\n",
    "\n",
    "# Concorde\n",
    "def load_solver_file(num_nodes):\n",
    "    # load pickle of first solver file\n",
    "    file_ = solver_path / f\"tsp_{num_nodes}.pkl\"\n",
    "    with open(file_, 'rb') as f:\n",
    "        costs = pickle.load(f)\n",
    "    print(\"Concorde time for {} nodes: {:.2f}s\".format(num_nodes, costs[0]))\n",
    "    print(\"Average cost: {:.2f}\".format(sum(costs[1])/len(costs[1])))\n",
    "    return costs[1]"
   ]
  },
  {
   "attachments": {},
   "cell_type": "markdown",
   "metadata": {},
   "source": [
    "## Loading datasets"
   ]
  },
  {
   "cell_type": "code",
   "execution_count": 4,
   "metadata": {},
   "outputs": [
    {
     "name": "stdout",
     "output_type": "stream",
     "text": [
      "Concorde time for 10 nodes: 67.52s\n",
      "Average cost: 2.86\n",
      "Concorde time for 20 nodes: 1132.89s\n",
      "Average cost: 3.84\n",
      "Concorde time for 50 nodes: 1904.55s\n",
      "Average cost: 5.70\n",
      "Concorde time for 75 nodes: 232.56s\n",
      "Average cost: 6.81\n",
      "Concorde time for 100 nodes: 4107.35s\n",
      "Average cost: 7.76\n",
      "Concorde time for 125 nodes: 511.61s\n",
      "Average cost: 8.59\n",
      "Concorde time for 150 nodes: 791.64s\n",
      "Average cost: 9.37\n",
      "Concorde time for 200 nodes: 1339.49s\n",
      "Average cost: 10.70\n",
      "Concorde time for 500 nodes: 14330.72s\n",
      "Average cost: 16.54\n",
      "Concorde time for 1000 nodes: 136436.25s\n",
      "Average cost: 23.13\n"
     ]
    }
   ],
   "source": [
    "# Get all files that contain \"generalization*.npz\" under data/tsp\n",
    "data_dir = Path(\"../data/tsp\")\n",
    "files = glob.glob(str(data_dir / \"*generalization*.npz\"), recursive=True)\n",
    "# files =  sorted(files)\n",
    "# print(files)\n",
    "\n",
    "num_nodes = [10, 20, 50, 75, 100, 125, 150, 200, 500, 1000]\n",
    "\n",
    "\n",
    "datasets = []\n",
    "for num_nodes_ in num_nodes:\n",
    "    for file in files:\n",
    "        if \"tsp{}_\".format(num_nodes_) in file:\n",
    "            dataset = env.dataset(filename=file, phase='test')\n",
    "            solver_costs = load_solver_file(num_nodes_)\n",
    "            datasets.append({'num_nodes': num_nodes_, 'file': file, \n",
    "                             'dataset': dataset, 'solver_costs': solver_costs})"
   ]
  },
  {
   "attachments": {},
   "cell_type": "markdown",
   "metadata": {},
   "source": [
    "## Loading model from checkpoint"
   ]
  },
  {
   "cell_type": "code",
   "execution_count": 5,
   "metadata": {},
   "outputs": [],
   "source": [
    "def load_policy(exp_name, epoch, model_name):\n",
    "\n",
    "    main_dir = Path('../../../saved_checkpoints/')\n",
    "\n",
    "    main_dir = main_dir / exp_name / model_name\n",
    "\n",
    "    cfg_path = main_dir / 'config.yaml'\n",
    "    ckpt_path = main_dir / 'epoch_{}.ckpt'.format(epoch)\n",
    "\n",
    "    lit_module = load_model_from_checkpoint(cfg_path, ckpt_path, phase='test')\n",
    "\n",
    "    policy = lit_module.model.policy.to(device)\n",
    "    policy.eval()\n",
    "    return policy"
   ]
  },
  {
   "cell_type": "code",
   "execution_count": 6,
   "metadata": {},
   "outputs": [],
   "source": [
    "def optimality_gap(bk_sol, opt_sol):\n",
    "    return ((bk_sol - opt_sol) / bk_sol).mean().item() * 100"
   ]
  },
  {
   "cell_type": "code",
   "execution_count": 7,
   "metadata": {},
   "outputs": [],
   "source": [
    "def get_generalization_stats(policy):\n",
    "    stats = defaultdict(list)\n",
    "\n",
    "    for dataset in datasets:\n",
    "        print(\"====================\")\n",
    "        print(\"Evaluating dataset: {}\".format(dataset['file']))\n",
    "        stats['num_nodes'].append(dataset['num_nodes'])\n",
    "        stats['file'].append(dataset['file'])\n",
    "        out_dict = evaluate_policy(env, policy, dataset['dataset'], method='greedy', max_batch_size=128)\n",
    "\n",
    "        model_costs = -out_dict['rewards']\n",
    "        solver_costs = torch.Tensor(dataset['solver_costs'][:1000]) # by default, we only evaluate on 1000 samples\n",
    "\n",
    "        stats['model_cost_mean'].append(model_costs.mean())\n",
    "        stats['solver_cost_mean'].append(solver_costs.mean())\n",
    "        gap = optimality_gap(model_costs, solver_costs)\n",
    "        stats['optimality_gap'].append(gap)\n",
    "\n",
    "        print(\"Optimality gap: {:.2f}%\".format(gap))\n",
    "\n",
    "    return stats"
   ]
  },
  {
   "cell_type": "code",
   "execution_count": 8,
   "metadata": {},
   "outputs": [],
   "source": [
    "# # Pointer Net\n",
    "# model_name = \"ptrnet-tsp50\"\n",
    "# epoch = \"099\"\n",
    "# model = load_policy(exp_name, epoch, model_name)\n",
    "# ptrnet_stats = get_generalization_stats(model)"
   ]
  },
  {
   "cell_type": "code",
   "execution_count": 9,
   "metadata": {},
   "outputs": [
    {
     "name": "stderr",
     "output_type": "stream",
     "text": [
      "Unused kwargs: {'params': {'total': 1368833, 'trainable': 1368833, 'non_trainable': 0}}\n"
     ]
    },
    {
     "name": "stdout",
     "output_type": "stream",
     "text": [
      "====================\n",
      "Evaluating dataset: ../data/tsp/tsp10_test_generalization_seed1234.npz\n",
      "Effective batch size: 128 (ratio: 1)\n",
      "Using automatic batch size: 128\n"
     ]
    },
    {
     "data": {
      "application/vnd.jupyter.widget-view+json": {
       "model_id": "9e6a121e661d4c6b87138a80a5a99f04",
       "version_major": 2,
       "version_minor": 0
      },
      "text/plain": [
       "Running greedy:   0%|          | 0/8 [00:00<?, ?it/s]"
      ]
     },
     "metadata": {},
     "output_type": "display_data"
    },
    {
     "name": "stdout",
     "output_type": "stream",
     "text": [
      "Mean reward for greedy: -2.8681\n",
      "Time: 0.2073s\n",
      "Optimality gap: 0.15%\n",
      "====================\n",
      "Evaluating dataset: ../data/tsp/tsp20_test_generalization_seed1234.npz\n",
      "Effective batch size: 128 (ratio: 1)\n",
      "Using automatic batch size: 128\n"
     ]
    },
    {
     "data": {
      "application/vnd.jupyter.widget-view+json": {
       "model_id": "cb8555e4a7d345a1a8d48adc44a44ca1",
       "version_major": 2,
       "version_minor": 0
      },
      "text/plain": [
       "Running greedy:   0%|          | 0/8 [00:00<?, ?it/s]"
      ]
     },
     "metadata": {},
     "output_type": "display_data"
    },
    {
     "name": "stdout",
     "output_type": "stream",
     "text": [
      "Mean reward for greedy: -3.8707\n",
      "Time: 0.1982s\n",
      "Optimality gap: 0.65%\n",
      "====================\n",
      "Evaluating dataset: ../data/tsp/tsp50_test_generalization_seed1234.npz\n",
      "Effective batch size: 128 (ratio: 1)\n",
      "Using automatic batch size: 128\n"
     ]
    },
    {
     "data": {
      "application/vnd.jupyter.widget-view+json": {
       "model_id": "ee270ec678b049f59df88f0a637a2114",
       "version_major": 2,
       "version_minor": 0
      },
      "text/plain": [
       "Running greedy:   0%|          | 0/8 [00:00<?, ?it/s]"
      ]
     },
     "metadata": {},
     "output_type": "display_data"
    },
    {
     "name": "stdout",
     "output_type": "stream",
     "text": [
      "Mean reward for greedy: -5.9709\n",
      "Time: 0.4569s\n",
      "Optimality gap: 4.69%\n",
      "====================\n",
      "Evaluating dataset: ../data/tsp/tsp75_test_generalization_seed1234.npz\n",
      "Effective batch size: 128 (ratio: 1)\n",
      "Using automatic batch size: 128\n"
     ]
    },
    {
     "data": {
      "application/vnd.jupyter.widget-view+json": {
       "model_id": "26b09e3006cb44b989730ad10b248294",
       "version_major": 2,
       "version_minor": 0
      },
      "text/plain": [
       "Running greedy:   0%|          | 0/8 [00:00<?, ?it/s]"
      ]
     },
     "metadata": {},
     "output_type": "display_data"
    },
    {
     "name": "stdout",
     "output_type": "stream",
     "text": [
      "Mean reward for greedy: -7.5045\n",
      "Time: 0.6646s\n",
      "Optimality gap: 9.16%\n",
      "====================\n",
      "Evaluating dataset: ../data/tsp/tsp100_test_generalization_seed1234.npz\n",
      "Effective batch size: 128 (ratio: 1)\n",
      "Using automatic batch size: 128\n"
     ]
    },
    {
     "data": {
      "application/vnd.jupyter.widget-view+json": {
       "model_id": "a239a34b136249f0a249fca70369850f",
       "version_major": 2,
       "version_minor": 0
      },
      "text/plain": [
       "Running greedy:   0%|          | 0/8 [00:00<?, ?it/s]"
      ]
     },
     "metadata": {},
     "output_type": "display_data"
    },
    {
     "name": "stdout",
     "output_type": "stream",
     "text": [
      "Mean reward for greedy: -8.9131\n",
      "Time: 0.8915s\n",
      "Optimality gap: 12.95%\n",
      "====================\n",
      "Evaluating dataset: ../data/tsp/tsp125_test_generalization_seed1234.npz\n",
      "Effective batch size: 128 (ratio: 1)\n",
      "Using automatic batch size: 128\n"
     ]
    },
    {
     "data": {
      "application/vnd.jupyter.widget-view+json": {
       "model_id": "eb74944e35a74a87b5ff7ba36339a340",
       "version_major": 2,
       "version_minor": 0
      },
      "text/plain": [
       "Running greedy:   0%|          | 0/8 [00:00<?, ?it/s]"
      ]
     },
     "metadata": {},
     "output_type": "display_data"
    },
    {
     "name": "stdout",
     "output_type": "stream",
     "text": [
      "Mean reward for greedy: -10.2602\n",
      "Time: 1.1046s\n",
      "Optimality gap: 16.18%\n",
      "====================\n",
      "Evaluating dataset: ../data/tsp/tsp150_test_generalization_seed1234.npz\n",
      "Effective batch size: 128 (ratio: 1)\n",
      "Using automatic batch size: 128\n"
     ]
    },
    {
     "data": {
      "application/vnd.jupyter.widget-view+json": {
       "model_id": "2af0f2c3f8e04cdba819e81f1c530487",
       "version_major": 2,
       "version_minor": 0
      },
      "text/plain": [
       "Running greedy:   0%|          | 0/8 [00:00<?, ?it/s]"
      ]
     },
     "metadata": {},
     "output_type": "display_data"
    },
    {
     "name": "stdout",
     "output_type": "stream",
     "text": [
      "Mean reward for greedy: -11.5128\n",
      "Time: 1.3211s\n",
      "Optimality gap: 18.55%\n",
      "====================\n",
      "Evaluating dataset: ../data/tsp/tsp200_test_generalization_seed1234.npz\n",
      "Effective batch size: 128 (ratio: 1)\n",
      "Using automatic batch size: 128\n"
     ]
    },
    {
     "data": {
      "application/vnd.jupyter.widget-view+json": {
       "model_id": "5f42a80eb97c43469a730b0dd7b776a6",
       "version_major": 2,
       "version_minor": 0
      },
      "text/plain": [
       "Running greedy:   0%|          | 0/8 [00:00<?, ?it/s]"
      ]
     },
     "metadata": {},
     "output_type": "display_data"
    },
    {
     "name": "stdout",
     "output_type": "stream",
     "text": [
      "Mean reward for greedy: -13.7785\n",
      "Time: 1.7583s\n",
      "Optimality gap: 22.29%\n",
      "====================\n",
      "Evaluating dataset: ../data/tsp/tsp500_test_generalization_seed1234.npz\n",
      "Effective batch size: 128 (ratio: 1)\n",
      "Using automatic batch size: 128\n"
     ]
    },
    {
     "data": {
      "application/vnd.jupyter.widget-view+json": {
       "model_id": "9c53b77279ca4378b663671a907aeab7",
       "version_major": 2,
       "version_minor": 0
      },
      "text/plain": [
       "Running greedy:   0%|          | 0/8 [00:00<?, ?it/s]"
      ]
     },
     "metadata": {},
     "output_type": "display_data"
    },
    {
     "name": "stdout",
     "output_type": "stream",
     "text": [
      "Mean reward for greedy: -24.6970\n",
      "Time: 5.7915s\n",
      "Optimality gap: 33.01%\n",
      "====================\n",
      "Evaluating dataset: ../data/tsp/tsp1000_test_generalization_seed1234.npz\n",
      "Effective batch size: 128 (ratio: 1)\n",
      "Using automatic batch size: 128\n"
     ]
    },
    {
     "data": {
      "application/vnd.jupyter.widget-view+json": {
       "model_id": "c7f066d02ff3447dbb72a78e06cbac6e",
       "version_major": 2,
       "version_minor": 0
      },
      "text/plain": [
       "Running greedy:   0%|          | 0/8 [00:00<?, ?it/s]"
      ]
     },
     "metadata": {},
     "output_type": "display_data"
    },
    {
     "name": "stdout",
     "output_type": "stream",
     "text": [
      "Mean reward for greedy: -38.5294\n",
      "Time: 17.2470s\n",
      "Optimality gap: 39.96%\n"
     ]
    }
   ],
   "source": [
    "# AM Critic\n",
    "model_name = f\"am-critic-{exp_name}\"\n",
    "epoch = \"099\"\n",
    "model = load_policy(exp_name, epoch, model_name)\n",
    "am_critic_stats = get_generalization_stats(model)"
   ]
  },
  {
   "cell_type": "code",
   "execution_count": 10,
   "metadata": {},
   "outputs": [
    {
     "name": "stderr",
     "output_type": "stream",
     "text": [
      "Unused kwargs: {'params': {'total': 708608, 'trainable': 708608, 'non_trainable': 0}}\n"
     ]
    },
    {
     "name": "stdout",
     "output_type": "stream",
     "text": [
      "====================\n",
      "Evaluating dataset: ../data/tsp/tsp10_test_generalization_seed1234.npz\n",
      "Effective batch size: 128 (ratio: 1)\n",
      "Using automatic batch size: 128\n"
     ]
    },
    {
     "data": {
      "application/vnd.jupyter.widget-view+json": {
       "model_id": "8f73b5255fed4780a27913fc3ab47f71",
       "version_major": 2,
       "version_minor": 0
      },
      "text/plain": [
       "Running greedy:   0%|          | 0/8 [00:00<?, ?it/s]"
      ]
     },
     "metadata": {},
     "output_type": "display_data"
    },
    {
     "name": "stdout",
     "output_type": "stream",
     "text": [
      "Mean reward for greedy: -2.8657\n",
      "Time: 0.1155s\n",
      "Optimality gap: 0.07%\n",
      "====================\n",
      "Evaluating dataset: ../data/tsp/tsp20_test_generalization_seed1234.npz\n",
      "Effective batch size: 128 (ratio: 1)\n",
      "Using automatic batch size: 128\n"
     ]
    },
    {
     "data": {
      "application/vnd.jupyter.widget-view+json": {
       "model_id": "cdc57a61106b4fe8b33d4276acf466a7",
       "version_major": 2,
       "version_minor": 0
      },
      "text/plain": [
       "Running greedy:   0%|          | 0/8 [00:00<?, ?it/s]"
      ]
     },
     "metadata": {},
     "output_type": "display_data"
    },
    {
     "name": "stdout",
     "output_type": "stream",
     "text": [
      "Mean reward for greedy: -3.8519\n",
      "Time: 0.1992s\n",
      "Optimality gap: 0.18%\n",
      "====================\n",
      "Evaluating dataset: ../data/tsp/tsp50_test_generalization_seed1234.npz\n",
      "Effective batch size: 128 (ratio: 1)\n",
      "Using automatic batch size: 128\n"
     ]
    },
    {
     "data": {
      "application/vnd.jupyter.widget-view+json": {
       "model_id": "ec06cf99a1ac43568e909faf9654ea79",
       "version_major": 2,
       "version_minor": 0
      },
      "text/plain": [
       "Running greedy:   0%|          | 0/8 [00:00<?, ?it/s]"
      ]
     },
     "metadata": {},
     "output_type": "display_data"
    },
    {
     "name": "stdout",
     "output_type": "stream",
     "text": [
      "Mean reward for greedy: -5.9097\n",
      "Time: 0.4559s\n",
      "Optimality gap: 3.70%\n",
      "====================\n",
      "Evaluating dataset: ../data/tsp/tsp75_test_generalization_seed1234.npz\n",
      "Effective batch size: 128 (ratio: 1)\n",
      "Using automatic batch size: 128\n"
     ]
    },
    {
     "data": {
      "application/vnd.jupyter.widget-view+json": {
       "model_id": "0ea84a0b41bf46d792296fc1624dcce7",
       "version_major": 2,
       "version_minor": 0
      },
      "text/plain": [
       "Running greedy:   0%|          | 0/8 [00:00<?, ?it/s]"
      ]
     },
     "metadata": {},
     "output_type": "display_data"
    },
    {
     "name": "stdout",
     "output_type": "stream",
     "text": [
      "Mean reward for greedy: -7.4661\n",
      "Time: 0.6621s\n",
      "Optimality gap: 8.68%\n",
      "====================\n",
      "Evaluating dataset: ../data/tsp/tsp100_test_generalization_seed1234.npz\n",
      "Effective batch size: 128 (ratio: 1)\n",
      "Using automatic batch size: 128\n"
     ]
    },
    {
     "data": {
      "application/vnd.jupyter.widget-view+json": {
       "model_id": "11944f2b814544a692ea3b48287d8b97",
       "version_major": 2,
       "version_minor": 0
      },
      "text/plain": [
       "Running greedy:   0%|          | 0/8 [00:00<?, ?it/s]"
      ]
     },
     "metadata": {},
     "output_type": "display_data"
    },
    {
     "name": "stdout",
     "output_type": "stream",
     "text": [
      "Mean reward for greedy: -8.9376\n",
      "Time: 0.8823s\n",
      "Optimality gap: 13.17%\n",
      "====================\n",
      "Evaluating dataset: ../data/tsp/tsp125_test_generalization_seed1234.npz\n",
      "Effective batch size: 128 (ratio: 1)\n",
      "Using automatic batch size: 128\n"
     ]
    },
    {
     "data": {
      "application/vnd.jupyter.widget-view+json": {
       "model_id": "f320984de23e40429517d50385d5070c",
       "version_major": 2,
       "version_minor": 0
      },
      "text/plain": [
       "Running greedy:   0%|          | 0/8 [00:00<?, ?it/s]"
      ]
     },
     "metadata": {},
     "output_type": "display_data"
    },
    {
     "name": "stdout",
     "output_type": "stream",
     "text": [
      "Mean reward for greedy: -10.3212\n",
      "Time: 1.1056s\n",
      "Optimality gap: 16.66%\n",
      "====================\n",
      "Evaluating dataset: ../data/tsp/tsp150_test_generalization_seed1234.npz\n",
      "Effective batch size: 128 (ratio: 1)\n",
      "Using automatic batch size: 128\n"
     ]
    },
    {
     "data": {
      "application/vnd.jupyter.widget-view+json": {
       "model_id": "1e15e27e1ea84729b31d31cdf14bc22f",
       "version_major": 2,
       "version_minor": 0
      },
      "text/plain": [
       "Running greedy:   0%|          | 0/8 [00:00<?, ?it/s]"
      ]
     },
     "metadata": {},
     "output_type": "display_data"
    },
    {
     "name": "stdout",
     "output_type": "stream",
     "text": [
      "Mean reward for greedy: -11.6000\n",
      "Time: 1.3282s\n",
      "Optimality gap: 19.16%\n",
      "====================\n",
      "Evaluating dataset: ../data/tsp/tsp200_test_generalization_seed1234.npz\n",
      "Effective batch size: 128 (ratio: 1)\n",
      "Using automatic batch size: 128\n"
     ]
    },
    {
     "data": {
      "application/vnd.jupyter.widget-view+json": {
       "model_id": "ffa22f1f31944b61a536fb1593e9e798",
       "version_major": 2,
       "version_minor": 0
      },
      "text/plain": [
       "Running greedy:   0%|          | 0/8 [00:00<?, ?it/s]"
      ]
     },
     "metadata": {},
     "output_type": "display_data"
    },
    {
     "name": "stdout",
     "output_type": "stream",
     "text": [
      "Mean reward for greedy: -13.9027\n",
      "Time: 1.7772s\n",
      "Optimality gap: 22.99%\n",
      "====================\n",
      "Evaluating dataset: ../data/tsp/tsp500_test_generalization_seed1234.npz\n",
      "Effective batch size: 128 (ratio: 1)\n",
      "Using automatic batch size: 128\n"
     ]
    },
    {
     "data": {
      "application/vnd.jupyter.widget-view+json": {
       "model_id": "287c0f5d3713463ab3b56e700627c8f3",
       "version_major": 2,
       "version_minor": 0
      },
      "text/plain": [
       "Running greedy:   0%|          | 0/8 [00:00<?, ?it/s]"
      ]
     },
     "metadata": {},
     "output_type": "display_data"
    },
    {
     "name": "stdout",
     "output_type": "stream",
     "text": [
      "Mean reward for greedy: -24.8477\n",
      "Time: 5.8357s\n",
      "Optimality gap: 33.41%\n",
      "====================\n",
      "Evaluating dataset: ../data/tsp/tsp1000_test_generalization_seed1234.npz\n",
      "Effective batch size: 128 (ratio: 1)\n",
      "Using automatic batch size: 128\n"
     ]
    },
    {
     "data": {
      "application/vnd.jupyter.widget-view+json": {
       "model_id": "e86322f8a118426e8e71cf4ce8b03897",
       "version_major": 2,
       "version_minor": 0
      },
      "text/plain": [
       "Running greedy:   0%|          | 0/8 [00:00<?, ?it/s]"
      ]
     },
     "metadata": {},
     "output_type": "display_data"
    },
    {
     "name": "stdout",
     "output_type": "stream",
     "text": [
      "Mean reward for greedy: -38.7495\n",
      "Time: 17.0420s\n",
      "Optimality gap: 40.30%\n"
     ]
    }
   ],
   "source": [
    "# AM\n",
    "model_name = f\"am-{exp_name}\"\n",
    "epoch = \"099\"\n",
    "model = load_policy(exp_name, epoch, model_name)\n",
    "am_stats = get_generalization_stats(model)"
   ]
  },
  {
   "cell_type": "code",
   "execution_count": 11,
   "metadata": {},
   "outputs": [
    {
     "name": "stderr",
     "output_type": "stream",
     "text": [
      "Unused kwargs: {'params': {'total': 1301888, 'trainable': 1301888, 'non_trainable': 0}}\n"
     ]
    },
    {
     "name": "stdout",
     "output_type": "stream",
     "text": [
      "====================\n",
      "Evaluating dataset: ../data/tsp/tsp10_test_generalization_seed1234.npz\n",
      "Effective batch size: 128 (ratio: 1)\n",
      "Using automatic batch size: 128\n"
     ]
    },
    {
     "data": {
      "application/vnd.jupyter.widget-view+json": {
       "model_id": "028d26ce7b354b04aea709f27ccebb0d",
       "version_major": 2,
       "version_minor": 0
      },
      "text/plain": [
       "Running greedy:   0%|          | 0/8 [00:00<?, ?it/s]"
      ]
     },
     "metadata": {},
     "output_type": "display_data"
    },
    {
     "name": "stdout",
     "output_type": "stream",
     "text": [
      "Mean reward for greedy: -2.8657\n",
      "Time: 0.1424s\n",
      "Optimality gap: 0.07%\n",
      "====================\n",
      "Evaluating dataset: ../data/tsp/tsp20_test_generalization_seed1234.npz\n",
      "Effective batch size: 128 (ratio: 1)\n",
      "Using automatic batch size: 128\n"
     ]
    },
    {
     "data": {
      "application/vnd.jupyter.widget-view+json": {
       "model_id": "095e08f9be524c76ba355dd605c5bc9f",
       "version_major": 2,
       "version_minor": 0
      },
      "text/plain": [
       "Running greedy:   0%|          | 0/8 [00:00<?, ?it/s]"
      ]
     },
     "metadata": {},
     "output_type": "display_data"
    },
    {
     "name": "stdout",
     "output_type": "stream",
     "text": [
      "Mean reward for greedy: -3.8522\n",
      "Time: 0.2175s\n",
      "Optimality gap: 0.18%\n",
      "====================\n",
      "Evaluating dataset: ../data/tsp/tsp50_test_generalization_seed1234.npz\n",
      "Effective batch size: 128 (ratio: 1)\n",
      "Using automatic batch size: 128\n"
     ]
    },
    {
     "data": {
      "application/vnd.jupyter.widget-view+json": {
       "model_id": "9d6102f5de79407ca84f4bb7bd847b4d",
       "version_major": 2,
       "version_minor": 0
      },
      "text/plain": [
       "Running greedy:   0%|          | 0/8 [00:00<?, ?it/s]"
      ]
     },
     "metadata": {},
     "output_type": "display_data"
    },
    {
     "name": "stdout",
     "output_type": "stream",
     "text": [
      "Mean reward for greedy: -5.9854\n",
      "Time: 0.4746s\n",
      "Optimality gap: 4.81%\n",
      "====================\n",
      "Evaluating dataset: ../data/tsp/tsp75_test_generalization_seed1234.npz\n",
      "Effective batch size: 128 (ratio: 1)\n",
      "Using automatic batch size: 128\n"
     ]
    },
    {
     "data": {
      "application/vnd.jupyter.widget-view+json": {
       "model_id": "5e082b8aface443a97313653555831cb",
       "version_major": 2,
       "version_minor": 0
      },
      "text/plain": [
       "Running greedy:   0%|          | 0/8 [00:00<?, ?it/s]"
      ]
     },
     "metadata": {},
     "output_type": "display_data"
    },
    {
     "name": "stdout",
     "output_type": "stream",
     "text": [
      "Mean reward for greedy: -7.8970\n",
      "Time: 0.6983s\n",
      "Optimality gap: 13.41%\n",
      "====================\n",
      "Evaluating dataset: ../data/tsp/tsp100_test_generalization_seed1234.npz\n",
      "Effective batch size: 128 (ratio: 1)\n",
      "Using automatic batch size: 128\n"
     ]
    },
    {
     "data": {
      "application/vnd.jupyter.widget-view+json": {
       "model_id": "46d64498d8c74cf293f2f1a5a4492929",
       "version_major": 2,
       "version_minor": 0
      },
      "text/plain": [
       "Running greedy:   0%|          | 0/8 [00:00<?, ?it/s]"
      ]
     },
     "metadata": {},
     "output_type": "display_data"
    },
    {
     "name": "stdout",
     "output_type": "stream",
     "text": [
      "Mean reward for greedy: -9.6214\n",
      "Time: 0.9165s\n",
      "Optimality gap: 19.16%\n",
      "====================\n",
      "Evaluating dataset: ../data/tsp/tsp125_test_generalization_seed1234.npz\n",
      "Effective batch size: 128 (ratio: 1)\n",
      "Using automatic batch size: 128\n"
     ]
    },
    {
     "data": {
      "application/vnd.jupyter.widget-view+json": {
       "model_id": "ad19d6bf08af4f6c966df5c6ce9d3b9b",
       "version_major": 2,
       "version_minor": 0
      },
      "text/plain": [
       "Running greedy:   0%|          | 0/8 [00:00<?, ?it/s]"
      ]
     },
     "metadata": {},
     "output_type": "display_data"
    },
    {
     "name": "stdout",
     "output_type": "stream",
     "text": [
      "Mean reward for greedy: -11.1764\n",
      "Time: 1.1428s\n",
      "Optimality gap: 22.90%\n",
      "====================\n",
      "Evaluating dataset: ../data/tsp/tsp150_test_generalization_seed1234.npz\n",
      "Effective batch size: 128 (ratio: 1)\n",
      "Using automatic batch size: 128\n"
     ]
    },
    {
     "data": {
      "application/vnd.jupyter.widget-view+json": {
       "model_id": "a4d70c6cdfc54d219a5bd3b9e563db39",
       "version_major": 2,
       "version_minor": 0
      },
      "text/plain": [
       "Running greedy:   0%|          | 0/8 [00:00<?, ?it/s]"
      ]
     },
     "metadata": {},
     "output_type": "display_data"
    },
    {
     "name": "stdout",
     "output_type": "stream",
     "text": [
      "Mean reward for greedy: -12.5479\n",
      "Time: 1.3783s\n",
      "Optimality gap: 25.16%\n",
      "====================\n",
      "Evaluating dataset: ../data/tsp/tsp200_test_generalization_seed1234.npz\n",
      "Effective batch size: 128 (ratio: 1)\n",
      "Using automatic batch size: 128\n"
     ]
    },
    {
     "data": {
      "application/vnd.jupyter.widget-view+json": {
       "model_id": "49d5df1efaef4078aa32f0440aa1ea6e",
       "version_major": 2,
       "version_minor": 0
      },
      "text/plain": [
       "Running greedy:   0%|          | 0/8 [00:00<?, ?it/s]"
      ]
     },
     "metadata": {},
     "output_type": "display_data"
    },
    {
     "name": "stdout",
     "output_type": "stream",
     "text": [
      "Mean reward for greedy: -14.8703\n",
      "Time: 1.8326s\n",
      "Optimality gap: 27.92%\n",
      "====================\n",
      "Evaluating dataset: ../data/tsp/tsp500_test_generalization_seed1234.npz\n",
      "Effective batch size: 128 (ratio: 1)\n",
      "Using automatic batch size: 128\n"
     ]
    },
    {
     "data": {
      "application/vnd.jupyter.widget-view+json": {
       "model_id": "396876df54304313ace78218f39f463a",
       "version_major": 2,
       "version_minor": 0
      },
      "text/plain": [
       "Running greedy:   0%|          | 0/8 [00:00<?, ?it/s]"
      ]
     },
     "metadata": {},
     "output_type": "display_data"
    },
    {
     "name": "stdout",
     "output_type": "stream",
     "text": [
      "Mean reward for greedy: -25.2353\n",
      "Time: 6.1271s\n",
      "Optimality gap: 34.41%\n",
      "====================\n",
      "Evaluating dataset: ../data/tsp/tsp1000_test_generalization_seed1234.npz\n",
      "Effective batch size: 128 (ratio: 1)\n",
      "Using automatic batch size: 128\n"
     ]
    },
    {
     "data": {
      "application/vnd.jupyter.widget-view+json": {
       "model_id": "40432f02e918450a870b553f73467cdc",
       "version_major": 2,
       "version_minor": 0
      },
      "text/plain": [
       "Running greedy:   0%|          | 0/8 [00:00<?, ?it/s]"
      ]
     },
     "metadata": {},
     "output_type": "display_data"
    },
    {
     "name": "stdout",
     "output_type": "stream",
     "text": [
      "Mean reward for greedy: -36.9771\n",
      "Time: 18.0581s\n",
      "Optimality gap: 37.43%\n"
     ]
    }
   ],
   "source": [
    "# POMO\n",
    "model_name = f\"pomo-{exp_name}\"\n",
    "epoch = \"099\"\n",
    "model = load_policy(exp_name, epoch, model_name)\n",
    "pomo_stats = get_generalization_stats(model)"
   ]
  },
  {
   "cell_type": "code",
   "execution_count": 12,
   "metadata": {},
   "outputs": [
    {
     "name": "stderr",
     "output_type": "stream",
     "text": [
      "Unused kwargs: {'params': {'total': 1334912, 'trainable': 1334912, 'non_trainable': 0}}\n"
     ]
    },
    {
     "name": "stdout",
     "output_type": "stream",
     "text": [
      "====================\n",
      "Evaluating dataset: ../data/tsp/tsp10_test_generalization_seed1234.npz\n",
      "Effective batch size: 128 (ratio: 1)\n",
      "Using automatic batch size: 128\n"
     ]
    },
    {
     "data": {
      "application/vnd.jupyter.widget-view+json": {
       "model_id": "c7aaadc506764fc5a8252023e1f87f76",
       "version_major": 2,
       "version_minor": 0
      },
      "text/plain": [
       "Running greedy:   0%|          | 0/8 [00:00<?, ?it/s]"
      ]
     },
     "metadata": {},
     "output_type": "display_data"
    },
    {
     "name": "stdout",
     "output_type": "stream",
     "text": [
      "Mean reward for greedy: -2.8646\n",
      "Time: 0.1365s\n",
      "Optimality gap: 0.04%\n",
      "====================\n",
      "Evaluating dataset: ../data/tsp/tsp20_test_generalization_seed1234.npz\n",
      "Effective batch size: 128 (ratio: 1)\n",
      "Using automatic batch size: 128\n"
     ]
    },
    {
     "data": {
      "application/vnd.jupyter.widget-view+json": {
       "model_id": "38dbeec324e94446bf2866243d703072",
       "version_major": 2,
       "version_minor": 0
      },
      "text/plain": [
       "Running greedy:   0%|          | 0/8 [00:00<?, ?it/s]"
      ]
     },
     "metadata": {},
     "output_type": "display_data"
    },
    {
     "name": "stdout",
     "output_type": "stream",
     "text": [
      "Mean reward for greedy: -3.8469\n",
      "Time: 0.2260s\n",
      "Optimality gap: 0.05%\n",
      "====================\n",
      "Evaluating dataset: ../data/tsp/tsp50_test_generalization_seed1234.npz\n",
      "Effective batch size: 128 (ratio: 1)\n",
      "Using automatic batch size: 128\n"
     ]
    },
    {
     "data": {
      "application/vnd.jupyter.widget-view+json": {
       "model_id": "3bb0eed2766f40aeb8f6fede4b06171e",
       "version_major": 2,
       "version_minor": 0
      },
      "text/plain": [
       "Running greedy:   0%|          | 0/8 [00:00<?, ?it/s]"
      ]
     },
     "metadata": {},
     "output_type": "display_data"
    },
    {
     "name": "stdout",
     "output_type": "stream",
     "text": [
      "Mean reward for greedy: -5.8487\n",
      "Time: 0.4890s\n",
      "Optimality gap: 2.72%\n",
      "====================\n",
      "Evaluating dataset: ../data/tsp/tsp75_test_generalization_seed1234.npz\n",
      "Effective batch size: 128 (ratio: 1)\n",
      "Using automatic batch size: 128\n"
     ]
    },
    {
     "data": {
      "application/vnd.jupyter.widget-view+json": {
       "model_id": "0ba221dbb9144422ab9c6db446649684",
       "version_major": 2,
       "version_minor": 0
      },
      "text/plain": [
       "Running greedy:   0%|          | 0/8 [00:00<?, ?it/s]"
      ]
     },
     "metadata": {},
     "output_type": "display_data"
    },
    {
     "name": "stdout",
     "output_type": "stream",
     "text": [
      "Mean reward for greedy: -7.4053\n",
      "Time: 0.7038s\n",
      "Optimality gap: 7.93%\n",
      "====================\n",
      "Evaluating dataset: ../data/tsp/tsp100_test_generalization_seed1234.npz\n",
      "Effective batch size: 128 (ratio: 1)\n",
      "Using automatic batch size: 128\n"
     ]
    },
    {
     "data": {
      "application/vnd.jupyter.widget-view+json": {
       "model_id": "efd59b7f160e4e3589e310fa6124929e",
       "version_major": 2,
       "version_minor": 0
      },
      "text/plain": [
       "Running greedy:   0%|          | 0/8 [00:00<?, ?it/s]"
      ]
     },
     "metadata": {},
     "output_type": "display_data"
    },
    {
     "name": "stdout",
     "output_type": "stream",
     "text": [
      "Mean reward for greedy: -8.8499\n",
      "Time: 0.9269s\n",
      "Optimality gap: 12.31%\n",
      "====================\n",
      "Evaluating dataset: ../data/tsp/tsp125_test_generalization_seed1234.npz\n",
      "Effective batch size: 128 (ratio: 1)\n",
      "Using automatic batch size: 128\n"
     ]
    },
    {
     "data": {
      "application/vnd.jupyter.widget-view+json": {
       "model_id": "c9c921197d24437590351d99fb304e9b",
       "version_major": 2,
       "version_minor": 0
      },
      "text/plain": [
       "Running greedy:   0%|          | 0/8 [00:00<?, ?it/s]"
      ]
     },
     "metadata": {},
     "output_type": "display_data"
    },
    {
     "name": "stdout",
     "output_type": "stream",
     "text": [
      "Mean reward for greedy: -10.2038\n",
      "Time: 1.1445s\n",
      "Optimality gap: 15.70%\n",
      "====================\n",
      "Evaluating dataset: ../data/tsp/tsp150_test_generalization_seed1234.npz\n",
      "Effective batch size: 128 (ratio: 1)\n",
      "Using automatic batch size: 128\n"
     ]
    },
    {
     "data": {
      "application/vnd.jupyter.widget-view+json": {
       "model_id": "0b0bb12231334370995d9091033b67c4",
       "version_major": 2,
       "version_minor": 0
      },
      "text/plain": [
       "Running greedy:   0%|          | 0/8 [00:00<?, ?it/s]"
      ]
     },
     "metadata": {},
     "output_type": "display_data"
    },
    {
     "name": "stdout",
     "output_type": "stream",
     "text": [
      "Mean reward for greedy: -11.4524\n",
      "Time: 1.3847s\n",
      "Optimality gap: 18.12%\n",
      "====================\n",
      "Evaluating dataset: ../data/tsp/tsp200_test_generalization_seed1234.npz\n",
      "Effective batch size: 128 (ratio: 1)\n",
      "Using automatic batch size: 128\n"
     ]
    },
    {
     "data": {
      "application/vnd.jupyter.widget-view+json": {
       "model_id": "a6e90be587944a37a8b2546175aa010a",
       "version_major": 2,
       "version_minor": 0
      },
      "text/plain": [
       "Running greedy:   0%|          | 0/8 [00:00<?, ?it/s]"
      ]
     },
     "metadata": {},
     "output_type": "display_data"
    },
    {
     "name": "stdout",
     "output_type": "stream",
     "text": [
      "Mean reward for greedy: -13.6708\n",
      "Time: 1.8413s\n",
      "Optimality gap: 21.68%\n",
      "====================\n",
      "Evaluating dataset: ../data/tsp/tsp500_test_generalization_seed1234.npz\n",
      "Effective batch size: 128 (ratio: 1)\n",
      "Using automatic batch size: 128\n"
     ]
    },
    {
     "data": {
      "application/vnd.jupyter.widget-view+json": {
       "model_id": "9a2a7144d9aa435d910f44e1150cb79d",
       "version_major": 2,
       "version_minor": 0
      },
      "text/plain": [
       "Running greedy:   0%|          | 0/8 [00:00<?, ?it/s]"
      ]
     },
     "metadata": {},
     "output_type": "display_data"
    },
    {
     "name": "stdout",
     "output_type": "stream",
     "text": [
      "Mean reward for greedy: -23.9845\n",
      "Time: 6.1269s\n",
      "Optimality gap: 31.01%\n",
      "====================\n",
      "Evaluating dataset: ../data/tsp/tsp1000_test_generalization_seed1234.npz\n",
      "Effective batch size: 128 (ratio: 1)\n",
      "Using automatic batch size: 128\n"
     ]
    },
    {
     "data": {
      "application/vnd.jupyter.widget-view+json": {
       "model_id": "25fbb2112d5c46968997197e078c2ccb",
       "version_major": 2,
       "version_minor": 0
      },
      "text/plain": [
       "Running greedy:   0%|          | 0/8 [00:00<?, ?it/s]"
      ]
     },
     "metadata": {},
     "output_type": "display_data"
    },
    {
     "name": "stdout",
     "output_type": "stream",
     "text": [
      "Mean reward for greedy: -36.8153\n",
      "Time: 18.1154s\n",
      "Optimality gap: 37.17%\n"
     ]
    }
   ],
   "source": [
    "# SymNCO\n",
    "model_name = f\"symnco-{exp_name}\"\n",
    "epoch = \"099\"\n",
    "model = load_policy(exp_name, epoch, model_name)\n",
    "symnco_stats = get_generalization_stats(model)"
   ]
  },
  {
   "cell_type": "code",
   "execution_count": 13,
   "metadata": {},
   "outputs": [
    {
     "name": "stderr",
     "output_type": "stream",
     "text": [
      "Unused kwargs: {'params': {'total': 1301888, 'trainable': 1301888, 'non_trainable': 0}}\n"
     ]
    },
    {
     "name": "stdout",
     "output_type": "stream",
     "text": [
      "====================\n",
      "Evaluating dataset: ../data/tsp/tsp10_test_generalization_seed1234.npz\n",
      "Effective batch size: 128 (ratio: 1)\n",
      "Using automatic batch size: 128\n"
     ]
    },
    {
     "data": {
      "application/vnd.jupyter.widget-view+json": {
       "model_id": "9268d6426b414973a9d21d2656965593",
       "version_major": 2,
       "version_minor": 0
      },
      "text/plain": [
       "Running greedy:   0%|          | 0/8 [00:00<?, ?it/s]"
      ]
     },
     "metadata": {},
     "output_type": "display_data"
    },
    {
     "name": "stdout",
     "output_type": "stream",
     "text": [
      "Mean reward for greedy: -2.8650\n",
      "Time: 0.1351s\n",
      "Optimality gap: 0.05%\n",
      "====================\n",
      "Evaluating dataset: ../data/tsp/tsp20_test_generalization_seed1234.npz\n",
      "Effective batch size: 128 (ratio: 1)\n",
      "Using automatic batch size: 128\n"
     ]
    },
    {
     "data": {
      "application/vnd.jupyter.widget-view+json": {
       "model_id": "73f683f7e81e46adbc707f7292ec168e",
       "version_major": 2,
       "version_minor": 0
      },
      "text/plain": [
       "Running greedy:   0%|          | 0/8 [00:00<?, ?it/s]"
      ]
     },
     "metadata": {},
     "output_type": "display_data"
    },
    {
     "name": "stdout",
     "output_type": "stream",
     "text": [
      "Mean reward for greedy: -3.8479\n",
      "Time: 0.2232s\n",
      "Optimality gap: 0.08%\n",
      "====================\n",
      "Evaluating dataset: ../data/tsp/tsp50_test_generalization_seed1234.npz\n",
      "Effective batch size: 128 (ratio: 1)\n",
      "Using automatic batch size: 128\n"
     ]
    },
    {
     "data": {
      "application/vnd.jupyter.widget-view+json": {
       "model_id": "0be03950590e4213b122c1c26687863e",
       "version_major": 2,
       "version_minor": 0
      },
      "text/plain": [
       "Running greedy:   0%|          | 0/8 [00:00<?, ?it/s]"
      ]
     },
     "metadata": {},
     "output_type": "display_data"
    },
    {
     "name": "stdout",
     "output_type": "stream",
     "text": [
      "Mean reward for greedy: -5.8577\n",
      "Time: 0.4835s\n",
      "Optimality gap: 2.87%\n",
      "====================\n",
      "Evaluating dataset: ../data/tsp/tsp75_test_generalization_seed1234.npz\n",
      "Effective batch size: 128 (ratio: 1)\n",
      "Using automatic batch size: 128\n"
     ]
    },
    {
     "data": {
      "application/vnd.jupyter.widget-view+json": {
       "model_id": "002b07822f824dadb5fca2e0c9e7cb74",
       "version_major": 2,
       "version_minor": 0
      },
      "text/plain": [
       "Running greedy:   0%|          | 0/8 [00:00<?, ?it/s]"
      ]
     },
     "metadata": {},
     "output_type": "display_data"
    },
    {
     "name": "stdout",
     "output_type": "stream",
     "text": [
      "Mean reward for greedy: -7.3887\n",
      "Time: 0.7018s\n",
      "Optimality gap: 7.73%\n",
      "====================\n",
      "Evaluating dataset: ../data/tsp/tsp100_test_generalization_seed1234.npz\n",
      "Effective batch size: 128 (ratio: 1)\n",
      "Using automatic batch size: 128\n"
     ]
    },
    {
     "data": {
      "application/vnd.jupyter.widget-view+json": {
       "model_id": "558ea2a4144d4addb6c2d9b785c100df",
       "version_major": 2,
       "version_minor": 0
      },
      "text/plain": [
       "Running greedy:   0%|          | 0/8 [00:00<?, ?it/s]"
      ]
     },
     "metadata": {},
     "output_type": "display_data"
    },
    {
     "name": "stdout",
     "output_type": "stream",
     "text": [
      "Mean reward for greedy: -8.8401\n",
      "Time: 0.9327s\n",
      "Optimality gap: 12.21%\n",
      "====================\n",
      "Evaluating dataset: ../data/tsp/tsp125_test_generalization_seed1234.npz\n",
      "Effective batch size: 128 (ratio: 1)\n",
      "Using automatic batch size: 128\n"
     ]
    },
    {
     "data": {
      "application/vnd.jupyter.widget-view+json": {
       "model_id": "e92e38ba7146478997ea14fdbb773c86",
       "version_major": 2,
       "version_minor": 0
      },
      "text/plain": [
       "Running greedy:   0%|          | 0/8 [00:00<?, ?it/s]"
      ]
     },
     "metadata": {},
     "output_type": "display_data"
    },
    {
     "name": "stdout",
     "output_type": "stream",
     "text": [
      "Mean reward for greedy: -10.1971\n",
      "Time: 1.1460s\n",
      "Optimality gap: 15.63%\n",
      "====================\n",
      "Evaluating dataset: ../data/tsp/tsp150_test_generalization_seed1234.npz\n",
      "Effective batch size: 128 (ratio: 1)\n",
      "Using automatic batch size: 128\n"
     ]
    },
    {
     "data": {
      "application/vnd.jupyter.widget-view+json": {
       "model_id": "4acc8d99f8ba4135ac43780ee941cf05",
       "version_major": 2,
       "version_minor": 0
      },
      "text/plain": [
       "Running greedy:   0%|          | 0/8 [00:00<?, ?it/s]"
      ]
     },
     "metadata": {},
     "output_type": "display_data"
    },
    {
     "name": "stdout",
     "output_type": "stream",
     "text": [
      "Mean reward for greedy: -11.4516\n",
      "Time: 1.3869s\n",
      "Optimality gap: 18.11%\n",
      "====================\n",
      "Evaluating dataset: ../data/tsp/tsp200_test_generalization_seed1234.npz\n",
      "Effective batch size: 128 (ratio: 1)\n",
      "Using automatic batch size: 128\n"
     ]
    },
    {
     "data": {
      "application/vnd.jupyter.widget-view+json": {
       "model_id": "04cd52d5bf554748871e10b3d84d67d2",
       "version_major": 2,
       "version_minor": 0
      },
      "text/plain": [
       "Running greedy:   0%|          | 0/8 [00:00<?, ?it/s]"
      ]
     },
     "metadata": {},
     "output_type": "display_data"
    },
    {
     "name": "stdout",
     "output_type": "stream",
     "text": [
      "Mean reward for greedy: -13.6844\n",
      "Time: 2.0037s\n",
      "Optimality gap: 21.76%\n",
      "====================\n",
      "Evaluating dataset: ../data/tsp/tsp500_test_generalization_seed1234.npz\n",
      "Effective batch size: 128 (ratio: 1)\n",
      "Using automatic batch size: 128\n"
     ]
    },
    {
     "data": {
      "application/vnd.jupyter.widget-view+json": {
       "model_id": "ec68aae5e68d46e4b9e23e9868ecf431",
       "version_major": 2,
       "version_minor": 0
      },
      "text/plain": [
       "Running greedy:   0%|          | 0/8 [00:00<?, ?it/s]"
      ]
     },
     "metadata": {},
     "output_type": "display_data"
    },
    {
     "name": "stdout",
     "output_type": "stream",
     "text": [
      "Mean reward for greedy: -24.1265\n",
      "Time: 6.1557s\n",
      "Optimality gap: 31.42%\n",
      "====================\n",
      "Evaluating dataset: ../data/tsp/tsp1000_test_generalization_seed1234.npz\n",
      "Effective batch size: 128 (ratio: 1)\n",
      "Using automatic batch size: 128\n"
     ]
    },
    {
     "data": {
      "application/vnd.jupyter.widget-view+json": {
       "model_id": "f03adcca1e384a6395a97ff6a7861e51",
       "version_major": 2,
       "version_minor": 0
      },
      "text/plain": [
       "Running greedy:   0%|          | 0/8 [00:00<?, ?it/s]"
      ]
     },
     "metadata": {},
     "output_type": "display_data"
    },
    {
     "name": "stdout",
     "output_type": "stream",
     "text": [
      "Mean reward for greedy: -37.1931\n",
      "Time: 18.1232s\n",
      "Optimality gap: 37.80%\n"
     ]
    }
   ],
   "source": [
    "# AM-xl\n",
    "model_name = f\"am-{exp_name}-sm-xl\"\n",
    "epoch = \"499\"\n",
    "model = load_policy(exp_name, epoch, model_name)\n",
    "am_xl_stats = get_generalization_stats(model)"
   ]
  },
  {
   "cell_type": "code",
   "execution_count": 14,
   "metadata": {},
   "outputs": [],
   "source": [
    "experiments = { \n",
    "    # 'ptrnet': ptrnet_stats,\n",
    "    'am-critic': am_critic_stats,\n",
    "    'am': am_stats,\n",
    "    'pomo': pomo_stats, \n",
    "    'symnco': symnco_stats,\n",
    "    'am-xl': am_xl_stats,\n",
    "}\n",
    "\n",
    "colors = {\n",
    "    # 'ptrnet': 'tab:brown',\n",
    "    'am-critic': 'tab:red',\n",
    "    'am': 'tab:blue',\n",
    "    'pomo': 'tab:orange',\n",
    "    'symnco': 'tab:green',\n",
    "    'am-xl': 'tab:purple',\n",
    "}\n",
    "\n",
    "labels = {\n",
    "    # 'ptrnet': 'PointerNet',\n",
    "    'am-critic': 'AM-critic',\n",
    "    'am': 'AM',\n",
    "    'pomo': 'POMO',\n",
    "    'symnco': 'SymNCO',\n",
    "    'am-xl': 'AM-XL',\n",
    "}"
   ]
  },
  {
   "cell_type": "code",
   "execution_count": 15,
   "metadata": {},
   "outputs": [],
   "source": [
    "import matplotlib\n",
    "import matplotlib.pyplot as plt\n",
    "\n",
    "plt.rcParams.update({'text.usetex': True,\n",
    "                    'font.family': 'serif',\n",
    "                    # 'font.size': 16,\n",
    "})"
   ]
  },
  {
   "attachments": {},
   "cell_type": "markdown",
   "metadata": {},
   "source": []
  },
  {
   "cell_type": "code",
   "execution_count": 16,
   "metadata": {},
   "outputs": [
    {
     "data": {
      "image/png": "[encoded data removed]",
      "text/plain": [
       "<Figure size 600x400 with 1 Axes>"
      ]
     },
     "metadata": {},
     "output_type": "display_data"
    }
   ],
   "source": [
    "\n",
    "fig, ax = plt.subplots(figsize=(6,4))\n",
    "\n",
    "data_generalization = defaultdict(list)\n",
    "\n",
    "for experiment in experiments:\n",
    "    # add data to save and plot\n",
    "    stats = experiments[experiment]\n",
    "    data_generalization[experiment] = stats\n",
    "\n",
    "    ax.plot(stats['num_nodes'], stats['optimality_gap'], label=labels[experiment], color=colors[experiment])\n",
    "\n",
    "# log scale\n",
    "ax.set_xscale('log')\n",
    "# ax.set_yscale('log')\n",
    "\n",
    "# cut plot at 10 nodes\n",
    "# ax.set_xlim([10, 1000])\n",
    "ax.set_xlim([10, 200])\n",
    "\n",
    "# replace x-axis ticks\n",
    "# ax.set_xticks([10, 20, 50, 100, 200, 500, 1000])\n",
    "ax.set_xticks([10, 20, 50, 100, 200])\n",
    "ax.get_xaxis().set_major_formatter(matplotlib.ticker.ScalarFormatter())\n",
    "\n",
    "# Set plot title\n",
    "ax.set_title('Generalization to different sizes')\n",
    "\n",
    "# Set x-axis label\n",
    "ax.set_xlabel('Number of nodes')\n",
    "ax.set_ylabel('Gap (\\%)')\n",
    "\n",
    "ax.set_ylim([0, 12])\n",
    "ax.set_ylim([0, None])\n",
    "\n",
    "# Training size: draw vertical line at num_nodes = stats['num_nodes'][-1]\n",
    "# ax.axvline(x=stats['num_nodes'][-1])#, color='tab:red', linestyle='--', linewidth=1)\n",
    "\n",
    "# Set grid on with dashed lines for log scale\n",
    "ax.grid(True, which=\"both\", ls=\"--\", color='0.93')\n",
    "\n",
    "# legend\n",
    "ax.legend(loc='upper left')\n",
    "\n",
    "# Save plot data\n",
    "save_folder = Path('plots/')\n",
    "save_folder.mkdir(parents=True, exist_ok=True)\n",
    "plt.savefig(save_folder / f'{exp_name}.pdf', bbox_inches='tight')\n",
    "\n",
    "# Save data with pickle\n",
    "with open(save_folder / f'{exp_name}_data.pkl', 'wb') as f:\n",
    "    pickle.dump(data_generalization, f)"
   ]
  }
 ],
 "metadata": {
  "kernelspec": {
   "display_name": "env",
   "language": "python",
   "name": "python3"
  },
  "language_info": {
   "codemirror_mode": {
    "name": "ipython",
    "version": 3
   },
   "file_extension": ".py",
   "mimetype": "text/x-python",
   "name": "python",
   "nbconvert_exporter": "python",
   "pygments_lexer": "ipython3",
   "version": "3.10.9"
  },
  "orig_nbformat": 4
 },
 "nbformat": 4,
 "nbformat_minor": 2
}
