{
 "cells": [
  {
   "attachments": {},
   "cell_type": "markdown",
   "metadata": {},
   "source": [
    "## Generalization "
   ]
  },
  {
   "cell_type": "code",
   "execution_count": 14,
   "metadata": {},
   "outputs": [
    {
     "name": "stdout",
     "output_type": "stream",
     "text": [
      "The autoreload extension is already loaded. To reload it, use:\n",
      "  %reload_ext autoreload\n"
     ]
    }
   ],
   "source": [
    "%load_ext autoreload\n",
    "%autoreload 2\n",
    "\n",
    "import sys; sys.path.append(3*'../')\n",
    "\n",
    "import os\n",
    "import glob\n",
    "from pathlib import Path\n",
    "from omegaconf import DictConfig\n",
    "import yaml\n",
    "import pickle\n",
    "from collections import defaultdict\n",
    "\n",
    "\n",
    "import torch\n",
    "import lightning as L\n",
    "\n",
    "from rl4co.envs import TSPEnv, CVRPEnv\n",
    "from rl4co.tasks.rl4co import RL4COLitModule\n",
    "from rl4co.utils.lightning import load_model_from_checkpoint, clean_hydra_config\n",
    "from rl4co.tasks.eval import evaluate_policy\n"
   ]
  },
  {
   "attachments": {},
   "cell_type": "markdown",
   "metadata": {},
   "source": [
    "## Load solver solutions"
   ]
  },
  {
   "cell_type": "code",
   "execution_count": 15,
   "metadata": {},
   "outputs": [],
   "source": [
    "device = torch.device(\"cuda:0\")\n",
    "\n",
    "exp_name = 'tsp50'\n",
    "env = TSPEnv()\n"
   ]
  },
  {
   "cell_type": "code",
   "execution_count": 16,
   "metadata": {},
   "outputs": [],
   "source": [
    "solver_path = Path(\"../solver/tsp\")\n",
    "solver_files = glob.glob(str(solver_path / \"*tsp*.pkl\"), recursive=True)\n",
    "\n",
    "\n",
    "# Concorde\n",
    "def load_solver_file(num_nodes):\n",
    "    # load pickle of first solver file\n",
    "    file_ = solver_path / f\"tsp_{num_nodes}.pkl\"\n",
    "    with open(file_, 'rb') as f:\n",
    "        costs = pickle.load(f)\n",
    "    print(\"Concorde time for {} nodes: {:.2f}s\".format(num_nodes, costs[0]))\n",
    "    print(\"Average cost: {:.2f}\".format(sum(costs[1])/len(costs[1])))\n",
    "    return costs[1]"
   ]
  },
  {
   "attachments": {},
   "cell_type": "markdown",
   "metadata": {},
   "source": [
    "## Loading datasets"
   ]
  },
  {
   "cell_type": "code",
   "execution_count": 17,
   "metadata": {},
   "outputs": [
    {
     "ename": "FileNotFoundError",
     "evalue": "[Errno 2] No such file or directory: '../solver/tsp/tsp_10.pkl'",
     "output_type": "error",
     "traceback": [
      "\u001b[0;31m---------------------------------------------------------------------------\u001b[0m",
      "\u001b[0;31mFileNotFoundError\u001b[0m                         Traceback (most recent call last)",
      "Cell \u001b[0;32mIn[17], line 15\u001b[0m\n\u001b[1;32m     13\u001b[0m \u001b[39mif\u001b[39;00m \u001b[39m\"\u001b[39m\u001b[39mtsp\u001b[39m\u001b[39m{}\u001b[39;00m\u001b[39m_\u001b[39m\u001b[39m\"\u001b[39m\u001b[39m.\u001b[39mformat(num_nodes_) \u001b[39min\u001b[39;00m file:\n\u001b[1;32m     14\u001b[0m     dataset \u001b[39m=\u001b[39m env\u001b[39m.\u001b[39mdataset(filename\u001b[39m=\u001b[39mfile, phase\u001b[39m=\u001b[39m\u001b[39m'\u001b[39m\u001b[39mtest\u001b[39m\u001b[39m'\u001b[39m)\n\u001b[0;32m---> 15\u001b[0m     solver_costs \u001b[39m=\u001b[39m load_solver_file(num_nodes_)\n\u001b[1;32m     16\u001b[0m     datasets\u001b[39m.\u001b[39mappend({\u001b[39m'\u001b[39m\u001b[39mnum_nodes\u001b[39m\u001b[39m'\u001b[39m: num_nodes_, \u001b[39m'\u001b[39m\u001b[39mfile\u001b[39m\u001b[39m'\u001b[39m: file, \n\u001b[1;32m     17\u001b[0m                      \u001b[39m'\u001b[39m\u001b[39mdataset\u001b[39m\u001b[39m'\u001b[39m: dataset, \u001b[39m'\u001b[39m\u001b[39msolver_costs\u001b[39m\u001b[39m'\u001b[39m: solver_costs})\n",
      "Cell \u001b[0;32mIn[16], line 9\u001b[0m, in \u001b[0;36mload_solver_file\u001b[0;34m(num_nodes)\u001b[0m\n\u001b[1;32m      6\u001b[0m \u001b[39mdef\u001b[39;00m \u001b[39mload_solver_file\u001b[39m(num_nodes):\n\u001b[1;32m      7\u001b[0m     \u001b[39m# load pickle of first solver file\u001b[39;00m\n\u001b[1;32m      8\u001b[0m     file_ \u001b[39m=\u001b[39m solver_path \u001b[39m/\u001b[39m \u001b[39mf\u001b[39m\u001b[39m\"\u001b[39m\u001b[39mtsp_\u001b[39m\u001b[39m{\u001b[39;00mnum_nodes\u001b[39m}\u001b[39;00m\u001b[39m.pkl\u001b[39m\u001b[39m\"\u001b[39m\n\u001b[0;32m----> 9\u001b[0m     \u001b[39mwith\u001b[39;00m \u001b[39mopen\u001b[39;49m(file_, \u001b[39m'\u001b[39;49m\u001b[39mrb\u001b[39;49m\u001b[39m'\u001b[39;49m) \u001b[39mas\u001b[39;00m f:\n\u001b[1;32m     10\u001b[0m         costs \u001b[39m=\u001b[39m pickle\u001b[39m.\u001b[39mload(f)\n\u001b[1;32m     11\u001b[0m     \u001b[39mprint\u001b[39m(\u001b[39m\"\u001b[39m\u001b[39mConcorde time for \u001b[39m\u001b[39m{}\u001b[39;00m\u001b[39m nodes: \u001b[39m\u001b[39m{:.2f}\u001b[39;00m\u001b[39ms\u001b[39m\u001b[39m\"\u001b[39m\u001b[39m.\u001b[39mformat(num_nodes, costs[\u001b[39m0\u001b[39m]))\n",
      "File \u001b[0;32m~/miniconda3/envs/rl4co_new/lib/python3.10/site-packages/IPython/core/interactiveshell.py:284\u001b[0m, in \u001b[0;36m_modified_open\u001b[0;34m(file, *args, **kwargs)\u001b[0m\n\u001b[1;32m    277\u001b[0m \u001b[39mif\u001b[39;00m file \u001b[39min\u001b[39;00m {\u001b[39m0\u001b[39m, \u001b[39m1\u001b[39m, \u001b[39m2\u001b[39m}:\n\u001b[1;32m    278\u001b[0m     \u001b[39mraise\u001b[39;00m \u001b[39mValueError\u001b[39;00m(\n\u001b[1;32m    279\u001b[0m         \u001b[39mf\u001b[39m\u001b[39m\"\u001b[39m\u001b[39mIPython won\u001b[39m\u001b[39m'\u001b[39m\u001b[39mt let you open fd=\u001b[39m\u001b[39m{\u001b[39;00mfile\u001b[39m}\u001b[39;00m\u001b[39m by default \u001b[39m\u001b[39m\"\u001b[39m\n\u001b[1;32m    280\u001b[0m         \u001b[39m\"\u001b[39m\u001b[39mas it is likely to crash IPython. If you know what you are doing, \u001b[39m\u001b[39m\"\u001b[39m\n\u001b[1;32m    281\u001b[0m         \u001b[39m\"\u001b[39m\u001b[39myou can use builtins\u001b[39m\u001b[39m'\u001b[39m\u001b[39m open.\u001b[39m\u001b[39m\"\u001b[39m\n\u001b[1;32m    282\u001b[0m     )\n\u001b[0;32m--> 284\u001b[0m \u001b[39mreturn\u001b[39;00m io_open(file, \u001b[39m*\u001b[39;49margs, \u001b[39m*\u001b[39;49m\u001b[39m*\u001b[39;49mkwargs)\n",
      "\u001b[0;31mFileNotFoundError\u001b[0m: [Errno 2] No such file or directory: '../solver/tsp/tsp_10.pkl'"
     ]
    }
   ],
   "source": [
    "# Get all files that contain \"generalization*.npz\" under data/tsp\n",
    "data_dir = Path(\"../data/tsp\")\n",
    "files = glob.glob(str(data_dir / \"*generalization*.npz\"), recursive=True)\n",
    "# files =  sorted(files)\n",
    "# print(files)\n",
    "\n",
    "num_nodes = [10, 20, 50, 75, 100, 125, 150, 200, 500, 1000]\n",
    "\n",
    "\n",
    "datasets = []\n",
    "for num_nodes_ in num_nodes:\n",
    "    for file in files:\n",
    "        if \"tsp{}_\".format(num_nodes_) in file:\n",
    "            dataset = env.dataset(filename=file, phase='test')\n",
    "            solver_costs = load_solver_file(num_nodes_)\n",
    "            datasets.append({'num_nodes': num_nodes_, 'file': file, \n",
    "                             'dataset': dataset, 'solver_costs': solver_costs})"
   ]
  },
  {
   "attachments": {},
   "cell_type": "markdown",
   "metadata": {},
   "source": [
    "## Loading model from checkpoint"
   ]
  },
  {
   "cell_type": "code",
   "execution_count": 5,
   "metadata": {},
   "outputs": [],
   "source": [
    "def load_policy(exp_name, epoch, model_name):\n",
    "\n",
    "    main_dir = Path('../../../saved_checkpoints/')\n",
    "\n",
    "    main_dir = main_dir / exp_name / model_name\n",
    "\n",
    "    cfg_path = main_dir / 'config.yaml'\n",
    "    ckpt_path = main_dir / 'epoch_{}.ckpt'.format(epoch)\n",
    "\n",
    "    lit_module = load_model_from_checkpoint(cfg_path, ckpt_path, phase='test')\n",
    "\n",
    "    policy = lit_module.model.policy.to(device)\n",
    "    policy.eval()\n",
    "    return policy"
   ]
  },
  {
   "cell_type": "code",
   "execution_count": 6,
   "metadata": {},
   "outputs": [],
   "source": [
    "def optimality_gap(bk_sol, opt_sol):\n",
    "    return ((bk_sol - opt_sol) / bk_sol).mean().item() * 100"
   ]
  },
  {
   "cell_type": "code",
   "execution_count": 7,
   "metadata": {},
   "outputs": [],
   "source": [
    "def get_generalization_stats(policy):\n",
    "    stats = defaultdict(list)\n",
    "\n",
    "    for dataset in datasets:\n",
    "        print(\"====================\")\n",
    "        print(\"Evaluating dataset: {}\".format(dataset['file']))\n",
    "        stats['num_nodes'].append(dataset['num_nodes'])\n",
    "        stats['file'].append(dataset['file'])\n",
    "        out_dict = evaluate_policy(env, policy, dataset['dataset'], method='greedy', max_batch_size=128)\n",
    "\n",
    "        model_costs = -out_dict['rewards']\n",
    "        solver_costs = torch.Tensor(dataset['solver_costs'][:1000]) # by default, we only evaluate on 1000 samples\n",
    "\n",
    "        stats['model_cost_mean'].append(model_costs.mean())\n",
    "        stats['solver_cost_mean'].append(solver_costs.mean())\n",
    "        gap = optimality_gap(model_costs, solver_costs)\n",
    "        stats['optimality_gap'].append(gap)\n",
    "\n",
    "        print(\"Optimality gap: {:.2f}%\".format(gap))\n",
    "\n",
    "    return stats"
   ]
  },
  {
   "cell_type": "code",
   "execution_count": 10,
   "metadata": {},
   "outputs": [],
   "source": [
    "# # Pointer Net\n",
    "# model_name = \"ptrnet-tsp50\"\n",
    "# epoch = \"099\"\n",
    "# model = load_policy(exp_name, epoch, model_name)\n",
    "# ptrnet_stats = get_generalization_stats(model)"
   ]
  },
  {
   "cell_type": "code",
   "execution_count": 10,
   "metadata": {},
   "outputs": [
    {
     "name": "stderr",
     "output_type": "stream",
     "text": [
      "Unused kwargs: {'params': {'total': 281573, 'trainable': 281573, 'non_trainable': 0}}\n"
     ]
    }
   ],
   "source": [
    "# AM Critic\n",
    "model_name = \"am-mpnn-tsp50\"\n",
    "epoch = \"099\"\n",
    "model = load_policy(exp_name, epoch, model_name)\n",
    "am_critic_stats = get_generalization_stats(model)"
   ]
  },
  {
   "cell_type": "code",
   "execution_count": 12,
   "metadata": {},
   "outputs": [
    {
     "name": "stderr",
     "output_type": "stream",
     "text": [
      "Unused kwargs: {'params': {'total': 1368833, 'trainable': 1368833, 'non_trainable': 0}}\n"
     ]
    },
    {
     "name": "stdout",
     "output_type": "stream",
     "text": [
      "====================\n",
      "Evaluating dataset: ../data/tsp/tsp10_test_generalization_seed1234.npz\n",
      "Effective batch size: 128 (ratio: 1)\n",
      "Using automatic batch size: 128\n"
     ]
    },
    {
     "data": {
      "application/vnd.jupyter.widget-view+json": {
       "model_id": "6d92b35a770747988e87c8de4d20f2de",
       "version_major": 2,
       "version_minor": 0
      },
      "text/plain": [
       "Running greedy:   0%|          | 0/8 [00:00<?, ?it/s]"
      ]
     },
     "metadata": {},
     "output_type": "display_data"
    },
    {
     "name": "stdout",
     "output_type": "stream",
     "text": [
      "Mean reward for greedy: -2.8681\n",
      "Time: 0.2246s\n",
      "Optimality gap: 0.15%\n",
      "====================\n",
      "Evaluating dataset: ../data/tsp/tsp20_test_generalization_seed1234.npz\n",
      "Effective batch size: 128 (ratio: 1)\n",
      "Using automatic batch size: 128\n"
     ]
    },
    {
     "data": {
      "application/vnd.jupyter.widget-view+json": {
       "model_id": "eedc16afdd1d44369022751e0d64f1c9",
       "version_major": 2,
       "version_minor": 0
      },
      "text/plain": [
       "Running greedy:   0%|          | 0/8 [00:00<?, ?it/s]"
      ]
     },
     "metadata": {},
     "output_type": "display_data"
    },
    {
     "name": "stdout",
     "output_type": "stream",
     "text": [
      "Mean reward for greedy: -3.8707\n",
      "Time: 0.2060s\n",
      "Optimality gap: 0.65%\n",
      "====================\n",
      "Evaluating dataset: ../data/tsp/tsp50_test_generalization_seed1234.npz\n",
      "Effective batch size: 128 (ratio: 1)\n",
      "Using automatic batch size: 128\n"
     ]
    },
    {
     "data": {
      "application/vnd.jupyter.widget-view+json": {
       "model_id": "d96b11563b57494c92bce106625ee777",
       "version_major": 2,
       "version_minor": 0
      },
      "text/plain": [
       "Running greedy:   0%|          | 0/8 [00:00<?, ?it/s]"
      ]
     },
     "metadata": {},
     "output_type": "display_data"
    },
    {
     "name": "stdout",
     "output_type": "stream",
     "text": [
      "Mean reward for greedy: -5.9709\n",
      "Time: 0.4626s\n",
      "Optimality gap: 4.69%\n",
      "====================\n",
      "Evaluating dataset: ../data/tsp/tsp75_test_generalization_seed1234.npz\n",
      "Effective batch size: 128 (ratio: 1)\n",
      "Using automatic batch size: 128\n"
     ]
    },
    {
     "data": {
      "application/vnd.jupyter.widget-view+json": {
       "model_id": "40d1975579b546ac8c2867cb9b59df43",
       "version_major": 2,
       "version_minor": 0
      },
      "text/plain": [
       "Running greedy:   0%|          | 0/8 [00:00<?, ?it/s]"
      ]
     },
     "metadata": {},
     "output_type": "display_data"
    },
    {
     "name": "stdout",
     "output_type": "stream",
     "text": [
      "Mean reward for greedy: -7.5045\n",
      "Time: 0.6685s\n",
      "Optimality gap: 9.16%\n",
      "====================\n",
      "Evaluating dataset: ../data/tsp/tsp100_test_generalization_seed1234.npz\n",
      "Effective batch size: 128 (ratio: 1)\n",
      "Using automatic batch size: 128\n"
     ]
    },
    {
     "data": {
      "application/vnd.jupyter.widget-view+json": {
       "model_id": "abecca52364a4db294a671ca4d341fec",
       "version_major": 2,
       "version_minor": 0
      },
      "text/plain": [
       "Running greedy:   0%|          | 0/8 [00:00<?, ?it/s]"
      ]
     },
     "metadata": {},
     "output_type": "display_data"
    },
    {
     "name": "stdout",
     "output_type": "stream",
     "text": [
      "Mean reward for greedy: -8.9131\n",
      "Time: 0.8884s\n",
      "Optimality gap: 12.95%\n",
      "====================\n",
      "Evaluating dataset: ../data/tsp/tsp125_test_generalization_seed1234.npz\n",
      "Effective batch size: 128 (ratio: 1)\n",
      "Using automatic batch size: 128\n"
     ]
    },
    {
     "data": {
      "application/vnd.jupyter.widget-view+json": {
       "model_id": "47335c6dffb640a69bd26df8fa35e95d",
       "version_major": 2,
       "version_minor": 0
      },
      "text/plain": [
       "Running greedy:   0%|          | 0/8 [00:00<?, ?it/s]"
      ]
     },
     "metadata": {},
     "output_type": "display_data"
    },
    {
     "name": "stdout",
     "output_type": "stream",
     "text": [
      "Mean reward for greedy: -10.2602\n",
      "Time: 1.0998s\n",
      "Optimality gap: 16.18%\n",
      "====================\n",
      "Evaluating dataset: ../data/tsp/tsp150_test_generalization_seed1234.npz\n",
      "Effective batch size: 128 (ratio: 1)\n",
      "Using automatic batch size: 128\n"
     ]
    },
    {
     "data": {
      "application/vnd.jupyter.widget-view+json": {
       "model_id": "304ed1dde727414d8462ba319648be0f",
       "version_major": 2,
       "version_minor": 0
      },
      "text/plain": [
       "Running greedy:   0%|          | 0/8 [00:00<?, ?it/s]"
      ]
     },
     "metadata": {},
     "output_type": "display_data"
    },
    {
     "name": "stdout",
     "output_type": "stream",
     "text": [
      "Mean reward for greedy: -11.5128\n",
      "Time: 1.3261s\n",
      "Optimality gap: 18.55%\n",
      "====================\n",
      "Evaluating dataset: ../data/tsp/tsp200_test_generalization_seed1234.npz\n",
      "Effective batch size: 128 (ratio: 1)\n",
      "Using automatic batch size: 128\n"
     ]
    },
    {
     "data": {
      "application/vnd.jupyter.widget-view+json": {
       "model_id": "d56f77504ce742e1800507c449b874ba",
       "version_major": 2,
       "version_minor": 0
      },
      "text/plain": [
       "Running greedy:   0%|          | 0/8 [00:00<?, ?it/s]"
      ]
     },
     "metadata": {},
     "output_type": "display_data"
    },
    {
     "name": "stdout",
     "output_type": "stream",
     "text": [
      "Mean reward for greedy: -13.7785\n",
      "Time: 1.7722s\n",
      "Optimality gap: 22.29%\n",
      "====================\n",
      "Evaluating dataset: ../data/tsp/tsp500_test_generalization_seed1234.npz\n",
      "Effective batch size: 128 (ratio: 1)\n",
      "Using automatic batch size: 128\n"
     ]
    },
    {
     "data": {
      "application/vnd.jupyter.widget-view+json": {
       "model_id": "84994471b902467b8c844323a22c0c16",
       "version_major": 2,
       "version_minor": 0
      },
      "text/plain": [
       "Running greedy:   0%|          | 0/8 [00:00<?, ?it/s]"
      ]
     },
     "metadata": {},
     "output_type": "display_data"
    },
    {
     "name": "stdout",
     "output_type": "stream",
     "text": [
      "Mean reward for greedy: -24.6970\n",
      "Time: 5.8501s\n",
      "Optimality gap: 33.01%\n",
      "====================\n",
      "Evaluating dataset: ../data/tsp/tsp1000_test_generalization_seed1234.npz\n",
      "Effective batch size: 128 (ratio: 1)\n",
      "Using automatic batch size: 128\n"
     ]
    },
    {
     "data": {
      "application/vnd.jupyter.widget-view+json": {
       "model_id": "05cca8943cea41f99ff22dd45431bdfe",
       "version_major": 2,
       "version_minor": 0
      },
      "text/plain": [
       "Running greedy:   0%|          | 0/8 [00:00<?, ?it/s]"
      ]
     },
     "metadata": {},
     "output_type": "display_data"
    },
    {
     "name": "stdout",
     "output_type": "stream",
     "text": [
      "Mean reward for greedy: -38.5294\n",
      "Time: 17.1044s\n",
      "Optimality gap: 39.96%\n"
     ]
    }
   ],
   "source": [
    "# AM Critic\n",
    "model_name = f\"am-critic-{exp_name}\"\n",
    "epoch = \"099\"\n",
    "model = load_policy(exp_name, epoch, model_name)\n",
    "am_critic_stats = get_generalization_stats(model)"
   ]
  },
  {
   "cell_type": "code",
   "execution_count": 13,
   "metadata": {},
   "outputs": [
    {
     "name": "stderr",
     "output_type": "stream",
     "text": [
      "Unused kwargs: {'params': {'total': 708608, 'trainable': 708608, 'non_trainable': 0}}\n"
     ]
    },
    {
     "name": "stdout",
     "output_type": "stream",
     "text": [
      "====================\n",
      "Evaluating dataset: ../data/tsp/tsp10_test_generalization_seed1234.npz\n",
      "Effective batch size: 128 (ratio: 1)\n",
      "Using automatic batch size: 128\n"
     ]
    },
    {
     "data": {
      "application/vnd.jupyter.widget-view+json": {
       "model_id": "d4bbd912735d432ba39fbf826075cf51",
       "version_major": 2,
       "version_minor": 0
      },
      "text/plain": [
       "Running greedy:   0%|          | 0/8 [00:00<?, ?it/s]"
      ]
     },
     "metadata": {},
     "output_type": "display_data"
    },
    {
     "name": "stdout",
     "output_type": "stream",
     "text": [
      "Mean reward for greedy: -2.8657\n",
      "Time: 0.1155s\n",
      "Optimality gap: 0.07%\n",
      "====================\n",
      "Evaluating dataset: ../data/tsp/tsp20_test_generalization_seed1234.npz\n",
      "Effective batch size: 128 (ratio: 1)\n",
      "Using automatic batch size: 128\n"
     ]
    },
    {
     "data": {
      "application/vnd.jupyter.widget-view+json": {
       "model_id": "4b9daa9ae1b64402a666de6e441aa301",
       "version_major": 2,
       "version_minor": 0
      },
      "text/plain": [
       "Running greedy:   0%|          | 0/8 [00:00<?, ?it/s]"
      ]
     },
     "metadata": {},
     "output_type": "display_data"
    },
    {
     "name": "stdout",
     "output_type": "stream",
     "text": [
      "Mean reward for greedy: -3.8519\n",
      "Time: 0.1986s\n",
      "Optimality gap: 0.18%\n",
      "====================\n",
      "Evaluating dataset: ../data/tsp/tsp50_test_generalization_seed1234.npz\n",
      "Effective batch size: 128 (ratio: 1)\n",
      "Using automatic batch size: 128\n"
     ]
    },
    {
     "data": {
      "application/vnd.jupyter.widget-view+json": {
       "model_id": "64809ee5ff124296bda2c93c484d8b06",
       "version_major": 2,
       "version_minor": 0
      },
      "text/plain": [
       "Running greedy:   0%|          | 0/8 [00:00<?, ?it/s]"
      ]
     },
     "metadata": {},
     "output_type": "display_data"
    },
    {
     "name": "stdout",
     "output_type": "stream",
     "text": [
      "Mean reward for greedy: -5.9097\n",
      "Time: 0.4555s\n",
      "Optimality gap: 3.70%\n",
      "====================\n",
      "Evaluating dataset: ../data/tsp/tsp75_test_generalization_seed1234.npz\n",
      "Effective batch size: 128 (ratio: 1)\n",
      "Using automatic batch size: 128\n"
     ]
    },
    {
     "data": {
      "application/vnd.jupyter.widget-view+json": {
       "model_id": "fae40b0addd84ab0bae364cfc8f7d56a",
       "version_major": 2,
       "version_minor": 0
      },
      "text/plain": [
       "Running greedy:   0%|          | 0/8 [00:00<?, ?it/s]"
      ]
     },
     "metadata": {},
     "output_type": "display_data"
    },
    {
     "name": "stdout",
     "output_type": "stream",
     "text": [
      "Mean reward for greedy: -7.4661\n",
      "Time: 0.6710s\n",
      "Optimality gap: 8.68%\n",
      "====================\n",
      "Evaluating dataset: ../data/tsp/tsp100_test_generalization_seed1234.npz\n",
      "Effective batch size: 128 (ratio: 1)\n",
      "Using automatic batch size: 128\n"
     ]
    },
    {
     "data": {
      "application/vnd.jupyter.widget-view+json": {
       "model_id": "fa7e8a7200c34c46b31ba462afb6ce66",
       "version_major": 2,
       "version_minor": 0
      },
      "text/plain": [
       "Running greedy:   0%|          | 0/8 [00:00<?, ?it/s]"
      ]
     },
     "metadata": {},
     "output_type": "display_data"
    },
    {
     "name": "stdout",
     "output_type": "stream",
     "text": [
      "Mean reward for greedy: -8.9376\n",
      "Time: 0.8910s\n",
      "Optimality gap: 13.17%\n",
      "====================\n",
      "Evaluating dataset: ../data/tsp/tsp125_test_generalization_seed1234.npz\n",
      "Effective batch size: 128 (ratio: 1)\n",
      "Using automatic batch size: 128\n"
     ]
    },
    {
     "data": {
      "application/vnd.jupyter.widget-view+json": {
       "model_id": "655623ebd41240149e658770b0e97b7a",
       "version_major": 2,
       "version_minor": 0
      },
      "text/plain": [
       "Running greedy:   0%|          | 0/8 [00:00<?, ?it/s]"
      ]
     },
     "metadata": {},
     "output_type": "display_data"
    },
    {
     "name": "stdout",
     "output_type": "stream",
     "text": [
      "Mean reward for greedy: -10.3212\n",
      "Time: 1.1116s\n",
      "Optimality gap: 16.66%\n",
      "====================\n",
      "Evaluating dataset: ../data/tsp/tsp150_test_generalization_seed1234.npz\n",
      "Effective batch size: 128 (ratio: 1)\n",
      "Using automatic batch size: 128\n"
     ]
    },
    {
     "data": {
      "application/vnd.jupyter.widget-view+json": {
       "model_id": "2c9bf79aa5d84dca947a12b5a64dd97c",
       "version_major": 2,
       "version_minor": 0
      },
      "text/plain": [
       "Running greedy:   0%|          | 0/8 [00:00<?, ?it/s]"
      ]
     },
     "metadata": {},
     "output_type": "display_data"
    },
    {
     "name": "stdout",
     "output_type": "stream",
     "text": [
      "Mean reward for greedy: -11.6000\n",
      "Time: 1.3278s\n",
      "Optimality gap: 19.16%\n",
      "====================\n",
      "Evaluating dataset: ../data/tsp/tsp200_test_generalization_seed1234.npz\n",
      "Effective batch size: 128 (ratio: 1)\n",
      "Using automatic batch size: 128\n"
     ]
    },
    {
     "data": {
      "application/vnd.jupyter.widget-view+json": {
       "model_id": "434620571349478daecfbf9c90f696cf",
       "version_major": 2,
       "version_minor": 0
      },
      "text/plain": [
       "Running greedy:   0%|          | 0/8 [00:00<?, ?it/s]"
      ]
     },
     "metadata": {},
     "output_type": "display_data"
    },
    {
     "name": "stdout",
     "output_type": "stream",
     "text": [
      "Mean reward for greedy: -13.9027\n",
      "Time: 1.7801s\n",
      "Optimality gap: 22.99%\n",
      "====================\n",
      "Evaluating dataset: ../data/tsp/tsp500_test_generalization_seed1234.npz\n",
      "Effective batch size: 128 (ratio: 1)\n",
      "Using automatic batch size: 128\n"
     ]
    },
    {
     "data": {
      "application/vnd.jupyter.widget-view+json": {
       "model_id": "bee175bd969645498ef1c7b4c3009cc3",
       "version_major": 2,
       "version_minor": 0
      },
      "text/plain": [
       "Running greedy:   0%|          | 0/8 [00:00<?, ?it/s]"
      ]
     },
     "metadata": {},
     "output_type": "display_data"
    },
    {
     "name": "stdout",
     "output_type": "stream",
     "text": [
      "Mean reward for greedy: -24.8477\n",
      "Time: 5.8688s\n",
      "Optimality gap: 33.41%\n",
      "====================\n",
      "Evaluating dataset: ../data/tsp/tsp1000_test_generalization_seed1234.npz\n",
      "Effective batch size: 128 (ratio: 1)\n",
      "Using automatic batch size: 128\n"
     ]
    },
    {
     "data": {
      "application/vnd.jupyter.widget-view+json": {
       "model_id": "9abd0178f0d74b2c8fa34940829f7e71",
       "version_major": 2,
       "version_minor": 0
      },
      "text/plain": [
       "Running greedy:   0%|          | 0/8 [00:00<?, ?it/s]"
      ]
     },
     "metadata": {},
     "output_type": "display_data"
    },
    {
     "name": "stdout",
     "output_type": "stream",
     "text": [
      "Mean reward for greedy: -38.7495\n",
      "Time: 17.0892s\n",
      "Optimality gap: 40.30%\n"
     ]
    }
   ],
   "source": [
    "# AM\n",
    "model_name = f\"am-{exp_name}\"\n",
    "epoch = \"099\"\n",
    "model = load_policy(exp_name, epoch, model_name)\n",
    "am_stats = get_generalization_stats(model)"
   ]
  },
  {
   "cell_type": "code",
   "execution_count": 14,
   "metadata": {},
   "outputs": [
    {
     "name": "stderr",
     "output_type": "stream",
     "text": [
      "Unused kwargs: {'params': {'total': 1301888, 'trainable': 1301888, 'non_trainable': 0}}\n"
     ]
    },
    {
     "name": "stdout",
     "output_type": "stream",
     "text": [
      "====================\n",
      "Evaluating dataset: ../data/tsp/tsp10_test_generalization_seed1234.npz\n",
      "Effective batch size: 128 (ratio: 1)\n",
      "Using automatic batch size: 128\n"
     ]
    },
    {
     "data": {
      "application/vnd.jupyter.widget-view+json": {
       "model_id": "7e2bdcf5dd2d46c0ab4bf9d1533f6728",
       "version_major": 2,
       "version_minor": 0
      },
      "text/plain": [
       "Running greedy:   0%|          | 0/8 [00:00<?, ?it/s]"
      ]
     },
     "metadata": {},
     "output_type": "display_data"
    },
    {
     "name": "stdout",
     "output_type": "stream",
     "text": [
      "Mean reward for greedy: -2.8657\n",
      "Time: 0.1370s\n",
      "Optimality gap: 0.07%\n",
      "====================\n",
      "Evaluating dataset: ../data/tsp/tsp20_test_generalization_seed1234.npz\n",
      "Effective batch size: 128 (ratio: 1)\n",
      "Using automatic batch size: 128\n"
     ]
    },
    {
     "data": {
      "application/vnd.jupyter.widget-view+json": {
       "model_id": "6d879a0d26fb4f91901a8fc5297beccb",
       "version_major": 2,
       "version_minor": 0
      },
      "text/plain": [
       "Running greedy:   0%|          | 0/8 [00:00<?, ?it/s]"
      ]
     },
     "metadata": {},
     "output_type": "display_data"
    },
    {
     "name": "stdout",
     "output_type": "stream",
     "text": [
      "Mean reward for greedy: -3.8522\n",
      "Time: 0.2133s\n",
      "Optimality gap: 0.18%\n",
      "====================\n",
      "Evaluating dataset: ../data/tsp/tsp50_test_generalization_seed1234.npz\n",
      "Effective batch size: 128 (ratio: 1)\n",
      "Using automatic batch size: 128\n"
     ]
    },
    {
     "data": {
      "application/vnd.jupyter.widget-view+json": {
       "model_id": "e810e31183854db1b97fe8e84758e165",
       "version_major": 2,
       "version_minor": 0
      },
      "text/plain": [
       "Running greedy:   0%|          | 0/8 [00:00<?, ?it/s]"
      ]
     },
     "metadata": {},
     "output_type": "display_data"
    },
    {
     "name": "stdout",
     "output_type": "stream",
     "text": [
      "Mean reward for greedy: -5.9854\n",
      "Time: 0.4876s\n",
      "Optimality gap: 4.81%\n",
      "====================\n",
      "Evaluating dataset: ../data/tsp/tsp75_test_generalization_seed1234.npz\n",
      "Effective batch size: 128 (ratio: 1)\n",
      "Using automatic batch size: 128\n"
     ]
    },
    {
     "data": {
      "application/vnd.jupyter.widget-view+json": {
       "model_id": "47b681c9108940dcaeed501e39e8b007",
       "version_major": 2,
       "version_minor": 0
      },
      "text/plain": [
       "Running greedy:   0%|          | 0/8 [00:00<?, ?it/s]"
      ]
     },
     "metadata": {},
     "output_type": "display_data"
    },
    {
     "name": "stdout",
     "output_type": "stream",
     "text": [
      "Mean reward for greedy: -7.8970\n",
      "Time: 0.6964s\n",
      "Optimality gap: 13.41%\n",
      "====================\n",
      "Evaluating dataset: ../data/tsp/tsp100_test_generalization_seed1234.npz\n",
      "Effective batch size: 128 (ratio: 1)\n",
      "Using automatic batch size: 128\n"
     ]
    },
    {
     "data": {
      "application/vnd.jupyter.widget-view+json": {
       "model_id": "34a7842f4d6e4a8796b93f8bb0823a64",
       "version_major": 2,
       "version_minor": 0
      },
      "text/plain": [
       "Running greedy:   0%|          | 0/8 [00:00<?, ?it/s]"
      ]
     },
     "metadata": {},
     "output_type": "display_data"
    },
    {
     "name": "stdout",
     "output_type": "stream",
     "text": [
      "Mean reward for greedy: -9.6214\n",
      "Time: 0.9223s\n",
      "Optimality gap: 19.16%\n",
      "====================\n",
      "Evaluating dataset: ../data/tsp/tsp125_test_generalization_seed1234.npz\n",
      "Effective batch size: 128 (ratio: 1)\n",
      "Using automatic batch size: 128\n"
     ]
    },
    {
     "data": {
      "application/vnd.jupyter.widget-view+json": {
       "model_id": "3bc1f55b54ed475fa414053d3369a124",
       "version_major": 2,
       "version_minor": 0
      },
      "text/plain": [
       "Running greedy:   0%|          | 0/8 [00:00<?, ?it/s]"
      ]
     },
     "metadata": {},
     "output_type": "display_data"
    },
    {
     "name": "stdout",
     "output_type": "stream",
     "text": [
      "Mean reward for greedy: -11.1764\n",
      "Time: 1.1401s\n",
      "Optimality gap: 22.90%\n",
      "====================\n",
      "Evaluating dataset: ../data/tsp/tsp150_test_generalization_seed1234.npz\n",
      "Effective batch size: 128 (ratio: 1)\n",
      "Using automatic batch size: 128\n"
     ]
    },
    {
     "data": {
      "application/vnd.jupyter.widget-view+json": {
       "model_id": "9e305ace09914d14a58eb0ed6c0d9f20",
       "version_major": 2,
       "version_minor": 0
      },
      "text/plain": [
       "Running greedy:   0%|          | 0/8 [00:00<?, ?it/s]"
      ]
     },
     "metadata": {},
     "output_type": "display_data"
    },
    {
     "name": "stdout",
     "output_type": "stream",
     "text": [
      "Mean reward for greedy: -12.5479\n",
      "Time: 1.3841s\n",
      "Optimality gap: 25.16%\n",
      "====================\n",
      "Evaluating dataset: ../data/tsp/tsp200_test_generalization_seed1234.npz\n",
      "Effective batch size: 128 (ratio: 1)\n",
      "Using automatic batch size: 128\n"
     ]
    },
    {
     "data": {
      "application/vnd.jupyter.widget-view+json": {
       "model_id": "73074c37f1a24da4a4f3f65bf1e1b277",
       "version_major": 2,
       "version_minor": 0
      },
      "text/plain": [
       "Running greedy:   0%|          | 0/8 [00:00<?, ?it/s]"
      ]
     },
     "metadata": {},
     "output_type": "display_data"
    },
    {
     "name": "stdout",
     "output_type": "stream",
     "text": [
      "Mean reward for greedy: -14.8703\n",
      "Time: 1.8424s\n",
      "Optimality gap: 27.92%\n",
      "====================\n",
      "Evaluating dataset: ../data/tsp/tsp500_test_generalization_seed1234.npz\n",
      "Effective batch size: 128 (ratio: 1)\n",
      "Using automatic batch size: 128\n"
     ]
    },
    {
     "data": {
      "application/vnd.jupyter.widget-view+json": {
       "model_id": "625e8dc8379049dd9fc6a64290aac871",
       "version_major": 2,
       "version_minor": 0
      },
      "text/plain": [
       "Running greedy:   0%|          | 0/8 [00:00<?, ?it/s]"
      ]
     },
     "metadata": {},
     "output_type": "display_data"
    },
    {
     "name": "stdout",
     "output_type": "stream",
     "text": [
      "Mean reward for greedy: -25.2353\n",
      "Time: 6.1047s\n",
      "Optimality gap: 34.41%\n",
      "====================\n",
      "Evaluating dataset: ../data/tsp/tsp1000_test_generalization_seed1234.npz\n",
      "Effective batch size: 128 (ratio: 1)\n",
      "Using automatic batch size: 128\n"
     ]
    },
    {
     "data": {
      "application/vnd.jupyter.widget-view+json": {
       "model_id": "64977c176bfa45ec8d83000d20933b6a",
       "version_major": 2,
       "version_minor": 0
      },
      "text/plain": [
       "Running greedy:   0%|          | 0/8 [00:00<?, ?it/s]"
      ]
     },
     "metadata": {},
     "output_type": "display_data"
    },
    {
     "name": "stdout",
     "output_type": "stream",
     "text": [
      "Mean reward for greedy: -36.9771\n",
      "Time: 18.0907s\n",
      "Optimality gap: 37.43%\n"
     ]
    }
   ],
   "source": [
    "# POMO\n",
    "model_name = f\"pomo-{exp_name}\"\n",
    "epoch = \"099\"\n",
    "model = load_policy(exp_name, epoch, model_name)\n",
    "pomo_stats = get_generalization_stats(model)"
   ]
  },
  {
   "cell_type": "code",
   "execution_count": 15,
   "metadata": {},
   "outputs": [
    {
     "name": "stderr",
     "output_type": "stream",
     "text": [
      "Unused kwargs: {'params': {'total': 1334912, 'trainable': 1334912, 'non_trainable': 0}}\n"
     ]
    },
    {
     "name": "stdout",
     "output_type": "stream",
     "text": [
      "====================\n",
      "Evaluating dataset: ../data/tsp/tsp10_test_generalization_seed1234.npz\n",
      "Effective batch size: 128 (ratio: 1)\n",
      "Using automatic batch size: 128\n"
     ]
    },
    {
     "data": {
      "application/vnd.jupyter.widget-view+json": {
       "model_id": "fe5ad252154d4f1d9d722be92a845d15",
       "version_major": 2,
       "version_minor": 0
      },
      "text/plain": [
       "Running greedy:   0%|          | 0/8 [00:00<?, ?it/s]"
      ]
     },
     "metadata": {},
     "output_type": "display_data"
    },
    {
     "name": "stdout",
     "output_type": "stream",
     "text": [
      "Mean reward for greedy: -2.8646\n",
      "Time: 0.1363s\n",
      "Optimality gap: 0.04%\n",
      "====================\n",
      "Evaluating dataset: ../data/tsp/tsp20_test_generalization_seed1234.npz\n",
      "Effective batch size: 128 (ratio: 1)\n",
      "Using automatic batch size: 128\n"
     ]
    },
    {
     "data": {
      "application/vnd.jupyter.widget-view+json": {
       "model_id": "92ffc356ea4a45ae9c7f128717b6af15",
       "version_major": 2,
       "version_minor": 0
      },
      "text/plain": [
       "Running greedy:   0%|          | 0/8 [00:00<?, ?it/s]"
      ]
     },
     "metadata": {},
     "output_type": "display_data"
    },
    {
     "name": "stdout",
     "output_type": "stream",
     "text": [
      "Mean reward for greedy: -3.8469\n",
      "Time: 0.2236s\n",
      "Optimality gap: 0.05%\n",
      "====================\n",
      "Evaluating dataset: ../data/tsp/tsp50_test_generalization_seed1234.npz\n",
      "Effective batch size: 128 (ratio: 1)\n",
      "Using automatic batch size: 128\n"
     ]
    },
    {
     "data": {
      "application/vnd.jupyter.widget-view+json": {
       "model_id": "296d02f1c7724f998f22a1a07dd004e5",
       "version_major": 2,
       "version_minor": 0
      },
      "text/plain": [
       "Running greedy:   0%|          | 0/8 [00:00<?, ?it/s]"
      ]
     },
     "metadata": {},
     "output_type": "display_data"
    },
    {
     "name": "stdout",
     "output_type": "stream",
     "text": [
      "Mean reward for greedy: -5.8487\n",
      "Time: 0.4869s\n",
      "Optimality gap: 2.72%\n",
      "====================\n",
      "Evaluating dataset: ../data/tsp/tsp75_test_generalization_seed1234.npz\n",
      "Effective batch size: 128 (ratio: 1)\n",
      "Using automatic batch size: 128\n"
     ]
    },
    {
     "data": {
      "application/vnd.jupyter.widget-view+json": {
       "model_id": "1eaf2b2a81174f34b0c00ee42a6deb30",
       "version_major": 2,
       "version_minor": 0
      },
      "text/plain": [
       "Running greedy:   0%|          | 0/8 [00:00<?, ?it/s]"
      ]
     },
     "metadata": {},
     "output_type": "display_data"
    },
    {
     "name": "stdout",
     "output_type": "stream",
     "text": [
      "Mean reward for greedy: -7.4053\n",
      "Time: 0.7036s\n",
      "Optimality gap: 7.93%\n",
      "====================\n",
      "Evaluating dataset: ../data/tsp/tsp100_test_generalization_seed1234.npz\n",
      "Effective batch size: 128 (ratio: 1)\n",
      "Using automatic batch size: 128\n"
     ]
    },
    {
     "data": {
      "application/vnd.jupyter.widget-view+json": {
       "model_id": "230e52a2e0b1438480957806cf2a3f8c",
       "version_major": 2,
       "version_minor": 0
      },
      "text/plain": [
       "Running greedy:   0%|          | 0/8 [00:00<?, ?it/s]"
      ]
     },
     "metadata": {},
     "output_type": "display_data"
    },
    {
     "name": "stdout",
     "output_type": "stream",
     "text": [
      "Mean reward for greedy: -8.8499\n",
      "Time: 0.9286s\n",
      "Optimality gap: 12.31%\n",
      "====================\n",
      "Evaluating dataset: ../data/tsp/tsp125_test_generalization_seed1234.npz\n",
      "Effective batch size: 128 (ratio: 1)\n",
      "Using automatic batch size: 128\n"
     ]
    },
    {
     "data": {
      "application/vnd.jupyter.widget-view+json": {
       "model_id": "c917562cbb4f4d54948ea684549ca074",
       "version_major": 2,
       "version_minor": 0
      },
      "text/plain": [
       "Running greedy:   0%|          | 0/8 [00:00<?, ?it/s]"
      ]
     },
     "metadata": {},
     "output_type": "display_data"
    },
    {
     "name": "stdout",
     "output_type": "stream",
     "text": [
      "Mean reward for greedy: -10.2038\n",
      "Time: 1.1602s\n",
      "Optimality gap: 15.70%\n",
      "====================\n",
      "Evaluating dataset: ../data/tsp/tsp150_test_generalization_seed1234.npz\n",
      "Effective batch size: 128 (ratio: 1)\n",
      "Using automatic batch size: 128\n"
     ]
    },
    {
     "data": {
      "application/vnd.jupyter.widget-view+json": {
       "model_id": "c7e7a4b65bd14e3191044caac4cc8fff",
       "version_major": 2,
       "version_minor": 0
      },
      "text/plain": [
       "Running greedy:   0%|          | 0/8 [00:00<?, ?it/s]"
      ]
     },
     "metadata": {},
     "output_type": "display_data"
    },
    {
     "name": "stdout",
     "output_type": "stream",
     "text": [
      "Mean reward for greedy: -11.4524\n",
      "Time: 1.3927s\n",
      "Optimality gap: 18.12%\n",
      "====================\n",
      "Evaluating dataset: ../data/tsp/tsp200_test_generalization_seed1234.npz\n",
      "Effective batch size: 128 (ratio: 1)\n",
      "Using automatic batch size: 128\n"
     ]
    },
    {
     "data": {
      "application/vnd.jupyter.widget-view+json": {
       "model_id": "08f491e2c4eb47b2b132eb1f3063d526",
       "version_major": 2,
       "version_minor": 0
      },
      "text/plain": [
       "Running greedy:   0%|          | 0/8 [00:00<?, ?it/s]"
      ]
     },
     "metadata": {},
     "output_type": "display_data"
    },
    {
     "name": "stdout",
     "output_type": "stream",
     "text": [
      "Mean reward for greedy: -13.6708\n",
      "Time: 1.8418s\n",
      "Optimality gap: 21.68%\n",
      "====================\n",
      "Evaluating dataset: ../data/tsp/tsp500_test_generalization_seed1234.npz\n",
      "Effective batch size: 128 (ratio: 1)\n",
      "Using automatic batch size: 128\n"
     ]
    },
    {
     "data": {
      "application/vnd.jupyter.widget-view+json": {
       "model_id": "0a31c14e0a2348c7864fd64f76f26c72",
       "version_major": 2,
       "version_minor": 0
      },
      "text/plain": [
       "Running greedy:   0%|          | 0/8 [00:00<?, ?it/s]"
      ]
     },
     "metadata": {},
     "output_type": "display_data"
    },
    {
     "name": "stdout",
     "output_type": "stream",
     "text": [
      "Mean reward for greedy: -23.9845\n",
      "Time: 6.1461s\n",
      "Optimality gap: 31.01%\n",
      "====================\n",
      "Evaluating dataset: ../data/tsp/tsp1000_test_generalization_seed1234.npz\n",
      "Effective batch size: 128 (ratio: 1)\n",
      "Using automatic batch size: 128\n"
     ]
    },
    {
     "data": {
      "application/vnd.jupyter.widget-view+json": {
       "model_id": "38d32a35c8e14ef79cbc3666f1163b32",
       "version_major": 2,
       "version_minor": 0
      },
      "text/plain": [
       "Running greedy:   0%|          | 0/8 [00:00<?, ?it/s]"
      ]
     },
     "metadata": {},
     "output_type": "display_data"
    },
    {
     "name": "stdout",
     "output_type": "stream",
     "text": [
      "Mean reward for greedy: -36.8153\n",
      "Time: 18.1869s\n",
      "Optimality gap: 37.17%\n"
     ]
    }
   ],
   "source": [
    "# SymNCO\n",
    "model_name = f\"symnco-{exp_name}\"\n",
    "epoch = \"099\"\n",
    "model = load_policy(exp_name, epoch, model_name)\n",
    "symnco_stats = get_generalization_stats(model)"
   ]
  },
  {
   "cell_type": "code",
   "execution_count": 16,
   "metadata": {},
   "outputs": [
    {
     "name": "stderr",
     "output_type": "stream",
     "text": [
      "Unused kwargs: {'params': {'total': 1301888, 'trainable': 1301888, 'non_trainable': 0}}\n"
     ]
    },
    {
     "name": "stdout",
     "output_type": "stream",
     "text": [
      "====================\n",
      "Evaluating dataset: ../data/tsp/tsp10_test_generalization_seed1234.npz\n",
      "Effective batch size: 128 (ratio: 1)\n",
      "Using automatic batch size: 128\n"
     ]
    },
    {
     "data": {
      "application/vnd.jupyter.widget-view+json": {
       "model_id": "977f06c4977a420ab83d7f1a56772628",
       "version_major": 2,
       "version_minor": 0
      },
      "text/plain": [
       "Running greedy:   0%|          | 0/8 [00:00<?, ?it/s]"
      ]
     },
     "metadata": {},
     "output_type": "display_data"
    },
    {
     "name": "stdout",
     "output_type": "stream",
     "text": [
      "Mean reward for greedy: -2.8650\n",
      "Time: 0.1365s\n",
      "Optimality gap: 0.05%\n",
      "====================\n",
      "Evaluating dataset: ../data/tsp/tsp20_test_generalization_seed1234.npz\n",
      "Effective batch size: 128 (ratio: 1)\n",
      "Using automatic batch size: 128\n"
     ]
    },
    {
     "data": {
      "application/vnd.jupyter.widget-view+json": {
       "model_id": "bfe993130440406a8f8123d9fb522883",
       "version_major": 2,
       "version_minor": 0
      },
      "text/plain": [
       "Running greedy:   0%|          | 0/8 [00:00<?, ?it/s]"
      ]
     },
     "metadata": {},
     "output_type": "display_data"
    },
    {
     "name": "stdout",
     "output_type": "stream",
     "text": [
      "Mean reward for greedy: -3.8479\n",
      "Time: 0.2242s\n",
      "Optimality gap: 0.08%\n",
      "====================\n",
      "Evaluating dataset: ../data/tsp/tsp50_test_generalization_seed1234.npz\n",
      "Effective batch size: 128 (ratio: 1)\n",
      "Using automatic batch size: 128\n"
     ]
    },
    {
     "data": {
      "application/vnd.jupyter.widget-view+json": {
       "model_id": "430fc5deb7314490aa4f241b102f4056",
       "version_major": 2,
       "version_minor": 0
      },
      "text/plain": [
       "Running greedy:   0%|          | 0/8 [00:00<?, ?it/s]"
      ]
     },
     "metadata": {},
     "output_type": "display_data"
    },
    {
     "name": "stdout",
     "output_type": "stream",
     "text": [
      "Mean reward for greedy: -5.8577\n",
      "Time: 0.4890s\n",
      "Optimality gap: 2.87%\n",
      "====================\n",
      "Evaluating dataset: ../data/tsp/tsp75_test_generalization_seed1234.npz\n",
      "Effective batch size: 128 (ratio: 1)\n",
      "Using automatic batch size: 128\n"
     ]
    },
    {
     "data": {
      "application/vnd.jupyter.widget-view+json": {
       "model_id": "fe62920a090949dbb015d241a80857ae",
       "version_major": 2,
       "version_minor": 0
      },
      "text/plain": [
       "Running greedy:   0%|          | 0/8 [00:00<?, ?it/s]"
      ]
     },
     "metadata": {},
     "output_type": "display_data"
    },
    {
     "name": "stdout",
     "output_type": "stream",
     "text": [
      "Mean reward for greedy: -7.3887\n",
      "Time: 0.7138s\n",
      "Optimality gap: 7.73%\n",
      "====================\n",
      "Evaluating dataset: ../data/tsp/tsp100_test_generalization_seed1234.npz\n",
      "Effective batch size: 128 (ratio: 1)\n",
      "Using automatic batch size: 128\n"
     ]
    },
    {
     "data": {
      "application/vnd.jupyter.widget-view+json": {
       "model_id": "d6252c50de3a41adb6883befce1b8ac4",
       "version_major": 2,
       "version_minor": 0
      },
      "text/plain": [
       "Running greedy:   0%|          | 0/8 [00:00<?, ?it/s]"
      ]
     },
     "metadata": {},
     "output_type": "display_data"
    },
    {
     "name": "stdout",
     "output_type": "stream",
     "text": [
      "Mean reward for greedy: -8.8401\n",
      "Time: 0.9352s\n",
      "Optimality gap: 12.21%\n",
      "====================\n",
      "Evaluating dataset: ../data/tsp/tsp125_test_generalization_seed1234.npz\n",
      "Effective batch size: 128 (ratio: 1)\n",
      "Using automatic batch size: 128\n"
     ]
    },
    {
     "data": {
      "application/vnd.jupyter.widget-view+json": {
       "model_id": "2051813c051c49b18c67d595f36200b1",
       "version_major": 2,
       "version_minor": 0
      },
      "text/plain": [
       "Running greedy:   0%|          | 0/8 [00:00<?, ?it/s]"
      ]
     },
     "metadata": {},
     "output_type": "display_data"
    },
    {
     "name": "stdout",
     "output_type": "stream",
     "text": [
      "Mean reward for greedy: -10.1971\n",
      "Time: 1.1546s\n",
      "Optimality gap: 15.63%\n",
      "====================\n",
      "Evaluating dataset: ../data/tsp/tsp150_test_generalization_seed1234.npz\n",
      "Effective batch size: 128 (ratio: 1)\n",
      "Using automatic batch size: 128\n"
     ]
    },
    {
     "data": {
      "application/vnd.jupyter.widget-view+json": {
       "model_id": "66145f9d831643dbbf105a74f47bedf4",
       "version_major": 2,
       "version_minor": 0
      },
      "text/plain": [
       "Running greedy:   0%|          | 0/8 [00:00<?, ?it/s]"
      ]
     },
     "metadata": {},
     "output_type": "display_data"
    },
    {
     "name": "stdout",
     "output_type": "stream",
     "text": [
      "Mean reward for greedy: -11.4516\n",
      "Time: 1.3966s\n",
      "Optimality gap: 18.11%\n",
      "====================\n",
      "Evaluating dataset: ../data/tsp/tsp200_test_generalization_seed1234.npz\n",
      "Effective batch size: 128 (ratio: 1)\n",
      "Using automatic batch size: 128\n"
     ]
    },
    {
     "data": {
      "application/vnd.jupyter.widget-view+json": {
       "model_id": "6071b1e00dcb4471805959e715306388",
       "version_major": 2,
       "version_minor": 0
      },
      "text/plain": [
       "Running greedy:   0%|          | 0/8 [00:00<?, ?it/s]"
      ]
     },
     "metadata": {},
     "output_type": "display_data"
    },
    {
     "name": "stdout",
     "output_type": "stream",
     "text": [
      "Mean reward for greedy: -13.6844\n",
      "Time: 1.8449s\n",
      "Optimality gap: 21.76%\n",
      "====================\n",
      "Evaluating dataset: ../data/tsp/tsp500_test_generalization_seed1234.npz\n",
      "Effective batch size: 128 (ratio: 1)\n",
      "Using automatic batch size: 128\n"
     ]
    },
    {
     "data": {
      "application/vnd.jupyter.widget-view+json": {
       "model_id": "4ac5e84238f248beac2ab5d52f0bf810",
       "version_major": 2,
       "version_minor": 0
      },
      "text/plain": [
       "Running greedy:   0%|          | 0/8 [00:00<?, ?it/s]"
      ]
     },
     "metadata": {},
     "output_type": "display_data"
    },
    {
     "name": "stdout",
     "output_type": "stream",
     "text": [
      "Mean reward for greedy: -24.1265\n",
      "Time: 6.1466s\n",
      "Optimality gap: 31.42%\n",
      "====================\n",
      "Evaluating dataset: ../data/tsp/tsp1000_test_generalization_seed1234.npz\n",
      "Effective batch size: 128 (ratio: 1)\n",
      "Using automatic batch size: 128\n"
     ]
    },
    {
     "data": {
      "application/vnd.jupyter.widget-view+json": {
       "model_id": "8c82fcf809b24b7c96ac971bad9e724f",
       "version_major": 2,
       "version_minor": 0
      },
      "text/plain": [
       "Running greedy:   0%|          | 0/8 [00:00<?, ?it/s]"
      ]
     },
     "metadata": {},
     "output_type": "display_data"
    },
    {
     "name": "stdout",
     "output_type": "stream",
     "text": [
      "Mean reward for greedy: -37.1931\n",
      "Time: 18.1983s\n",
      "Optimality gap: 37.80%\n"
     ]
    }
   ],
   "source": [
    "# AM-xl\n",
    "model_name = f\"am-{exp_name}-sm-xl\"\n",
    "epoch = \"499\"\n",
    "model = load_policy(exp_name, epoch, model_name)\n",
    "am_xl_stats = get_generalization_stats(model)"
   ]
  },
  {
   "cell_type": "code",
   "execution_count": 17,
   "metadata": {},
   "outputs": [],
   "source": [
    "experiments = { \n",
    "    # 'ptrnet': ptrnet_stats,\n",
    "    'am-critic': am_critic_stats,\n",
    "    'am': am_stats,\n",
    "    'pomo': pomo_stats, \n",
    "    'symnco': symnco_stats,\n",
    "    'am-xl': am_xl_stats,\n",
    "}\n",
    "\n",
    "colors = {\n",
    "    # 'ptrnet': 'tab:brown',\n",
    "    'am-critic': 'tab:red',\n",
    "    'am': 'tab:blue',\n",
    "    'pomo': 'tab:orange',\n",
    "    'symnco': 'tab:green',\n",
    "    'am-xl': 'tab:purple',\n",
    "}\n",
    "\n",
    "labels = {\n",
    "    # 'ptrnet': 'PointerNet',\n",
    "    'am-critic': 'AM-critic',\n",
    "    'am': 'AM',\n",
    "    'pomo': 'POMO',\n",
    "    'symnco': 'SymNCO',\n",
    "    'am-xl': 'AM-XL',\n",
    "}"
   ]
  },
  {
   "cell_type": "code",
   "execution_count": 18,
   "metadata": {},
   "outputs": [],
   "source": [
    "import matplotlib\n",
    "import matplotlib.pyplot as plt\n",
    "\n",
    "plt.rcParams.update({'text.usetex': True,\n",
    "                    'font.family': 'serif',\n",
    "                    # 'font.size': 16,\n",
    "})"
   ]
  },
  {
   "attachments": {},
   "cell_type": "markdown",
   "metadata": {},
   "source": []
  },
  {
   "cell_type": "code",
   "execution_count": 37,
   "metadata": {},
   "outputs": [
    {
     "data": {
      "image/png": "[encoded data removed]",
      "text/plain": [
       "<Figure size 600x400 with 1 Axes>"
      ]
     },
     "metadata": {},
     "output_type": "display_data"
    }
   ],
   "source": [
    "\n",
    "fig, ax = plt.subplots(figsize=(6,4))\n",
    "\n",
    "data_generalization = defaultdict(list)\n",
    "\n",
    "for experiment in experiments:\n",
    "    # add data to save and plot\n",
    "    stats = experiments[experiment]\n",
    "    data_generalization[experiment] = stats\n",
    "\n",
    "    ax.plot(stats['num_nodes'], stats['optimality_gap'], label=labels[experiment], color=colors[experiment])\n",
    "\n",
    "# log scale\n",
    "ax.set_xscale('log')\n",
    "# ax.set_yscale('log')\n",
    "\n",
    "# cut plot at 10 nodes\n",
    "# ax.set_xlim([10, 1000])\n",
    "ax.set_xlim([10, 200])\n",
    "\n",
    "# replace x-axis ticks\n",
    "# ax.set_xticks([10, 20, 50, 100, 200, 500, 1000])\n",
    "ax.set_xticks([10, 20, 50, 100, 200])\n",
    "ax.get_xaxis().set_major_formatter(matplotlib.ticker.ScalarFormatter())\n",
    "\n",
    "# Set plot title\n",
    "ax.set_title('Generalization to different sizes')\n",
    "\n",
    "# Set x-axis label\n",
    "ax.set_xlabel('Number of nodes')\n",
    "ax.set_ylabel('Gap (\\%)')\n",
    "\n",
    "ax.set_ylim([0, 12])\n",
    "ax.set_ylim([0, None])\n",
    "\n",
    "# Training size: draw vertical line at num_nodes = stats['num_nodes'][-1]\n",
    "# ax.axvline(x=stats['num_nodes'][-1])#, color='tab:red', linestyle='--', linewidth=1)\n",
    "\n",
    "# Set grid on with dashed lines for log scale\n",
    "ax.grid(True, which=\"both\", ls=\"--\", color='0.93')\n",
    "\n",
    "# legend\n",
    "ax.legend(loc='upper left')\n",
    "\n",
    "# Save plot data\n",
    "save_folder = Path('plots/')\n",
    "save_folder.mkdir(parents=True, exist_ok=True)\n",
    "plt.savefig(save_folder / f'{exp_name}.pdf', bbox_inches='tight')\n",
    "\n",
    "# Save data with pickle\n",
    "with open(save_folder / f'{exp_name}_data.pkl', 'wb') as f:\n",
    "    pickle.dump(data_generalization, f)"
   ]
  }
 ],
 "metadata": {
  "kernelspec": {
   "display_name": "env",
   "language": "python",
   "name": "python3"
  },
  "language_info": {
   "codemirror_mode": {
    "name": "ipython",
    "version": 3
   },
   "file_extension": ".py",
   "mimetype": "text/x-python",
   "name": "python",
   "nbconvert_exporter": "python",
   "pygments_lexer": "ipython3",
   "version": "3.10.0"
  },
  "orig_nbformat": 4
 },
 "nbformat": 4,
 "nbformat_minor": 2
}
