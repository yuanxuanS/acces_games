{
  "cells": [
    {
      "attachments": {},
      "cell_type": "markdown",
      "metadata": {},
      "source": [
        "# POMO Lightning"
      ]
    },
    {
      "cell_type": "code",
      "execution_count": 1,
      "metadata": {
        "collapsed": false
      },
      "outputs": [
        {
          "name": "stderr",
          "output_type": "stream",
          "text": [
            "/home/botu/Dev/ncobench/env/lib/python3.10/site-packages/torchrl/__init__.py:26: UserWarning: failed to set start method to spawn, and current start method for mp is fork.\n",
            "  warn(\n"
          ]
        }
      ],
      "source": [
        "%load_ext autoreload\n",
        "%autoreload 2\n",
        "\n",
        "import sys; sys.path.append('../../')\n",
        "\n",
        "import math\n",
        "from typing import List, Tuple, Optional, NamedTuple, Dict, Union, Any\n",
        "from einops import rearrange, repeat\n",
        "from hydra.utils import instantiate\n",
        "\n",
        "import torch\n",
        "from torch import nn\n",
        "from torch.utils.checkpoint import checkpoint\n",
        "from torch.nn import DataParallel\n",
        "from torch.utils.data import Dataset\n",
        "from torch.utils.data import DataLoader\n",
        "import lightning as L\n",
        "\n",
        "from torchrl.envs import EnvBase\n",
        "from torchrl.envs.utils import step_mdp\n",
        "from tensordict import TensorDict\n",
        "\n",
        "from ncobench.envs.tsp import TSPEnv\n",
        "from ncobench.models.rl.reinforce import *\n",
        "from ncobench.models.co.am.context import env_context\n",
        "from ncobench.models.co.am.embeddings import env_init_embedding, env_dynamic_embedding\n",
        "from ncobench.models.co.am.encoder import GraphAttentionEncoder\n",
        "from ncobench.models.co.am.decoder import Decoder, decode_probs, PrecomputedCache, LogitAttention\n",
        "from ncobench.models.co.am.policy import get_log_likelihood\n",
        "from ncobench.models.nn.attention import NativeFlashMHA, flash_attn_wrapper\n",
        "from ncobench.utils.lightning import get_lightning_device"
      ]
    },
    {
      "attachments": {},
      "cell_type": "markdown",
      "metadata": {},
      "source": [
        "## Novelty compared to `AttentionModel`"
      ]
    },
    {
      "attachments": {},
      "cell_type": "markdown",
      "metadata": {},
      "source": [
        "## Pseudo-code of differences for training\n",
        "\n",
        "### Attention Model\n",
        "```python\n",
        "def train(policy network p_θ, training set S, batch size B, significance α):\n",
        "    for i in 1...B:\n",
        "        s_i = RandomInstance(S)\n",
        "        π_i = SampleRollout(s_i, p_θ)\n",
        "        vb = UpdateBaseline(s, π)\n",
        "        ∇𝐿 = (1/B) * Σ(L(π_i|s_i) - b_i) * ∇_θ log(p_θ(π_i|s_i))\n",
        "        θ = GradientDescent(θ, ∇𝐿)\n",
        "        if OneSidedPairedTest(p_θ, p_θ^BL) < α: # p_θ is better than p_θ^BL\n",
        "            θ^BL = θ\n",
        "```\n",
        "\n",
        "### POMO\n",
        "```python\n",
        "def train(policy network p_θ, training set S, batch size B, number of start nodes N):\n",
        "    for i in 1...B:\n",
        "        s_i = RandomInstance(S)\n",
        "        # New: select starting nodes, and rolout with them\n",
        "        α_i1,...,α_iN = SelectStartNodes(s_i)\n",
        "        π_i1,...,π_iN = SampleRollout(s_i, p_θ, {α_i,j})\n",
        "        vb = UpdateBaseline(s, π)\n",
        "        # New: baseline is simply the average baseline\n",
        "        ∇𝐿 = (1/NB) * Σ(L(π_ij|s_i) - b_i) * ∇_θ log(p_θ(π_ij|s_i))\n",
        "        θ = GradientDescent(θ, ∇𝐿)\n",
        "```\n",
        "\n",
        "So the novelty is:\n",
        "1. We select a set of starting nodes for each instance and rollout with them\n",
        "2. Replace baseline with average baseline\n",
        "\n",
        "---\n",
        "\n",
        "## Other novelty\n",
        "1. Use `multi-greedy` decoding (e.g.) simply take the best out of the starting points\n",
        "2. Use Instance Augmentation (e.g. just augment the dataset with)"
      ]
    },
    {
      "cell_type": "code",
      "execution_count": 2,
      "metadata": {},
      "outputs": [
        {
          "data": {
            "text/plain": [
              "<bound method InteractiveShell.excepthook of <ipykernel.zmqshell.ZMQInteractiveShell object at 0x7f3a9a0e3310>>"
            ]
          },
          "execution_count": 2,
          "metadata": {},
          "output_type": "execute_result"
        }
      ],
      "source": [
        "# For easier debugging\n",
        "\n",
        "from rich.traceback import install\n",
        "install()"
      ]
    },
    {
      "attachments": {},
      "cell_type": "markdown",
      "metadata": {},
      "source": [
        "## Utilities: action selection, batching\n"
      ]
    },
    {
      "cell_type": "code",
      "execution_count": 86,
      "metadata": {},
      "outputs": [],
      "source": [
        "def select_start_nodes(batch_size, num_nodes, device=\"cpu\"):\n",
        "    \"\"\"Node selection strategy for POMO\n",
        "    Selects different start nodes for each batch element\n",
        "    \"\"\"\n",
        "    # selected = torch.arange(num_nodes, device=device).repeat_interleave(batch_size, dim=0) # TODO: check\n",
        "    selected = torch.arange(num_nodes, device=device).repeat(batch_size)\n",
        "    # requires grad\n",
        "    # selected.requires_grad_ = True # TODO check\n",
        "    return selected\n",
        "\n",
        "\n",
        "def repeat_batch(x, repeats):\n",
        "    \"\"\"Same as repeat on dim=0 for tensordicts as well\n",
        "    Same as einops.repeat(x, 'b ... -> (b r) ...', r=repeats) but 50% faster\n",
        "    \"\"\"\n",
        "    expand_dims = [1] * len(x.shape)\n",
        "    expand_dims[0] = repeats\n",
        "    return x.repeat(*expand_dims)\n",
        "\n",
        "\n",
        "def unrepeat_batch(x, repeats):\n",
        "    \"\"\"Undoes repeat_batch\n",
        "    Same as einops.rearrange(x, '(b r) ... -> b r ...', r=repeats) but 3x faster\n",
        "    \"\"\"\n",
        "    s = x.shape\n",
        "    return x.view(s[0] // repeats, repeats, *s[1:])"
      ]
    },
    {
      "cell_type": "code",
      "execution_count": 79,
      "metadata": {},
      "outputs": [],
      "source": [
        "from einops import rearrange, repeat\n",
        "\n",
        "# test_a\n",
        "a = torch.rand(64, 20)"
      ]
    },
    {
      "cell_type": "code",
      "execution_count": 83,
      "metadata": {},
      "outputs": [],
      "source": [
        "x = torch.rand(64, 20, 2)\n",
        "x = rearrange(x, '(b r) ... -> b r ...', r=4)"
      ]
    },
    {
      "cell_type": "code",
      "execution_count": 80,
      "metadata": {},
      "outputs": [
        {
          "name": "stdout",
          "output_type": "stream",
          "text": [
            "torch.Size([2688, 20])\n",
            "torch.Size([448, 6, 20])\n",
            "torch.Size([64, 7, 6, 20])\n",
            "True\n"
          ]
        }
      ],
      "source": [
        "b = repeat(a, 'b n -> (b r) n', r=7)\n",
        "c = repeat(b, 'b n -> (b r) n', r=6)\n",
        "c_orig = c.clone()\n",
        "\n",
        "# undo\n",
        "print(c.shape)\n",
        "b_ = rearrange(c, '(b r) ... -> b r ...', r=6)\n",
        "print(b_.shape)\n",
        "a_ = rearrange(b_, '(b r) ... -> b r ...', r=7)\n",
        "print(a_.shape)\n",
        "print(torch.allclose(a_[:, 0, 0, :], a))\n"
      ]
    },
    {
      "cell_type": "code",
      "execution_count": 81,
      "metadata": {},
      "outputs": [
        {
          "name": "stdout",
          "output_type": "stream",
          "text": [
            "torch.Size([448, 6, 20])\n",
            "torch.Size([64, 7, 6, 20])\n",
            "False\n",
            "True\n"
          ]
        }
      ],
      "source": [
        "b = repeat_batch(a, 7)\n",
        "c = repeat_batch(b, 6)\n",
        "c_ours = c.clone()\n",
        "\n",
        "# undo\n",
        "b_ = undo_repeat_batch(c, 6)\n",
        "print(b_.shape)\n",
        "a_ = undo_repeat_batch(b_, 7)\n",
        "print(a_.shape)\n",
        "print(torch.allclose(a_[:, 0, 0, :], a))\n",
        "\n",
        "print(torch.allclose(c, c_ours))"
      ]
    },
    {
      "cell_type": "code",
      "execution_count": 4,
      "metadata": {},
      "outputs": [],
      "source": [
        "# x.view(repeats, s[0] // repeats, *s[1:])\n",
        "# same but with s[i] and [s[k] for k in len(s) if k != i]]]"
      ]
    },
    {
      "cell_type": "code",
      "execution_count": 24,
      "metadata": {},
      "outputs": [],
      "source": [
        "from dataclasses import dataclass\n",
        "\n",
        "\n",
        "@dataclass\n",
        "class PrecomputedCache:\n",
        "    node_embeddings: torch.Tensor\n",
        "    glimpse_key: torch.Tensor\n",
        "    glimpse_val: torch.Tensor\n",
        "    logit_key: torch.Tensor\n",
        "\n",
        "\n",
        "class Decoder(nn.Module):\n",
        "    def __init__(self, env, embedding_dim, num_heads, num_pomo=20, **logit_attn_kwargs):\n",
        "        super(Decoder, self).__init__()\n",
        "\n",
        "        self.env = env\n",
        "        self.embedding_dim = embedding_dim\n",
        "        self.n_heads = num_heads\n",
        "\n",
        "        assert embedding_dim % num_heads == 0\n",
        "\n",
        "        self.context = env_context(self.env.name, {\"embedding_dim\": embedding_dim})\n",
        "        self.dynamic_embedding = env_dynamic_embedding(\n",
        "            self.env.name, {\"embedding_dim\": embedding_dim}\n",
        "        )\n",
        "\n",
        "        # For each node we compute (glimpse key, glimpse value, logit key) so 3 * embedding_dim\n",
        "        self.project_node_embeddings = nn.Linear(\n",
        "            embedding_dim, 3 * embedding_dim, bias=False\n",
        "        )\n",
        "        self.project_fixed_context = nn.Linear(embedding_dim, embedding_dim, bias=False)\n",
        "\n",
        "        # MHA\n",
        "        self.logit_attention = LogitAttention(\n",
        "            embedding_dim, num_heads, **logit_attn_kwargs\n",
        "        )\n",
        "\n",
        "        # POMO\n",
        "        self.num_pomo = max(num_pomo, 1) # POMO = 1 is just normal REINFORCE\n",
        "\n",
        "    def forward(self, td, embeddings, decode_type=\"sampling\"):\n",
        "        # Collect outputs\n",
        "        outputs = []\n",
        "        actions = []\n",
        "\n",
        "        if self.num_pomo > 1:\n",
        "            # POMO: first action is decided via select_start_nodes\n",
        "            action = select_start_nodes(batch_size=td.shape[0], num_nodes=self.num_pomo, device=td.device)\n",
        "\n",
        "            # # Expand td to batch_size * num_pomo\n",
        "            td = repeat_batch(td, self.num_pomo)\n",
        "\n",
        "            td.set(\"action\", action[:, None])\n",
        "            td = self.env.step(td)[\"next\"]\n",
        "            log_p = torch.zeros_like(td['action_mask'], device=td.device) # first log_p is 0, so p = log_p.exp() = 1\n",
        "\n",
        "            outputs.append(log_p.squeeze(1))\n",
        "            actions.append(action)\n",
        "        \n",
        "        # Compute keys, values for the glimpse and keys for the logits once as they can be reused in every step\n",
        "        cached_embeds = self._precompute(embeddings)        \n",
        "\n",
        "        # Here we suppose all the batch is done at the same time\n",
        "        while not td[\"done\"].any():  \n",
        "            # Compute the logits for the next node\n",
        "            log_p, mask = self._get_log_p(cached_embeds, td)\n",
        "\n",
        "            # Select the indices of the next nodes in the sequences, result (batch_size) long\n",
        "            action = decode_probs(\n",
        "                log_p.exp().squeeze(1), mask.squeeze(1), decode_type=decode_type\n",
        "            )\n",
        "\n",
        "            # Step the environment\n",
        "            td.set(\"action\", action[:, None])\n",
        "            td = self.env.step(td)[\"next\"]\n",
        "\n",
        "            # Collect output of step\n",
        "            outputs.append(log_p.squeeze(1))\n",
        "            actions.append(action)\n",
        "\n",
        "        outputs, actions = torch.stack(outputs, 1), torch.stack(actions, 1)\n",
        "        td.set(\"reward\", self.env.get_reward(td, actions))\n",
        "        return outputs, actions, td\n",
        "    \n",
        "    def _precompute(self, embeddings):       \n",
        "        # The projection of the node embeddings for the attention is calculated once up front\n",
        "        (\n",
        "            glimpse_key_fixed,\n",
        "            glimpse_val_fixed,\n",
        "            logit_key_fixed,\n",
        "        ) = self.project_node_embeddings(embeddings[:, None, :, :]).chunk(3, dim=-1)\n",
        "\n",
        "        # Organize in a dataclass for easy access\n",
        "        cached_embeds = PrecomputedCache(\n",
        "            node_embeddings=repeat_batch(embeddings, self.num_pomo),\n",
        "            glimpse_key=repeat_batch(self.logit_attention._make_heads(glimpse_key_fixed), self.num_pomo),\n",
        "            glimpse_val=repeat_batch(self.logit_attention._make_heads(glimpse_val_fixed), self.num_pomo),\n",
        "            logit_key=repeat_batch(logit_key_fixed, self.num_pomo)\n",
        "        )\n",
        "\n",
        "        return cached_embeds\n",
        "\n",
        "    def _get_log_p(self, cached, td):\n",
        "        # Compute the query based on the context (computes automatically the first and last node context)\n",
        "        step_context = self.context(cached.node_embeddings, td)\n",
        "        query = step_context # in POMO, no graph context (trick for overfit) # [batch, 1, embed_dim]\n",
        "\n",
        "        # Compute keys and values for the nodes\n",
        "        glimpse_key_dynamic, glimpse_val_dynamic, logit_key_dynamic = self.dynamic_embedding(td)\n",
        "        glimpse_key = cached.glimpse_key + glimpse_key_dynamic\n",
        "        glimpse_key = cached.glimpse_val + glimpse_val_dynamic\n",
        "        logit_key = cached.logit_key + logit_key_dynamic\n",
        "\n",
        "        # Get the mask\n",
        "        mask = ~td[\"action_mask\"]\n",
        "        mask = mask.unsqueeze(1) if mask.dim() == 2 else mask\n",
        "\n",
        "        # Compute logits\n",
        "        log_p = self.logit_attention(query, glimpse_key, glimpse_key, logit_key, mask)\n",
        "\n",
        "        return log_p, mask"
      ]
    },
    {
      "cell_type": "code",
      "execution_count": 14,
      "metadata": {},
      "outputs": [],
      "source": [
        "class POMOPolicy(nn.Module):\n",
        "\n",
        "    def __init__(self,\n",
        "                 env: EnvBase,\n",
        "                 embedding_dim: int,\n",
        "                 hidden_dim: int,\n",
        "                 encoder: nn.Module = None,\n",
        "                 decoder: nn.Module = None,\n",
        "                 num_pomo: int = 10,\n",
        "                 n_encode_layers: int = 3,\n",
        "                 normalization: str = 'batch',\n",
        "                 n_heads: int = 8,\n",
        "                 checkpoint_encoder: bool = False,\n",
        "                 mask_inner: bool = True,\n",
        "                 force_flash_attn: bool = False,\n",
        "                 **kwargs\n",
        "                 ):\n",
        "        super(POMOPolicy, self).__init__()\n",
        "\n",
        "        self.embedding_dim = embedding_dim\n",
        "        self.hidden_dim = hidden_dim\n",
        "        self.n_encode_layers = n_encode_layers\n",
        "        self.env = env\n",
        "\n",
        "        self.n_heads = n_heads\n",
        "        self.checkpoint_encoder = checkpoint_encoder\n",
        "\n",
        "        self.init_embedding = env_init_embedding(self.env.name, {\"embedding_dim\": embedding_dim})\n",
        "\n",
        "        self.encoder = GraphAttentionEncoder(\n",
        "            num_heads=n_heads,\n",
        "            embed_dim=embedding_dim,\n",
        "            num_layers=self.n_encode_layers,\n",
        "            normalization=normalization,\n",
        "            force_flash_attn=force_flash_attn,\n",
        "        ) if encoder is None else encoder\n",
        "        \n",
        "        self.decoder = Decoder(env, embedding_dim, n_heads, num_pomo=num_pomo, mask_inner=mask_inner, force_flash_attn=force_flash_attn) if decoder is None else decoder\n",
        "        self.num_pomo = num_pomo\n",
        "\n",
        "    def forward(self, td: TensorDict, phase: str = \"train\", decode_type: str = \"sampling\", return_actions: bool = False) -> TensorDict:\n",
        "        \"\"\"Given observation, precompute embeddings and rollout\"\"\"\n",
        "\n",
        "        # Set decoding type for policy, can be also greedy\n",
        "        embedding = self.init_embedding(td)\n",
        "        encoded_inputs, _ = self.encoder(embedding)\n",
        "\n",
        "        # Main rollout\n",
        "        _log_p, actions, td = self.decoder(td, encoded_inputs, decode_type)\n",
        "\n",
        "        # Log likelyhood is calculated within the model since returning it per action does not work well with\n",
        "        ll = get_log_likelihood(_log_p, actions, td.get('mask', None))\n",
        "        out = {\"reward\": td[\"reward\"], \"log_likelihood\": ll, \"actions\": actions if return_actions else None}\n",
        "\n",
        "        return out"
      ]
    },
    {
      "attachments": {},
      "cell_type": "markdown",
      "metadata": {},
      "source": [
        "## Test the Policy only"
      ]
    },
    {
      "cell_type": "code",
      "execution_count": 15,
      "metadata": {},
      "outputs": [],
      "source": [
        "num_loc = 15\n",
        "env = TSPEnv(num_loc=num_loc).transform()\n",
        "\n",
        "dataset = env.dataset(batch_size=[10000])\n",
        "\n",
        "dataloader = DataLoader(\n",
        "                dataset,\n",
        "                batch_size=32,\n",
        "                shuffle=False, # no need to shuffle, we're resampling every epoch\n",
        "                num_workers=0,\n",
        "                collate_fn=torch.stack, # we need this to stack the batches in the dataset\n",
        "            )\n",
        "\n",
        "model = POMOPolicy(\n",
        "    env,\n",
        "    embedding_dim=128,\n",
        "    hidden_dim=128,\n",
        "    n_encode_layers=3,\n",
        "    num_pomo=num_loc,\n",
        "    # force_flash_attn=True,\n",
        ").to(\"cuda\")\n",
        "\n",
        "# model = torch.compile(model)\n",
        "\n",
        "x = next(iter(dataloader)).to(\"cuda\")\n",
        "x = env.reset(init_obs=x)\n",
        "\n",
        "out = model(x, decode_type=\"sampling\")"
      ]
    },
    {
      "attachments": {},
      "cell_type": "markdown",
      "metadata": {},
      "source": [
        "## Create full model: `env` + `policy` + `baseline`"
      ]
    },
    {
      "cell_type": "code",
      "execution_count": 16,
      "metadata": {},
      "outputs": [
        {
          "name": "stdout",
          "output_type": "stream",
          "text": [
            "torch.Size([256])\n"
          ]
        }
      ],
      "source": [
        "def augment_xy_data_by_8_fold(xy):\n",
        "    # [batch, graph, 2]\n",
        "    x, y = xy.split(1, dim=2)\n",
        "    # augmnetations [batch, graph, 2]\n",
        "    z0 = torch.cat((x, y), dim=2)\n",
        "    z1 = torch.cat((1 - x, y), dim=2)\n",
        "    z2 = torch.cat((x, 1 - y), dim=2)\n",
        "    z3 = torch.cat((1 - x, 1 - y), dim=2)\n",
        "    z4 = torch.cat((y, x), dim=2)\n",
        "    z5 = torch.cat((1 - y, x), dim=2)\n",
        "    z6 = torch.cat((y, 1 - x), dim=2)\n",
        "    z7 = torch.cat((1 - y, 1 - x), dim=2)\n",
        "    # [batch*8, graph, 2]\n",
        "    aug_xy = torch.cat((z0, z1, z2, z3, z4, z5, z6, z7), dim=0)\n",
        "    return aug_xy\n",
        "\n",
        "\n",
        "def env_aug_feats(env_name: str) -> Tuple[str, ...]:\n",
        "    return ('observation', 'depot') if env_name == \"op\" else ('observation',)\n",
        "\n",
        "\n",
        "class StateAugmentation(nn.Module):\n",
        "    def __init__(self, env_name, num_augment: int = 8):\n",
        "        \"\"\"Augment state by 8 fold for POMO\"\"\"\n",
        "        super(StateAugmentation, self).__init__()\n",
        "        self.num_augment = num_augment\n",
        "        assert num_augment == 8, \"Only 8 fold augmentation is supported for POMO\"\n",
        "        self.augmentation = augment_xy_data_by_8_fold\n",
        "        self.feats = env_aug_feats(env_name)\n",
        "\n",
        "    def forward(self, td: TensorDict) -> TensorDict:\n",
        "        td_aug = repeat_batch(td, self.num_augment)\n",
        "        for feat in self.feats:\n",
        "            aug_feat = self.augmentation(td[feat])\n",
        "            td_aug[feat] = aug_feat\n",
        "        return td_aug\n",
        "\n",
        "\n",
        "# Test above\n",
        "td = TensorDict({\n",
        "    \"observation\": torch.randn(32, 15, 2),\n",
        "    \"depot\": torch.randn(32, 1, 2),\n",
        "}, batch_size=32)\n",
        "augment = StateAugmentation(\"op\")\n",
        "td_aug = augment(td)\n",
        "print(td_aug.shape)\n"
      ]
    },
    {
      "cell_type": "code",
      "execution_count": 17,
      "metadata": {},
      "outputs": [],
      "source": [
        "def get_best_actions(actions, max_idxs):\n",
        "    actions = undo_repeat_batch(actions, max_idxs.shape[0])\n",
        "    return actions.gather(0, max_idxs[..., None, None])\n",
        "\n",
        "\n",
        "class POMO(nn.Module):\n",
        "    def __init__(self, env, policy, baseline, num_augment=8, **kwargs):\n",
        "        super().__init__()\n",
        "        self.env = env\n",
        "        self.policy = policy\n",
        "        self.baseline = baseline\n",
        "\n",
        "        # POMO parameters\n",
        "        self.num_pomo = policy.num_pomo\n",
        "        self.num_augment = num_augment\n",
        "        self.augment = StateAugmentation(env.name, num_augment) if num_augment > 1 else None\n",
        "\n",
        "    def forward(self, td: TensorDict, phase: str=\"train\", decode_type: str=\"sampling\", return_actions: bool=False) -> TensorDict:\n",
        "        \"\"\"Evaluate model, get costs and log probabilities and compare with baseline\"\"\"\n",
        "\n",
        "        # Augment data if not in training phase\n",
        "        if phase != \"train\" and self.augment is not None:\n",
        "            td = self.augment(td)\n",
        "\n",
        "        # Evaluate model, get costs and log probabilities\n",
        "        out = self.policy(td, decode_type=decode_type, return_actions=return_actions)\n",
        "\n",
        "        costs = undo_repeat_batch(-out['reward'], self.policy.num_pomo)\n",
        "        ll = undo_repeat_batch(out['log_likelihood'], self.policy.num_pomo)\n",
        "        bl_val, bl_loss = self.baseline.eval(td, costs)\n",
        "\n",
        "        # Calculate REINFORCE loss\n",
        "        advantage = costs - bl_val\n",
        "        reinforce_loss = (advantage * ll).mean()\n",
        "        loss = reinforce_loss + bl_loss\n",
        "\n",
        "        # Max POMO reward. Decouple augmentation and POMO \n",
        "        # [num_pomo, num_augment, batch]\n",
        "        reward = undo_repeat_batch(undo_repeat_batch(out[\"reward\"], self.num_augment if phase != \"train\" else 1), self.num_pomo, dim=1)\n",
        "        max_reward, max_idxs = reward.max(dim=0)\n",
        "        pomo_retvals = {\"max_reward\": max_reward, \"best_actions\": get_best_actions(out[\"actions\"], max_idxs) if return_actions else None}\n",
        "\n",
        "        # Get augmentation score only during inference\n",
        "        aug_retvals = {}\n",
        "        if phase != \"train\" and self.augment is not None:\n",
        "            # [num_augment, batch]\n",
        "            aug_reward = undo_repeat_batch(max_reward, self.num_augment)\n",
        "            max_aug_reward, max_idxs = aug_reward.max(dim=0)\n",
        "            aug_retvals = {\"max_aug_reward\": max_aug_reward, \"best_aug_actions\": get_best_actions(out[\"actions\"], max_idxs) if return_actions else None}\n",
        " \n",
        "        return {'loss': loss, 'reinforce_loss': reinforce_loss, 'bl_loss': bl_loss, 'bl_val': bl_val, **out, **pomo_retvals, **aug_retvals}\n",
        "        \n",
        "    def setup(self, lit_module):\n",
        "        # Make baseline taking model itself and train_dataloader from model as input\n",
        "        if hasattr(self.baseline, \"setup\"):\n",
        "            self.baseline.setup(self.policy, lit_module.train_dataloader(), self.env, device=get_lightning_device(lit_module))\n",
        "    \n",
        "    def on_train_epoch_end(self, lit_module):\n",
        "        # self.baseline.epoch_callback(self.policy, self.env, pl_module)\n",
        "        self.baseline.epoch_callback(self.policy, lit_module.val_dataloader(), lit_module.current_epoch, self.env, device=get_lightning_device(lit_module))"
      ]
    },
    {
      "attachments": {},
      "cell_type": "markdown",
      "metadata": {},
      "source": [
        "## Lightning Module"
      ]
    },
    {
      "cell_type": "code",
      "execution_count": 18,
      "metadata": {},
      "outputs": [],
      "source": [
        "class NCOLightningModule(L.LightningModule):\n",
        "    def __init__(self, env, model, lr=1e-4, batch_size=128, train_size=1000, val_size=10000):\n",
        "        super().__init__()\n",
        "\n",
        "        # TODO: hydra instantiation\n",
        "        self.env = env\n",
        "        self.model = model\n",
        "        self.lr = lr\n",
        "        self.batch_size = batch_size\n",
        "        self.train_size = train_size\n",
        "        self.val_size = val_size\n",
        "\n",
        "    def setup(self, stage=\"fit\"):\n",
        "        self.train_dataset = self.env.dataset(self.train_size)\n",
        "        self.val_dataset = self.env.dataset(self.val_size)\n",
        "        if hasattr(self.model, \"setup\"):\n",
        "            self.model.setup(self)\n",
        "\n",
        "    def shared_step(self, batch: Any, batch_idx: int, phase: str):\n",
        "        td = self.env.reset(init_obs=batch)\n",
        "        output = self.model(td, phase)\n",
        "        \n",
        "        # output = self.model(batch, phase)\n",
        "        self.log(f\"{phase}/cost\", -output[\"reward\"].mean(), prog_bar=True)\n",
        "        self.log(f\"{phase}/pomo_cost\", -output[\"max_reward\"].mean(), prog_bar=True)\n",
        "        if phase != \"train\" and self.model.num_augment > 1:\n",
        "            self.log(f\"{phase}/aug_cost\", -output[\"max_aug_reward\"].mean(), prog_bar=True)\n",
        "        \n",
        "        return {\"loss\": output['loss']}\n",
        "\n",
        "    def training_step(self, batch: Any, batch_idx: int):   \n",
        "        return self.shared_step(batch, batch_idx, phase='train')\n",
        "\n",
        "    def validation_step(self, batch: Any, batch_idx: int):\n",
        "        return self.shared_step(batch, batch_idx, phase='val')\n",
        "\n",
        "    def test_step(self, batch: Any, batch_idx: int):\n",
        "        return self.shared_step(batch, batch_idx, phase='test')\n",
        "\n",
        "    def configure_optimizers(self):\n",
        "        optim = torch.optim.Adam(self.model.parameters(), lr=self.lr, weight_decay=1e-6)\n",
        "        # optim = Lion(model.parameters(), lr=1e-4, weight_decay=1e-2)\n",
        "        # TODO: scheduler\n",
        "        # scheduler = torch.optim.lr_scheduler.CosineAnnealingLR(optim, total_steps)\n",
        "        return [optim] #, [scheduler]\n",
        "    \n",
        "    def train_dataloader(self):\n",
        "        return self._dataloader(self.train_dataset)\n",
        "    \n",
        "    def val_dataloader(self):\n",
        "        return self._dataloader(self.val_dataset)\n",
        "    \n",
        "    def on_train_epoch_end(self):\n",
        "        if hasattr(self.model, \"on_train_epoch_end\"):\n",
        "            self.model.on_train_epoch_end(self)\n",
        "        self.train_dataset = self.env.dataset(self.train_size) \n",
        "       \n",
        "    def _dataloader(self, dataset):\n",
        "        return DataLoader(\n",
        "            dataset,\n",
        "            batch_size=self.batch_size,\n",
        "            shuffle=False, # no need to shuffle, we're resampling every epoch\n",
        "            num_workers=0,\n",
        "            collate_fn=torch.stack, # we need this to stack the batches in the dataset\n",
        "            pin_memory=self.on_gpu,\n",
        "        )"
      ]
    },
    {
      "attachments": {},
      "cell_type": "markdown",
      "metadata": {},
      "source": [
        "## Main training setup"
      ]
    },
    {
      "cell_type": "code",
      "execution_count": 19,
      "metadata": {},
      "outputs": [],
      "source": [
        "# Hyperparameters\n",
        "epochs = 1\n",
        "batch_size = 64 #1024 #512\n",
        "num_loc = 20\n",
        "train_size = 1280000\n",
        "lr = 1e-4\n",
        "num_pomo = num_loc # TODO: comment to try out = 1\n",
        "# num_pomo = 1 # set to 1: similar to simple AM\n",
        "\n",
        "# Environment\n",
        "env = TSPEnv(num_loc=num_loc).transform()\n",
        "\n",
        "# Policy\n",
        "policy = POMOPolicy(\n",
        "    env,\n",
        "    num_pomo=num_pomo,\n",
        "    embedding_dim=128,\n",
        "    hidden_dim=128,\n",
        "    n_encode_layers=3,\n",
        "    # force_flash_attn=True,\n",
        ")\n",
        "\n",
        "# Baseline\n",
        "# baseline = WarmupBaseline(RolloutBaseline())\n",
        "baseline = SharedBaseline() # TODO: uncomment\n",
        "\n",
        "# Create RL model\n",
        "model = POMO(env, policy, baseline)\n",
        "\n",
        "# Create Lightning module (for training)\n",
        "lit_model = NCOLightningModule(env, model, batch_size=batch_size, train_size=train_size, lr=lr)"
      ]
    },
    {
      "attachments": {},
      "cell_type": "markdown",
      "metadata": {},
      "source": [
        "## Fit model"
      ]
    },
    {
      "cell_type": "code",
      "execution_count": 20,
      "metadata": {},
      "outputs": [
        {
          "name": "stderr",
          "output_type": "stream",
          "text": [
            "GPU available: True (cuda), used: True\n",
            "TPU available: False, using: 0 TPU cores\n",
            "IPU available: False, using: 0 IPUs\n",
            "HPU available: False, using: 0 HPUs\n",
            "LOCAL_RANK: 0 - CUDA_VISIBLE_DEVICES: [0,1]\n",
            "\n",
            "  | Name  | Type   | Params\n",
            "---------------------------------\n",
            "0 | env   | TSPEnv | 0     \n",
            "1 | model | POMO   | 710 K \n",
            "---------------------------------\n",
            "710 K     Trainable params\n",
            "0         Non-trainable params\n",
            "710 K     Total params\n",
            "2.841     Total estimated model params size (MB)\n",
            "2023-04-18 23:01:33.494062: I tensorflow/core/platform/cpu_feature_guard.cc:182] This TensorFlow binary is optimized to use available CPU instructions in performance-critical operations.\n",
            "To enable the following instructions: AVX2 FMA, in other operations, rebuild TensorFlow with the appropriate compiler flags.\n",
            "2023-04-18 23:01:33.992672: W tensorflow/compiler/tf2tensorrt/utils/py_utils.cc:38] TF-TRT Warning: Could not find TensorRT\n"
          ]
        },
        {
          "name": "stdout",
          "output_type": "stream",
          "text": [
            "Sanity Checking DataLoader 0:  50%|█████     | 1/2 [00:00<00:00,  6.53it/s]"
          ]
        },
        {
          "name": "stderr",
          "output_type": "stream",
          "text": [
            "/home/botu/Dev/ncobench/env/lib/python3.10/site-packages/lightning/pytorch/trainer/connectors/data_connector.py:430: PossibleUserWarning: The dataloader, val_dataloader, does not have many workers which may be a bottleneck. Consider increasing the value of the `num_workers` argument` (try 48 which is the number of cpus on this machine) in the `DataLoader` init to improve performance.\n",
            "  rank_zero_warn(\n"
          ]
        },
        {
          "name": "stdout",
          "output_type": "stream",
          "text": [
            "                                                                           "
          ]
        },
        {
          "name": "stderr",
          "output_type": "stream",
          "text": [
            "/home/botu/Dev/ncobench/env/lib/python3.10/site-packages/lightning/pytorch/trainer/connectors/data_connector.py:430: PossibleUserWarning: The dataloader, train_dataloader, does not have many workers which may be a bottleneck. Consider increasing the value of the `num_workers` argument` (try 48 which is the number of cpus on this machine) in the `DataLoader` init to improve performance.\n",
            "  rank_zero_warn(\n"
          ]
        },
        {
          "name": "stdout",
          "output_type": "stream",
          "text": [
            "Epoch 0:   4%|▍         | 843/20000 [00:49<18:45, 17.02it/s, v_num=76, train/cost=4.130, train/pomo_cost=3.890]"
          ]
        },
        {
          "name": "stderr",
          "output_type": "stream",
          "text": [
            "/home/botu/Dev/ncobench/env/lib/python3.10/site-packages/lightning/pytorch/trainer/call.py:54: UserWarning: Detected KeyboardInterrupt, attempting graceful shutdown...\n",
            "  rank_zero_warn(\"Detected KeyboardInterrupt, attempting graceful shutdown...\")\n"
          ]
        }
      ],
      "source": [
        "# Trick to make calculations faster\n",
        "torch.set_float32_matmul_precision(\"medium\")\n",
        "\n",
        "# Trainer\n",
        "trainer = L.Trainer(\n",
        "    max_epochs=epochs,\n",
        "    accelerator=\"gpu\",\n",
        "    devices=[1],\n",
        "    logger=None, # can replace with WandbLogger, TensorBoardLogger, etc.\n",
        "    # precision=16, # uncomment to make faster\n",
        "    log_every_n_steps=100,   \n",
        "    gradient_clip_val=1.0, # clip gradients to avoid exploding gradients!\n",
        ")\n",
        "\n",
        "# Fit the model\n",
        "trainer.fit(lit_model)"
      ]
    },
    {
      "cell_type": "code",
      "execution_count": 21,
      "metadata": {},
      "outputs": [
        {
          "name": "stderr",
          "output_type": "stream",
          "text": [
            "LOCAL_RANK: 0 - CUDA_VISIBLE_DEVICES: [0,1]\n"
          ]
        },
        {
          "name": "stdout",
          "output_type": "stream",
          "text": [
            "Validation DataLoader 0: 100%|██████████| 157/157 [00:07<00:00, 19.85it/s]\n"
          ]
        },
        {
          "data": {
            "text/html": [
              "<pre style=\"white-space:pre;overflow-x:auto;line-height:normal;font-family:Menlo,'DejaVu Sans Mono',consolas,'Courier New',monospace\">┏━━━━━━━━━━━━━━━━━━━━━━━━━━━┳━━━━━━━━━━━━━━━━━━━━━━━━━━━┓\n",
              "┃<span style=\"font-weight: bold\">      Validate metric      </span>┃<span style=\"font-weight: bold\">       DataLoader 0        </span>┃\n",
              "┡━━━━━━━━━━━━━━━━━━━━━━━━━━━╇━━━━━━━━━━━━━━━━━━━━━━━━━━━┩\n",
              "│<span style=\"color: #008080; text-decoration-color: #008080\">       val/aug_cost        </span>│<span style=\"color: #800080; text-decoration-color: #800080\">    3.8515453338623047     </span>│\n",
              "│<span style=\"color: #008080; text-decoration-color: #008080\">         val/cost          </span>│<span style=\"color: #800080; text-decoration-color: #800080\">     4.131106376647949     </span>│\n",
              "│<span style=\"color: #008080; text-decoration-color: #008080\">       val/pomo_cost       </span>│<span style=\"color: #800080; text-decoration-color: #800080\">     3.897179365158081     </span>│\n",
              "└───────────────────────────┴───────────────────────────┘\n",
              "</pre>\n"
            ],
            "text/plain": [
              "┏━━━━━━━━━━━━━━━━━━━━━━━━━━━┳━━━━━━━━━━━━━━━━━━━━━━━━━━━┓\n",
              "┃\u001b[1m \u001b[0m\u001b[1m     Validate metric     \u001b[0m\u001b[1m \u001b[0m┃\u001b[1m \u001b[0m\u001b[1m      DataLoader 0       \u001b[0m\u001b[1m \u001b[0m┃\n",
              "┡━━━━━━━━━━━━━━━━━━━━━━━━━━━╇━━━━━━━━━━━━━━━━━━━━━━━━━━━┩\n",
              "│\u001b[36m \u001b[0m\u001b[36m      val/aug_cost       \u001b[0m\u001b[36m \u001b[0m│\u001b[35m \u001b[0m\u001b[35m   3.8515453338623047    \u001b[0m\u001b[35m \u001b[0m│\n",
              "│\u001b[36m \u001b[0m\u001b[36m        val/cost         \u001b[0m\u001b[36m \u001b[0m│\u001b[35m \u001b[0m\u001b[35m    4.131106376647949    \u001b[0m\u001b[35m \u001b[0m│\n",
              "│\u001b[36m \u001b[0m\u001b[36m      val/pomo_cost      \u001b[0m\u001b[36m \u001b[0m│\u001b[35m \u001b[0m\u001b[35m    3.897179365158081    \u001b[0m\u001b[35m \u001b[0m│\n",
              "└───────────────────────────┴───────────────────────────┘\n"
            ]
          },
          "metadata": {},
          "output_type": "display_data"
        },
        {
          "data": {
            "text/plain": [
              "[{'val/cost': 4.131106376647949,\n",
              "  'val/pomo_cost': 3.897179365158081,\n",
              "  'val/aug_cost': 3.8515453338623047}]"
            ]
          },
          "execution_count": 21,
          "metadata": {},
          "output_type": "execute_result"
        }
      ],
      "source": [
        "trainer.validate(lit_model)"
      ]
    }
  ],
  "metadata": {
    "kernelspec": {
      "display_name": "env",
      "language": "python",
      "name": "python3"
    },
    "language_info": {
      "codemirror_mode": {
        "name": "ipython",
        "version": 3
      },
      "file_extension": ".py",
      "mimetype": "text/x-python",
      "name": "python",
      "nbconvert_exporter": "python",
      "pygments_lexer": "ipython3",
      "version": "3.10.6"
    },
    "vscode": {
      "interpreter": {
        "hash": "fbc5b198709957cb10390a2819ca930d3578f48e335d60395e01c5208a66cb86"
      }
    }
  },
  "nbformat": 4,
  "nbformat_minor": 0
}
