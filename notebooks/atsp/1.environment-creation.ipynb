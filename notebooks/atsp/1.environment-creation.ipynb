{
  "cells": [
    {
      "attachments": {},
      "cell_type": "markdown",
      "metadata": {},
      "source": [
        "# ATSP Environment"
      ]
    },
    {
      "attachments": {},
      "cell_type": "markdown",
      "metadata": {},
      "source": [
        "We base our environment on our TSP implementation. The differences are:\n",
        "1. `observation` is an NxN matrix of pairwise distance from all locations\n",
        "2. We use the \"tmat\" class as done in [MatNet's implementation](https://github.com/yd-kwon/MatNet/tree/main/ATSP) - basically we sample so that we respect the triangle inequality:\n",
        "$$\n",
        "\\begin{aligned}\n",
        "d(c_i, c_j) + d(c_j, c_k) &\\geq d(c_i, c_k) \\forall i, j, k \\in \\{1, \\dots, N\\} \\\\\n",
        "\\end{aligned}\n",
        "$$\n",
        "3. To calculate the reward, we simply account for the distance taken from the matrix"
      ]
    },
    {
      "cell_type": "code",
      "execution_count": 1,
      "metadata": {
        "collapsed": false
      },
      "outputs": [],
      "source": [
        "%matplotlib inline\n",
        "\n",
        "# Rich Traceback is a library that makes tracebacks more readable\n",
        "# from rich.traceback import install\n",
        "# install(show_locals=True)"
      ]
    },
    {
      "cell_type": "code",
      "execution_count": 2,
      "metadata": {
        "collapsed": false
      },
      "outputs": [],
      "source": [
        "%load_ext autoreload\n",
        "%autoreload 2\n",
        "\n",
        "import sys\n",
        "sys.path.append(2*\"../\")\n",
        "\n",
        "from collections import defaultdict\n",
        "from typing import Optional\n",
        "\n",
        "import numpy as np\n",
        "import torch\n",
        "import tqdm\n",
        "from tensordict.nn import TensorDictModule\n",
        "from tensordict.tensordict import TensorDict, TensorDictBase\n",
        "from torch import nn\n",
        "\n",
        "from torchrl.data import BoundedTensorSpec, CompositeSpec, UnboundedContinuousTensorSpec, BinaryDiscreteTensorSpec, UnboundedDiscreteTensorSpec\n",
        "from torchrl.envs import (\n",
        "    CatTensors,\n",
        "    EnvBase,\n",
        "    Transform,\n",
        "    TransformedEnv,\n",
        "    UnsqueezeTransform,\n",
        ")\n",
        "from torchrl.envs.transforms.transforms import _apply_to_composite\n",
        "from torchrl.envs.utils import check_env_specs, step_mdp\n",
        "\n",
        "\n",
        "from rl4co.envs.utils import make_composite_from_td, batch_to_scalar, _set_seed"
      ]
    },
    {
      "attachments": {},
      "cell_type": "markdown",
      "metadata": {},
      "source": [
        "### Making the custom environment\n",
        "\n",
        "Environment `_step`: this defines the state update of the TSP problem gived a TensorDict (`td` in the code) of the current state and the action to take:"
      ]
    },
    {
      "cell_type": "code",
      "execution_count": 3,
      "metadata": {},
      "outputs": [],
      "source": [
        "def _step(td: TensorDict) -> TensorDict:\n",
        "    current_node = td[\"action\"]\n",
        "    first_node = current_node if batch_to_scalar(td[\"i\"]) == 0 else td[\"first_node\"]\n",
        "\n",
        "    # Set not visited to 0 (i.e., we visited the node)\n",
        "    available = td[\"action_mask\"].scatter(\n",
        "        -1, current_node[..., None].expand_as(td[\"action_mask\"]), 0\n",
        "    )\n",
        "\n",
        "    # We are done there are no unvisited locations\n",
        "    done = (\n",
        "        torch.count_nonzero(available.squeeze(), dim=-1) <= 0\n",
        "    )  # td[\"params\"][\"num_loc\"]\n",
        "\n",
        "    # The reward is calculated outside via get_reward for efficiency, so we set it to -inf here\n",
        "    reward = torch.ones_like(done) * float(\"-inf\")\n",
        "\n",
        "    # The output must be written in a ``\"next\"`` entry\n",
        "    return TensorDict(\n",
        "        {\n",
        "            \"next\": {\n",
        "                \"observation\": td[\"observation\"],\n",
        "                \"first_node\": first_node,\n",
        "                \"current_node\": current_node,\n",
        "                \"i\": td[\"i\"] + 1,\n",
        "                \"action_mask\": available,\n",
        "                \"reward\": reward,\n",
        "                \"done\": done,\n",
        "            }\n",
        "        },\n",
        "        td.shape,\n",
        "    )"
      ]
    },
    {
      "attachments": {},
      "cell_type": "markdown",
      "metadata": {},
      "source": [
        "### Environment Reset\n",
        "This defines the `_reset` of the TSP. It returns a TensorDict of the initial state:"
      ]
    },
    {
      "cell_type": "code",
      "execution_count": 4,
      "metadata": {
        "collapsed": false
      },
      "outputs": [],
      "source": [
        "def _reset(\n",
        "    self, td: Optional[TensorDict] = None, init_obs=None, batch_size=None\n",
        ") -> TensorDict:\n",
        "    # If no tensordict (or observations tensor) is passed, we generate a single set of hyperparameters\n",
        "    # Otherwise, we assume that the input tensordict contains all the relevant parameters to get started.\n",
        "    init_dm = td[\"observation\"] if td is not None else init_obs # dm = distance matrix\n",
        "    if batch_size is None:\n",
        "        batch_size = self.batch_size if init_dm is None else init_dm.shape[:-2]\n",
        "    device = init_dm.device if init_dm is not None else self.device\n",
        "    self.device = device\n",
        "\n",
        "    # We allow loading the initial observation from a dataset for faster loading\n",
        "    if init_dm is None:\n",
        "        # number generator is on CPU by default, set device after\n",
        "        init_dm = self.generate_data(batch_size=batch_size).to(device)\n",
        "\n",
        "    # Other variables\n",
        "    current_node = torch.zeros((*batch_size, 1), dtype=torch.int64, device=device)\n",
        "    available = torch.ones(\n",
        "        (*batch_size, 1, self.num_loc), dtype=torch.bool, device=device\n",
        "    )  # 1 means not visited, i.e. action is allowed\n",
        "    i = torch.zeros((*batch_size, 1), dtype=torch.int64, device=device)\n",
        "\n",
        "    return TensorDict(\n",
        "        {\n",
        "            \"observation\": init_dm,\n",
        "            \"first_node\": current_node,\n",
        "            \"current_node\": current_node,\n",
        "            \"i\": i,\n",
        "            \"action_mask\": available,\n",
        "        },\n",
        "        batch_size=batch_size,\n",
        "    )"
      ]
    },
    {
      "attachments": {},
      "cell_type": "markdown",
      "metadata": {},
      "source": [
        "### Environment metadata \n",
        "\n",
        "This defines the input and output domains of the environment - similar to Gym's `spaces`:"
      ]
    },
    {
      "cell_type": "code",
      "execution_count": 5,
      "metadata": {
        "collapsed": false
      },
      "outputs": [],
      "source": [
        "def _make_spec(self):\n",
        "    \"\"\"Make the observation and action specs from the parameters\"\"\"\n",
        "    self.observation_spec = CompositeSpec(\n",
        "        observation=BoundedTensorSpec(\n",
        "            minimum=self.min_dist,\n",
        "            maximum=self.max_dist,\n",
        "            shape=(self.num_loc, self.num_loc),\n",
        "            dtype=torch.float32,\n",
        "        ),\n",
        "        first_node=UnboundedDiscreteTensorSpec(\n",
        "            shape=(1),\n",
        "            dtype=torch.int64,\n",
        "        ),\n",
        "        current_node=UnboundedDiscreteTensorSpec(\n",
        "            shape=(1),\n",
        "            dtype=torch.int64,\n",
        "        ),\n",
        "        i=UnboundedDiscreteTensorSpec(\n",
        "            shape=(1),\n",
        "            dtype=torch.int64,\n",
        "        ),\n",
        "        action_mask=UnboundedDiscreteTensorSpec(\n",
        "            shape=(1, self.num_loc),\n",
        "            dtype=torch.bool,\n",
        "        ),\n",
        "        shape=(),\n",
        "    )\n",
        "    self.input_spec = self.observation_spec.clone()\n",
        "    self.action_spec = BoundedTensorSpec(\n",
        "        shape=(1,),\n",
        "        dtype=torch.int64,\n",
        "        minimum=0,\n",
        "        maximum=self.num_loc,\n",
        "    )\n",
        "    self.reward_spec = UnboundedContinuousTensorSpec(shape=(1,))\n",
        "    self.done_spec = UnboundedDiscreteTensorSpec(shape=(1,), dtype=torch.bool)"
      ]
    },
    {
      "attachments": {},
      "cell_type": "markdown",
      "metadata": {},
      "source": [
        "## Reward function\n",
        "\n",
        "Sometimes, we want to make it simpler to get the reward outside. Normally, each step should give a reward; but in our case, reward is $-\\infty$ unless finished The reason is that normally, we would have to collect all the previous locations and actions _inside_ the environment. But since the model already does that at the end, we can simply call the `get_reward` function to get the reward more efficiently.\n"
      ]
    },
    {
      "cell_type": "code",
      "execution_count": 6,
      "metadata": {},
      "outputs": [],
      "source": [
        "def get_reward(td, actions) -> TensorDict:\n",
        "    distance_matrix = td[\"observation\"]\n",
        "    assert (\n",
        "        torch.arange(actions.size(1), out=actions.data.new())\n",
        "        .view(1, -1)\n",
        "        .expand_as(actions)\n",
        "        == actions.data.sort(1)[0]\n",
        "    ).all(), \"Invalid tour\"\n",
        "    \n",
        "    # Get indexes of tour. Actions: [batch_size, num_loc]\n",
        "    nodes_src = actions\n",
        "    nodes_tgt = torch.roll(actions, 1, dims=1)\n",
        "    \n",
        "    # Get distances of tour\n",
        "    return distance_matrix[:, nodes_src, nodes_tgt]"
      ]
    },
    {
      "attachments": {},
      "cell_type": "markdown",
      "metadata": {},
      "source": [
        "### Data generation"
      ]
    },
    {
      "cell_type": "code",
      "execution_count": 7,
      "metadata": {},
      "outputs": [
        {
          "name": "stdout",
          "output_type": "stream",
          "text": [
            "aaaaa\n",
            "aaaaa\n",
            "aaaaa\n",
            "aaaaa\n",
            "aaaaa\n",
            "tensor(0.1654) tensor(0.0957)\n"
          ]
        }
      ],
      "source": [
        "int_min = 0\n",
        "int_max = 1000*1000\n",
        "node_cnt = 20\n",
        "scaler = 1000*1000\n",
        "\n",
        "batch_size = 30\n",
        "\n",
        "\n",
        "problems = torch.randint(low=int_min, high=int_max, size=(batch_size, node_cnt, node_cnt))\n",
        "# shape: (batch, node, node)\n",
        "problems[:, torch.arange(node_cnt), torch.arange(node_cnt)] = 0\n",
        "\n",
        "while True:\n",
        "    print('aaaaa')\n",
        "\n",
        "    old_problems = problems.clone()\n",
        "\n",
        "    problems, _ = (problems[:, :, None, :] + problems[:, None, :, :].transpose(2,3)).min(dim=3)\n",
        "    # shape: (batch, node, node)\n",
        "\n",
        "    if (problems == old_problems).all():\n",
        "        break\n",
        "\n",
        "# Scale\n",
        "scaled_problems = problems.float() / scaler\n",
        "print(scaled_problems.mean(), scaled_problems.std())"
      ]
    },
    {
      "cell_type": "code",
      "execution_count": 8,
      "metadata": {},
      "outputs": [
        {
          "name": "stdout",
          "output_type": "stream",
          "text": [
            "aaaaa\n",
            "aaaaa\n",
            "aaaaa\n",
            "aaaaa\n",
            "tensor(0.1648) tensor(0.0991)\n"
          ]
        }
      ],
      "source": [
        "min_dist = 0\n",
        "max_dist = 1\n",
        "num_loc = 20\n",
        "\n",
        "batch_size = [30]\n",
        "\n",
        "dms = torch.rand((*batch_size, num_loc, num_loc),) * (max_dist - min_dist) + min_dist\n",
        "dms[:, torch.arange(num_loc), torch.arange(num_loc)] = 0\n",
        "while True:\n",
        "    print('aaaaa')\n",
        "    old_dms = dms.clone()\n",
        "    dms, _ = (dms[:, :, None, :] + dms[:, None, :, :].transpose(2,3)).min(dim=3)\n",
        "    if (dms == old_dms).all():\n",
        "        break\n",
        "dms / (max_dist - min_dist)\n",
        "print(dms.mean(), dms.std())"
      ]
    },
    {
      "cell_type": "code",
      "execution_count": 9,
      "metadata": {},
      "outputs": [],
      "source": [
        "def generate_data(self, batch_size):\n",
        "    # Generate distance matrices inspired by the reference MatNet (Kwon et al., 2021)\n",
        "    # We satifsy the triangle inequality (TMAT class) in a batch \n",
        "    batch_size = [batch_size] if isinstance(batch_size, int) else batch_size\n",
        "    dms = torch.rand((*batch_size, self.num_loc, self.num_loc), generator=self.rng) * (self.max_dist - self.min_dist) + self.min_dist \n",
        "    dms[..., torch.arange(self.num_loc), torch.arange(self.num_loc)] = 0\n",
        "    while True:\n",
        "        old_dms = dms.clone()\n",
        "        dms, _ = (dms[..., :, None, :] + dms[..., None, :, :].transpose(-2,-1)).min(dim=-1)\n",
        "        if (dms == old_dms).all():\n",
        "            break\n",
        "    return dms"
      ]
    },
    {
      "attachments": {},
      "cell_type": "markdown",
      "metadata": {},
      "source": [
        "### Environment creation\n",
        "\n",
        "Here we use `EnvBase` to create the environment similarly to gym:"
      ]
    },
    {
      "cell_type": "code",
      "execution_count": 10,
      "metadata": {
        "collapsed": false
      },
      "outputs": [],
      "source": [
        "class ATSPEnv(EnvBase):\n",
        "    batch_locked = False\n",
        "    name = \"atsp\"\n",
        "\n",
        "    def __init__(\n",
        "        self,\n",
        "        num_loc: int = 10,\n",
        "        min_dist: float = 0,\n",
        "        max_dist: float = 1,\n",
        "        td_params: TensorDict = None,\n",
        "        seed: int = None,\n",
        "        device: str = \"cpu\",\n",
        "    ):\n",
        "        self.num_loc = num_loc\n",
        "        self.min_dist = min_dist\n",
        "        self.max_dist = max_dist\n",
        "\n",
        "        super().__init__(device=device, batch_size=[])\n",
        "        # self._make_spec(td_params)\n",
        "        self._make_spec()\n",
        "        if seed is None:\n",
        "            seed = torch.empty((), dtype=torch.int64).random_().item()\n",
        "        self.set_seed(seed)\n",
        "\n",
        "    # Helpers: _make_step and gen_params\n",
        "    # gen_params = gen_params # we don't use it for this case. See notebook 0\n",
        "    _make_spec = _make_spec\n",
        "\n",
        "    # Mandatory methods: _step, _reset and _set_seed\n",
        "    _reset = _reset\n",
        "    _step = staticmethod(_step)\n",
        "    _set_seed = _set_seed\n",
        "\n",
        "    # Get reward\n",
        "    get_reward = staticmethod(get_reward)\n",
        "    generate_data = generate_data"
      ]
    },
    {
      "attachments": {},
      "cell_type": "markdown",
      "metadata": {},
      "source": [
        "### Testing the environment"
      ]
    },
    {
      "cell_type": "code",
      "execution_count": 11,
      "metadata": {
        "collapsed": false
      },
      "outputs": [
        {
          "name": "stdout",
          "output_type": "stream",
          "text": [
            "check_env_specs succeeded!\n"
          ]
        }
      ],
      "source": [
        "env = ATSPEnv(num_loc=10)\n",
        "check_env_specs(env)"
      ]
    },
    {
      "attachments": {},
      "cell_type": "markdown",
      "metadata": {},
      "source": [
        "### Plotting"
      ]
    },
    {
      "cell_type": "code",
      "execution_count": 12,
      "metadata": {},
      "outputs": [
        {
          "data": {
            "text/plain": [
              "2870139134"
            ]
          },
          "execution_count": 12,
          "metadata": {},
          "output_type": "execute_result"
        }
      ],
      "source": [
        "# Reset seed : check_env_specs(env) sets the seed to 0 for testing \n",
        "seed = torch.empty((), dtype=torch.int64).random_().item()\n",
        "env.set_seed(seed)"
      ]
    },
    {
      "cell_type": "code",
      "execution_count": 15,
      "metadata": {},
      "outputs": [
        {
          "name": "stdout",
          "output_type": "stream",
          "text": [
            "torch.Size([10, 10])\n"
          ]
        }
      ],
      "source": [
        "import networkx as nx\n",
        "\n",
        "\n",
        "dm = env.generate_data(1)[0]\n",
        "print(dm.shape)"
      ]
    },
    {
      "cell_type": "code",
      "execution_count": 31,
      "metadata": {},
      "outputs": [
        {
          "data": {
            "text/plain": [
              "1"
            ]
          },
          "execution_count": 31,
          "metadata": {},
          "output_type": "execute_result"
        }
      ],
      "source": []
    },
    {
      "cell_type": "code",
      "execution_count": 47,
      "metadata": {},
      "outputs": [
        {
          "data": {
            "image/png": "[encoded data removed]",
            "text/plain": [
              "<Figure size 640x480 with 1 Axes>"
            ]
          },
          "metadata": {},
          "output_type": "display_data"
        }
      ],
      "source": [
        "import matplotlib.pyplot as plt\n",
        "\n",
        "def render(td):\n",
        "    actions = torch.randperm(env.num_loc)\n",
        "\n",
        "    src_nodes = actions\n",
        "    tgt_nodes = torch.roll(actions, 1, dims=0)\n",
        "\n",
        "    # Plot with networkx\n",
        "    G = nx.DiGraph(dm.numpy())\n",
        "    pos = nx.spring_layout(G)\n",
        "    nx.draw(G, pos, with_labels=True, node_color='skyblue', node_size=800, edge_color='white')\n",
        "    labels = nx.get_edge_attributes(G,'weight')\n",
        "\n",
        "    # draw edges src_nodes -> tgt_nodes\n",
        "    edgelist = [ (src_nodes[i].item(), tgt_nodes[i].item()) for i in range(env.num_loc) ]\n",
        "    nx.draw_networkx_edges(G, pos, edgelist=edgelist, width=2, alpha=1, edge_color='black')\n",
        "\n",
        "    # draw distance for edgelist\n",
        "\n",
        "    plt.title(f'ATSP with {env.num_loc} nodes')\n",
        "\n",
        "\n",
        "render(dm)\n"
      ]
    }
  ],
  "metadata": {
    "kernelspec": {
      "display_name": "env",
      "language": "python",
      "name": "python3"
    },
    "language_info": {
      "codemirror_mode": {
        "name": "ipython",
        "version": 3
      },
      "file_extension": ".py",
      "mimetype": "text/x-python",
      "name": "python",
      "nbconvert_exporter": "python",
      "pygments_lexer": "ipython3",
      "version": "3.10.6"
    },
    "vscode": {
      "interpreter": {
        "hash": "fbc5b198709957cb10390a2819ca930d3578f48e335d60395e01c5208a66cb86"
      }
    }
  },
  "nbformat": 4,
  "nbformat_minor": 0
}
