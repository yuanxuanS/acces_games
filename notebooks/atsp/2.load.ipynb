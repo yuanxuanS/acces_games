{
  "cells": [
    {
      "attachments": {},
      "cell_type": "markdown",
      "metadata": {},
      "source": [
        "# ATSP Environment"
      ]
    },
    {
      "cell_type": "code",
      "execution_count": 1,
      "metadata": {},
      "outputs": [],
      "source": [
        "%load_ext autoreload\n",
        "%autoreload 2\n",
        "\n",
        "import sys\n",
        "sys.path.append(2*\"../\")\n",
        "\n",
        "import torch\n",
        "from collections import defaultdict\n",
        "from typing import Optional\n",
        "\n",
        "from rl4co.envs import TSPEnv, ATSPEnv \n"
      ]
    },
    {
      "cell_type": "code",
      "execution_count": 2,
      "metadata": {},
      "outputs": [
        {
          "data": {
            "text/plain": [
              "TensorDict(\n",
              "    fields={\n",
              "        action_mask: Tensor(shape=torch.Size([1, 10]), device=cpu, dtype=torch.bool, is_shared=False),\n",
              "        current_node: Tensor(shape=torch.Size([1]), device=cpu, dtype=torch.int64, is_shared=False),\n",
              "        done: Tensor(shape=torch.Size([1]), device=cpu, dtype=torch.bool, is_shared=False),\n",
              "        first_node: Tensor(shape=torch.Size([1]), device=cpu, dtype=torch.int64, is_shared=False),\n",
              "        i: Tensor(shape=torch.Size([1]), device=cpu, dtype=torch.int64, is_shared=False),\n",
              "        observation: Tensor(shape=torch.Size([10, 10]), device=cpu, dtype=torch.float32, is_shared=False),\n",
              "        reward: Tensor(shape=torch.Size([1]), device=cpu, dtype=torch.float32, is_shared=False)},\n",
              "    batch_size=torch.Size([]),\n",
              "    device=cpu,\n",
              "    is_shared=False)"
            ]
          },
          "execution_count": 2,
          "metadata": {},
          "output_type": "execute_result"
        }
      ],
      "source": [
        "env = ATSPEnv(num_loc=10)\n",
        "env.reset()"
      ]
    },
    {
      "cell_type": "code",
      "execution_count": 6,
      "metadata": {},
      "outputs": [],
      "source": [
        "# set logging level\n",
        "import logging\n",
        "logging.basicConfig(level=logging.INFO)"
      ]
    },
    {
      "cell_type": "code",
      "execution_count": 7,
      "metadata": {},
      "outputs": [
        {
          "name": "stderr",
          "output_type": "stream",
          "text": [
            "INFO:rl4co.envs.atsp:Using TMAT class (triangle inequality): True\n"
          ]
        },
        {
          "name": "stdout",
          "output_type": "stream",
          "text": [
            "torch.Size([2, 10])\n",
            "torch.Size([2, 10, 10])\n",
            "tensor([2.7388, 2.1939])\n"
          ]
        }
      ],
      "source": [
        "# actions = torch.randperm(10)\n",
        "actions = torch.stack([torch.randperm(10) for _ in range(2)])\n",
        "\n",
        "td = env.reset(batch_size=[2])\n",
        "\n",
        "print(actions.shape)\n",
        "print(td['observation'].shape)\n",
        "for i in range(10):\n",
        "    # print(actions[:, i][:, None].shape)\n",
        "    td.set(\"action\", actions[:, i][:, None])\n",
        "    td = env.step(td)\n",
        "\n",
        "# print(td['observation'])\n",
        "# print(actions)\n",
        "\n",
        "# td = td.unsqueeze(0)\n",
        "# actions = actions.unsqueeze(0)\n",
        "reward = env.get_reward(td, actions)\n",
        "# print(reward.shape)\n",
        "print(reward)\n",
        "# print(reward[:, :, -1])"
      ]
    },
    {
      "cell_type": "code",
      "execution_count": 4,
      "metadata": {},
      "outputs": [
        {
          "name": "stdout",
          "output_type": "stream",
          "text": [
            "torch.Size([2, 10])\n"
          ]
        }
      ],
      "source": [
        "import torch\n",
        "\n",
        "# Create a batch of 2 matrices, each of size 10x10\n",
        "batch_size = 2\n",
        "matrix = torch.randn((batch_size, 10, 10))\n",
        "\n",
        "# Create tensors with the row and column indices to select for each matrix in the batch\n",
        "idx1 = torch.tensor([[0, 1, 2, 3, 4, 5, 6, 7, 8, 9], \n",
        "                     [9, 8, 7, 6, 5, 4, 3, 2, 1, 0]])\n",
        "idx2 = torch.tensor([[0, 1, 2, 3, 4, 5, 6, 7, 8, 9], \n",
        "                     [9, 8, 7, 6, 5, 4, 3, 2, 1, 0]])\n",
        "\n",
        "# Select the elements corresponding to the tensor indices for each matrix in the batch\n",
        "elements = matrix[torch.arange(batch_size).unsqueeze(1), idx1, idx2]\n",
        "\n",
        "print(elements.shape) "
      ]
    },
    {
      "cell_type": "code",
      "execution_count": 5,
      "metadata": {},
      "outputs": [
        {
          "name": "stdout",
          "output_type": "stream",
          "text": [
            "tensor([[9, 5, 6, 1, 8, 3, 7, 4, 0, 2],\n",
            "        [0, 1, 6, 8, 4, 9, 3, 7, 5, 2]])\n",
            "tensor([[2, 9, 5, 6, 1, 8, 3, 7, 4, 0],\n",
            "        [2, 0, 1, 6, 8, 4, 9, 3, 7, 5]])\n"
          ]
        },
        {
          "data": {
            "text/plain": [
              "tensor([[2.6223, 2.7526],\n",
              "        [3.5142, 3.4364]])"
            ]
          },
          "execution_count": 5,
          "metadata": {},
          "output_type": "execute_result"
        }
      ],
      "source": [
        "distance_matrix = td[\"observation\"]\n",
        "# assert (\n",
        "#     torch.arange(actions.size(1), out=actions.data.new())\n",
        "#     .view(1, -1)\n",
        "#     .expand_as(actions)\n",
        "#     == actions.data.sort(1)[0]\n",
        "# ).all(), \"Invalid tour\"\n",
        "\n",
        "# Get indexes of tour. Actions: [batch_size, num_loc]\n",
        "nodes_src = actions\n",
        "nodes_tgt = torch.roll(actions, 1, dims=1)\n",
        "\n",
        "print(nodes_src)\n",
        "print(nodes_tgt)\n",
        "\n",
        "# Get distances of tour\n",
        "distance_matrix[:, nodes_src, nodes_tgt].sum(-1)\n"
      ]
    }
  ],
  "metadata": {
    "kernelspec": {
      "display_name": "env",
      "language": "python",
      "name": "python3"
    },
    "language_info": {
      "codemirror_mode": {
        "name": "ipython",
        "version": 3
      },
      "file_extension": ".py",
      "mimetype": "text/x-python",
      "name": "python",
      "nbconvert_exporter": "python",
      "pygments_lexer": "ipython3",
      "version": "3.10.6"
    },
    "vscode": {
      "interpreter": {
        "hash": "fbc5b198709957cb10390a2819ca930d3578f48e335d60395e01c5208a66cb86"
      }
    }
  },
  "nbformat": 4,
  "nbformat_minor": 0
}
