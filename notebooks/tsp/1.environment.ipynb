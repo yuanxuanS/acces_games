{
  "cells": [
    {
      "attachments": {},
      "cell_type": "markdown",
      "metadata": {},
      "source": [
        "# TSP Environment"
      ]
    },
    {
      "attachments": {},
      "cell_type": "markdown",
      "metadata": {},
      "source": [
        "We follow [this guide](https://pytorch.org/rl/tutorials/pendulum.html) for implementing the environment in TorchRL and the following implementations:\n",
        "- https://github.com/wouterkool/attention-learn-to-route/tree/master/problems/tsp\n",
        "- https://github.com/yd-kwon/POMO/blob/master/NEW_py_ver/TSP/POMO/TSPEnv.py"
      ]
    },
    {
      "attachments": {},
      "cell_type": "markdown",
      "metadata": {},
      "source": [
        "Our scope is to integrate everything with the PyTorch Lightning framework: you may have a look this [notebook](https://github.com/fedebotu/lightning-torchrl/blob/main/1.pendulum-lightning-torchrl.ipynb) to get a rough idea ^^"
      ]
    },
    {
      "attachments": {},
      "cell_type": "markdown",
      "metadata": {},
      "source": [
        "We will try to make the environment `stateteless`, i.e. the environment will not store the state (we just pass everything in TensorDicts). This is supposed to have better properties than _stateful_ implementations, like the ones above."
      ]
    },
    {
      "cell_type": "code",
      "execution_count": 1,
      "metadata": {
        "collapsed": false
      },
      "outputs": [],
      "source": [
        "%matplotlib inline"
      ]
    },
    {
      "cell_type": "code",
      "execution_count": 2,
      "metadata": {},
      "outputs": [
        {
          "data": {
            "text/plain": [
              "<bound method InteractiveShell.excepthook of <ipykernel.zmqshell.ZMQInteractiveShell object at 0x7fd2613fd3a0>>"
            ]
          },
          "execution_count": 2,
          "metadata": {},
          "output_type": "execute_result"
        }
      ],
      "source": [
        "# Rich Traceback\n",
        "from rich.traceback import install\n",
        "install(show_locals=True)"
      ]
    },
    {
      "cell_type": "code",
      "execution_count": 3,
      "metadata": {
        "collapsed": false
      },
      "outputs": [
        {
          "name": "stderr",
          "output_type": "stream",
          "text": [
            "/home/botu/Dev/ncobench/env/lib/python3.9/site-packages/tqdm/auto.py:22: TqdmWarning: IProgress not found. Please update jupyter and ipywidgets. See https://ipywidgets.readthedocs.io/en/stable/user_install.html\n",
            "  from .autonotebook import tqdm as notebook_tqdm\n"
          ]
        }
      ],
      "source": [
        "from collections import defaultdict\n",
        "from typing import Optional\n",
        "\n",
        "import numpy as np\n",
        "import torch\n",
        "import tqdm\n",
        "from tensordict.nn import TensorDictModule\n",
        "from tensordict.tensordict import TensorDict, TensorDictBase\n",
        "from torch import nn\n",
        "\n",
        "from torchrl.data import BoundedTensorSpec, CompositeSpec, UnboundedContinuousTensorSpec, BinaryDiscreteTensorSpec, UnboundedDiscreteTensorSpec\n",
        "from torchrl.envs import (\n",
        "    CatTensors,\n",
        "    EnvBase,\n",
        "    Transform,\n",
        "    TransformedEnv,\n",
        "    UnsqueezeTransform,\n",
        ")\n",
        "from torchrl.envs.transforms.transforms import _apply_to_composite\n",
        "from torchrl.envs.utils import check_env_specs, step_mdp"
      ]
    },
    {
      "attachments": {},
      "cell_type": "markdown",
      "metadata": {},
      "source": [
        "### Making the custom environment\n",
        "\n",
        "Environment `_step`: this defines the state update of the TSP problem gived a TensorDict (`td` in the code) of the current state and the action to take:"
      ]
    },
    {
      "cell_type": "code",
      "execution_count": 4,
      "metadata": {},
      "outputs": [],
      "source": [
        "def batch_to_scalar(param):\n",
        "    \"\"\"Return first element if in batch. Used for batched parameters that are the same for all elements in the batch.\"\"\"\n",
        "    if len(param.shape) > 0:\n",
        "        return param[0].item()\n",
        "    if isinstance(param, torch.Tensor):\n",
        "        return param.item()\n",
        "    return param\n",
        "\n",
        "\n",
        "def _step(td: TensorDict) -> TensorDict:\n",
        "\n",
        "    prev_a = td[\"action\"] # NOTE was: [:, None]\n",
        "    ids = td[\"ids\"] if td[\"ids\"][0] >= 0 else None # compatibility if no batch\n",
        "\n",
        "    cur_coord = td[\"loc\"][ids, prev_a] if ids is not None else td[\"loc\"][prev_a]\n",
        "\n",
        "    lengths = td[\"lengths\"]\n",
        "    if not td[\"cur_coord\"].isnan().all():\n",
        "        lengths += (cur_coord - td[\"cur_coord\"]).norm(p=2, dim=-1)\n",
        "\n",
        "    first_a = prev_a if batch_to_scalar(td[\"i\"]) == 0 else td[\"first_a\"]\n",
        "\n",
        "    # Set visited to 1\n",
        "    visited = td[\"visited\"].scatter(-1, prev_a[...,None].expand_as(td[\"visited\"]), 1)\n",
        "      \n",
        "    # We are done if all the locations have been visited\n",
        "    done = (torch.count_nonzero(visited.squeeze(), dim=-1) >= td[\"params\"][\"n_loc\"])\n",
        "    \n",
        "    # If we are not done, we set the cost to inf (reward is -inf)\n",
        "    cost = torch.ones_like(done) * float(\"inf\") \n",
        "       \n",
        "    # If we are done, we set the reward to the length of the path, adding the distance to the first location\n",
        "    if done.any():\n",
        "        if ids is None:\n",
        "            cost = lengths + td[\"dist\"][first_a].norm(p=2, dim=-1)\n",
        "        else:\n",
        "            cost[done] = (lengths[done] + td[\"dist\"][ids, first_a][done].norm(p=2, dim=-1)).squeeze(-1)\n",
        "                \n",
        "    # The output must be written in a ``\"next\"`` entry\n",
        "    out = TensorDict(\n",
        "        {\n",
        "            \"next\": {\n",
        "                \"loc\": td[\"loc\"],\n",
        "                \"dist\": td[\"dist\"],\n",
        "                \"ids\": td[\"ids\"],\n",
        "                \"first_a\": first_a,\n",
        "                \"prev_a\": prev_a,\n",
        "                \"visited\": visited,\n",
        "                \"lengths\": lengths,\n",
        "                \"cur_coord\": cur_coord,\n",
        "                \"i\": td[\"i\"] + 1,\n",
        "                \"params\": td[\"params\"],\n",
        "                \"reward\": -cost,\n",
        "                \"done\": done,\n",
        "            }\n",
        "        },\n",
        "        td.shape,\n",
        "    )\n",
        "    return out"
      ]
    },
    {
      "attachments": {},
      "cell_type": "markdown",
      "metadata": {},
      "source": [
        "### Environment Reset\n",
        "This defines the `_reset` of the TSP. It returns a TensorDict of the initial state:"
      ]
    },
    {
      "cell_type": "code",
      "execution_count": 5,
      "metadata": {
        "collapsed": false
      },
      "outputs": [],
      "source": [
        "def _reset(self, td: Optional[TensorDict] = None) -> TensorDict:\n",
        "    # If no tensordict is passed, we generate a single set of hyperparameters\n",
        "    # Otherwise, we assume that the input tensordict contains all the relevant parameters to get started.\n",
        "    if td is None or td.is_empty():\n",
        "        td = self.gen_params(batch_size=self.batch_size)\n",
        "    batch_size = td.shape # batch size\n",
        "\n",
        "    # Get unique parameters: we do not allow different params (e.g. sizes) on a single batch\n",
        "    min_loc = batch_to_scalar(td[\"params\", \"min_loc\"])\n",
        "    max_loc = batch_to_scalar(td[\"params\", \"max_loc\"])\n",
        "    n_loc = batch_to_scalar(td[\"params\", \"n_loc\"])\n",
        "    \n",
        "    # Generate locations. We could also load them directy from a dataset\n",
        "    loc = (\n",
        "        torch.rand((*batch_size, n_loc, 2), generator=self.rng)\n",
        "        * (max_loc - min_loc)\n",
        "        + min_loc\n",
        "    )\n",
        "\n",
        "    # Other variables\n",
        "    dist = (loc[..., :, None, :] - loc[..., None, :, :]).norm(p=2, dim=-1)\n",
        "    ids = torch.arange(sum([int(dim) for dim in batch_size]), dtype=torch.int64)[:, None] if len(batch_size) > 0 else -torch.ones(1, dtype=torch.int64) # special case for batch_size=()\n",
        "    prev_a = torch.zeros((*batch_size, 1), dtype=torch.int64)\n",
        "    visited = torch.zeros((*batch_size, 1, n_loc), dtype=torch.uint8)\n",
        "    lengths=torch.zeros((*batch_size, 1))\n",
        "    cur_coord = torch.ones((*batch_size, 1, 2), dtype=torch.float32) * float(\"nan\") # first coord is nan\n",
        "    i = torch.zeros((*batch_size, 1), dtype=torch.int64) # Vector with length num_steps\n",
        "   \n",
        "    # Output is a tensordict\n",
        "    out = TensorDict(\n",
        "        {\n",
        "            \"loc\": loc,\n",
        "            \"dist\": dist,\n",
        "            \"ids\": ids,\n",
        "            \"first_a\": prev_a,\n",
        "            \"prev_a\": prev_a,\n",
        "            \"visited\": visited,\n",
        "            \"lengths\": lengths,\n",
        "            \"cur_coord\": cur_coord,\n",
        "            \"i\": i,\n",
        "            \"params\": td[\"params\"],\n",
        "        },\n",
        "        batch_size=batch_size,\n",
        "    )\n",
        "    return out\n"
      ]
    },
    {
      "attachments": {},
      "cell_type": "markdown",
      "metadata": {},
      "source": [
        "### Environment metadata \n",
        "\n",
        "This defines the input and output domains of the environment - similar to Gym's `spaces`:"
      ]
    },
    {
      "cell_type": "code",
      "execution_count": 6,
      "metadata": {
        "collapsed": false
      },
      "outputs": [],
      "source": [
        "def _make_spec(self, td_params):\n",
        "    params = td_params[\"params\"]\n",
        "    n_loc = params[\"n_loc\"] # TSP size\n",
        "    self.observation_spec = CompositeSpec(\n",
        "        loc=BoundedTensorSpec(\n",
        "            minimum=params[\"min_loc\"],\n",
        "            maximum=params[\"max_loc\"],\n",
        "            shape=(n_loc, 2),\n",
        "            dtype=torch.float32,\n",
        "        ),\n",
        "        dist=UnboundedContinuousTensorSpec(\n",
        "            shape=(n_loc, n_loc),\n",
        "            dtype=torch.float32,\n",
        "        ),\n",
        "        ids=UnboundedDiscreteTensorSpec(\n",
        "            shape=(1),\n",
        "            dtype=torch.int64,\n",
        "        ),\n",
        "        first_a=UnboundedDiscreteTensorSpec(\n",
        "            shape=(1),\n",
        "            dtype=torch.int64,\n",
        "        ),\n",
        "        prev_a=UnboundedDiscreteTensorSpec(\n",
        "            shape=(1),\n",
        "            dtype=torch.int64,\n",
        "        ),\n",
        "        visited=UnboundedDiscreteTensorSpec(\n",
        "            shape=(1, n_loc),\n",
        "            dtype=torch.uint8,\n",
        "        ),\n",
        "        lengths=UnboundedContinuousTensorSpec(\n",
        "            shape=(1),\n",
        "            dtype=torch.float32,\n",
        "        ),\n",
        "        cur_coord=UnboundedContinuousTensorSpec(\n",
        "            shape=(1, 2),\n",
        "            dtype=torch.float32,\n",
        "        ),\n",
        "        i=UnboundedDiscreteTensorSpec(\n",
        "            shape=(1),\n",
        "            dtype=torch.int64,\n",
        "        ),\n",
        "        # we need to add the \"params\" to the observation specs, as we want\n",
        "        # to pass it at each step during a rollout\n",
        "        params=make_composite_from_td(params),\n",
        "        shape=(),\n",
        "    )\n",
        "    # since the environment is stateless, we expect the previous output as input\n",
        "    self.input_spec = self.observation_spec.clone()\n",
        "    self.action_spec = BoundedTensorSpec(\n",
        "        shape=(1,),\n",
        "        dtype=torch.int64,\n",
        "        minimum=0,\n",
        "        maximum=n_loc,\n",
        "    )\n",
        "    self.reward_spec = UnboundedContinuousTensorSpec(shape=(*td_params.shape, 1))\n",
        "\n",
        "\n",
        "def make_composite_from_td(td):\n",
        "    # custom funtion to convert a tensordict in a similar spec structure\n",
        "    # of unbounded values.\n",
        "    composite = CompositeSpec(\n",
        "        {\n",
        "            key: make_composite_from_td(tensor)\n",
        "            if isinstance(tensor, TensorDictBase)\n",
        "            else UnboundedContinuousTensorSpec(\n",
        "                dtype=tensor.dtype, shape=tensor.shape\n",
        "            )\n",
        "            for key, tensor in td.items()\n",
        "        },\n",
        "        shape=td.shape,\n",
        "    )\n",
        "    return composite"
      ]
    },
    {
      "attachments": {},
      "cell_type": "markdown",
      "metadata": {},
      "source": [
        "### Seeding for reproducible experiments"
      ]
    },
    {
      "cell_type": "code",
      "execution_count": 7,
      "metadata": {
        "collapsed": false
      },
      "outputs": [],
      "source": [
        "def _set_seed(self, seed: Optional[int]):\n",
        "    rng = torch.manual_seed(seed)\n",
        "    self.rng = rng"
      ]
    },
    {
      "cell_type": "markdown",
      "metadata": {},
      "source": [
        "### Parameter generation\n",
        "\n",
        "This function deterministically generates the parameters for the environment:"
      ]
    },
    {
      "cell_type": "code",
      "execution_count": 8,
      "metadata": {
        "collapsed": false
      },
      "outputs": [],
      "source": [
        "def gen_params(self, batch_size=None) -> TensorDictBase:\n",
        "    \"\"\"Returns a tensordict containing the parameters of the environment.\"\"\"\n",
        "    if batch_size is None:\n",
        "        batch_size = []\n",
        "    td = TensorDict(\n",
        "        {\n",
        "            \"params\": TensorDict(\n",
        "                {\n",
        "                    \"min_loc\": 0,\n",
        "                    \"max_loc\": 1,\n",
        "                    \"n_loc\": self.n_loc,\n",
        "                },\n",
        "                [],\n",
        "            )\n",
        "        },\n",
        "        [],\n",
        "    )\n",
        "    if batch_size:\n",
        "        td = td.expand(batch_size).contiguous()\n",
        "    return td"
      ]
    },
    {
      "attachments": {},
      "cell_type": "markdown",
      "metadata": {},
      "source": [
        "### Environment creation\n",
        "\n",
        "Here we use `EnvBase` to create the environment similarly to gym:"
      ]
    },
    {
      "cell_type": "code",
      "execution_count": 9,
      "metadata": {
        "collapsed": false
      },
      "outputs": [],
      "source": [
        "class TSPEnv(EnvBase):\n",
        "    metadata = {\n",
        "        \"render_modes\": [\"human\", \"rgb_array\"],\n",
        "        \"render_fps\": 30,\n",
        "    }\n",
        "    batch_locked = False\n",
        "\n",
        "    def __init__(self, n_loc=10, td_params=None, seed=None, device=\"cpu\"):\n",
        "        self.n_loc = n_loc\n",
        "        if td_params is None:\n",
        "            td_params = self.gen_params()\n",
        "        \n",
        "        super().__init__(device=device, batch_size=[])\n",
        "        self._make_spec(td_params)\n",
        "        if seed is None:\n",
        "            seed = torch.empty((), dtype=torch.int64).random_().item()\n",
        "        self.set_seed(seed)\n",
        "\n",
        "    # Helpers: _make_step and gen_params\n",
        "    gen_params = gen_params # originally static method\n",
        "    _make_spec = _make_spec\n",
        "\n",
        "    # Mandatory methods: _step, _reset and _set_seed\n",
        "    _reset = _reset\n",
        "    # _step = _step # theoretically staticmethod, but we need to access self\n",
        "    _step = staticmethod(_step)\n",
        "    _set_seed = _set_seed\n"
      ]
    },
    {
      "attachments": {},
      "cell_type": "markdown",
      "metadata": {},
      "source": [
        "### Testing the environment"
      ]
    },
    {
      "cell_type": "code",
      "execution_count": 10,
      "metadata": {
        "collapsed": false
      },
      "outputs": [
        {
          "name": "stdout",
          "output_type": "stream",
          "text": [
            "check_env_specs succeeded!\n"
          ]
        }
      ],
      "source": [
        "env = TSPEnv(n_loc=5)\n",
        "check_env_specs(env)"
      ]
    },
    {
      "cell_type": "code",
      "execution_count": 11,
      "metadata": {},
      "outputs": [
        {
          "name": "stdout",
          "output_type": "stream",
          "text": [
            "tensor([0])\n",
            "visited2 tensor([[1, 0, 0, 0, 0]], dtype=torch.uint8)\n",
            "tensor([1])\n",
            "visited2 tensor([[1, 1, 0, 0, 0]], dtype=torch.uint8)\n",
            "tensor([2])\n",
            "visited2 tensor([[1, 1, 1, 0, 0]], dtype=torch.uint8)\n"
          ]
        }
      ],
      "source": [
        "td = env.reset()\n",
        "for i in range(3):\n",
        "    td.set(\"action\", torch.tensor([i]))\n",
        "    print(td['action'])\n",
        "    td = env.step(td)['next']\n",
        "    print(\"visited2\", td['visited'])\n",
        "    td.set(\"action\", torch.tensor([i]))\n",
        "    td = env.step(td)['next']"
      ]
    },
    {
      "attachments": {},
      "cell_type": "markdown",
      "metadata": {},
      "source": [
        "### Plotting"
      ]
    },
    {
      "cell_type": "code",
      "execution_count": 15,
      "metadata": {},
      "outputs": [],
      "source": [
        "rollout = env.rollout(\n",
        "    50,\n",
        "    auto_reset=False,  # we're executing the reset out of the ``rollout`` call\n",
        "    tensordict=env.reset(env.gen_params(batch_size=[128])),\n",
        "    break_when_any_done=True\n",
        ")"
      ]
    },
    {
      "cell_type": "code",
      "execution_count": 16,
      "metadata": {},
      "outputs": [],
      "source": [
        "def plot_tsp_solution(td):\n",
        "    td = td.detach().cpu()\n",
        "    # if batch_size greater than 0 , we need to select the first batch element\n",
        "    if td.batch_size != torch.Size([]):\n",
        "        td = td[0]\n",
        "\n",
        "\n",
        "    # Get the coordinates of the visited nodes for the first batch element\n",
        "    visited_coords = td['loc'][td['visited'][0, 0] == 1][0]\n",
        "\n",
        "    # Create a plot of the nodes\n",
        "    fig, ax = plt.subplots()\n",
        "    ax.scatter(td['loc'][:, 0], td['loc'][:, 1], color='blue')\n",
        "\n",
        "    # Plot the visited nodes\n",
        "    ax.scatter(visited_coords[:, 0], visited_coords[:, 1], color='red')\n",
        "\n",
        "    # Add arrows between visited nodes as a quiver plot\n",
        "    x = visited_coords[:, 0]\n",
        "    y = visited_coords[:, 1]\n",
        "    dx = np.diff(x)\n",
        "    dy = np.diff(y)\n",
        "\n",
        "    # Colors via a colormap\n",
        "    cmap = plt.get_cmap('cividis')\n",
        "    norm = plt.Normalize(vmin=0, vmax=len(x))\n",
        "    colors = cmap(norm(range(len(x))))\n",
        "\n",
        "    ax.quiver(x[:-1], y[:-1], dx, dy, scale_units='xy', angles='xy', scale=1, color=colors)\n",
        "\n",
        "    # Add final arrow from last node to first node\n",
        "    ax.quiver(x[-1], y[-1], x[0]-x[-1], y[0]-y[-1], scale_units='xy', angles='xy', scale=1, color=\"red\", linestyle=\"dashed\")\n",
        "\n",
        "    # Plot numbers inside circles next to visited nodes\n",
        "    for i, coord in enumerate(visited_coords):\n",
        "        ax.add_artist(plt.Circle(coord, radius=0.02, color=colors[i]))\n",
        "        ax.annotate(str(i+1), xy=coord, fontsize=10, color='white',\n",
        "                    va=\"center\", ha=\"center\")\n",
        "\n",
        "    # Set plot title and axis labels\n",
        "    ax.set_title('TSP Solution\\nTotal length: {:.2f}'.format(-td['reward'][0]))\n",
        "    ax.set_xlabel('x-coordinate')\n",
        "    ax.set_ylabel('y-coordinate')\n",
        "    ax.set_aspect('equal')\n",
        "\n",
        "    plt.show()\n"
      ]
    },
    {
      "cell_type": "code",
      "execution_count": 17,
      "metadata": {},
      "outputs": [
        {
          "data": {
            "image/png": "[encoded data removed]",
            "text/plain": [
              "<Figure size 640x480 with 1 Axes>"
            ]
          },
          "metadata": {},
          "output_type": "display_data"
        }
      ],
      "source": [
        "# get greater than -inf reward indexes\n",
        "last_state = rollout['next'][:, -1]\n",
        "idx = last_state[\"reward\"] > -float('inf')\n",
        "rollout_finished = last_state[idx.squeeze()]\n",
        "\n",
        "plot_tsp_solution(rollout_finished)"
      ]
    }
  ],
  "metadata": {
    "kernelspec": {
      "display_name": "env",
      "language": "python",
      "name": "python3"
    },
    "language_info": {
      "codemirror_mode": {
        "name": "ipython",
        "version": 3
      },
      "file_extension": ".py",
      "mimetype": "text/x-python",
      "name": "python",
      "nbconvert_exporter": "python",
      "pygments_lexer": "ipython3",
      "version": "3.9.12"
    },
    "vscode": {
      "interpreter": {
        "hash": "fbc5b198709957cb10390a2819ca930d3578f48e335d60395e01c5208a66cb86"
      }
    }
  },
  "nbformat": 4,
  "nbformat_minor": 0
}
