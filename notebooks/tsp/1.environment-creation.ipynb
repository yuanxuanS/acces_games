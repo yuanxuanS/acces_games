{
  "cells": [
    {
      "attachments": {},
      "cell_type": "markdown",
      "metadata": {},
      "source": [
        "# TSP Environment"
      ]
    },
    {
      "attachments": {},
      "cell_type": "markdown",
      "metadata": {},
      "source": [
        "We follow [this guide](https://pytorch.org/rl/tutorials/pendulum.html) for implementing the environment in TorchRL and the following implementations:\n",
        "- https://github.com/wouterkool/attention-learn-to-route/tree/master/problems/tsp\n",
        "- https://github.com/yd-kwon/POMO/blob/master/NEW_py_ver/TSP/POMO/TSPEnv.py"
      ]
    },
    {
      "attachments": {},
      "cell_type": "markdown",
      "metadata": {},
      "source": [
        "Our scope is to integrate everything with the PyTorch Lightning framework: you may have a look this [notebook](https://github.com/fedebotu/lightning-torchrl/blob/main/1.pendulum-lightning-torchrl.ipynb) to get a rough idea ^^"
      ]
    },
    {
      "attachments": {},
      "cell_type": "markdown",
      "metadata": {},
      "source": [
        "We will try to make the environment `stateteless`, i.e. the environment will not store the state (we just pass everything in TensorDicts). This is supposed to have better properties than _stateful_ implementations, like the ones above."
      ]
    },
    {
      "cell_type": "code",
      "execution_count": 1,
      "metadata": {
        "collapsed": false
      },
      "outputs": [],
      "source": [
        "%matplotlib inline\n",
        "\n",
        "# Rich Traceback is a library that makes tracebacks more readable\n",
        "# from rich.traceback import install\n",
        "# install(show_locals=True)"
      ]
    },
    {
      "cell_type": "code",
      "execution_count": 2,
      "metadata": {
        "collapsed": false
      },
      "outputs": [],
      "source": [
        "%load_ext autoreload\n",
        "%autoreload 2\n",
        "\n",
        "import sys\n",
        "sys.path.append(2*\"../\")\n",
        "\n",
        "from collections import defaultdict\n",
        "from typing import Optional\n",
        "\n",
        "import numpy as np\n",
        "import torch\n",
        "import tqdm\n",
        "from tensordict.nn import TensorDictModule\n",
        "from tensordict.tensordict import TensorDict, TensorDictBase\n",
        "from torch import nn\n",
        "\n",
        "from torchrl.data import BoundedTensorSpec, CompositeSpec, UnboundedContinuousTensorSpec, BinaryDiscreteTensorSpec, UnboundedDiscreteTensorSpec\n",
        "from torchrl.envs import (\n",
        "    CatTensors,\n",
        "    EnvBase,\n",
        "    Transform,\n",
        "    TransformedEnv,\n",
        "    UnsqueezeTransform,\n",
        ")\n",
        "from torchrl.envs.transforms.transforms import _apply_to_composite\n",
        "from torchrl.envs.utils import check_env_specs, step_mdp\n",
        "\n",
        "\n",
        "from ncobench.envs.utils import make_composite_from_td, batch_to_scalar, _set_seed"
      ]
    },
    {
      "attachments": {},
      "cell_type": "markdown",
      "metadata": {},
      "source": [
        "### Making the custom environment\n",
        "\n",
        "Environment `_step`: this defines the state update of the TSP problem gived a TensorDict (`td` in the code) of the current state and the action to take:"
      ]
    },
    {
      "cell_type": "code",
      "execution_count": 3,
      "metadata": {},
      "outputs": [],
      "source": [
        "def _step(self, td: TensorDict) -> TensorDict:\n",
        "    current_node = td[\"action\"]\n",
        "    first_node = current_node if batch_to_scalar(td[\"i\"]) == 0 else td[\"first_node\"]\n",
        "\n",
        "    # Set visited to 1\n",
        "    visited = td[\"visited\"].scatter(\n",
        "        -1, current_node[..., None].expand_as(td[\"visited\"]), 1\n",
        "    )\n",
        "\n",
        "    # We are done if all the locations have been visited\n",
        "    done = (\n",
        "        torch.count_nonzero(visited.squeeze(), dim=-1) >= self.num_loc\n",
        "    )  # td[\"params\"][\"num_loc\"]\n",
        "\n",
        "    # Calculate reward (minus length of path, since we want to maximize the reward -> minimize the path length)\n",
        "    # NOTE: reward is calculated outside for now via the get_reward function\n",
        "    # to calculate here need to pass action sequence or save it as state\n",
        "    reward = torch.ones_like(done) * float(\"-inf\")\n",
        "\n",
        "    # The output must be written in a ``\"next\"`` entry\n",
        "    return TensorDict(\n",
        "        {\n",
        "            \"next\": {\n",
        "                \"observation\": td[\"observation\"],\n",
        "                \"first_node\": first_node,\n",
        "                \"current_node\": current_node,\n",
        "                \"visited\": visited,\n",
        "                \"i\": td[\"i\"] + 1,\n",
        "                \"action_mask\": visited == 0,\n",
        "                \"reward\": reward,\n",
        "                \"done\": done,\n",
        "            }\n",
        "        },\n",
        "        td.shape,\n",
        "    )\n"
      ]
    },
    {
      "attachments": {},
      "cell_type": "markdown",
      "metadata": {},
      "source": [
        "### Environment Reset\n",
        "This defines the `_reset` of the TSP. It returns a TensorDict of the initial state:"
      ]
    },
    {
      "cell_type": "code",
      "execution_count": 4,
      "metadata": {
        "collapsed": false
      },
      "outputs": [],
      "source": [
        "def _reset(\n",
        "    self, td: Optional[TensorDict] = None, init_observation=None, batch_size=None\n",
        ") -> TensorDict:\n",
        "    # If no tensordict is passed, we generate a single set of hyperparameters\n",
        "    # Otherwise, we assume that the input tensordict contains all the relevant parameters to get started.\n",
        "    if batch_size is None:\n",
        "        batch_size = (\n",
        "            self.batch_size\n",
        "            if init_observation is None\n",
        "            else init_observation.shape[:-2]\n",
        "        )\n",
        "    device = (\n",
        "        init_observation.device if init_observation is not None else self.device\n",
        "    )\n",
        "    self.device = device\n",
        "\n",
        "    min_loc = self.min_loc\n",
        "    max_loc = self.max_loc\n",
        "    num_loc = self.num_loc\n",
        "\n",
        "    # We allow loading the initial observation from a dataset for faster loading\n",
        "    if init_observation is None:\n",
        "        loc = (\n",
        "            torch.rand((*batch_size, num_loc, 2), generator=self.rng)\n",
        "            * (max_loc - min_loc)\n",
        "            + min_loc\n",
        "        ).to(\n",
        "            device\n",
        "        )  # number generator is on CPU by default, set device after\n",
        "    else:\n",
        "        loc = init_observation\n",
        "\n",
        "    # Other variables\n",
        "    current_node = torch.zeros((*batch_size, 1), dtype=torch.int64, device=device)\n",
        "    visited = torch.zeros(\n",
        "        (*batch_size, 1, num_loc), dtype=torch.bool, device=device\n",
        "    )\n",
        "    i = torch.zeros((*batch_size, 1), dtype=torch.int64, device=device)\n",
        "\n",
        "    return TensorDict(\n",
        "        {\n",
        "            \"observation\": loc,\n",
        "            \"first_node\": current_node,\n",
        "            \"current_node\": current_node,\n",
        "            \"visited\": visited,\n",
        "            \"i\": i,\n",
        "            \"action_mask\": visited == 0,\n",
        "        },\n",
        "        batch_size=batch_size,\n",
        "    )"
      ]
    },
    {
      "attachments": {},
      "cell_type": "markdown",
      "metadata": {},
      "source": [
        "### Environment metadata \n",
        "\n",
        "This defines the input and output domains of the environment - similar to Gym's `spaces`:"
      ]
    },
    {
      "cell_type": "code",
      "execution_count": 5,
      "metadata": {
        "collapsed": false
      },
      "outputs": [],
      "source": [
        "def _make_spec(self):\n",
        "    \"\"\"Make the observation and action specs from the parameters\"\"\"\n",
        "    # params = td_params[\"params\"]\n",
        "    # num_loc = params[\"num_loc\"]  # TSP size\n",
        "    num_loc = self.num_loc\n",
        "    self.observation_spec = CompositeSpec(\n",
        "        observation=BoundedTensorSpec(\n",
        "            # minimum=params[\"min_loc\"],\n",
        "            # maximum=params[\"max_loc\"],\n",
        "            minimum=self.min_loc,\n",
        "            maximum=self.max_loc,\n",
        "            shape=(num_loc, 2),\n",
        "            dtype=torch.float32,\n",
        "        ),\n",
        "        first_node=UnboundedDiscreteTensorSpec(\n",
        "            shape=(1),\n",
        "            dtype=torch.int64,\n",
        "        ),\n",
        "        current_node=UnboundedDiscreteTensorSpec(\n",
        "            shape=(1),\n",
        "            dtype=torch.int64,\n",
        "        ),\n",
        "        visited=UnboundedDiscreteTensorSpec(\n",
        "            shape=(1, num_loc),\n",
        "            dtype=torch.bool,\n",
        "        ),\n",
        "        i=UnboundedDiscreteTensorSpec(\n",
        "            shape=(1),\n",
        "            dtype=torch.int64,\n",
        "        ),\n",
        "        action_mask=UnboundedDiscreteTensorSpec(\n",
        "            shape=(1, num_loc),\n",
        "            dtype=torch.bool,\n",
        "        ),\n",
        "        shape=(),\n",
        "    )\n",
        "    self.input_spec = self.observation_spec.clone()\n",
        "    self.action_spec = BoundedTensorSpec(\n",
        "        shape=(1,),\n",
        "        dtype=torch.int64,\n",
        "        minimum=0,\n",
        "        maximum=num_loc,\n",
        "    )\n",
        "    self.reward_spec = UnboundedContinuousTensorSpec(shape=(1,))"
      ]
    },
    {
      "attachments": {},
      "cell_type": "markdown",
      "metadata": {},
      "source": [
        "## Reward function\n",
        "\n",
        "Sometimes, we want to make it simpler to get the reward outside. Normally, each step should give a reward; but in our case, reward is $-\\infty$ unless finished The reason is that normally, we would have to collect all the previous locations and actions _inside_ the environment. But since the model already does that at the end, we can simply call the `get_reward` function to get the reward more efficiently.\n"
      ]
    },
    {
      "cell_type": "code",
      "execution_count": 6,
      "metadata": {},
      "outputs": [],
      "source": [
        "def get_reward(loc, actions) -> TensorDict:\n",
        "    assert (\n",
        "        torch.arange(actions.size(1), out=actions.data.new())\n",
        "        .view(1, -1)\n",
        "        .expand_as(actions)\n",
        "        == actions.data.sort(1)[0]\n",
        "    ).all(), \"Invalid tour\"\n",
        "\n",
        "    # Gather locations in order of tour\n",
        "    locs = loc.gather(1, actions.unsqueeze(-1).expand_as(loc))\n",
        "\n",
        "    # Return the length of the path (L2-norm of difference from each next location from its previous and of last from first)\n",
        "    locs_next = torch.roll(locs, 1, dims=1)\n",
        "    return -((locs_next - locs).norm(p=2, dim=2).sum(1))"
      ]
    },
    {
      "attachments": {},
      "cell_type": "markdown",
      "metadata": {},
      "source": [
        "### Environment creation\n",
        "\n",
        "Here we use `EnvBase` to create the environment similarly to gym:"
      ]
    },
    {
      "cell_type": "code",
      "execution_count": 7,
      "metadata": {
        "collapsed": false
      },
      "outputs": [],
      "source": [
        "class TSPEnv(EnvBase):\n",
        "    batch_locked = False\n",
        "    name = \"tsp\"\n",
        "\n",
        "    def __init__(\n",
        "        self,\n",
        "        num_loc: int = 10,\n",
        "        min_loc: float = 0,\n",
        "        max_loc: float = 1,\n",
        "        td_params: TensorDict = None,\n",
        "        seed: int = None,\n",
        "        device: str = \"cpu\",\n",
        "    ):\n",
        "        self.num_loc = num_loc\n",
        "        self.min_loc = min_loc\n",
        "        self.max_loc = max_loc\n",
        "\n",
        "        super().__init__(device=device, batch_size=[])\n",
        "        # self._make_spec(td_params)\n",
        "        self._make_spec()\n",
        "        if seed is None:\n",
        "            seed = torch.empty((), dtype=torch.int64).random_().item()\n",
        "        self.set_seed(seed)\n",
        "\n",
        "    # Helpers: _make_step and gen_params\n",
        "    # gen_params = gen_params # we don't use it for this case. See notebook 0\n",
        "    _make_spec = _make_spec\n",
        "\n",
        "    # Mandatory methods: _step, _reset and _set_seed\n",
        "    _reset = _reset\n",
        "    _step = _step\n",
        "    _set_seed = _set_seed\n",
        "\n",
        "    # Get reward\n",
        "    get_reward = staticmethod(get_reward)"
      ]
    },
    {
      "attachments": {},
      "cell_type": "markdown",
      "metadata": {},
      "source": [
        "### Testing the environment"
      ]
    },
    {
      "cell_type": "code",
      "execution_count": 8,
      "metadata": {
        "collapsed": false
      },
      "outputs": [
        {
          "name": "stdout",
          "output_type": "stream",
          "text": [
            "check_env_specs succeeded!\n"
          ]
        }
      ],
      "source": [
        "env = TSPEnv(num_loc=5)\n",
        "check_env_specs(env)"
      ]
    },
    {
      "cell_type": "code",
      "execution_count": 9,
      "metadata": {},
      "outputs": [
        {
          "name": "stdout",
          "output_type": "stream",
          "text": [
            "tensor([0])\n",
            "visited2 tensor([[ True, False, False, False, False]])\n",
            "tensor([1])\n",
            "visited2 tensor([[ True,  True, False, False, False]])\n",
            "tensor([2])\n",
            "visited2 tensor([[ True,  True,  True, False, False]])\n"
          ]
        }
      ],
      "source": [
        "td = env.reset()\n",
        "for i in range(3):\n",
        "    td.set(\"action\", torch.tensor([i]))\n",
        "    print(td['action'])\n",
        "    td = env.step(td)['next']\n",
        "    print(\"visited2\", td['visited'])\n",
        "    td.set(\"action\", torch.tensor([i]))\n",
        "    td = env.step(td)['next']"
      ]
    },
    {
      "attachments": {},
      "cell_type": "markdown",
      "metadata": {},
      "source": [
        "### Plotting"
      ]
    },
    {
      "cell_type": "code",
      "execution_count": 10,
      "metadata": {},
      "outputs": [
        {
          "data": {
            "text/plain": [
              "275112776"
            ]
          },
          "execution_count": 10,
          "metadata": {},
          "output_type": "execute_result"
        }
      ],
      "source": [
        "# Reset seed : check_env_specs(env) sets the seed to 0 for testing \n",
        "seed = torch.empty((), dtype=torch.int64).random_().item()\n",
        "env.set_seed(seed)"
      ]
    },
    {
      "cell_type": "code",
      "execution_count": 13,
      "metadata": {},
      "outputs": [
        {
          "data": {
            "text/plain": [
              "TensorDict(\n",
              "    fields={\n",
              "        action: Tensor(shape=torch.Size([512, 5, 1]), device=cpu, dtype=torch.int64, is_shared=False),\n",
              "        action_mask: Tensor(shape=torch.Size([512, 5, 1, 5]), device=cpu, dtype=torch.bool, is_shared=False),\n",
              "        current_node: Tensor(shape=torch.Size([512, 5, 1]), device=cpu, dtype=torch.int64, is_shared=False),\n",
              "        done: Tensor(shape=torch.Size([512, 5, 1]), device=cpu, dtype=torch.bool, is_shared=False),\n",
              "        first_node: Tensor(shape=torch.Size([512, 5, 1]), device=cpu, dtype=torch.int64, is_shared=False),\n",
              "        i: Tensor(shape=torch.Size([512, 5, 1]), device=cpu, dtype=torch.int64, is_shared=False),\n",
              "        next: TensorDict(\n",
              "            fields={\n",
              "                action_mask: Tensor(shape=torch.Size([512, 5, 1, 5]), device=cpu, dtype=torch.bool, is_shared=False),\n",
              "                current_node: Tensor(shape=torch.Size([512, 5, 1]), device=cpu, dtype=torch.int64, is_shared=False),\n",
              "                done: Tensor(shape=torch.Size([512, 5, 1]), device=cpu, dtype=torch.bool, is_shared=False),\n",
              "                first_node: Tensor(shape=torch.Size([512, 5, 1]), device=cpu, dtype=torch.int64, is_shared=False),\n",
              "                i: Tensor(shape=torch.Size([512, 5, 1]), device=cpu, dtype=torch.int64, is_shared=False),\n",
              "                observation: Tensor(shape=torch.Size([512, 5, 5, 2]), device=cpu, dtype=torch.float32, is_shared=False),\n",
              "                reward: Tensor(shape=torch.Size([512, 5, 1]), device=cpu, dtype=torch.float32, is_shared=False),\n",
              "                visited: Tensor(shape=torch.Size([512, 5, 1, 5]), device=cpu, dtype=torch.bool, is_shared=False)},\n",
              "            batch_size=torch.Size([512, 5]),\n",
              "            device=cpu,\n",
              "            is_shared=False),\n",
              "        observation: Tensor(shape=torch.Size([512, 5, 5, 2]), device=cpu, dtype=torch.float32, is_shared=False),\n",
              "        reward: Tensor(shape=torch.Size([512, 5, 1]), device=cpu, dtype=torch.float32, is_shared=False),\n",
              "        visited: Tensor(shape=torch.Size([512, 5, 1, 5]), device=cpu, dtype=torch.bool, is_shared=False)},\n",
              "    batch_size=torch.Size([512, 5]),\n",
              "    device=cpu,\n",
              "    is_shared=False)"
            ]
          },
          "execution_count": 13,
          "metadata": {},
          "output_type": "execute_result"
        }
      ],
      "source": [
        "rollout"
      ]
    },
    {
      "cell_type": "code",
      "execution_count": 11,
      "metadata": {},
      "outputs": [],
      "source": [
        "# Make a rollout\n",
        "rollout = env.rollout(\n",
        "    20,\n",
        "    auto_reset=False,  # we're executing the reset out of the ``rollout`` call\n",
        "    tensordict=env.reset(batch_size=[512]),\n",
        "    break_when_any_done=True\n",
        ")\n",
        "\n",
        "# Get the last rollout\n",
        "rollout_ = rollout['next']\n",
        "rollout_finished = rollout_[(rollout_['done'] == 1).squeeze()]\n",
        "\n",
        "# Get the reward afterwards\n",
        "observations = rollout['observation'][(rollout_['done'] == 1).squeeze()]\n",
        "actions = rollout['action'][(rollout_['done'][:, -1] == 1).squeeze()].squeeze()\n",
        "rewards = env.get_reward(observations, actions)\n",
        "rollout_finished['reward'][:, -1] = rewards"
      ]
    },
    {
      "cell_type": "code",
      "execution_count": 41,
      "metadata": {},
      "outputs": [],
      "source": [
        "import matplotlib.pyplot as plt\n",
        "\n",
        "\n",
        "def render_tsp(td):\n",
        "    td = td.detach().cpu()\n",
        "    # if batch_size greater than 0 , we need to select the first batch element\n",
        "    if td.batch_size != torch.Size([]):\n",
        "        td = td[0]\n",
        "\n",
        "    key = 'observation' if 'observation' in td.keys() else 'loc'\n",
        "\n",
        "    # Get the coordinates of the visited nodes for the first batch element\n",
        "    visited_coords = td[key][td['visited'][0, 0] == 1][0]\n",
        "\n",
        "    # Create a plot of the nodes\n",
        "    fig, ax = plt.subplots()\n",
        "    ax.scatter(td[key][:, 0], td[key][:, 1], color='blue')\n",
        "\n",
        "    # Plot the visited nodes\n",
        "    ax.scatter(visited_coords[:, 0], visited_coords[:, 1], color='red')\n",
        "\n",
        "    # Add arrows between visited nodes as a quiver plot\n",
        "    x = visited_coords[:, 0]\n",
        "    y = visited_coords[:, 1]\n",
        "    dx = np.diff(x)\n",
        "    dy = np.diff(y)\n",
        "\n",
        "    # Colors via a colormap\n",
        "    cmap = plt.get_cmap('cividis')\n",
        "    norm = plt.Normalize(vmin=0, vmax=len(x))\n",
        "    colors = cmap(norm(range(len(x))))\n",
        "\n",
        "    ax.quiver(x[:-1], y[:-1], dx, dy, scale_units='xy', angles='xy', scale=1, color=colors)\n",
        "\n",
        "    # Add final arrow from last node to first node\n",
        "    ax.quiver(x[-1], y[-1], x[0]-x[-1], y[0]-y[-1], scale_units='xy', angles='xy', scale=1, color=\"red\", linestyle=\"dashed\")\n",
        "\n",
        "    # Plot numbers inside circles next to visited nodes\n",
        "    for i, coord in enumerate(visited_coords):\n",
        "        ax.add_artist(plt.Circle(coord, radius=0.02, color=colors[i]))\n",
        "        ax.annotate(str(i+1), xy=coord, fontsize=10, color='white',\n",
        "                    va=\"center\", ha=\"center\")\n",
        "\n",
        "    # Set plot title and axis labels\n",
        "    ax.set_title('TSP Solution\\nTotal length: {:.2f}'.format(-td['reward'][0]))\n",
        "    ax.set_xlabel('x-coordinate')\n",
        "    ax.set_ylabel('y-coordinate')\n",
        "    ax.set_aspect('equal')\n",
        "\n",
        "    plt.show()"
      ]
    },
    {
      "cell_type": "code",
      "execution_count": 42,
      "metadata": {},
      "outputs": [
        {
          "data": {
            "image/png": "[encoded data removed]",
            "text/plain": [
              "<Figure size 640x480 with 1 Axes>"
            ]
          },
          "metadata": {},
          "output_type": "display_data"
        }
      ],
      "source": [
        "render_tsp(rollout_finished)"
      ]
    }
  ],
  "metadata": {
    "kernelspec": {
      "display_name": "env",
      "language": "python",
      "name": "python3"
    },
    "language_info": {
      "codemirror_mode": {
        "name": "ipython",
        "version": 3
      },
      "file_extension": ".py",
      "mimetype": "text/x-python",
      "name": "python",
      "nbconvert_exporter": "python",
      "pygments_lexer": "ipython3",
      "version": "3.10.6"
    },
    "vscode": {
      "interpreter": {
        "hash": "fbc5b198709957cb10390a2819ca930d3578f48e335d60395e01c5208a66cb86"
      }
    }
  },
  "nbformat": 4,
  "nbformat_minor": 0
}
